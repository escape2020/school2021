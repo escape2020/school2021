{
 "cells": [
  {
   "cell_type": "markdown",
   "metadata": {},
   "source": [
    "# Clustering\n",
    "\n",
    "This lesson is inspired to the one by David Kirkby (UC Irvine), BSD3-licenced. To read it in your own time later, keep this link:\n",
    "\n",
    "https://github.com/dkirkby/MachineLearningStatistics\n",
    "\n",
    "## What is clustering?\n",
    "\n",
    "\"**Unsupervised classification**\":\n",
    "\n",
    "![](img/ml_map.png)\n",
    "\n",
    "For example, \n",
    "![](img/iris.png)\n",
    "\n",
    "The separation between the two sets of observations hints that there is a structure: **at least two species of iris**.\n",
    "\n",
    "## Clustering a toy dataset\n",
    "\n",
    "Remember the main ML pipeline:\n",
    "\n",
    "1. Define the task\n",
    "\n",
    "1. Get the data\n",
    "1. Get an overview\n",
    "1. Prepare the data\n",
    "1. Select a model\n",
    "1. Train and evaluate\n",
    "1. Evaluate on test set\n",
    "1. Launch, monitor, maintain"
   ]
  }
 ],
 "metadata": {
  "kernelspec": {
   "display_name": "Python 3",
   "language": "python",
   "name": "python3"
  },
  "language_info": {
   "codemirror_mode": {
    "name": "ipython",
    "version": 3
   },
   "file_extension": ".py",
   "mimetype": "text/x-python",
   "name": "python",
   "nbconvert_exporter": "python",
   "pygments_lexer": "ipython3",
   "version": "3.8.2"
  }
 },
 "nbformat": 4,
 "nbformat_minor": 4
}
