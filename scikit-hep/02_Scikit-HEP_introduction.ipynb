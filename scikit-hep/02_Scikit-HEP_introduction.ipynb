{
 "cells": [
  {
   "cell_type": "markdown",
   "metadata": {
    "slideshow": {
     "slide_type": "slide"
    }
   },
   "source": [
    "<center>\n",
    "<h1><b><span style=\"color:blue\">Introduction to the Scikit-HEP project</span></b></h1>\n",
    "</center>"
   ]
  },
  {
   "cell_type": "markdown",
   "metadata": {
    "slideshow": {
     "slide_type": "subslide"
    }
   },
   "source": [
    "### **Motivation, really quickly**\n",
    "\n",
    "As discussed earlier, the scientific Python ecosystem can be organised, schematically, as a layered set of libraries and packages ever more specialised, from foundational and key libraries such as NumPy, Pandas and matplotlib, to domain-specific projects:"
   ]
  },
  {
   "cell_type": "markdown",
   "metadata": {
    "slideshow": {
     "slide_type": "fragment"
    }
   },
   "source": [
    "<center><img src=\"images/PyHEP_scientific_python_ecosystem.png\" width=\"65%\"/></center>"
   ]
  },
  {
   "cell_type": "markdown",
   "metadata": {
    "slideshow": {
     "slide_type": "subslide"
    }
   },
   "source": [
    "At the time this popular slide was prepared and presented (2017), one could ask itself where the HEP domain-specific projects were. Scikit-HEP came to \"fill the gap\" for Particle Physics just about that time (Autumn 2016). (Others did the same, later on, as seen in the introduction notebook.)"
   ]
  },
  {
   "cell_type": "markdown",
   "metadata": {
    "slideshow": {
     "slide_type": "slide"
    }
   },
   "source": [
    "### **The grand picture**\n",
    "\n",
    "The [Scikit-HEP project](https://scikit-hep.org) has had from the onset clearly-defined goals, and it cherishes a few core values:"
   ]
  },
  {
   "cell_type": "markdown",
   "metadata": {
    "slideshow": {
     "slide_type": "fragment"
    }
   },
   "source": [
    "<center><img src=\"images/Scikit-HEP_grand_picture.png\" alt=\"Scikit-HEP project grand picture\" width=\"70%\"/></center>"
   ]
  },
  {
   "cell_type": "markdown",
   "metadata": {
    "slideshow": {
     "slide_type": "subslide"
    }
   },
   "source": [
    "As a result, the tools showcased here aim to make it easy and Pythonic to perform HEP analysis in the scientific Python ecosystem."
   ]
  },
  {
   "cell_type": "markdown",
   "metadata": {
    "slideshow": {
     "slide_type": "slide"
    }
   },
   "source": [
    "### **Project topics and packages**\n",
    "\n",
    "Very many topics are addressed within the project!\n",
    "- Data manipulation and interoperability\n",
    "- Data aggregation and histogramming\n",
    "- Modeling and fitting\n",
    "- Statistics\n",
    "- Visualisation\n",
    "- HEP-specific utilities e.g. to deal with particles and decays\n",
    "- Simulation\n",
    "- Interoperability with HEP-specific libraries"
   ]
  },
  {
   "cell_type": "markdown",
   "metadata": {},
   "source": [
    "Here is an overview of the Scikit-HEP packages that are most popular and/or most actively used and maintained:"
   ]
  },
  {
   "cell_type": "markdown",
   "metadata": {
    "slideshow": {
     "slide_type": "fragment"
    }
   },
   "source": [
    "<center><img src=\"images/Scikit-HEP_ecosystem.png\" width=\"50%\"></center>"
   ]
  },
  {
   "cell_type": "markdown",
   "metadata": {},
   "source": [
    "A \"whetting your appetite\" mini gallery ...:\n",
    "<table>\n",
    "<tr style=\"background: white;\">\n",
    "    <td align=\"center\"><img src=\"images/Scikit-HEP_gallery_uproot.jpg\" width=\"80%\"></td>\n",
    "    <td align=\"center\"><img src=\"images/Scikit-HEP_gallery_Hist.jpg\" width=\"80%\"></td>\n",
    "</tr>\n",
    "</table>\n",
    "<table>\n",
    "<tr style=\"background: white;\">\n",
    "    <td align=\"center\"><img src=\"images/Scikit-HEP_gallery_Particle.jpg\" width=\"50%\"></td>\n",
    "    <td align=\"center\"><img src=\"images/Scikit-HEP_gallery_DecayLanguage.png\" width=\"80%\"></td>\n",
    "</tr>\n",
    "</table>"
   ]
  },
  {
   "cell_type": "markdown",
   "metadata": {
    "slideshow": {
     "slide_type": "slide"
    }
   },
   "source": [
    "#### **The scikit-hep metapackage**\n",
    "\n",
    "The project has a special package, `scikit-hep`, which is a *metapackage*. Unlike all others, which target specific topics, this metapackage simply provides an easy way to have a compatible set of project packages installed via a simple `conda install scikit-hep` (or `pip install scikit-hep`) command.\n",
    "\n",
    "The Scikit-HEP packages used in these notebooks are in fact installed via the metapackage. It is trivial to check the available versions:"
   ]
  },
  {
   "cell_type": "code",
   "execution_count": null,
   "metadata": {
    "slideshow": {
     "slide_type": "subslide"
    }
   },
   "outputs": [],
   "source": [
    "import skhep\n",
    "skhep.show_versions()"
   ]
  },
  {
   "cell_type": "markdown",
   "metadata": {
    "slideshow": {
     "slide_type": "subslide"
    }
   },
   "source": [
    "<div class=\"alert alert-success\">\n",
    "<b>THANK YOU</b>\n",
    "\n",
    "to Hans Dembinski, Henry Schreiner, Jim Pivarski, Jonas Eschle and others for knowingly (or unknowingly) providing material and/or inspiration for these tutorial notebooks!\n",
    "</div>"
   ]
  }
 ],
 "metadata": {
  "celltoolbar": "Slideshow",
  "kernelspec": {
   "display_name": "Python 3",
   "language": "python",
   "name": "python3"
  },
  "language_info": {
   "codemirror_mode": {
    "name": "ipython",
    "version": 3
   },
   "file_extension": ".py",
   "mimetype": "text/x-python",
   "name": "python",
   "nbconvert_exporter": "python",
   "pygments_lexer": "ipython3",
   "version": "3.8.10"
  }
 },
 "nbformat": 4,
 "nbformat_minor": 4
}
