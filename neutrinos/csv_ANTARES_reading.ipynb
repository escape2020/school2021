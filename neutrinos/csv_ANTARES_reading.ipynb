{
 "cells": [
  {
   "cell_type": "markdown",
   "id": "64f45739",
   "metadata": {},
   "source": [
    "# Reading csv data\n",
    "\n",
    "An example how to read data from the ANTARES webpage and figuring out the coordinate system. \n",
    "Superseded by other examples in this directory!"
   ]
  },
  {
   "cell_type": "code",
   "execution_count": 1,
   "id": "c53905ba",
   "metadata": {},
   "outputs": [],
   "source": [
    "import pandas as pd\n",
    "from astropy.coordinates import SkyCoord\n",
    "from astropy.coordinates import FK5\n",
    "\n",
    "url=\"https://antares.in2p3.fr/PublicData_0717.dat\"\n",
    "cols = [\"Decl\",\"RA\",\"Nhit\",\"Beta\",\"MJD\"]\n",
    "\n",
    "c = pd.read_csv(url, sep='\\t', skiprows=(0,1), names=cols)"
   ]
  },
  {
   "cell_type": "markdown",
   "id": "de2f56de",
   "metadata": {},
   "source": [
    "## coordinate format\n",
    "from https://docs.astropy.org/en/stable/coordinates/\n",
    "ICRS: international celestial reference system "
   ]
  },
  {
   "cell_type": "code",
   "execution_count": 2,
   "id": "a7d00523",
   "metadata": {},
   "outputs": [
    {
     "name": "stdout",
     "output_type": "stream",
     "text": [
      "0       <SkyCoord (FK5: equinox=J2000.000): (ra, dec) ...\n",
      "1       <SkyCoord (FK5: equinox=J2000.000): (ra, dec) ...\n",
      "2       <SkyCoord (FK5: equinox=J2000.000): (ra, dec) ...\n",
      "3       <SkyCoord (FK5: equinox=J2000.000): (ra, dec) ...\n",
      "4       <SkyCoord (FK5: equinox=J2000.000): (ra, dec) ...\n",
      "                              ...                        \n",
      "8749    <SkyCoord (FK5: equinox=J2000.000): (ra, dec) ...\n",
      "8750    <SkyCoord (FK5: equinox=J2000.000): (ra, dec) ...\n",
      "8751    <SkyCoord (FK5: equinox=J2000.000): (ra, dec) ...\n",
      "8752    <SkyCoord (FK5: equinox=J2000.000): (ra, dec) ...\n",
      "8753    <SkyCoord (FK5: equinox=J2000.000): (ra, dec) ...\n",
      "Length: 8754, dtype: object\n"
     ]
    }
   ],
   "source": [
    "def coordformat(alpha,delta):\n",
    "    coordinate = SkyCoord(ra=alpha,dec=delta, frame = 'fk5', unit = 'deg')\n",
    "    coordinate_fk5 = coordinate.transform_to(FK5(equinox = 'J2000')) \n",
    "    coordinate_fk5_formatted = coordinate_fk5.to_string('hmsdms')\n",
    "    a = coordinate_fk5.ra\n",
    "    d = coordinate_fk5.dec\n",
    "    return coordinate_fk5\n",
    "\n",
    "# apply coordformat function to the first two columns of dataframe\n",
    "df2=c.apply(lambda r: coordformat(r[1], r[0]), axis = 1)\n",
    "\n",
    "print(df2)"
   ]
  },
  {
   "cell_type": "markdown",
   "id": "41050513",
   "metadata": {},
   "source": [
    "## Extract to right ascension and declination"
   ]
  },
  {
   "cell_type": "code",
   "execution_count": 3,
   "id": "4a2194cf",
   "metadata": {},
   "outputs": [
    {
     "name": "stdout",
     "output_type": "stream",
     "text": [
      "              ra         dec\n",
      "0      68d12m00s   19d30m00s\n",
      "1      26d30m00s  -60d00m00s\n",
      "2      82d06m00s  -29d48m00s\n",
      "3     271d48m00s   -8d36m00s\n",
      "4     261d24m00s  -32d18m00s\n",
      "...          ...         ...\n",
      "8749  224d42m00s  -12d24m00s\n",
      "8750   45d54m00s  -34d06m00s\n",
      "8751  123d42m00s  -57d36m00s\n",
      "8752  108d42m00s  -33d30m00s\n",
      "8753  144d00m00s  -46d42m00s\n",
      "\n",
      "[8754 rows x 2 columns]\n"
     ]
    }
   ],
   "source": [
    "res_dict = dict(ra=df2.apply(lambda x: x.ra), dec=df2.apply(lambda x: x.dec))\n",
    "res_df = pd.DataFrame(res_dict)\n",
    "\n",
    "print(res_df)"
   ]
  }
 ],
 "metadata": {
  "kernelspec": {
   "display_name": "Python 3",
   "language": "python",
   "name": "python3"
  },
  "language_info": {
   "codemirror_mode": {
    "name": "ipython",
    "version": 3
   },
   "file_extension": ".py",
   "mimetype": "text/x-python",
   "name": "python",
   "nbconvert_exporter": "python",
   "pygments_lexer": "ipython3",
   "version": "3.9.5"
  }
 },
 "nbformat": 4,
 "nbformat_minor": 5
}
