{
 "cells": [
  {
   "cell_type": "markdown",
   "metadata": {},
   "source": [
    "# Using VO services\n",
    "\n",
    "OpenKM3 uses the [pyvo interface](https://pyvo.readthedocs.io) to access data provided through the [VO server](http://vo.km3net.de) of KM3NeT. Currently implemented is a Simple Cone Search (SCS) service accessible through the TAP protocol."
   ]
  },
  {
   "cell_type": "code",
   "execution_count": 1,
   "metadata": {},
   "outputs": [
    {
     "name": "stderr",
     "output_type": "stream",
     "text": [
      "INFO:root:Loaded catalog from cache.\n"
     ]
    }
   ],
   "source": [
    "from openkm3.store import KM3Store\n",
    "store = KM3Store()"
   ]
  },
  {
   "cell_type": "code",
   "execution_count": 2,
   "metadata": {},
   "outputs": [
    {
     "name": "stderr",
     "output_type": "stream",
     "text": [
      "INFO:root:Loaded entry ana20_01_vo as <class 'openkm3.dataclasses.SCSServiceVO'>.\n"
     ]
    }
   ],
   "source": [
    "service = store.get(\"ana20_01_vo\")"
   ]
  },
  {
   "cell_type": "code",
   "execution_count": 3,
   "metadata": {},
   "outputs": [
    {
     "name": "stdout",
     "output_type": "stream",
     "text": [
      "Table: ant20_01.main\n",
      "Neutrino candidates from full-sky search from 2007-2017\n",
      "\n",
      "name                 description                 unit       ucd       utype arraysize datatype\n",
      "---- ------------------------------------------- ---- --------------- ----- --------- --------\n",
      "  _r                     Distance to cone center  deg    pos.distance  None         1     None\n",
      " MJD                         Modified Julian Day None      time.epoch  None         1     None\n",
      "Beta    angular error estimate on reconstruction None      stat.error  None         1     None\n",
      "Nhit number of light signals in photomultipliers None     phys.energy  None         1     None\n",
      "  RA              FK5 equatorial right ascension None  POS_EQ_RA_MAIN  None         1     None\n",
      "Decl                  FK5 equatorial declination None POS_EQ_DEC_MAIN  None         1     None\n",
      "  ID                            Event identifier None         ID_MAIN  None         *     None\n"
     ]
    }
   ],
   "source": [
    "service.show_paraminfo()"
   ]
  },
  {
   "cell_type": "markdown",
   "metadata": {},
   "source": [
    "## Getting TAP service or SCS\n",
    "\n",
    "You can get the services from the loaded KM3Object, which returns pyvo objects. From here onwards, you can use pyvo functions."
   ]
  },
  {
   "cell_type": "code",
   "execution_count": 4,
   "metadata": {},
   "outputs": [
    {
     "data": {
      "text/html": [
       "<i>Table length=10</i>\n",
       "<table id=\"table140576064269664\" class=\"table-striped table-bordered table-condensed\">\n",
       "<thead><tr><th>mjd</th><th>beta</th><th>nhit</th><th>ra</th><th>decl</th><th>id</th></tr></thead>\n",
       "<thead><tr><th>float64</th><th>float64</th><th>int32</th><th>float64</th><th>float64</th><th>object</th></tr></thead>\n",
       "<tr><td>54789.2282</td><td>0.1</td><td>263</td><td>315.0</td><td>-16.7</td><td>ANT1157</td></tr>\n",
       "<tr><td>55970.095</td><td>0.3</td><td>160</td><td>18.6</td><td>-43.3</td><td>ANT4737</td></tr>\n",
       "<tr><td>56660.329</td><td>0.9</td><td>200</td><td>10.8</td><td>-1.5</td><td>ANT6138</td></tr>\n",
       "<tr><td>56221.4919</td><td>0.3</td><td>158</td><td>39.6</td><td>11.0</td><td>ANT5198</td></tr>\n",
       "<tr><td>56329.4015</td><td>0.2</td><td>157</td><td>156.7</td><td>3.6</td><td>ANT5571</td></tr>\n",
       "<tr><td>54725.8894</td><td>0.2</td><td>152</td><td>200.4</td><td>17.9</td><td>ANT0886</td></tr>\n",
       "<tr><td>56574.7303</td><td>0.3</td><td>153</td><td>105.2</td><td>-44.3</td><td>ANT5888</td></tr>\n",
       "<tr><td>54731.2417</td><td>0.1</td><td>155</td><td>281.1</td><td>-48.7</td><td>ANT0907</td></tr>\n",
       "<tr><td>56412.889</td><td>0.2</td><td>156</td><td>283.4</td><td>-57.1</td><td>ANT5655</td></tr>\n",
       "<tr><td>57998.9599</td><td>0.2</td><td>162</td><td>1.8</td><td>-64.0</td><td>ANT8518</td></tr>\n",
       "</table>"
      ],
      "text/plain": [
       "<Table length=10>\n",
       "   mjd       beta   nhit    ra     decl     id  \n",
       " float64   float64 int32 float64 float64  object\n",
       "---------- ------- ----- ------- ------- -------\n",
       "54789.2282     0.1   263   315.0   -16.7 ANT1157\n",
       " 55970.095     0.3   160    18.6   -43.3 ANT4737\n",
       " 56660.329     0.9   200    10.8    -1.5 ANT6138\n",
       "56221.4919     0.3   158    39.6    11.0 ANT5198\n",
       "56329.4015     0.2   157   156.7     3.6 ANT5571\n",
       "54725.8894     0.2   152   200.4    17.9 ANT0886\n",
       "56574.7303     0.3   153   105.2   -44.3 ANT5888\n",
       "54731.2417     0.1   155   281.1   -48.7 ANT0907\n",
       " 56412.889     0.2   156   283.4   -57.1 ANT5655\n",
       "57998.9599     0.2   162     1.8   -64.0 ANT8518"
      ]
     },
     "execution_count": 4,
     "metadata": {},
     "output_type": "execute_result"
    }
   ],
   "source": [
    "tap = service.get_tap()\n",
    "highEevents = tap.search(\"SELECT * FROM ant20_01.main WHERE nhit>150\") # get most high-energetic events\n",
    "highEevents.to_table()"
   ]
  },
  {
   "cell_type": "code",
   "execution_count": 5,
   "metadata": {},
   "outputs": [
    {
     "data": {
      "text/html": [
       "<i>Table length=2</i>\n",
       "<table id=\"table140576063883440\" class=\"table-striped table-bordered table-condensed\">\n",
       "<thead><tr><th>_r</th><th>MJD</th><th>Beta</th><th>Nhit</th><th>RA</th><th>Decl</th><th>ID</th></tr></thead>\n",
       "<thead><tr><th>deg</th><th></th><th></th><th></th><th></th><th></th><th></th></tr></thead>\n",
       "<thead><tr><th>float64</th><th>float64</th><th>float64</th><th>int32</th><th>float64</th><th>float64</th><th>object</th></tr></thead>\n",
       "<tr><td>0.327663931770686</td><td>56195.5948</td><td>0.4</td><td>45</td><td>20.3</td><td>30.2</td><td>ANT5087</td></tr>\n",
       "<tr><td>1.56948430621669</td><td>55692.7303</td><td>0.3</td><td>62</td><td>18.7</td><td>31.1</td><td>ANT3659</td></tr>\n",
       "</table>"
      ],
      "text/plain": [
       "<Table length=2>\n",
       "        _r           MJD       Beta   Nhit    RA     Decl     ID  \n",
       "       deg                                                        \n",
       "     float64       float64   float64 int32 float64 float64  object\n",
       "----------------- ---------- ------- ----- ------- ------- -------\n",
       "0.327663931770686 56195.5948     0.4    45    20.3    30.2 ANT5087\n",
       " 1.56948430621669 55692.7303     0.3    62    18.7    31.1 ANT3659"
      ]
     },
     "execution_count": 5,
     "metadata": {},
     "output_type": "execute_result"
    }
   ],
   "source": [
    "scs = service.get_scs()\n",
    "coneevents = scs.search((20,30), 2) # get events for a 2 degree cone around given sky coordinates\n",
    "coneevents.to_table()"
   ]
  },
  {
   "cell_type": "markdown",
   "metadata": {},
   "source": [
    "## Access full table"
   ]
  },
  {
   "cell_type": "code",
   "execution_count": 6,
   "metadata": {},
   "outputs": [],
   "source": [
    "fulltable = service.get_dataframe()"
   ]
  },
  {
   "cell_type": "code",
   "execution_count": 7,
   "metadata": {},
   "outputs": [
    {
     "data": {
      "image/png": "[encoded data removed]",
      "text/plain": [
       "<Figure size 432x288 with 1 Axes>"
      ]
     },
     "metadata": {
      "needs_background": "light"
     },
     "output_type": "display_data"
    }
   ],
   "source": [
    "plot = fulltable.beta.plot(kind = \"hist\")"
   ]
  }
 ],
 "metadata": {
  "kernelspec": {
   "display_name": "Python 3",
   "language": "python",
   "name": "python3"
  },
  "language_info": {
   "codemirror_mode": {
    "name": "ipython",
    "version": 3
   },
   "file_extension": ".py",
   "mimetype": "text/x-python",
   "name": "python",
   "nbconvert_exporter": "python",
   "pygments_lexer": "ipython3",
   "version": "3.9.5"
  }
 },
 "nbformat": 4,
 "nbformat_minor": 4
}
