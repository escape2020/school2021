{
 "cells": [
  {
   "cell_type": "markdown",
   "metadata": {},
   "source": [
    "# Exploring ODC data\n",
    "The KM3Store serves as interface to the data available in the open data center (ODC). \n",
    "Information is retrieved on first use of the KM3Store from the ODC and stored in cache. \n",
    "\n",
    "As the package is not yet registered with PyPI, you can only directly install it from git (could also be done in the environment.yml, here the direct approach). Toggle next cell to code cell to execute."
   ]
  },
  {
   "cell_type": "code",
   "execution_count": null,
   "metadata": {},
   "outputs": [],
   "source": [
    "import sys\n",
    "!{sys.executable} -m pip install git+https://git.km3net.de/open-data/openkm3"
   ]
  },
  {
   "cell_type": "code",
   "execution_count": 1,
   "metadata": {},
   "outputs": [
    {
     "name": "stderr",
     "output_type": "stream",
     "text": [
      "INFO:root:Loaded catalog from cache.\n"
     ]
    }
   ],
   "source": [
    "from openkm3.store import KM3Store\n",
    "store = KM3Store()"
   ]
  },
  {
   "cell_type": "markdown",
   "metadata": {},
   "source": [
    "If information should be reloaded from the ODC, update the catalog."
   ]
  },
  {
   "cell_type": "code",
   "execution_count": 2,
   "metadata": {},
   "outputs": [
    {
     "name": "stderr",
     "output_type": "stream",
     "text": [
      "INFO:root:Updated catalog!\n"
     ]
    },
    {
     "data": {
      "text/markdown": [
       "## Collections from the Open Data Center\n",
       "| Identifier | Title | Description | \n",
       "| ---------- | ----- | ----------- | \n",
       "| ana20_01 | ANTARES 2007-2017 neutrino point source search | Cosmic neutrino event candidate selection from search for neutrino point sources | \n",
       "| evts20_01 | One week of ORCA 4-line data | Events from one week of data taking with ORCA | \n",
       "| acoustic20_01 | Acoustic data | Acoustic data samples from ORCA hydrophone | \n"
      ],
      "text/plain": [
       "<IPython.core.display.Markdown object>"
      ]
     },
     "metadata": {},
     "output_type": "display_data"
    }
   ],
   "source": [
    "store.update_catalog()\n",
    "store.list() # lists all available collections"
   ]
  },
  {
   "cell_type": "code",
   "execution_count": 3,
   "metadata": {},
   "outputs": [
    {
     "data": {
      "text/markdown": [
       "## ANTARES 2007-2017 neutrino point source search\n",
       "| Identifier | Title | Description | \n",
       "| ---------- | ----- | ----------- | \n",
       "| ana20_01_vo | ANTARES 2007-2017 neutrino events | Event list of neutrino candidates | \n",
       "| ana20_01_pub | ANTARES 2007-2017 point source analysis | Search for neutrino point sources with the full ANTARES data | \n",
       "| ana20_01_aeff0 | ANTARES 2007-2017 effective area | effective area for E-2 source spectrum at zenith | \n",
       "| ana20_01_bkg | ANTARES 2007-2017 muon estimate function | Function for estimation of the muon background for the full analysis for a given declination | \n",
       "| ana20_01_acc | ANTARES 2007-2017 detector acceptance | ANTARES Acceptances computed from the 2007-2017 Monte Carlo as a function of the sin(declination) and of the signal power-law spectral index | \n"
      ],
      "text/plain": [
       "<IPython.core.display.Markdown object>"
      ]
     },
     "metadata": {},
     "output_type": "display_data"
    }
   ],
   "source": [
    "store.list(\"ana20_01\") # list information about object (collection) with the given identifier"
   ]
  },
  {
   "cell_type": "code",
   "execution_count": 4,
   "metadata": {},
   "outputs": [
    {
     "name": "stderr",
     "output_type": "stream",
     "text": [
      "INFO:root:Loading data from cache.\n",
      "INFO:root:Cannot load paper. Please visit https://doi.org/10.3847/2041-8213/aad8c0 .\n",
      "INFO:root:No data loaded for ana20_01_pub.\n"
     ]
    }
   ],
   "source": [
    "store.get(\"ana20_01_pub\")"
   ]
  },
  {
   "cell_type": "code",
   "execution_count": 5,
   "metadata": {},
   "outputs": [
    {
     "name": "stderr",
     "output_type": "stream",
     "text": [
      "INFO:root:Loading data from cache.\n",
      "INFO:root:Loaded entry ana20_01_bkg as <class 'openkm3.dataclasses.Function'>.\n"
     ]
    },
    {
     "data": {
      "text/plain": [
       "<openkm3.dataclasses.Function at 0x7f46baf972e0>"
      ]
     },
     "execution_count": 5,
     "metadata": {},
     "output_type": "execute_result"
    }
   ],
   "source": [
    "function = store.get(\"ana20_01_bkg\")\n",
    "function"
   ]
  },
  {
   "cell_type": "code",
   "execution_count": 6,
   "metadata": {
    "scrolled": true
   },
   "outputs": [
    {
     "data": {
      "text/markdown": [
       "## Acoustic data\n",
       "| Identifier | Title | Description | \n",
       "| ---------- | ----- | ----------- | \n",
       "| acoustic20_01_wav | Acoustic data stream wave | Samples of acoustic data from ARCA DOM as wav file | \n",
       "| acoustic20_01_mp3 | Acoustic data stream mp3 | Samples of acoustic data from ORCA DOM as mp3 file | \n",
       "| acoustic20_01_raw | Acoustic data stream raw | Samples of acoustic data from ORCA DOM as raw files | \n",
       "| acoustic20_01_psd | Acoustic data stream psd information | Statistical quantities of acoustic data from ORCA DOM | \n"
      ],
      "text/plain": [
       "<IPython.core.display.Markdown object>"
      ]
     },
     "metadata": {},
     "output_type": "display_data"
    }
   ],
   "source": [
    "store.list(\"acoustic20_01\") "
   ]
  },
  {
   "cell_type": "markdown",
   "metadata": {},
   "source": [
    "Streams hold pieces of data of the same format, e.g. several snippets of hydrophone data in various formats. You can list all entries in a stream and access each resource separately."
   ]
  },
  {
   "cell_type": "code",
   "execution_count": 7,
   "metadata": {},
   "outputs": [
    {
     "data": {
      "text/markdown": [
       "## Acoustic data stream psd information\n",
       "| Identifier | Title | Description | \n",
       "| ---------- | ----- | ----------- | \n",
       "| acoustic20_01_psd_DOM_808974724_CH1_1601366233 | Element of Acoustic data stream psd information | Statistical quantities of acoustic data from ORCA DOM | \n",
       "| acoustic20_01_psd_DOM_808974724_CH1_1599150167 | Element of Acoustic data stream psd information | Statistical quantities of acoustic data from ORCA DOM | \n",
       "| acoustic20_01_psd_DOM_808974724_CH1_1601455406 | Element of Acoustic data stream psd information | Statistical quantities of acoustic data from ORCA DOM | \n",
       "| acoustic20_01_psd_DOM_808974724_CH1_1599152165 | Element of Acoustic data stream psd information | Statistical quantities of acoustic data from ORCA DOM | \n",
       "| acoustic20_01_psd_DOM_808974724_CH1_1601364561 | Element of Acoustic data stream psd information | Statistical quantities of acoustic data from ORCA DOM | \n",
       "| acoustic20_01_psd_DOM_808974724_CH1_1600355223 | Element of Acoustic data stream psd information | Statistical quantities of acoustic data from ORCA DOM | \n"
      ],
      "text/plain": [
       "<IPython.core.display.Markdown object>"
      ]
     },
     "metadata": {},
     "output_type": "display_data"
    }
   ],
   "source": [
    "store.list(\"acoustic20_01_psd\") # accesses the stream"
   ]
  }
 ],
 "metadata": {
  "kernelspec": {
   "display_name": "Python 3",
   "language": "python",
   "name": "python3"
  },
  "language_info": {
   "codemirror_mode": {
    "name": "ipython",
    "version": 3
   },
   "file_extension": ".py",
   "mimetype": "text/x-python",
   "name": "python",
   "nbconvert_exporter": "python",
   "pygments_lexer": "ipython3",
   "version": "3.9.5"
  }
 },
 "nbformat": 4,
 "nbformat_minor": 4
}
