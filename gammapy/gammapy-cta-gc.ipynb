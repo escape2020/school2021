{
 "cells": [
  {
   "cell_type": "markdown",
   "metadata": {},
   "source": [
    "# CTA data analysis with Gammapy\n",
    "\n",
    "## Introduction\n",
    "\n",
    "**This notebook shows an example how to make a sky image and spectrum for simulated CTA data with Gammapy.**\n",
    "\n",
    "The dataset we will use is three observation runs on the Galactic center. This is a tiny (and thus quick to process and play with and learn) subset of the simulated CTA dataset that was produced for the first data challenge in August 2017.\n"
   ]
  },
  {
   "cell_type": "markdown",
   "metadata": {},
   "source": [
    "## Setup\n",
    "\n",
    "As usual, we'll start with some setup ..."
   ]
  },
  {
   "cell_type": "code",
   "execution_count": null,
   "metadata": {},
   "outputs": [],
   "source": [
    "%matplotlib inline\n",
    "import matplotlib.pyplot as plt\n",
    "from matplotlib import MatplotlibDeprecationWarning\n",
    "\n",
    "# this in general not advised, but for this specific notebook\n",
    "# I'd like to ignore some deprecation warnings by matplotlib\n",
    "import warnings\n",
    "warnings.filterwarnings(\n",
    "    \"ignore\", category=MatplotlibDeprecationWarning\n",
    ")"
   ]
  },
  {
   "cell_type": "code",
   "execution_count": null,
   "metadata": {},
   "outputs": [],
   "source": [
    "import numpy as np\n",
    "import astropy.units as u\n",
    "from astropy.coordinates import SkyCoord\n",
    "from astropy.convolution import Gaussian2DKernel\n",
    "from regions import CircleSkyRegion\n",
    "from gammapy.modeling import Fit\n",
    "from gammapy.data import DataStore\n",
    "from gammapy.datasets import (\n",
    "    Datasets,\n",
    "    FluxPointsDataset,\n",
    "    SpectrumDataset,\n",
    "    MapDataset,\n",
    ")\n",
    "from gammapy.modeling.models import (\n",
    "    PowerLawSpectralModel,\n",
    "    SkyModel,\n",
    "    GaussianSpatialModel,\n",
    ")\n",
    "from gammapy.maps import MapAxis, WcsNDMap, WcsGeom\n",
    "from gammapy.makers import (\n",
    "    MapDatasetMaker,\n",
    "    SafeMaskMaker,\n",
    "    SpectrumDatasetMaker,\n",
    "    ReflectedRegionsBackgroundMaker,\n",
    ")\n",
    "from gammapy.estimators import TSMapEstimator, FluxPointsEstimator\n",
    "from gammapy.estimators.utils import find_peaks\n",
    "from gammapy.visualization import plot_spectrum_datasets_off_regions"
   ]
  },
  {
   "cell_type": "markdown",
   "metadata": {},
   "source": [
    "## Select observations\n",
    "\n",
    "A Gammapy analysis usually starts by creating a `~gammapy.data.DataStore` and selecting observations.\n",
    "\n",
    "This is shown in detail in the other notebook, here we just pick three observations near the galactic center."
   ]
  },
  {
   "cell_type": "code",
   "execution_count": null,
   "metadata": {},
   "outputs": [],
   "source": [
    "data_store = DataStore.from_dir(\"data/cta-1dc/index/gps\")"
   ]
  },
  {
   "cell_type": "code",
   "execution_count": null,
   "metadata": {},
   "outputs": [],
   "source": [
    "obs_id = [110380, 111140, 111159]\n",
    "observations = data_store.get_observations(obs_id)"
   ]
  },
  {
   "cell_type": "code",
   "execution_count": null,
   "metadata": {},
   "outputs": [],
   "source": [
    "obs_cols = [\"OBS_ID\", \"GLON_PNT\", \"GLAT_PNT\", \"LIVETIME\"]\n",
    "data_store.obs_table.select_obs_id(obs_id)[obs_cols]"
   ]
  },
  {
   "cell_type": "markdown",
   "metadata": {},
   "source": [
    "## Make sky images\n",
    "\n",
    "### Define map geometry\n",
    "\n",
    "Select the target position and define an ON region for the spectral analysis"
   ]
  },
  {
   "cell_type": "code",
   "execution_count": null,
   "metadata": {},
   "outputs": [],
   "source": [
    "axis = MapAxis.from_energy_bounds(\"0.1 TeV\", \"10 TeV\", nbin=5)\n",
    "\n",
    "geom = WcsGeom.create(\n",
    "    skydir=(0, 0),\n",
    "    npix=(500, 400),\n",
    "    binsz=0.02,\n",
    "    frame=\"galactic\",\n",
    "    axes=[axis]\n",
    ")\n",
    "geom"
   ]
  },
  {
   "cell_type": "markdown",
   "metadata": {},
   "source": [
    "### Compute Images\n",
    "\n",
    "To compute images we rely on the classe defined in `gammapy.makers`"
   ]
  },
  {
   "cell_type": "code",
   "execution_count": null,
   "metadata": {},
   "outputs": [],
   "source": [
    "%%time\n",
    "stacked = MapDataset.create(geom=geom)\n",
    "maker = MapDatasetMaker()\n",
    "maker_safe_mask = SafeMaskMaker(\n",
    "    methods=[\"offset-max\"], offset_max=2.5 * u.deg\n",
    ")\n",
    "\n",
    "for obs in observations:\n",
    "    cutout = stacked.cutout(obs.pointing_radec, width=\"5 deg\")\n",
    "    dataset = maker.run(cutout, obs)\n",
    "    dataset = maker_safe_mask.run(dataset, obs)\n",
    "    stacked.stack(dataset)"
   ]
  },
  {
   "cell_type": "code",
   "execution_count": null,
   "metadata": {},
   "outputs": [],
   "source": [
    "# The maps are cubes, with an energy axis.\n",
    "# Let's also make some images:\n",
    "dataset_image = stacked.to_image()"
   ]
  },
  {
   "cell_type": "markdown",
   "metadata": {},
   "source": [
    "### Show images\n",
    "\n",
    "Let's have a quick look at the images we computed ..."
   ]
  },
  {
   "cell_type": "code",
   "execution_count": null,
   "metadata": {},
   "outputs": [],
   "source": [
    "dataset_image.counts.smooth(2).plot(vmax=5, cmap=\"inferno\");"
   ]
  },
  {
   "cell_type": "code",
   "execution_count": null,
   "metadata": {},
   "outputs": [],
   "source": [
    "dataset_image.background.plot(vmax=5, cmap=\"inferno\");"
   ]
  },
  {
   "cell_type": "code",
   "execution_count": null,
   "metadata": {},
   "outputs": [],
   "source": [
    "dataset_image.excess.smooth(3).plot(vmax=2, cmap=\"inferno\");"
   ]
  },
  {
   "cell_type": "markdown",
   "metadata": {},
   "source": [
    "## Source Detection\n",
    "\n",
    "Use the class `~gammapy.estimators.TSMapEstimator` and function `gammapy.estimators.utils.find_peaks` to detect sources on the images. We search for 0.1 deg sigma gaussian sources in the dataset."
   ]
  },
  {
   "cell_type": "code",
   "execution_count": null,
   "metadata": {},
   "outputs": [],
   "source": [
    "spatial_model = GaussianSpatialModel(sigma=\"0.05 deg\")\n",
    "spectral_model = PowerLawSpectralModel(index=2)\n",
    "model = SkyModel(spatial_model=spatial_model, spectral_model=spectral_model)"
   ]
  },
  {
   "cell_type": "code",
   "execution_count": null,
   "metadata": {},
   "outputs": [],
   "source": [
    "ts_image_estimator = TSMapEstimator(\n",
    "    model,\n",
    "    kernel_width=\"0.5 deg\",\n",
    "    selection_optional=[],\n",
    "    downsampling_factor=2,\n",
    "    sum_over_energy_groups=False,\n",
    "    energy_edges=[0.1, 10] * u.TeV,\n",
    ")"
   ]
  },
  {
   "cell_type": "code",
   "execution_count": null,
   "metadata": {},
   "outputs": [],
   "source": [
    "%%time\n",
    "images_ts = ts_image_estimator.run(stacked)"
   ]
  },
  {
   "cell_type": "code",
   "execution_count": null,
   "metadata": {},
   "outputs": [],
   "source": [
    "images_ts[\"sqrt_ts\"].plot(add_cbar=True, cmap=\"inferno\");"
   ]
  },
  {
   "cell_type": "code",
   "execution_count": null,
   "metadata": {},
   "outputs": [],
   "source": [
    "sources = find_peaks(\n",
    "    images_ts[\"sqrt_ts\"].get_image_by_idx((0,)),\n",
    "    threshold=5,\n",
    "    min_distance=\"0.2 deg\",\n",
    ")\n",
    "sources"
   ]
  },
  {
   "cell_type": "code",
   "execution_count": null,
   "metadata": {},
   "outputs": [],
   "source": [
    "# Plot sources on top of significance sky image\n",
    "images_ts[\"sqrt_ts\"].plot(add_cbar=True, cmap=\"inferno\")\n",
    "\n",
    "plt.gca().scatter(\n",
    "    sources[\"ra\"],\n",
    "    sources[\"dec\"],\n",
    "    transform=plt.gca().get_transform(\"icrs\"),\n",
    "    color=\"none\",\n",
    "    edgecolor=\"white\",\n",
    "    marker=\"o\",\n",
    "    s=200,\n",
    "    lw=1.5,\n",
    ");"
   ]
  },
  {
   "cell_type": "markdown",
   "metadata": {},
   "source": [
    "## Spectal Analysis\n",
    "\n",
    "We'll run a spectral analysis using the classical reflected regions background estimation method,\n",
    "and using the on-off (often called WSTAT) likelihood function."
   ]
  },
  {
   "cell_type": "code",
   "execution_count": null,
   "metadata": {},
   "outputs": [],
   "source": [
    "region = CircleSkyRegion(\n",
    "    center=SkyCoord(0, 0, unit=\"deg\", frame=\"galactic\"),\n",
    "    radius = 0.2 * u.deg\n",
    ")\n",
    "\n",
    "e_reco = MapAxis.from_energy_bounds(\n",
    "    0.1, 40, 40, unit=\"TeV\", name=\"energy\"\n",
    ")\n",
    "\n",
    "e_true = MapAxis.from_energy_bounds(\n",
    "    0.05, 100, 200, unit=\"TeV\", name=\"energy_true\"\n",
    ")\n",
    "\n",
    "dataset_empty = SpectrumDataset.create(\n",
    "    e_reco=e_reco, e_true=e_true, region=region\n",
    ")"
   ]
  },
  {
   "cell_type": "code",
   "execution_count": null,
   "metadata": {},
   "outputs": [],
   "source": [
    "geom_image = geom.to_image()\n",
    "\n",
    "data = geom_image.region_mask([region], inside=False)\n",
    "exclusion_mask = WcsNDMap(geom_image, data=data)\n",
    "exclusion_mask.plot();"
   ]
  },
  {
   "cell_type": "code",
   "execution_count": null,
   "metadata": {},
   "outputs": [],
   "source": [
    "dataset_maker = SpectrumDatasetMaker(\n",
    "    containment_correction=False,\n",
    "    selection=[\"counts\", \"exposure\", \"edisp\"]\n",
    ")\n",
    "\n",
    "bkg_maker = ReflectedRegionsBackgroundMaker(\n",
    "    exclusion_mask=exclusion_mask\n",
    ")\n",
    "\n",
    "safe_mask_masker = SafeMaskMaker(\n",
    "    methods=[\"aeff-max\"], aeff_percent=10\n",
    ")"
   ]
  },
  {
   "cell_type": "code",
   "execution_count": null,
   "metadata": {},
   "outputs": [],
   "source": [
    "%%time\n",
    "datasets = Datasets()\n",
    "\n",
    "for observation in observations:\n",
    "    dataset = dataset_maker.run(\n",
    "        dataset_empty.copy(name=f\"obs-{observation.obs_id}\"),\n",
    "        observation\n",
    "    )\n",
    "    dataset_on_off = bkg_maker.run(dataset, observation)\n",
    "    dataset_on_off = safe_mask_masker.run(dataset_on_off, observation)\n",
    "    datasets.append(dataset_on_off)"
   ]
  },
  {
   "cell_type": "code",
   "execution_count": null,
   "metadata": {},
   "outputs": [],
   "source": [
    "plt.figure(figsize=(8, 8))\n",
    "_, ax, _ = dataset_image.counts.smooth(\"0.03 deg\").plot(vmax=8, cmap=\"inferno\")\n",
    "\n",
    "region.to_pixel(ax.wcs).plot(ax=ax, edgecolor=\"white\")\n",
    "plot_spectrum_datasets_off_regions(datasets, ax=ax)"
   ]
  },
  {
   "cell_type": "markdown",
   "metadata": {},
   "source": [
    "### Model fit\n",
    "\n",
    "The next step is to fit a spectral model, using all data (i.e. a \"global\" fit, using all energies)."
   ]
  },
  {
   "cell_type": "code",
   "execution_count": null,
   "metadata": {},
   "outputs": [],
   "source": [
    "%%time\n",
    "spectral_model = PowerLawSpectralModel(\n",
    "    index=2, amplitude=1e-11 * u.Unit(\"cm-2 s-1 TeV-1\"), reference=1 * u.TeV\n",
    ")\n",
    "\n",
    "model = SkyModel(spectral_model=spectral_model, name=\"source-gc\")\n",
    "\n",
    "datasets.models = model\n",
    "\n",
    "fit = Fit(datasets)\n",
    "result = fit.run()\n",
    "print(result)"
   ]
  },
  {
   "cell_type": "markdown",
   "metadata": {},
   "source": [
    "### Spectral points\n",
    "\n",
    "Finally, let's compute spectral points. The method used is to first choose an energy binning, and then to do a 1-dim likelihood fit / profile to compute the flux and flux error."
   ]
  },
  {
   "cell_type": "code",
   "execution_count": null,
   "metadata": {},
   "outputs": [],
   "source": [
    "# Flux points are computed on stacked observation\n",
    "stacked_dataset = datasets.stack_reduce(name=\"stacked\")\n",
    "\n",
    "print(stacked_dataset)"
   ]
  },
  {
   "cell_type": "code",
   "execution_count": null,
   "metadata": {},
   "outputs": [],
   "source": [
    "energy_edges = MapAxis.from_energy_bounds(\"1 TeV\", \"30 TeV\", nbin=5).edges\n",
    "\n",
    "stacked_dataset.models = model\n",
    "\n",
    "fpe = FluxPointsEstimator(energy_edges=energy_edges, source=\"source-gc\")\n",
    "flux_points = fpe.run(datasets=[stacked_dataset])\n",
    "flux_points.table_formatted"
   ]
  },
  {
   "cell_type": "markdown",
   "metadata": {},
   "source": [
    "### Plot\n",
    "\n",
    "Let's plot the spectral model and points. You could do it directly, but for convenience we bundle the model and the flux points in a `FluxPointDataset`:"
   ]
  },
  {
   "cell_type": "code",
   "execution_count": null,
   "metadata": {},
   "outputs": [],
   "source": [
    "flux_points_dataset = FluxPointsDataset(data=flux_points, models=model)"
   ]
  },
  {
   "cell_type": "code",
   "execution_count": null,
   "metadata": {},
   "outputs": [],
   "source": [
    "flux_points_dataset.plot_fit();"
   ]
  }
 ],
 "metadata": {
  "kernelspec": {
   "display_name": "Python 3",
   "language": "python",
   "name": "python3"
  },
  "language_info": {
   "codemirror_mode": {
    "name": "ipython",
    "version": 3
   },
   "file_extension": ".py",
   "mimetype": "text/x-python",
   "name": "python",
   "nbconvert_exporter": "python",
   "pygments_lexer": "ipython3",
   "version": "3.9.4"
  }
 },
 "nbformat": 4,
 "nbformat_minor": 4
}
