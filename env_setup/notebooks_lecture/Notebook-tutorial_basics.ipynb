{
 "cells": [
  {
   "cell_type": "markdown",
   "id": "02331a33",
   "metadata": {},
   "source": [
    "<h1><center> <font size=\"36\"> Notebook basics </font> </center></h1>"
   ]
  },
  {
   "cell_type": "code",
   "execution_count": null,
   "id": "7ad0c801",
   "metadata": {},
   "outputs": [],
   "source": []
  },
  {
   "cell_type": "markdown",
   "id": "0399ed35",
   "metadata": {},
   "source": [
    "This 'thing' between the title and this sentence is called Cell.\n",
    "\n",
    "Cells are interactive containers that are used to execute its content.\n",
    "\n",
    "To edit a cell, just doble click on it. To run its content;\n",
    " - click the Run button\n",
    " - or select the cell and `Shift+Enter` "
   ]
  },
  {
   "cell_type": "markdown",
   "id": "363f5275",
   "metadata": {},
   "source": [
    "## Markdown cells"
   ]
  },
  {
   "cell_type": "markdown",
   "id": "650e5b8a",
   "metadata": {},
   "source": [
    "# Heading level 1\n",
    "\n",
    "## Heading level 2\n",
    "\n",
    "### Heading level 3\n",
    "\n",
    "#### Heading level 4\n",
    "\n",
    "##### Heading level 5\n",
    "\n",
    "###### Heading level 6"
   ]
  },
  {
   "cell_type": "markdown",
   "id": "6c84019a",
   "metadata": {},
   "source": [
    "Markdown is a cool syntax that allows a lot of different functionalities.\n",
    "\n",
    "It allows **to stress** _text in the_ ***usual ways***. Add text in `code syntax`.\n",
    "\n",
    "Add some code snippets in different programming languages\n",
    "\n",
    "like **bash**\n",
    "```bash\n",
    "$ chmod +x awesome_program.sh\n",
    "$ ./awesome_program.sh\n",
    "```\n",
    "\n",
    "**python**\n",
    "```python\n",
    "import os\n",
    "\n",
    "def return_full_path(relative_path):\n",
    "    \"\"\"Returns the full path of a relative one\"\"\"\n",
    "    return os.path.abspath(relative_path)\n",
    "```\n",
    "\n",
    "**html**\n",
    "```html\n",
    "<pre>\n",
    "  <code>\n",
    "    variables :\n",
    "     a\n",
    "     b\n",
    "     c\n",
    "  </code>\n",
    "</pre>\n",
    "```\n",
    "\n",
    "\n",
    "And many others...\n"
   ]
  },
  {
   "cell_type": "markdown",
   "id": "a4ff76cf",
   "metadata": {},
   "source": [
    "### Markdown allows including html commands\n",
    "\n",
    "\n",
    "<html>\n",
    "<head>\n",
    "<style>\n",
    "h1 {text-align: center;}\n",
    "p {text-align: center;}\n",
    "</style>\n",
    "</head>\n",
    "<body>\n",
    "    \n",
    "    \n",
    "<h1><center> Heading </center></h1>\n",
    "<p><center>This is a paragraph.</center></p>\n",
    "<center>Some text centered !</center>\n",
    "\n",
    "</body>\n",
    "</html>\n"
   ]
  },
  {
   "cell_type": "markdown",
   "id": "e4e5331c",
   "metadata": {},
   "source": [
    "### It also allows creating bullets,\n",
    " - Item one.\n",
    " - Item two.\n",
    "     - Item two point one.\n",
    "     - Item two point two.\n",
    "         - Another one.\n",
    " - Item three.\n",
    " \n",
    " \n",
    "and lists,\n",
    "1. First item.\n",
    "2. Second item.\n",
    "3. Third item.\n",
    "   1. Carrots.\n",
    "        2. Brocoli.\n",
    "            3. Burgers.\n",
    "           "
   ]
  },
  {
   "cell_type": "markdown",
   "id": "05c71bee",
   "metadata": {},
   "source": [
    "### Sections can be separated using horizontal lines.\n",
    "\n",
    "*************\n",
    "\n",
    ">>\n",
    ">> Quote text blocks.\n",
    ">>\n",
    "> Even in different levels\n",
    "\n",
    "-------\n",
    "\n",
    "\n",
    "And of course you can include hyperlinks; [have a look to the ESCAPE school GitHub project](https://github.com/escape2020/school2021). \n",
    "\n",
    "And link sections too! Go to [code cell section](#Code-Cells)"
   ]
  },
  {
   "cell_type": "markdown",
   "id": "5ab00c5b",
   "metadata": {},
   "source": [
    "#### Markdown support Latex too ! \n",
    " - It uses [MathJax](https://www.mathjax.org/) to render $\\LaTeX$ inside Markdown.\n",
    "\n",
    "You can include easy equations in the same line $ E = m c^2 $.\n",
    "\n",
    "You can also enter the display math mode \n",
    "$$ p(x;\\lambda) = \\frac{e^{- \\lambda} \\lambda ^{x}}{x!} \\; \\mathrm{for} \\; x = 0,1,2,\\ldots  $$"
   ]
  },
  {
   "cell_type": "markdown",
   "id": "50793c4b",
   "metadata": {},
   "source": [
    "### And also you can create tables very easily\n",
    "\n",
    "|Uppercase| LaTeX    |Lowercase| LaTeX | \n",
    "|---------|-------   |---------|-------|\n",
    "|$\\Lambda$|\\\\Lambda  |$\\lambda$ |\\\\lambda|\n",
    "|$\\Delta$ |\\\\Delta   |$\\delta$ |\\\\delta|"
   ]
  },
  {
   "cell_type": "markdown",
   "id": "d46d192b",
   "metadata": {},
   "source": [
    "### Including images\n",
    "\n",
    "And a last Markdown example to show is how to include images\n",
    "![ESCAPE logo](https://projectescape.eu/sites/default/files/logo-Escape_0_0.png)"
   ]
  },
  {
   "cell_type": "markdown",
   "id": "cbcce617",
   "metadata": {},
   "source": [
    "## Kernels\n",
    "\n",
    "A kernel is the engine that runs a cell. In other words, the element that starts a session and runs code. \n",
    "\n",
    "Jupyter notebooks support various **programming languages**.\n",
    "\n",
    "You can have different kernels installed, and therefore stop a running kernel, load a new one and run the Notebook with it.\n",
    "\n",
    " - Documentation at: https://jupyter.readthedocs.io/en/latest/install/kernels.html"
   ]
  },
  {
   "cell_type": "markdown",
   "id": "e3430718",
   "metadata": {},
   "source": [
    "## Code Cells\n",
    "\n",
    "Work as the \"usual iPython cells\"."
   ]
  },
  {
   "cell_type": "code",
   "execution_count": null,
   "id": "f9a9b864",
   "metadata": {},
   "outputs": [],
   "source": [
    "import numpy as np\n",
    "import matplotlib.pyplot as plt"
   ]
  },
  {
   "cell_type": "code",
   "execution_count": null,
   "id": "86a6b4b7",
   "metadata": {},
   "outputs": [],
   "source": [
    "x = np.linspace(-5, 5, 50)\n",
    "y1 = x\n",
    "y2 = x ** 2 - 4\n",
    "y3 = x ** 3 + x**2 - 4*x"
   ]
  },
  {
   "cell_type": "code",
   "execution_count": null,
   "id": "089fba3b",
   "metadata": {},
   "outputs": [],
   "source": [
    "plt.figure()\n",
    "plt.plot(x, y1, 'black')\n",
    "plt.plot(x, y2, 'r')\n",
    "plt.plot(x, y3, 'b--')\n",
    "plt.xlabel('x')\n",
    "plt.ylabel('y')\n",
    "plt.xlim(-5,5)\n",
    "plt.ylim(-5,5)\n",
    "plt.title('Plot title')\n",
    "plt.grid()\n",
    "plt.show()"
   ]
  },
  {
   "cell_type": "code",
   "execution_count": null,
   "id": "8fa8a42a",
   "metadata": {},
   "outputs": [],
   "source": [
    "for i in range(10):\n",
    "    print(np.random.randint(-100, 100))"
   ]
  },
  {
   "cell_type": "code",
   "execution_count": null,
   "id": "9e9710cc",
   "metadata": {},
   "outputs": [],
   "source": [
    "x = np.random.randint(-100,100, 50)"
   ]
  },
  {
   "cell_type": "code",
   "execution_count": null,
   "id": "7a570914",
   "metadata": {},
   "outputs": [],
   "source": [
    "def plot_in_subplots(x_var, y_1, y_2, y_3):\n",
    "    \n",
    "    fig = plt.figure()\n",
    "    fig.suptitle('3 Graphs separated', fontsize=16)\n",
    "\n",
    "    fig.set_size_inches(15,5)\n",
    "\n",
    "    ax = fig.add_subplot(131)\n",
    "    ax2 = fig.add_subplot(132)\n",
    "    ax3 = fig.add_subplot(133)\n",
    "\n",
    "    ax.plot(x_var, y_1)\n",
    "    ax.grid()\n",
    "    ax2.plot(x_var, y_2)\n",
    "    ax2.grid()\n",
    "    ax3.plot(x_var, y_3)\n",
    "    ax3.grid()\n",
    "    plt.show()"
   ]
  },
  {
   "cell_type": "code",
   "execution_count": null,
   "id": "853f5118",
   "metadata": {},
   "outputs": [],
   "source": [
    "def plot_same_frame(x_var, y_1, y_2, y_3):\n",
    "    plt.figure()\n",
    "    \n",
    "    plt.plot(x_var, y_1, 'black')\n",
    "    plt.plot(x_var, y_2, 'r')\n",
    "    plt.plot(x_var, y_3, 'b--')\n",
    "    \n",
    "    plt.xlabel('x')\n",
    "    plt.ylabel('y')\n",
    "    \n",
    "    plt.xlim(-5,5)\n",
    "    plt.ylim(-5,5)\n",
    "    \n",
    "    plt.title('Plot title')\n",
    "    \n",
    "    plt.grid()\n",
    "    plt.show()"
   ]
  },
  {
   "cell_type": "code",
   "execution_count": null,
   "id": "e63c21b3",
   "metadata": {},
   "outputs": [],
   "source": [
    "plot_in_subplots(x,y1,y2,y3)"
   ]
  },
  {
   "cell_type": "code",
   "execution_count": null,
   "id": "38f0d574",
   "metadata": {},
   "outputs": [],
   "source": [
    "plot_same_frame(x, y1, y2, y3)"
   ]
  },
  {
   "cell_type": "markdown",
   "id": "8cb9962d",
   "metadata": {},
   "source": [
    "### Displaying documentation"
   ]
  },
  {
   "cell_type": "code",
   "execution_count": null,
   "id": "423bb343",
   "metadata": {},
   "outputs": [],
   "source": [
    "np.random.randint?"
   ]
  },
  {
   "cell_type": "markdown",
   "id": "4b9142c9",
   "metadata": {},
   "source": [
    "### \"Magic cells\""
   ]
  },
  {
   "cell_type": "code",
   "execution_count": null,
   "id": "802c99b5",
   "metadata": {},
   "outputs": [],
   "source": [
    "%lsmagic"
   ]
  },
  {
   "cell_type": "code",
   "execution_count": null,
   "id": "f01ae8c4",
   "metadata": {},
   "outputs": [],
   "source": [
    "! ls -lrt"
   ]
  },
  {
   "cell_type": "code",
   "execution_count": null,
   "id": "a1261b77",
   "metadata": {},
   "outputs": [],
   "source": [
    "! pip install numpy"
   ]
  },
  {
   "cell_type": "code",
   "execution_count": null,
   "id": "bd1e95c6",
   "metadata": {},
   "outputs": [],
   "source": [
    "%timeit sum(np.ones(int(1e5)))\n",
    "%timeit np.sum(np.ones(int(1e5)))"
   ]
  },
  {
   "cell_type": "code",
   "execution_count": null,
   "id": "8ed0d1c3",
   "metadata": {},
   "outputs": [],
   "source": [
    "%%bash\n",
    "echo \"$HOME\""
   ]
  },
  {
   "cell_type": "markdown",
   "id": "ea25bf74",
   "metadata": {},
   "source": [
    "\n",
    "### Sources\n",
    " - https://www.markdownguide.org/basic-syntax/\n",
    " - https://www.dataquest.io/blog/jupyter-notebook-tutorial/\n",
    " - https://realpython.com/jupyter-notebook-introduction/\n",
    " - Compilation of interesting notebooks: https://github.com/jupyter/jupyter/wiki/A-gallery-of-interesting-Jupyter-Notebooks"
   ]
  }
 ],
 "metadata": {
  "kernelspec": {
   "display_name": "Python 3",
   "language": "python",
   "name": "python3"
  },
  "language_info": {
   "codemirror_mode": {
    "name": "ipython",
    "version": 3
   },
   "file_extension": ".py",
   "mimetype": "text/x-python",
   "name": "python",
   "nbconvert_exporter": "python",
   "pygments_lexer": "ipython3",
   "version": "3.9.4"
  }
 },
 "nbformat": 4,
 "nbformat_minor": 5
}