{
 "cells": [
  {
   "cell_type": "markdown",
   "id": "3fd65cac-9ead-4e3f-b32f-9c7718c3196a",
   "metadata": {},
   "source": [
    "# Julia Introduction - Live Session\n",
    "\n",
    "Tamas Gal <tamas.gal@fau.de>"
   ]
  },
  {
   "cell_type": "code",
   "execution_count": 2,
   "id": "9c95f062-16fa-4cc2-bdb8-14294f661fc1",
   "metadata": {},
   "outputs": [
    {
     "name": "stdout",
     "output_type": "stream",
     "text": [
      "Julia Version 1.6.1\n",
      "Commit 6aaedecc44 (2021-04-23 05:59 UTC)\n",
      "Platform Info:\n",
      "  OS: macOS (x86_64-apple-darwin18.7.0)\n",
      "  CPU: Apple M1\n",
      "  WORD_SIZE: 64\n",
      "  LIBM: libopenlibm\n",
      "  LLVM: libLLVM-11.0.1 (ORCJIT, westmere)\n",
      "Environment:\n",
      "  JULIA_EDITOR = emacsclient -nw\n"
     ]
    }
   ],
   "source": [
    "versioninfo()"
   ]
  },
  {
   "cell_type": "code",
   "execution_count": 3,
   "id": "70c67366-27c9-456e-b4b7-dd2387bfcd4d",
   "metadata": {},
   "outputs": [],
   "source": [
    "using BenchmarkTools"
   ]
  },
  {
   "cell_type": "code",
   "execution_count": 6,
   "id": "cebc35ef-b483-4935-b76c-679ff4bee192",
   "metadata": {},
   "outputs": [
    {
     "data": {
      "text/plain": [
       "f (generic function with 1 method)"
      ]
     },
     "execution_count": 6,
     "metadata": {},
     "output_type": "execute_result"
    }
   ],
   "source": [
    "function f(x)\n",
    "    return 2*x\n",
    "end"
   ]
  },
  {
   "cell_type": "code",
   "execution_count": 7,
   "id": "b25a4b09-8053-4e03-bddb-29472ac82a87",
   "metadata": {},
   "outputs": [
    {
     "data": {
      "text/plain": [
       "2"
      ]
     },
     "execution_count": 7,
     "metadata": {},
     "output_type": "execute_result"
    }
   ],
   "source": [
    "f(1)"
   ]
  },
  {
   "cell_type": "code",
   "execution_count": 8,
   "id": "04e91f66-6551-4ab5-bc7a-90fa8e534fe4",
   "metadata": {},
   "outputs": [
    {
     "data": {
      "text/plain": [
       "246.88"
      ]
     },
     "execution_count": 8,
     "metadata": {},
     "output_type": "execute_result"
    }
   ],
   "source": [
    "f(123.44)"
   ]
  },
  {
   "cell_type": "code",
   "execution_count": null,
   "id": "4ddb9810-5f21-47e4-8b81-1f326361ce8e",
   "metadata": {},
   "outputs": [],
   "source": [
    "%timeit  # in ipython"
   ]
  },
  {
   "cell_type": "code",
   "execution_count": 9,
   "id": "2561f9c7-6f3d-4381-9a0b-4d975a72e6f8",
   "metadata": {},
   "outputs": [
    {
     "name": "stdout",
     "output_type": "stream",
     "text": [
      "  0.001 ns (0 allocations: 0 bytes)\n"
     ]
    },
    {
     "data": {
      "text/plain": [
       "4"
      ]
     },
     "execution_count": 9,
     "metadata": {},
     "output_type": "execute_result"
    }
   ],
   "source": [
    "@btime f(2)"
   ]
  },
  {
   "cell_type": "code",
   "execution_count": 10,
   "id": "860fa5a3-b34e-46be-8140-c05bcef58663",
   "metadata": {},
   "outputs": [
    {
     "data": {
      "text/plain": [
       "2"
      ]
     },
     "execution_count": 10,
     "metadata": {},
     "output_type": "execute_result"
    }
   ],
   "source": [
    "x = 2"
   ]
  },
  {
   "cell_type": "code",
   "execution_count": 11,
   "id": "466bc6a0-d64a-4e20-9f7a-994b6d32bfd4",
   "metadata": {},
   "outputs": [
    {
     "name": "stdout",
     "output_type": "stream",
     "text": [
      "  1.500 ns (0 allocations: 0 bytes)\n"
     ]
    },
    {
     "data": {
      "text/plain": [
       "4"
      ]
     },
     "execution_count": 11,
     "metadata": {},
     "output_type": "execute_result"
    }
   ],
   "source": [
    "@btime f($(Ref(x))[])  # trick the compiler for such femto-benchmarks"
   ]
  },
  {
   "cell_type": "code",
   "execution_count": 12,
   "id": "2ff698ce-378e-4471-baa7-f7f9a4def983",
   "metadata": {},
   "outputs": [
    {
     "data": {
      "text/plain": [
       "23"
      ]
     },
     "execution_count": 12,
     "metadata": {},
     "output_type": "execute_result"
    }
   ],
   "source": [
    "β = 23"
   ]
  },
  {
   "cell_type": "code",
   "execution_count": 13,
   "id": "985490ab-0ab2-47b8-95c6-a94bcc917e6f",
   "metadata": {},
   "outputs": [
    {
     "data": {
      "text/plain": [
       "123"
      ]
     },
     "execution_count": 13,
     "metadata": {},
     "output_type": "execute_result"
    }
   ],
   "source": [
    "β₁⁺ = 123  # beta_one_plus"
   ]
  },
  {
   "cell_type": "code",
   "execution_count": 14,
   "id": "9156771e-2ce4-4372-9dd7-f5ef73b03240",
   "metadata": {},
   "outputs": [
    {
     "data": {
      "text/plain": [
       "slowmean (generic function with 1 method)"
      ]
     },
     "execution_count": 14,
     "metadata": {},
     "output_type": "execute_result"
    }
   ],
   "source": [
    "slowmean(arr) = sum(arr) / length(arr) "
   ]
  },
  {
   "cell_type": "code",
   "execution_count": 15,
   "id": "56d3c86b-a190-4bad-8766-50467f4be2ca",
   "metadata": {},
   "outputs": [
    {
     "data": {
      "text/plain": [
       "f (generic function with 1 method)"
      ]
     },
     "execution_count": 15,
     "metadata": {},
     "output_type": "execute_result"
    }
   ],
   "source": [
    "f(x) = 2x"
   ]
  },
  {
   "cell_type": "code",
   "execution_count": 16,
   "id": "06382229-f0c9-4360-8080-7f5452763343",
   "metadata": {},
   "outputs": [
    {
     "data": {
      "text/plain": [
       "10000-element Vector{Float64}:\n",
       " 0.21258757670163564\n",
       " 0.8871097204634375\n",
       " 0.24678399009997865\n",
       " 0.30969935443802954\n",
       " 0.8071851021459258\n",
       " 0.6645902354526816\n",
       " 0.7935483441444235\n",
       " 0.14443568872058465\n",
       " 0.5839047176601535\n",
       " 0.1398828566306598\n",
       " 0.3501374969118385\n",
       " 0.5205954406577717\n",
       " 0.7515824261879467\n",
       " ⋮\n",
       " 0.39146574872138906\n",
       " 0.48263044006878375\n",
       " 0.36087585225815744\n",
       " 0.38695973950788964\n",
       " 0.9569344986181942\n",
       " 0.33287704902970217\n",
       " 0.47561211656846925\n",
       " 0.5828322101028716\n",
       " 0.6534511307824213\n",
       " 0.015357092630671199\n",
       " 0.3902516654149799\n",
       " 0.47007030998296817"
      ]
     },
     "execution_count": 16,
     "metadata": {},
     "output_type": "execute_result"
    }
   ],
   "source": [
    "x = rand(10000)"
   ]
  },
  {
   "cell_type": "code",
   "execution_count": 17,
   "id": "4e326ae9-308e-41f4-9ed9-f8b1f2325cac",
   "metadata": {},
   "outputs": [
    {
     "data": {
      "text/plain": [
       "Vector{Float64} (alias for Array{Float64, 1})"
      ]
     },
     "execution_count": 17,
     "metadata": {},
     "output_type": "execute_result"
    }
   ],
   "source": [
    "typeof(x)"
   ]
  },
  {
   "cell_type": "code",
   "execution_count": 18,
   "id": "bc39ce63-c0f0-4309-b871-bf98cadc8b4e",
   "metadata": {},
   "outputs": [
    {
     "name": "stdout",
     "output_type": "stream",
     "text": [
      "  1.837 μs (0 allocations: 0 bytes)\n"
     ]
    },
    {
     "data": {
      "text/plain": [
       "0.4983345945133995"
      ]
     },
     "execution_count": 18,
     "metadata": {},
     "output_type": "execute_result"
    }
   ],
   "source": [
    "@btime slowmean($x)"
   ]
  },
  {
   "cell_type": "code",
   "execution_count": 19,
   "id": "05079931-2a36-4b81-bccd-3f9824d08404",
   "metadata": {},
   "outputs": [
    {
     "name": "stdout",
     "output_type": "stream",
     "text": [
      "  1.829 μs (0 allocations: 0 bytes)\n"
     ]
    },
    {
     "data": {
      "text/plain": [
       "0.4983345945133995"
      ]
     },
     "execution_count": 19,
     "metadata": {},
     "output_type": "execute_result"
    }
   ],
   "source": [
    "@btime mean($x)"
   ]
  },
  {
   "cell_type": "markdown",
   "id": "b0bd88f3-0114-4e77-aa14-98e5f6a4b5e5",
   "metadata": {},
   "source": [
    "### Multiple Dispatch"
   ]
  },
  {
   "cell_type": "code",
   "execution_count": 21,
   "id": "75ffc2de-2857-44c3-90f6-390d35b9f0fb",
   "metadata": {},
   "outputs": [
    {
     "name": "stdout",
     "output_type": "stream",
     "text": [
      "search: \u001b[0m\u001b[1mr\u001b[22m\u001b[0m\u001b[1ma\u001b[22m\u001b[0m\u001b[1mn\u001b[22m\u001b[0m\u001b[1md\u001b[22m \u001b[0m\u001b[1mr\u001b[22m\u001b[0m\u001b[1ma\u001b[22m\u001b[0m\u001b[1mn\u001b[22m\u001b[0m\u001b[1md\u001b[22mn t\u001b[0m\u001b[1mr\u001b[22m\u001b[0m\u001b[1ma\u001b[22m\u001b[0m\u001b[1mn\u001b[22msco\u001b[0m\u001b[1md\u001b[22me mac\u001b[0m\u001b[1mr\u001b[22moexp\u001b[0m\u001b[1ma\u001b[22m\u001b[0m\u001b[1mn\u001b[22m\u001b[0m\u001b[1md\u001b[22m @mac\u001b[0m\u001b[1mr\u001b[22moexp\u001b[0m\u001b[1ma\u001b[22m\u001b[0m\u001b[1mn\u001b[22m\u001b[0m\u001b[1md\u001b[22m @mac\u001b[0m\u001b[1mr\u001b[22moexp\u001b[0m\u001b[1ma\u001b[22m\u001b[0m\u001b[1mn\u001b[22m\u001b[0m\u001b[1md\u001b[22m1\n",
      "\n"
     ]
    },
    {
     "data": {
      "text/latex": [
       "\\begin{verbatim}\n",
       "rand([rng=GLOBAL_RNG], [S], [dims...])\n",
       "\\end{verbatim}\n",
       "Pick a random element or array of random elements from the set of values specified by \\texttt{S}; \\texttt{S} can be\n",
       "\n",
       "\\begin{itemize}\n",
       "\\item an indexable collection (for example \\texttt{1:9} or \\texttt{('x', \"y\", :z)}),\n",
       "\n",
       "\n",
       "\\item an \\texttt{AbstractDict} or \\texttt{AbstractSet} object,\n",
       "\n",
       "\n",
       "\\item a string (considered as a collection of characters), or\n",
       "\n",
       "\n",
       "\\item a type: the set of values to pick from is then equivalent to \\texttt{typemin(S):typemax(S)} for integers (this is not applicable to \\href{@ref}{\\texttt{BigInt}}), to $[0, 1)$ for floating point numbers and to $[0, 1)+i[0, 1)$ for complex floating point numbers;\n",
       "\n",
       "\\end{itemize}\n",
       "\\texttt{S} defaults to \\href{@ref}{\\texttt{Float64}}. When only one argument is passed besides the optional \\texttt{rng} and is a \\texttt{Tuple}, it is interpreted as a collection of values (\\texttt{S}) and not as \\texttt{dims}.\n",
       "\n",
       "\\begin{quote}\n",
       "\\textbf{compat}\n",
       "\n",
       "Julia 1.1\n",
       "\n",
       "Support for \\texttt{S} as a tuple requires at least Julia 1.1.\n",
       "\n",
       "\\end{quote}\n",
       "\\section{Examples}\n",
       "\\begin{verbatim}\n",
       "julia> rand(Int, 2)\n",
       "2-element Array{Int64,1}:\n",
       " 1339893410598768192\n",
       " 1575814717733606317\n",
       "\n",
       "julia> using Random\n",
       "\n",
       "julia> rand(MersenneTwister(0), Dict(1=>2, 3=>4))\n",
       "1=>2\n",
       "\n",
       "julia> rand((2, 3))\n",
       "3\n",
       "\n",
       "julia> rand(Float64, (2, 3))\n",
       "2×3 Array{Float64,2}:\n",
       " 0.999717  0.0143835  0.540787\n",
       " 0.696556  0.783855   0.938235\n",
       "\\end{verbatim}\n",
       "\\begin{quote}\n",
       "\\textbf{note}\n",
       "\n",
       "Note\n",
       "\n",
       "The complexity of \\texttt{rand(rng, s::Union\\{AbstractDict,AbstractSet\\})} is linear in the length of \\texttt{s}, unless an optimized method with constant complexity is available, which is the case for \\texttt{Dict}, \\texttt{Set} and \\texttt{BitSet}. For more than a few calls, use \\texttt{rand(rng, collect(s))} instead, or either \\texttt{rand(rng, Dict(s))} or \\texttt{rand(rng, Set(s))} as appropriate.\n",
       "\n",
       "\\end{quote}\n"
      ],
      "text/markdown": [
       "```\n",
       "rand([rng=GLOBAL_RNG], [S], [dims...])\n",
       "```\n",
       "\n",
       "Pick a random element or array of random elements from the set of values specified by `S`; `S` can be\n",
       "\n",
       "  * an indexable collection (for example `1:9` or `('x', \"y\", :z)`),\n",
       "  * an `AbstractDict` or `AbstractSet` object,\n",
       "  * a string (considered as a collection of characters), or\n",
       "  * a type: the set of values to pick from is then equivalent to `typemin(S):typemax(S)` for integers (this is not applicable to [`BigInt`](@ref)), to $[0, 1)$ for floating point numbers and to $[0, 1)+i[0, 1)$ for complex floating point numbers;\n",
       "\n",
       "`S` defaults to [`Float64`](@ref). When only one argument is passed besides the optional `rng` and is a `Tuple`, it is interpreted as a collection of values (`S`) and not as `dims`.\n",
       "\n",
       "!!! compat \"Julia 1.1\"\n",
       "    Support for `S` as a tuple requires at least Julia 1.1.\n",
       "\n",
       "\n",
       "# Examples\n",
       "\n",
       "```julia-repl\n",
       "julia> rand(Int, 2)\n",
       "2-element Array{Int64,1}:\n",
       " 1339893410598768192\n",
       " 1575814717733606317\n",
       "\n",
       "julia> using Random\n",
       "\n",
       "julia> rand(MersenneTwister(0), Dict(1=>2, 3=>4))\n",
       "1=>2\n",
       "\n",
       "julia> rand((2, 3))\n",
       "3\n",
       "\n",
       "julia> rand(Float64, (2, 3))\n",
       "2×3 Array{Float64,2}:\n",
       " 0.999717  0.0143835  0.540787\n",
       " 0.696556  0.783855   0.938235\n",
       "```\n",
       "\n",
       "!!! note\n",
       "    The complexity of `rand(rng, s::Union{AbstractDict,AbstractSet})` is linear in the length of `s`, unless an optimized method with constant complexity is available, which is the case for `Dict`, `Set` and `BitSet`. For more than a few calls, use `rand(rng, collect(s))` instead, or either `rand(rng, Dict(s))` or `rand(rng, Set(s))` as appropriate.\n",
       "\n"
      ],
      "text/plain": [
       "\u001b[36m  rand([rng=GLOBAL_RNG], [S], [dims...])\u001b[39m\n",
       "\n",
       "  Pick a random element or array of random elements from the set of values\n",
       "  specified by \u001b[36mS\u001b[39m; \u001b[36mS\u001b[39m can be\n",
       "\n",
       "    •  an indexable collection (for example \u001b[36m1:9\u001b[39m or \u001b[36m('x', \"y\", :z)\u001b[39m),\n",
       "\n",
       "    •  an \u001b[36mAbstractDict\u001b[39m or \u001b[36mAbstractSet\u001b[39m object,\n",
       "\n",
       "    •  a string (considered as a collection of characters), or\n",
       "\n",
       "    •  a type: the set of values to pick from is then equivalent to\n",
       "       \u001b[36mtypemin(S):typemax(S)\u001b[39m for integers (this is not applicable to\n",
       "       \u001b[36mBigInt\u001b[39m), to \u001b[35m[0, 1)\u001b[39m for floating point numbers and to \u001b[35m[0, 1)+i[0,\n",
       "       1)\u001b[39m for complex floating point numbers;\n",
       "\n",
       "  \u001b[36mS\u001b[39m defaults to \u001b[36mFloat64\u001b[39m. When only one argument is passed besides the optional\n",
       "  \u001b[36mrng\u001b[39m and is a \u001b[36mTuple\u001b[39m, it is interpreted as a collection of values (\u001b[36mS\u001b[39m) and not\n",
       "  as \u001b[36mdims\u001b[39m.\n",
       "\n",
       "\u001b[39m\u001b[1m  │ \u001b[22m\u001b[39m\u001b[1mJulia 1.1\u001b[22m\n",
       "\u001b[39m\u001b[1m  │\u001b[22m\n",
       "\u001b[39m\u001b[1m  │\u001b[22m  Support for \u001b[36mS\u001b[39m as a tuple requires at least Julia 1.1.\n",
       "\n",
       "\u001b[1m  Examples\u001b[22m\n",
       "\u001b[1m  ≡≡≡≡≡≡≡≡≡≡\u001b[22m\n",
       "\n",
       "\u001b[36m  julia> rand(Int, 2)\u001b[39m\n",
       "\u001b[36m  2-element Array{Int64,1}:\u001b[39m\n",
       "\u001b[36m   1339893410598768192\u001b[39m\n",
       "\u001b[36m   1575814717733606317\u001b[39m\n",
       "\u001b[36m  \u001b[39m\n",
       "\u001b[36m  julia> using Random\u001b[39m\n",
       "\u001b[36m  \u001b[39m\n",
       "\u001b[36m  julia> rand(MersenneTwister(0), Dict(1=>2, 3=>4))\u001b[39m\n",
       "\u001b[36m  1=>2\u001b[39m\n",
       "\u001b[36m  \u001b[39m\n",
       "\u001b[36m  julia> rand((2, 3))\u001b[39m\n",
       "\u001b[36m  3\u001b[39m\n",
       "\u001b[36m  \u001b[39m\n",
       "\u001b[36m  julia> rand(Float64, (2, 3))\u001b[39m\n",
       "\u001b[36m  2×3 Array{Float64,2}:\u001b[39m\n",
       "\u001b[36m   0.999717  0.0143835  0.540787\u001b[39m\n",
       "\u001b[36m   0.696556  0.783855   0.938235\u001b[39m\n",
       "\n",
       "\u001b[36m\u001b[1m  │ \u001b[22m\u001b[39m\u001b[36m\u001b[1mNote\u001b[22m\u001b[39m\n",
       "\u001b[36m\u001b[1m  │\u001b[22m\u001b[39m\n",
       "\u001b[36m\u001b[1m  │\u001b[22m\u001b[39m  The complexity of \u001b[36mrand(rng, s::Union{AbstractDict,AbstractSet})\u001b[39m is\n",
       "\u001b[36m\u001b[1m  │\u001b[22m\u001b[39m  linear in the length of \u001b[36ms\u001b[39m, unless an optimized method with\n",
       "\u001b[36m\u001b[1m  │\u001b[22m\u001b[39m  constant complexity is available, which is the case for \u001b[36mDict\u001b[39m, \u001b[36mSet\u001b[39m\n",
       "\u001b[36m\u001b[1m  │\u001b[22m\u001b[39m  and \u001b[36mBitSet\u001b[39m. For more than a few calls, use \u001b[36mrand(rng, collect(s))\u001b[39m\n",
       "\u001b[36m\u001b[1m  │\u001b[22m\u001b[39m  instead, or either \u001b[36mrand(rng, Dict(s))\u001b[39m or \u001b[36mrand(rng, Set(s))\u001b[39m as\n",
       "\u001b[36m\u001b[1m  │\u001b[22m\u001b[39m  appropriate."
      ]
     },
     "execution_count": 21,
     "metadata": {},
     "output_type": "execute_result"
    }
   ],
   "source": [
    "?rand"
   ]
  },
  {
   "cell_type": "code",
   "execution_count": 22,
   "id": "994dcdc5-ae4d-47fb-9689-ee89dda1bc13",
   "metadata": {},
   "outputs": [
    {
     "data": {
      "text/html": [
       "# 70 methods for generic function <b>rand</b>:<ul><li> rand() in Random at <a href=\"file:///Users/julia/buildbot/worker/package_macos64/build/usr/share/julia/stdlib/v1.6/Random/src/Random.jl\" target=\"_blank\">/Applications/Julia-1.6.app/Contents/Resources/julia/share/julia/stdlib/v1.6/Random/src/Random.jl:256</a></li> <li> rand(dims::<b>Integer...</b>) in Random at <a href=\"file:///Users/julia/buildbot/worker/package_macos64/build/usr/share/julia/stdlib/v1.6/Random/src/Random.jl\" target=\"_blank\">/Applications/Julia-1.6.app/Contents/Resources/julia/share/julia/stdlib/v1.6/Random/src/Random.jl:277</a></li> <li> rand(rng::<b>Random.AbstractRNG</b>, sp::<b>Random.SamplerSimple{var\"#s832\", var\"#s831\", E} where {var\"#s832\"<:AbstractArray, var\"#s831\"<:Random.Sampler, E}</b>) in Random at <a href=\"file:///Users/julia/buildbot/worker/package_macos64/build/usr/share/julia/stdlib/v1.6/Random/src/generation.jl\" target=\"_blank\">/Applications/Julia-1.6.app/Contents/Resources/julia/share/julia/stdlib/v1.6/Random/src/generation.jl:398</a></li> <li> rand(rng::<b>Random.AbstractRNG</b>, sp::<b>Random.SamplerSimple{var\"#s832\", var\"#s831\", E} where {var\"#s832\"<:Dict, var\"#s831\"<:Random.Sampler, E}</b>) in Random at <a href=\"file:///Users/julia/buildbot/worker/package_macos64/build/usr/share/julia/stdlib/v1.6/Random/src/generation.jl\" target=\"_blank\">/Applications/Julia-1.6.app/Contents/Resources/julia/share/julia/stdlib/v1.6/Random/src/generation.jl:411</a></li> <li> rand(rng::<b>Random.AbstractRNG</b>, sp::<b>Random.SamplerSimple{BitSet, var\"#s832\", E} where {var\"#s832\"<:Random.Sampler, E}</b>) in Random at <a href=\"file:///Users/julia/buildbot/worker/package_macos64/build/usr/share/julia/stdlib/v1.6/Random/src/generation.jl\" target=\"_blank\">/Applications/Julia-1.6.app/Contents/Resources/julia/share/julia/stdlib/v1.6/Random/src/generation.jl:432</a></li> <li> rand(rng::<b>Random.AbstractRNG</b>, sp::<b>Random.SamplerSimple{var\"#s832\", var\"#s831\", E} where {var\"#s832\"<:AbstractString, var\"#s831\"<:Random.Sampler, E}</b>) in Random at <a href=\"file:///Users/julia/buildbot/worker/package_macos64/build/usr/share/julia/stdlib/v1.6/Random/src/generation.jl\" target=\"_blank\">/Applications/Julia-1.6.app/Contents/Resources/julia/share/julia/stdlib/v1.6/Random/src/generation.jl:479</a></li> <li> rand(rng::<b>Random.AbstractRNG</b>, sp::<b>Random.SamplerSimple{Tuple{A, B}, S, E} where {S, E}</b>)<i> where {A, B}</i> in Random at <a href=\"file:///Users/julia/buildbot/worker/package_macos64/build/usr/share/julia/stdlib/v1.6/Random/src/generation.jl\" target=\"_blank\">/Applications/Julia-1.6.app/Contents/Resources/julia/share/julia/stdlib/v1.6/Random/src/generation.jl:503</a></li> <li> rand(rng::<b>Random.AbstractRNG</b>, sp::<b>Random.SamplerSimple{Tuple{A, B, C}, S, E} where {S, E}</b>)<i> where {A, B, C}</i> in Random at <a href=\"file:///Users/julia/buildbot/worker/package_macos64/build/usr/share/julia/stdlib/v1.6/Random/src/generation.jl\" target=\"_blank\">/Applications/Julia-1.6.app/Contents/Resources/julia/share/julia/stdlib/v1.6/Random/src/generation.jl:511</a></li> <li> rand(rng::<b>Random.AbstractRNG</b>, sp::<b>Random.SamplerSimple{T, S, E} where {S, E}</b>)<i> where T<:Tuple</i> in Random at <a href=\"file:///Users/julia/buildbot/worker/package_macos64/build/usr/share/julia/stdlib/v1.6/Random/src/generation.jl\" target=\"_blank\">/Applications/Julia-1.6.app/Contents/Resources/julia/share/julia/stdlib/v1.6/Random/src/generation.jl:531</a></li> <li> rand(rng::<b>Random.AbstractRNG</b>, ::<b>Random.UniformT{T}</b>)<i> where T</i> in Random at <a href=\"file:///Users/julia/buildbot/worker/package_macos64/build/usr/share/julia/stdlib/v1.6/Random/src/Random.jl\" target=\"_blank\">/Applications/Julia-1.6.app/Contents/Resources/julia/share/julia/stdlib/v1.6/Random/src/Random.jl:242</a></li> <li> rand(rng::<b>Random.AbstractRNG</b>, sp::<b>Random.LessThan</b>) in Random at <a href=\"file:///Users/julia/buildbot/worker/package_macos64/build/usr/share/julia/stdlib/v1.6/Random/src/Random.jl\" target=\"_blank\">/Applications/Julia-1.6.app/Contents/Resources/julia/share/julia/stdlib/v1.6/Random/src/Random.jl:222</a></li> <li> rand(rng::<b>Random.AbstractRNG</b>, sp::<b>Random.SamplerRangeFast{UInt32, T}</b>)<i> where T</i> in Random at <a href=\"file:///Users/julia/buildbot/worker/package_macos64/build/usr/share/julia/stdlib/v1.6/Random/src/generation.jl\" target=\"_blank\">/Applications/Julia-1.6.app/Contents/Resources/julia/share/julia/stdlib/v1.6/Random/src/generation.jl:220</a></li> <li> rand(rng::<b>Random.AbstractRNG</b>, sp::<b>Random.SamplerRangeFast{UInt64, T}</b>)<i> where T</i> in Random at <a href=\"file:///Users/julia/buildbot/worker/package_macos64/build/usr/share/julia/stdlib/v1.6/Random/src/generation.jl\" target=\"_blank\">/Applications/Julia-1.6.app/Contents/Resources/julia/share/julia/stdlib/v1.6/Random/src/generation.jl:227</a></li> <li> rand(rng::<b>Random.AbstractRNG</b>, sp::<b>Random.SamplerRangeFast{UInt128, T}</b>)<i> where T</i> in Random at <a href=\"file:///Users/julia/buildbot/worker/package_macos64/build/usr/share/julia/stdlib/v1.6/Random/src/generation.jl\" target=\"_blank\">/Applications/Julia-1.6.app/Contents/Resources/julia/share/julia/stdlib/v1.6/Random/src/generation.jl:234</a></li> <li> rand(r::<b>Random.AbstractRNG</b>, ::<b>Random.SamplerType{Complex{T}}</b>)<i> where T<:Real</i> in Random at <a href=\"file:///Users/julia/buildbot/worker/package_macos64/build/usr/share/julia/stdlib/v1.6/Random/src/generation.jl\" target=\"_blank\">/Applications/Julia-1.6.app/Contents/Resources/julia/share/julia/stdlib/v1.6/Random/src/generation.jl:159</a></li> <li> rand(r::<b>Random.AbstractRNG</b>, ::<b>Random.SamplerType{T}</b>)<i> where T<:AbstractChar</i> in Random at <a href=\"file:///Users/julia/buildbot/worker/package_macos64/build/usr/share/julia/stdlib/v1.6/Random/src/generation.jl\" target=\"_blank\">/Applications/Julia-1.6.app/Contents/Resources/julia/share/julia/stdlib/v1.6/Random/src/generation.jl:165</a></li> <li> rand(rng::<b>Random.AbstractRNG</b>, sp::<b>Random.Masked</b>) in Random at <a href=\"file:///Users/julia/buildbot/worker/package_macos64/build/usr/share/julia/stdlib/v1.6/Random/src/Random.jl\" target=\"_blank\">/Applications/Julia-1.6.app/Contents/Resources/julia/share/julia/stdlib/v1.6/Random/src/Random.jl:234</a></li> <li> rand(rng::<b>Random.AbstractRNG</b>, sp::<b>Random.SamplerTag{var\"#s832\", var\"#s831\", E} where {var\"#s832\"<:Set, var\"#s831\"<:Random.Sampler, E}</b>) in Random at <a href=\"file:///Users/julia/buildbot/worker/package_macos64/build/usr/share/julia/stdlib/v1.6/Random/src/generation.jl\" target=\"_blank\">/Applications/Julia-1.6.app/Contents/Resources/julia/share/julia/stdlib/v1.6/Random/src/generation.jl:423</a></li> <li> rand(rng::<b>Random.AbstractRNG</b>, X::<b>Tuple{Vararg{Int64, N}} where N</b>) in Random at <a href=\"file:///Users/julia/buildbot/worker/package_macos64/build/usr/share/julia/stdlib/v1.6/Random/src/Random.jl\" target=\"_blank\">/Applications/Julia-1.6.app/Contents/Resources/julia/share/julia/stdlib/v1.6/Random/src/Random.jl:255</a></li> <li> rand(r::<b>Random.AbstractRNG</b>, ::<b>Random.SamplerTrivial{Random.UInt104{UInt128}, E} where E</b>) in Random at <a href=\"file:///Users/julia/buildbot/worker/package_macos64/build/usr/share/julia/stdlib/v1.6/Random/src/generation.jl\" target=\"_blank\">/Applications/Julia-1.6.app/Contents/Resources/julia/share/julia/stdlib/v1.6/Random/src/generation.jl:126</a></li> <li> rand(r::<b>Random.AbstractRNG</b>, ::<b>Random.SamplerTrivial{Random.UInt52{UInt64}, E} where E</b>) in Random at <a href=\"file:///Users/julia/buildbot/worker/package_macos64/build/usr/share/julia/stdlib/v1.6/Random/src/generation.jl\" target=\"_blank\">/Applications/Julia-1.6.app/Contents/Resources/julia/share/julia/stdlib/v1.6/Random/src/generation.jl:125</a></li> <li> rand(r::<b>Random.AbstractRNG</b>, ::<b>Random.SamplerTrivial{Random.UInt23{UInt32}, E} where E</b>) in Random at <a href=\"file:///Users/julia/buildbot/worker/package_macos64/build/usr/share/julia/stdlib/v1.6/Random/src/generation.jl\" target=\"_blank\">/Applications/Julia-1.6.app/Contents/Resources/julia/share/julia/stdlib/v1.6/Random/src/generation.jl:124</a></li> <li> rand(r::<b>Random.AbstractRNG</b>, ::<b>Random.SamplerTrivial{Random.UInt10{UInt16}, E} where E</b>) in Random at <a href=\"file:///Users/julia/buildbot/worker/package_macos64/build/usr/share/julia/stdlib/v1.6/Random/src/generation.jl\" target=\"_blank\">/Applications/Julia-1.6.app/Contents/Resources/julia/share/julia/stdlib/v1.6/Random/src/generation.jl:123</a></li> <li> rand(r::<b>Random.AbstractRNG</b>, ::<b>Random.SamplerTrivial{Random.UInt23Raw{UInt32}, E} where E</b>) in Random at <a href=\"file:///Users/julia/buildbot/worker/package_macos64/build/usr/share/julia/stdlib/v1.6/Random/src/generation.jl\" target=\"_blank\">/Applications/Julia-1.6.app/Contents/Resources/julia/share/julia/stdlib/v1.6/Random/src/generation.jl:112</a></li> <li> rand(r::<b>Random.AbstractRNG</b>, ::<b>Random.SamplerTrivial{Random.UInt10Raw{UInt16}, E} where E</b>) in Random at <a href=\"file:///Users/julia/buildbot/worker/package_macos64/build/usr/share/julia/stdlib/v1.6/Random/src/generation.jl\" target=\"_blank\">/Applications/Julia-1.6.app/Contents/Resources/julia/share/julia/stdlib/v1.6/Random/src/generation.jl:111</a></li> <li> rand(r::<b>Random.AbstractRNG</b>, ::<b>Random.SamplerTrivial{Random.CloseOpen01{Float64}, E} where E</b>) in Random at <a href=\"file:///Users/julia/buildbot/worker/package_macos64/build/usr/share/julia/stdlib/v1.6/Random/src/generation.jl\" target=\"_blank\">/Applications/Julia-1.6.app/Contents/Resources/julia/share/julia/stdlib/v1.6/Random/src/generation.jl:35</a></li> <li> rand(r::<b>Random.AbstractRNG</b>, ::<b>Random.SamplerTrivial{Random.CloseOpen01{Float32}, E} where E</b>) in Random at <a href=\"file:///Users/julia/buildbot/worker/package_macos64/build/usr/share/julia/stdlib/v1.6/Random/src/generation.jl\" target=\"_blank\">/Applications/Julia-1.6.app/Contents/Resources/julia/share/julia/stdlib/v1.6/Random/src/generation.jl:29</a></li> <li> rand(r::<b>Random.AbstractRNG</b>, ::<b>Random.SamplerTrivial{Random.CloseOpen01{Float16}, E} where E</b>) in Random at <a href=\"file:///Users/julia/buildbot/worker/package_macos64/build/usr/share/julia/stdlib/v1.6/Random/src/generation.jl\" target=\"_blank\">/Applications/Julia-1.6.app/Contents/Resources/julia/share/julia/stdlib/v1.6/Random/src/generation.jl:25</a></li> <li> rand(rng::<b>Random.AbstractRNG</b>, sp::<b>Random.SamplerTrivial{Tuple{A}, E} where E</b>)<i> where A</i> in Random at <a href=\"file:///Users/julia/buildbot/worker/package_macos64/build/usr/share/julia/stdlib/v1.6/Random/src/generation.jl\" target=\"_blank\">/Applications/Julia-1.6.app/Contents/Resources/julia/share/julia/stdlib/v1.6/Random/src/generation.jl:495</a></li> <li> rand(rng::<b>Random.AbstractRNG</b>, sp::<b>Random.SamplerRangeNDL{U, T}</b>)<i> where {U, T}</i> in Random at <a href=\"file:///Users/julia/buildbot/worker/package_macos64/build/usr/share/julia/stdlib/v1.6/Random/src/generation.jl\" target=\"_blank\">/Applications/Julia-1.6.app/Contents/Resources/julia/share/julia/stdlib/v1.6/Random/src/generation.jl:330</a></li> <li> rand(rng::<b>Random.AbstractRNG</b>, sp::<b>Random.SamplerRangeInt{T, UInt32}</b>)<i> where T<:Union{Int128, Int16, Int32, Int64, Int8, UInt128, UInt16, UInt32, UInt64, UInt8}</i> in Random at <a href=\"file:///Users/julia/buildbot/worker/package_macos64/build/usr/share/julia/stdlib/v1.6/Random/src/generation.jl\" target=\"_blank\">/Applications/Julia-1.6.app/Contents/Resources/julia/share/julia/stdlib/v1.6/Random/src/generation.jl:294</a></li> <li> rand(rng::<b>Random.AbstractRNG</b>, sp::<b>Random.SamplerRangeInt{T, UInt64}</b>)<i> where T<:Union{Int128, Int16, Int32, Int64, Int8, UInt128, UInt16, UInt32, UInt64, UInt8}</i> in Random at <a href=\"file:///Users/julia/buildbot/worker/package_macos64/build/usr/share/julia/stdlib/v1.6/Random/src/generation.jl\" target=\"_blank\">/Applications/Julia-1.6.app/Contents/Resources/julia/share/julia/stdlib/v1.6/Random/src/generation.jl:298</a></li> <li> rand(rng::<b>Random.AbstractRNG</b>, sp::<b>Random.SamplerRangeInt{T, UInt128}</b>)<i> where T<:Union{Int128, Int16, Int32, Int64, Int8, UInt128, UInt16, UInt32, UInt64, UInt8}</i> in Random at <a href=\"file:///Users/julia/buildbot/worker/package_macos64/build/usr/share/julia/stdlib/v1.6/Random/src/generation.jl\" target=\"_blank\">/Applications/Julia-1.6.app/Contents/Resources/julia/share/julia/stdlib/v1.6/Random/src/generation.jl:304</a></li> <li> rand(rng::<b>Random.AbstractRNG</b>, sp::<b>Random.SamplerBigFloat{T}</b>)<i> where T<:Random.FloatInterval{BigFloat}</i> in Random at <a href=\"file:///Users/julia/buildbot/worker/package_macos64/build/usr/share/julia/stdlib/v1.6/Random/src/generation.jl\" target=\"_blank\">/Applications/Julia-1.6.app/Contents/Resources/julia/share/julia/stdlib/v1.6/Random/src/generation.jl:103</a></li> <li> rand(rng::<b>Random.AbstractRNG</b>, ::<b>Type{X}</b>)<i> where X</i> in Random at <a href=\"file:///Users/julia/buildbot/worker/package_macos64/build/usr/share/julia/stdlib/v1.6/Random/src/Random.jl\" target=\"_blank\">/Applications/Julia-1.6.app/Contents/Resources/julia/share/julia/stdlib/v1.6/Random/src/Random.jl:256</a></li> <li> rand(r::<b>Random.AbstractRNG</b>, ::<b>Type{X}</b>, d::<b>Integer</b>, dims::<b>Integer...</b>)<i> where X</i> in Random at <a href=\"file:///Users/julia/buildbot/worker/package_macos64/build/usr/share/julia/stdlib/v1.6/Random/src/Random.jl\" target=\"_blank\">/Applications/Julia-1.6.app/Contents/Resources/julia/share/julia/stdlib/v1.6/Random/src/Random.jl:291</a></li> <li> rand(r::<b>Random.AbstractRNG</b>, ::<b>Type{X}</b>, dims::<b>Tuple{Vararg{Int64, N}} where N</b>)<i> where X</i> in Random at <a href=\"file:///Users/julia/buildbot/worker/package_macos64/build/usr/share/julia/stdlib/v1.6/Random/src/Random.jl\" target=\"_blank\">/Applications/Julia-1.6.app/Contents/Resources/julia/share/julia/stdlib/v1.6/Random/src/Random.jl:288</a></li> <li> rand(rng::<b>Random.AbstractRNG</b>, sp::<b>Random.SamplerBigInt</b>) in Random at <a href=\"file:///Users/julia/buildbot/worker/package_macos64/build/usr/share/julia/stdlib/v1.6/Random/src/generation.jl\" target=\"_blank\">/Applications/Julia-1.6.app/Contents/Resources/julia/share/julia/stdlib/v1.6/Random/src/generation.jl:370</a></li> <li> rand(::<b>Type{X}</b>)<i> where X</i> in Random at <a href=\"file:///Users/julia/buildbot/worker/package_macos64/build/usr/share/julia/stdlib/v1.6/Random/src/Random.jl\" target=\"_blank\">/Applications/Julia-1.6.app/Contents/Resources/julia/share/julia/stdlib/v1.6/Random/src/Random.jl:259</a></li> <li> rand(::<b>Type{X}</b>, dims::<b>Tuple{Vararg{Int64, N}} where N</b>)<i> where X</i> in Random at <a href=\"file:///Users/julia/buildbot/worker/package_macos64/build/usr/share/julia/stdlib/v1.6/Random/src/Random.jl\" target=\"_blank\">/Applications/Julia-1.6.app/Contents/Resources/julia/share/julia/stdlib/v1.6/Random/src/Random.jl:289</a></li> <li> rand(::<b>Type{X}</b>, d::<b>Integer</b>, dims::<b>Integer...</b>)<i> where X</i> in Random at <a href=\"file:///Users/julia/buildbot/worker/package_macos64/build/usr/share/julia/stdlib/v1.6/Random/src/Random.jl\" target=\"_blank\">/Applications/Julia-1.6.app/Contents/Resources/julia/share/julia/stdlib/v1.6/Random/src/Random.jl:292</a></li> <li> rand(::<b>Random._GLOBAL_RNG</b>, x::<b>Random.SamplerTrivial{Random.UInt52Raw{UInt64}, E} where E</b>) in Random at <a href=\"file:///Users/julia/buildbot/worker/package_macos64/build/usr/share/julia/stdlib/v1.6/Random/src/RNGs.jl\" target=\"_blank\">/Applications/Julia-1.6.app/Contents/Resources/julia/share/julia/stdlib/v1.6/Random/src/RNGs.jl:413</a></li> <li> rand(::<b>Random._GLOBAL_RNG</b>, x::<b>Random.SamplerTrivial{Random.UInt2x52Raw{UInt128}, E} where E</b>) in Random at <a href=\"file:///Users/julia/buildbot/worker/package_macos64/build/usr/share/julia/stdlib/v1.6/Random/src/RNGs.jl\" target=\"_blank\">/Applications/Julia-1.6.app/Contents/Resources/julia/share/julia/stdlib/v1.6/Random/src/RNGs.jl:413</a></li> <li> rand(::<b>Random._GLOBAL_RNG</b>, x::<b>Random.SamplerTrivial{Random.UInt104Raw{UInt128}, E} where E</b>) in Random at <a href=\"file:///Users/julia/buildbot/worker/package_macos64/build/usr/share/julia/stdlib/v1.6/Random/src/RNGs.jl\" target=\"_blank\">/Applications/Julia-1.6.app/Contents/Resources/julia/share/julia/stdlib/v1.6/Random/src/RNGs.jl:413</a></li> <li> rand(::<b>Random._GLOBAL_RNG</b>, x::<b>Random.SamplerTrivial{Random.CloseOpen12{Float64}, E} where E</b>) in Random at <a href=\"file:///Users/julia/buildbot/worker/package_macos64/build/usr/share/julia/stdlib/v1.6/Random/src/RNGs.jl\" target=\"_blank\">/Applications/Julia-1.6.app/Contents/Resources/julia/share/julia/stdlib/v1.6/Random/src/RNGs.jl:413</a></li> <li> rand(::<b>Random._GLOBAL_RNG</b>, x::<b>Union{Random.SamplerType{Int128}, Random.SamplerType{Int64}, Random.SamplerType{UInt128}, Random.SamplerType{UInt64}}</b>) in Random at <a href=\"file:///Users/julia/buildbot/worker/package_macos64/build/usr/share/julia/stdlib/v1.6/Random/src/RNGs.jl\" target=\"_blank\">/Applications/Julia-1.6.app/Contents/Resources/julia/share/julia/stdlib/v1.6/Random/src/RNGs.jl:413</a></li> <li> rand(::<b>Random._GLOBAL_RNG</b>, x::<b>Union{Random.SamplerType{Bool}, Random.SamplerType{Int16}, Random.SamplerType{Int32}, Random.SamplerType{Int8}, Random.SamplerType{UInt16}, Random.SamplerType{UInt32}, Random.SamplerType{UInt8}}</b>) in Random at <a href=\"file:///Users/julia/buildbot/worker/package_macos64/build/usr/share/julia/stdlib/v1.6/Random/src/RNGs.jl\" target=\"_blank\">/Applications/Julia-1.6.app/Contents/Resources/julia/share/julia/stdlib/v1.6/Random/src/RNGs.jl:413</a></li> <li> rand(::<b>Random._GLOBAL_RNG</b>, sp::<b>Union{Random.SamplerType{Bool}, Random.SamplerType{Int128}, Random.SamplerType{Int16}, Random.SamplerType{Int32}, Random.SamplerType{Int64}, Random.SamplerType{Int8}, Random.SamplerType{UInt128}, Random.SamplerType{UInt16}, Random.SamplerType{UInt32}, Random.SamplerType{UInt64}, Random.SamplerType{UInt8}}</b>) in Random at <a href=\"file:///Users/julia/buildbot/worker/package_macos64/build/usr/share/julia/stdlib/v1.6/Random/src/RNGs.jl\" target=\"_blank\">/Applications/Julia-1.6.app/Contents/Resources/julia/share/julia/stdlib/v1.6/Random/src/RNGs.jl:405</a></li> <li> rand(rd::<b>Random.RandomDevice</b>, ::<b>Random.SamplerType{Bool}</b>) in Random at <a href=\"file:///Users/julia/buildbot/worker/package_macos64/build/usr/share/julia/stdlib/v1.6/Random/src/RNGs.jl\" target=\"_blank\">/Applications/Julia-1.6.app/Contents/Resources/julia/share/julia/stdlib/v1.6/Random/src/RNGs.jl:28</a></li> <li> rand(rd::<b>Random.RandomDevice</b>, sp::<b>Union{Random.SamplerType{Bool}, Random.SamplerType{Int128}, Random.SamplerType{Int16}, Random.SamplerType{Int32}, Random.SamplerType{Int64}, Random.SamplerType{Int8}, Random.SamplerType{UInt128}, Random.SamplerType{UInt16}, Random.SamplerType{UInt32}, Random.SamplerType{UInt64}, Random.SamplerType{UInt8}}</b>) in Random at <a href=\"file:///Users/julia/buildbot/worker/package_macos64/build/usr/share/julia/stdlib/v1.6/Random/src/RNGs.jl\" target=\"_blank\">/Applications/Julia-1.6.app/Contents/Resources/julia/share/julia/stdlib/v1.6/Random/src/RNGs.jl:27</a></li> <li> rand(rng::<b>MbedTLS.CtrDrbg</b>, size::<b>Integer</b>) in MbedTLS at <a href=\"file:///Users/tamasgal/.julia/packages/MbedTLS/4YY6E/src/ctr_drbg.jl\" target=\"_blank\">/Users/tamasgal/.julia/packages/MbedTLS/4YY6E/src/ctr_drbg.jl:44</a></li> <li> rand(r::<b>Random.MersenneTwister</b>, x::<b>Random.SamplerTrivial{Random.UInt52Raw{UInt64}, E} where E</b>) in Random at <a href=\"file:///Users/julia/buildbot/worker/package_macos64/build/usr/share/julia/stdlib/v1.6/Random/src/RNGs.jl\" target=\"_blank\">/Applications/Julia-1.6.app/Contents/Resources/julia/share/julia/stdlib/v1.6/Random/src/RNGs.jl:442</a></li> <li> rand(r::<b>Random.AbstractRNG</b>, ::<b>Random.SamplerTrivial{Random.UInt52Raw{UInt64}, E} where E</b>) in Random at <a href=\"file:///Users/julia/buildbot/worker/package_macos64/build/usr/share/julia/stdlib/v1.6/Random/src/generation.jl\" target=\"_blank\">/Applications/Julia-1.6.app/Contents/Resources/julia/share/julia/stdlib/v1.6/Random/src/generation.jl:114</a></li> <li> rand(r::<b>Random.MersenneTwister</b>, ::<b>Random.SamplerTrivial{Random.UInt2x52Raw{UInt128}, E} where E</b>) in Random at <a href=\"file:///Users/julia/buildbot/worker/package_macos64/build/usr/share/julia/stdlib/v1.6/Random/src/RNGs.jl\" target=\"_blank\">/Applications/Julia-1.6.app/Contents/Resources/julia/share/julia/stdlib/v1.6/Random/src/RNGs.jl:447</a></li> <li> rand(r::<b>Random.MersenneTwister</b>, ::<b>Random.SamplerTrivial{Random.UInt104Raw{UInt128}, E} where E</b>) in Random at <a href=\"file:///Users/julia/buildbot/worker/package_macos64/build/usr/share/julia/stdlib/v1.6/Random/src/RNGs.jl\" target=\"_blank\">/Applications/Julia-1.6.app/Contents/Resources/julia/share/julia/stdlib/v1.6/Random/src/RNGs.jl:452</a></li> <li> rand(r::<b>Random.AbstractRNG</b>, ::<b>Random.SamplerTrivial{Random.UInt104Raw{UInt128}, E} where E</b>) in Random at <a href=\"file:///Users/julia/buildbot/worker/package_macos64/build/usr/share/julia/stdlib/v1.6/Random/src/generation.jl\" target=\"_blank\">/Applications/Julia-1.6.app/Contents/Resources/julia/share/julia/stdlib/v1.6/Random/src/generation.jl:120</a></li> <li> rand(r::<b>Random.AbstractRNG</b>, sp::<b>Random.SamplerTrivial{var\"#s832\", E} where {var\"#s832\"<:Random.UniformBits{T}, E}</b>)<i> where T</i> in Random at <a href=\"file:///Users/julia/buildbot/worker/package_macos64/build/usr/share/julia/stdlib/v1.6/Random/src/generation.jl\" target=\"_blank\">/Applications/Julia-1.6.app/Contents/Resources/julia/share/julia/stdlib/v1.6/Random/src/generation.jl:128</a></li> <li> rand(r::<b>Random.MersenneTwister</b>, sp::<b>Random.SamplerTrivial{Random.CloseOpen12{Float64}, E} where E</b>) in Random at <a href=\"file:///Users/julia/buildbot/worker/package_macos64/build/usr/share/julia/stdlib/v1.6/Random/src/RNGs.jl\" target=\"_blank\">/Applications/Julia-1.6.app/Contents/Resources/julia/share/julia/stdlib/v1.6/Random/src/RNGs.jl:459</a></li> <li> rand(r::<b>Random.AbstractRNG</b>, ::<b>Random.SamplerTrivial{Random.CloseOpen12{Float64}, E} where E</b>) in Random at <a href=\"file:///Users/julia/buildbot/worker/package_macos64/build/usr/share/julia/stdlib/v1.6/Random/src/generation.jl\" target=\"_blank\">/Applications/Julia-1.6.app/Contents/Resources/julia/share/julia/stdlib/v1.6/Random/src/generation.jl:32</a></li> <li> rand(rng::<b>Random.AbstractRNG</b>, sp::<b>Random.SamplerTrivial{var\"#s832\", E} where {var\"#s832\"<:Union{AbstractDict, AbstractSet}, E}</b>) in Random at <a href=\"file:///Users/julia/buildbot/worker/package_macos64/build/usr/share/julia/stdlib/v1.6/Random/src/generation.jl\" target=\"_blank\">/Applications/Julia-1.6.app/Contents/Resources/julia/share/julia/stdlib/v1.6/Random/src/generation.jl:459</a></li> <li> rand(r::<b>Random.MersenneTwister</b>, T::<b>Union{Random.SamplerType{Int128}, Random.SamplerType{Int64}, Random.SamplerType{UInt128}, Random.SamplerType{UInt64}}</b>) in Random at <a href=\"file:///Users/julia/buildbot/worker/package_macos64/build/usr/share/julia/stdlib/v1.6/Random/src/RNGs.jl\" target=\"_blank\">/Applications/Julia-1.6.app/Contents/Resources/julia/share/julia/stdlib/v1.6/Random/src/RNGs.jl:464</a></li> <li> rand(r::<b>Random.MersenneTwister</b>, T::<b>Union{Random.SamplerType{Bool}, Random.SamplerType{Int16}, Random.SamplerType{Int32}, Random.SamplerType{Int8}, Random.SamplerType{UInt16}, Random.SamplerType{UInt32}, Random.SamplerType{UInt8}}</b>) in Random at <a href=\"file:///Users/julia/buildbot/worker/package_macos64/build/usr/share/julia/stdlib/v1.6/Random/src/RNGs.jl\" target=\"_blank\">/Applications/Julia-1.6.app/Contents/Resources/julia/share/julia/stdlib/v1.6/Random/src/RNGs.jl:467</a></li> <li> rand(rng::<b>Random.AbstractRNG</b>) in Random at <a href=\"file:///Users/julia/buildbot/worker/package_macos64/build/usr/share/julia/stdlib/v1.6/Random/src/Random.jl\" target=\"_blank\">/Applications/Julia-1.6.app/Contents/Resources/julia/share/julia/stdlib/v1.6/Random/src/Random.jl:256</a></li> <li> rand(X, dims::<b>Tuple{Vararg{Int64, N}} where N</b>) in Random at <a href=\"file:///Users/julia/buildbot/worker/package_macos64/build/usr/share/julia/stdlib/v1.6/Random/src/Random.jl\" target=\"_blank\">/Applications/Julia-1.6.app/Contents/Resources/julia/share/julia/stdlib/v1.6/Random/src/Random.jl:280</a></li> <li> rand(r::<b>Random.AbstractRNG</b>, dims::<b>Integer...</b>) in Random at <a href=\"file:///Users/julia/buildbot/worker/package_macos64/build/usr/share/julia/stdlib/v1.6/Random/src/Random.jl\" target=\"_blank\">/Applications/Julia-1.6.app/Contents/Resources/julia/share/julia/stdlib/v1.6/Random/src/Random.jl:276</a></li> <li> rand(X, d::<b>Integer</b>, dims::<b>Integer...</b>) in Random at <a href=\"file:///Users/julia/buildbot/worker/package_macos64/build/usr/share/julia/stdlib/v1.6/Random/src/Random.jl\" target=\"_blank\">/Applications/Julia-1.6.app/Contents/Resources/julia/share/julia/stdlib/v1.6/Random/src/Random.jl:283</a></li> <li> rand(rng::<b>Random.AbstractRNG</b>, X) in Random at <a href=\"file:///Users/julia/buildbot/worker/package_macos64/build/usr/share/julia/stdlib/v1.6/Random/src/Random.jl\" target=\"_blank\">/Applications/Julia-1.6.app/Contents/Resources/julia/share/julia/stdlib/v1.6/Random/src/Random.jl:253</a></li> <li> rand(r::<b>Random.AbstractRNG</b>, X, d::<b>Integer</b>, dims::<b>Integer...</b>) in Random at <a href=\"file:///Users/julia/buildbot/worker/package_macos64/build/usr/share/julia/stdlib/v1.6/Random/src/Random.jl\" target=\"_blank\">/Applications/Julia-1.6.app/Contents/Resources/julia/share/julia/stdlib/v1.6/Random/src/Random.jl:282</a></li> <li> rand(r::<b>Random.AbstractRNG</b>, X, dims::<b>Tuple{Vararg{Int64, N}} where N</b>) in Random at <a href=\"file:///Users/julia/buildbot/worker/package_macos64/build/usr/share/julia/stdlib/v1.6/Random/src/Random.jl\" target=\"_blank\">/Applications/Julia-1.6.app/Contents/Resources/julia/share/julia/stdlib/v1.6/Random/src/Random.jl:279</a></li> <li> rand(X) in Random at <a href=\"file:///Users/julia/buildbot/worker/package_macos64/build/usr/share/julia/stdlib/v1.6/Random/src/Random.jl\" target=\"_blank\">/Applications/Julia-1.6.app/Contents/Resources/julia/share/julia/stdlib/v1.6/Random/src/Random.jl:258</a></li> </ul>"
      ],
      "text/plain": [
       "# 70 methods for generic function \"rand\":\n",
       "[1] rand() in Random at /Applications/Julia-1.6.app/Contents/Resources/julia/share/julia/stdlib/v1.6/Random/src/Random.jl:256\n",
       "[2] rand(dims::Integer...) in Random at /Applications/Julia-1.6.app/Contents/Resources/julia/share/julia/stdlib/v1.6/Random/src/Random.jl:277\n",
       "[3] rand(rng::Random.AbstractRNG, sp::Random.SamplerSimple{var\"#s832\", var\"#s831\", E} where {var\"#s832\"<:AbstractArray, var\"#s831\"<:Random.Sampler, E}) in Random at /Applications/Julia-1.6.app/Contents/Resources/julia/share/julia/stdlib/v1.6/Random/src/generation.jl:398\n",
       "[4] rand(rng::Random.AbstractRNG, sp::Random.SamplerSimple{var\"#s832\", var\"#s831\", E} where {var\"#s832\"<:Dict, var\"#s831\"<:Random.Sampler, E}) in Random at /Applications/Julia-1.6.app/Contents/Resources/julia/share/julia/stdlib/v1.6/Random/src/generation.jl:411\n",
       "[5] rand(rng::Random.AbstractRNG, sp::Random.SamplerSimple{BitSet, var\"#s832\", E} where {var\"#s832\"<:Random.Sampler, E}) in Random at /Applications/Julia-1.6.app/Contents/Resources/julia/share/julia/stdlib/v1.6/Random/src/generation.jl:432\n",
       "[6] rand(rng::Random.AbstractRNG, sp::Random.SamplerSimple{var\"#s832\", var\"#s831\", E} where {var\"#s832\"<:AbstractString, var\"#s831\"<:Random.Sampler, E}) in Random at /Applications/Julia-1.6.app/Contents/Resources/julia/share/julia/stdlib/v1.6/Random/src/generation.jl:479\n",
       "[7] rand(rng::Random.AbstractRNG, sp::Random.SamplerSimple{Tuple{A, B}, S, E} where {S, E}) where {A, B} in Random at /Applications/Julia-1.6.app/Contents/Resources/julia/share/julia/stdlib/v1.6/Random/src/generation.jl:503\n",
       "[8] rand(rng::Random.AbstractRNG, sp::Random.SamplerSimple{Tuple{A, B, C}, S, E} where {S, E}) where {A, B, C} in Random at /Applications/Julia-1.6.app/Contents/Resources/julia/share/julia/stdlib/v1.6/Random/src/generation.jl:511\n",
       "[9] rand(rng::Random.AbstractRNG, sp::Random.SamplerSimple{T, S, E} where {S, E}) where T<:Tuple in Random at /Applications/Julia-1.6.app/Contents/Resources/julia/share/julia/stdlib/v1.6/Random/src/generation.jl:531\n",
       "[10] rand(rng::Random.AbstractRNG, ::Random.UniformT{T}) where T in Random at /Applications/Julia-1.6.app/Contents/Resources/julia/share/julia/stdlib/v1.6/Random/src/Random.jl:242\n",
       "[11] rand(rng::Random.AbstractRNG, sp::Random.LessThan) in Random at /Applications/Julia-1.6.app/Contents/Resources/julia/share/julia/stdlib/v1.6/Random/src/Random.jl:222\n",
       "[12] rand(rng::Random.AbstractRNG, sp::Random.SamplerRangeFast{UInt32, T}) where T in Random at /Applications/Julia-1.6.app/Contents/Resources/julia/share/julia/stdlib/v1.6/Random/src/generation.jl:220\n",
       "[13] rand(rng::Random.AbstractRNG, sp::Random.SamplerRangeFast{UInt64, T}) where T in Random at /Applications/Julia-1.6.app/Contents/Resources/julia/share/julia/stdlib/v1.6/Random/src/generation.jl:227\n",
       "[14] rand(rng::Random.AbstractRNG, sp::Random.SamplerRangeFast{UInt128, T}) where T in Random at /Applications/Julia-1.6.app/Contents/Resources/julia/share/julia/stdlib/v1.6/Random/src/generation.jl:234\n",
       "[15] rand(r::Random.AbstractRNG, ::Random.SamplerType{Complex{T}}) where T<:Real in Random at /Applications/Julia-1.6.app/Contents/Resources/julia/share/julia/stdlib/v1.6/Random/src/generation.jl:159\n",
       "[16] rand(r::Random.AbstractRNG, ::Random.SamplerType{T}) where T<:AbstractChar in Random at /Applications/Julia-1.6.app/Contents/Resources/julia/share/julia/stdlib/v1.6/Random/src/generation.jl:165\n",
       "[17] rand(rng::Random.AbstractRNG, sp::Random.Masked) in Random at /Applications/Julia-1.6.app/Contents/Resources/julia/share/julia/stdlib/v1.6/Random/src/Random.jl:234\n",
       "[18] rand(rng::Random.AbstractRNG, sp::Random.SamplerTag{var\"#s832\", var\"#s831\", E} where {var\"#s832\"<:Set, var\"#s831\"<:Random.Sampler, E}) in Random at /Applications/Julia-1.6.app/Contents/Resources/julia/share/julia/stdlib/v1.6/Random/src/generation.jl:423\n",
       "[19] rand(rng::Random.AbstractRNG, X::Tuple{Vararg{Int64, N}} where N) in Random at /Applications/Julia-1.6.app/Contents/Resources/julia/share/julia/stdlib/v1.6/Random/src/Random.jl:255\n",
       "[20] rand(r::Random.AbstractRNG, ::Random.SamplerTrivial{Random.UInt104{UInt128}, E} where E) in Random at /Applications/Julia-1.6.app/Contents/Resources/julia/share/julia/stdlib/v1.6/Random/src/generation.jl:126\n",
       "[21] rand(r::Random.AbstractRNG, ::Random.SamplerTrivial{Random.UInt52{UInt64}, E} where E) in Random at /Applications/Julia-1.6.app/Contents/Resources/julia/share/julia/stdlib/v1.6/Random/src/generation.jl:125\n",
       "[22] rand(r::Random.AbstractRNG, ::Random.SamplerTrivial{Random.UInt23{UInt32}, E} where E) in Random at /Applications/Julia-1.6.app/Contents/Resources/julia/share/julia/stdlib/v1.6/Random/src/generation.jl:124\n",
       "[23] rand(r::Random.AbstractRNG, ::Random.SamplerTrivial{Random.UInt10{UInt16}, E} where E) in Random at /Applications/Julia-1.6.app/Contents/Resources/julia/share/julia/stdlib/v1.6/Random/src/generation.jl:123\n",
       "[24] rand(r::Random.AbstractRNG, ::Random.SamplerTrivial{Random.UInt23Raw{UInt32}, E} where E) in Random at /Applications/Julia-1.6.app/Contents/Resources/julia/share/julia/stdlib/v1.6/Random/src/generation.jl:112\n",
       "[25] rand(r::Random.AbstractRNG, ::Random.SamplerTrivial{Random.UInt10Raw{UInt16}, E} where E) in Random at /Applications/Julia-1.6.app/Contents/Resources/julia/share/julia/stdlib/v1.6/Random/src/generation.jl:111\n",
       "[26] rand(r::Random.AbstractRNG, ::Random.SamplerTrivial{Random.CloseOpen01{Float64}, E} where E) in Random at /Applications/Julia-1.6.app/Contents/Resources/julia/share/julia/stdlib/v1.6/Random/src/generation.jl:35\n",
       "[27] rand(r::Random.AbstractRNG, ::Random.SamplerTrivial{Random.CloseOpen01{Float32}, E} where E) in Random at /Applications/Julia-1.6.app/Contents/Resources/julia/share/julia/stdlib/v1.6/Random/src/generation.jl:29\n",
       "[28] rand(r::Random.AbstractRNG, ::Random.SamplerTrivial{Random.CloseOpen01{Float16}, E} where E) in Random at /Applications/Julia-1.6.app/Contents/Resources/julia/share/julia/stdlib/v1.6/Random/src/generation.jl:25\n",
       "[29] rand(rng::Random.AbstractRNG, sp::Random.SamplerTrivial{Tuple{A}, E} where E) where A in Random at /Applications/Julia-1.6.app/Contents/Resources/julia/share/julia/stdlib/v1.6/Random/src/generation.jl:495\n",
       "[30] rand(rng::Random.AbstractRNG, sp::Random.SamplerRangeNDL{U, T}) where {U, T} in Random at /Applications/Julia-1.6.app/Contents/Resources/julia/share/julia/stdlib/v1.6/Random/src/generation.jl:330\n",
       "[31] rand(rng::Random.AbstractRNG, sp::Random.SamplerRangeInt{T, UInt32}) where T<:Union{Int128, Int16, Int32, Int64, Int8, UInt128, UInt16, UInt32, UInt64, UInt8} in Random at /Applications/Julia-1.6.app/Contents/Resources/julia/share/julia/stdlib/v1.6/Random/src/generation.jl:294\n",
       "[32] rand(rng::Random.AbstractRNG, sp::Random.SamplerRangeInt{T, UInt64}) where T<:Union{Int128, Int16, Int32, Int64, Int8, UInt128, UInt16, UInt32, UInt64, UInt8} in Random at /Applications/Julia-1.6.app/Contents/Resources/julia/share/julia/stdlib/v1.6/Random/src/generation.jl:298\n",
       "[33] rand(rng::Random.AbstractRNG, sp::Random.SamplerRangeInt{T, UInt128}) where T<:Union{Int128, Int16, Int32, Int64, Int8, UInt128, UInt16, UInt32, UInt64, UInt8} in Random at /Applications/Julia-1.6.app/Contents/Resources/julia/share/julia/stdlib/v1.6/Random/src/generation.jl:304\n",
       "[34] rand(rng::Random.AbstractRNG, sp::Random.SamplerBigFloat{T}) where T<:Random.FloatInterval{BigFloat} in Random at /Applications/Julia-1.6.app/Contents/Resources/julia/share/julia/stdlib/v1.6/Random/src/generation.jl:103\n",
       "[35] rand(rng::Random.AbstractRNG, ::Type{X}) where X in Random at /Applications/Julia-1.6.app/Contents/Resources/julia/share/julia/stdlib/v1.6/Random/src/Random.jl:256\n",
       "[36] rand(r::Random.AbstractRNG, ::Type{X}, d::Integer, dims::Integer...) where X in Random at /Applications/Julia-1.6.app/Contents/Resources/julia/share/julia/stdlib/v1.6/Random/src/Random.jl:291\n",
       "[37] rand(r::Random.AbstractRNG, ::Type{X}, dims::Tuple{Vararg{Int64, N}} where N) where X in Random at /Applications/Julia-1.6.app/Contents/Resources/julia/share/julia/stdlib/v1.6/Random/src/Random.jl:288\n",
       "[38] rand(rng::Random.AbstractRNG, sp::Random.SamplerBigInt) in Random at /Applications/Julia-1.6.app/Contents/Resources/julia/share/julia/stdlib/v1.6/Random/src/generation.jl:370\n",
       "[39] rand(::Type{X}) where X in Random at /Applications/Julia-1.6.app/Contents/Resources/julia/share/julia/stdlib/v1.6/Random/src/Random.jl:259\n",
       "[40] rand(::Type{X}, dims::Tuple{Vararg{Int64, N}} where N) where X in Random at /Applications/Julia-1.6.app/Contents/Resources/julia/share/julia/stdlib/v1.6/Random/src/Random.jl:289\n",
       "[41] rand(::Type{X}, d::Integer, dims::Integer...) where X in Random at /Applications/Julia-1.6.app/Contents/Resources/julia/share/julia/stdlib/v1.6/Random/src/Random.jl:292\n",
       "[42] rand(::Random._GLOBAL_RNG, x::Random.SamplerTrivial{Random.UInt52Raw{UInt64}, E} where E) in Random at /Applications/Julia-1.6.app/Contents/Resources/julia/share/julia/stdlib/v1.6/Random/src/RNGs.jl:413\n",
       "[43] rand(::Random._GLOBAL_RNG, x::Random.SamplerTrivial{Random.UInt2x52Raw{UInt128}, E} where E) in Random at /Applications/Julia-1.6.app/Contents/Resources/julia/share/julia/stdlib/v1.6/Random/src/RNGs.jl:413\n",
       "[44] rand(::Random._GLOBAL_RNG, x::Random.SamplerTrivial{Random.UInt104Raw{UInt128}, E} where E) in Random at /Applications/Julia-1.6.app/Contents/Resources/julia/share/julia/stdlib/v1.6/Random/src/RNGs.jl:413\n",
       "[45] rand(::Random._GLOBAL_RNG, x::Random.SamplerTrivial{Random.CloseOpen12{Float64}, E} where E) in Random at /Applications/Julia-1.6.app/Contents/Resources/julia/share/julia/stdlib/v1.6/Random/src/RNGs.jl:413\n",
       "[46] rand(::Random._GLOBAL_RNG, x::Union{Random.SamplerType{Int128}, Random.SamplerType{Int64}, Random.SamplerType{UInt128}, Random.SamplerType{UInt64}}) in Random at /Applications/Julia-1.6.app/Contents/Resources/julia/share/julia/stdlib/v1.6/Random/src/RNGs.jl:413\n",
       "[47] rand(::Random._GLOBAL_RNG, x::Union{Random.SamplerType{Bool}, Random.SamplerType{Int16}, Random.SamplerType{Int32}, Random.SamplerType{Int8}, Random.SamplerType{UInt16}, Random.SamplerType{UInt32}, Random.SamplerType{UInt8}}) in Random at /Applications/Julia-1.6.app/Contents/Resources/julia/share/julia/stdlib/v1.6/Random/src/RNGs.jl:413\n",
       "[48] rand(::Random._GLOBAL_RNG, sp::Union{Random.SamplerType{Bool}, Random.SamplerType{Int128}, Random.SamplerType{Int16}, Random.SamplerType{Int32}, Random.SamplerType{Int64}, Random.SamplerType{Int8}, Random.SamplerType{UInt128}, Random.SamplerType{UInt16}, Random.SamplerType{UInt32}, Random.SamplerType{UInt64}, Random.SamplerType{UInt8}}) in Random at /Applications/Julia-1.6.app/Contents/Resources/julia/share/julia/stdlib/v1.6/Random/src/RNGs.jl:405\n",
       "[49] rand(rd::Random.RandomDevice, ::Random.SamplerType{Bool}) in Random at /Applications/Julia-1.6.app/Contents/Resources/julia/share/julia/stdlib/v1.6/Random/src/RNGs.jl:28\n",
       "[50] rand(rd::Random.RandomDevice, sp::Union{Random.SamplerType{Bool}, Random.SamplerType{Int128}, Random.SamplerType{Int16}, Random.SamplerType{Int32}, Random.SamplerType{Int64}, Random.SamplerType{Int8}, Random.SamplerType{UInt128}, Random.SamplerType{UInt16}, Random.SamplerType{UInt32}, Random.SamplerType{UInt64}, Random.SamplerType{UInt8}}) in Random at /Applications/Julia-1.6.app/Contents/Resources/julia/share/julia/stdlib/v1.6/Random/src/RNGs.jl:27\n",
       "[51] rand(rng::MbedTLS.CtrDrbg, size::Integer) in MbedTLS at /Users/tamasgal/.julia/packages/MbedTLS/4YY6E/src/ctr_drbg.jl:44\n",
       "[52] rand(r::Random.MersenneTwister, x::Random.SamplerTrivial{Random.UInt52Raw{UInt64}, E} where E) in Random at /Applications/Julia-1.6.app/Contents/Resources/julia/share/julia/stdlib/v1.6/Random/src/RNGs.jl:442\n",
       "[53] rand(r::Random.AbstractRNG, ::Random.SamplerTrivial{Random.UInt52Raw{UInt64}, E} where E) in Random at /Applications/Julia-1.6.app/Contents/Resources/julia/share/julia/stdlib/v1.6/Random/src/generation.jl:114\n",
       "[54] rand(r::Random.MersenneTwister, ::Random.SamplerTrivial{Random.UInt2x52Raw{UInt128}, E} where E) in Random at /Applications/Julia-1.6.app/Contents/Resources/julia/share/julia/stdlib/v1.6/Random/src/RNGs.jl:447\n",
       "[55] rand(r::Random.MersenneTwister, ::Random.SamplerTrivial{Random.UInt104Raw{UInt128}, E} where E) in Random at /Applications/Julia-1.6.app/Contents/Resources/julia/share/julia/stdlib/v1.6/Random/src/RNGs.jl:452\n",
       "[56] rand(r::Random.AbstractRNG, ::Random.SamplerTrivial{Random.UInt104Raw{UInt128}, E} where E) in Random at /Applications/Julia-1.6.app/Contents/Resources/julia/share/julia/stdlib/v1.6/Random/src/generation.jl:120\n",
       "[57] rand(r::Random.AbstractRNG, sp::Random.SamplerTrivial{var\"#s832\", E} where {var\"#s832\"<:Random.UniformBits{T}, E}) where T in Random at /Applications/Julia-1.6.app/Contents/Resources/julia/share/julia/stdlib/v1.6/Random/src/generation.jl:128\n",
       "[58] rand(r::Random.MersenneTwister, sp::Random.SamplerTrivial{Random.CloseOpen12{Float64}, E} where E) in Random at /Applications/Julia-1.6.app/Contents/Resources/julia/share/julia/stdlib/v1.6/Random/src/RNGs.jl:459\n",
       "[59] rand(r::Random.AbstractRNG, ::Random.SamplerTrivial{Random.CloseOpen12{Float64}, E} where E) in Random at /Applications/Julia-1.6.app/Contents/Resources/julia/share/julia/stdlib/v1.6/Random/src/generation.jl:32\n",
       "[60] rand(rng::Random.AbstractRNG, sp::Random.SamplerTrivial{var\"#s832\", E} where {var\"#s832\"<:Union{AbstractDict, AbstractSet}, E}) in Random at /Applications/Julia-1.6.app/Contents/Resources/julia/share/julia/stdlib/v1.6/Random/src/generation.jl:459\n",
       "[61] rand(r::Random.MersenneTwister, T::Union{Random.SamplerType{Int128}, Random.SamplerType{Int64}, Random.SamplerType{UInt128}, Random.SamplerType{UInt64}}) in Random at /Applications/Julia-1.6.app/Contents/Resources/julia/share/julia/stdlib/v1.6/Random/src/RNGs.jl:464\n",
       "[62] rand(r::Random.MersenneTwister, T::Union{Random.SamplerType{Bool}, Random.SamplerType{Int16}, Random.SamplerType{Int32}, Random.SamplerType{Int8}, Random.SamplerType{UInt16}, Random.SamplerType{UInt32}, Random.SamplerType{UInt8}}) in Random at /Applications/Julia-1.6.app/Contents/Resources/julia/share/julia/stdlib/v1.6/Random/src/RNGs.jl:467\n",
       "[63] rand(rng::Random.AbstractRNG) in Random at /Applications/Julia-1.6.app/Contents/Resources/julia/share/julia/stdlib/v1.6/Random/src/Random.jl:256\n",
       "[64] rand(X, dims::Tuple{Vararg{Int64, N}} where N) in Random at /Applications/Julia-1.6.app/Contents/Resources/julia/share/julia/stdlib/v1.6/Random/src/Random.jl:280\n",
       "[65] rand(r::Random.AbstractRNG, dims::Integer...) in Random at /Applications/Julia-1.6.app/Contents/Resources/julia/share/julia/stdlib/v1.6/Random/src/Random.jl:276\n",
       "[66] rand(X, d::Integer, dims::Integer...) in Random at /Applications/Julia-1.6.app/Contents/Resources/julia/share/julia/stdlib/v1.6/Random/src/Random.jl:283\n",
       "[67] rand(rng::Random.AbstractRNG, X) in Random at /Applications/Julia-1.6.app/Contents/Resources/julia/share/julia/stdlib/v1.6/Random/src/Random.jl:253\n",
       "[68] rand(r::Random.AbstractRNG, X, d::Integer, dims::Integer...) in Random at /Applications/Julia-1.6.app/Contents/Resources/julia/share/julia/stdlib/v1.6/Random/src/Random.jl:282\n",
       "[69] rand(r::Random.AbstractRNG, X, dims::Tuple{Vararg{Int64, N}} where N) in Random at /Applications/Julia-1.6.app/Contents/Resources/julia/share/julia/stdlib/v1.6/Random/src/Random.jl:279\n",
       "[70] rand(X) in Random at /Applications/Julia-1.6.app/Contents/Resources/julia/share/julia/stdlib/v1.6/Random/src/Random.jl:258"
      ]
     },
     "execution_count": 22,
     "metadata": {},
     "output_type": "execute_result"
    }
   ],
   "source": [
    "methods(rand)"
   ]
  },
  {
   "cell_type": "code",
   "execution_count": 23,
   "id": "5d788a5d-fe21-4f61-aeaf-608097d41b8d",
   "metadata": {},
   "outputs": [
    {
     "data": {
      "text/plain": [
       "10-element Vector{Int32}:\n",
       "   756475614\n",
       "  -776324725\n",
       "  -481633355\n",
       "  -194653048\n",
       "  -192174130\n",
       "   751301855\n",
       "  -458353786\n",
       " -1441579354\n",
       "   244532317\n",
       "  -186881177"
      ]
     },
     "execution_count": 23,
     "metadata": {},
     "output_type": "execute_result"
    }
   ],
   "source": [
    "rand(Int32, 10)"
   ]
  },
  {
   "cell_type": "code",
   "execution_count": 24,
   "id": "eaa69e22-2dc8-41a7-94fe-1056e5192f17",
   "metadata": {},
   "outputs": [
    {
     "data": {
      "text/plain": [
       "10-element Vector{Float64}:\n",
       " 0.7766266605131087\n",
       " 0.7011714434827836\n",
       " 0.6566022541588785\n",
       " 0.9019051828038676\n",
       " 0.8189659463773575\n",
       " 0.7913626869823882\n",
       " 0.0216645955998378\n",
       " 0.05072898020383709\n",
       " 0.3645642122604287\n",
       " 0.1644975351243183"
      ]
     },
     "execution_count": 24,
     "metadata": {},
     "output_type": "execute_result"
    }
   ],
   "source": [
    "rand(Float64, 10)"
   ]
  },
  {
   "cell_type": "code",
   "execution_count": 25,
   "id": "e7d65486-08db-4704-9479-2a3b96a1ca7b",
   "metadata": {},
   "outputs": [
    {
     "data": {
      "text/plain": [
       "2×2 Matrix{Int32}:\n",
       " 1914193570  -1540091272\n",
       " 1521000586   1695335745"
      ]
     },
     "execution_count": 25,
     "metadata": {},
     "output_type": "execute_result"
    }
   ],
   "source": [
    "rand(Int32, (2, 2))"
   ]
  },
  {
   "cell_type": "markdown",
   "id": "8d7b4b6d-3145-4070-82ed-53c6c55e98db",
   "metadata": {},
   "source": [
    "### Methods?"
   ]
  },
  {
   "cell_type": "code",
   "execution_count": 26,
   "id": "1b28f001-95f6-4465-a616-fbbcf16591ac",
   "metadata": {},
   "outputs": [
    {
     "data": {
      "text/plain": [
       "f (generic function with 1 method)"
      ]
     },
     "execution_count": 26,
     "metadata": {},
     "output_type": "execute_result"
    }
   ],
   "source": [
    "f(x) = 2x"
   ]
  },
  {
   "cell_type": "code",
   "execution_count": 27,
   "id": "d6fc61f6-adc2-4194-be26-6e8b9913c235",
   "metadata": {},
   "outputs": [
    {
     "name": "stdout",
     "output_type": "stream",
     "text": [
      "\u001b[90m;  @ In[26]:1 within `f'\u001b[39m\n",
      "\u001b[95mdefine\u001b[39m \u001b[36mi64\u001b[39m \u001b[93m@julia_f_2741\u001b[39m\u001b[33m(\u001b[39m\u001b[36mi64\u001b[39m \u001b[95msignext\u001b[39m \u001b[0m%0\u001b[33m)\u001b[39m \u001b[33m{\u001b[39m\n",
      "\u001b[91mtop:\u001b[39m\n",
      "\u001b[90m; ┌ @ int.jl:88 within `*'\u001b[39m\n",
      "   \u001b[0m%1 \u001b[0m= \u001b[96m\u001b[1mshl\u001b[22m\u001b[39m \u001b[36mi64\u001b[39m \u001b[0m%0\u001b[0m, \u001b[33m1\u001b[39m\n",
      "\u001b[90m; └\u001b[39m\n",
      "  \u001b[96m\u001b[1mret\u001b[22m\u001b[39m \u001b[36mi64\u001b[39m \u001b[0m%1\n",
      "\u001b[33m}\u001b[39m\n"
     ]
    }
   ],
   "source": [
    "@code_llvm f(23)"
   ]
  },
  {
   "cell_type": "code",
   "execution_count": 28,
   "id": "27a92822-9f58-4c8f-b81f-6f545ee7b0c5",
   "metadata": {},
   "outputs": [
    {
     "name": "stdout",
     "output_type": "stream",
     "text": [
      "\u001b[90m;  @ In[26]:1 within `f'\u001b[39m\n",
      "\u001b[95mdefine\u001b[39m \u001b[36mdouble\u001b[39m \u001b[93m@julia_f_2767\u001b[39m\u001b[33m(\u001b[39m\u001b[36mdouble\u001b[39m \u001b[0m%0\u001b[33m)\u001b[39m \u001b[33m{\u001b[39m\n",
      "\u001b[91mtop:\u001b[39m\n",
      "\u001b[90m; ┌ @ promotion.jl:322 within `*' @ float.jl:332\u001b[39m\n",
      "   \u001b[0m%1 \u001b[0m= \u001b[96m\u001b[1mfmul\u001b[22m\u001b[39m \u001b[36mdouble\u001b[39m \u001b[0m%0\u001b[0m, \u001b[33m2.000000e+00\u001b[39m\n",
      "\u001b[90m; └\u001b[39m\n",
      "  \u001b[96m\u001b[1mret\u001b[22m\u001b[39m \u001b[36mdouble\u001b[39m \u001b[0m%1\n",
      "\u001b[33m}\u001b[39m\n"
     ]
    }
   ],
   "source": [
    "@code_llvm f(23.5)"
   ]
  },
  {
   "cell_type": "code",
   "execution_count": 29,
   "id": "f2e270d4-7074-49b0-b2a3-0e5311a7331e",
   "metadata": {},
   "outputs": [
    {
     "data": {
      "text/plain": [
       "slowmean (generic function with 1 method)"
      ]
     },
     "execution_count": 29,
     "metadata": {},
     "output_type": "execute_result"
    }
   ],
   "source": [
    "slowmean(x) = sum(x) / length(x)"
   ]
  },
  {
   "cell_type": "code",
   "execution_count": 31,
   "id": "3ed1ace0-984e-4860-ba5c-10af4e523056",
   "metadata": {},
   "outputs": [],
   "source": [
    "arr = rand(Int16, 100);"
   ]
  },
  {
   "cell_type": "code",
   "execution_count": 32,
   "id": "df5a785b-cc11-4311-a277-beda8da939ce",
   "metadata": {},
   "outputs": [
    {
     "name": "stdout",
     "output_type": "stream",
     "text": [
      "  0.030763 seconds (85.51 k allocations: 4.940 MiB, 99.44% compilation time)\n"
     ]
    },
    {
     "data": {
      "text/plain": [
       "832.33"
      ]
     },
     "execution_count": 32,
     "metadata": {},
     "output_type": "execute_result"
    }
   ],
   "source": [
    "@time slowmean(arr)"
   ]
  },
  {
   "cell_type": "code",
   "execution_count": 33,
   "id": "1c59d5d8-4f56-44c8-8d45-ccc502b19313",
   "metadata": {},
   "outputs": [
    {
     "name": "stdout",
     "output_type": "stream",
     "text": [
      "  0.000008 seconds (1 allocation: 16 bytes)\n"
     ]
    },
    {
     "data": {
      "text/plain": [
       "832.33"
      ]
     },
     "execution_count": 33,
     "metadata": {},
     "output_type": "execute_result"
    }
   ],
   "source": [
    "@time slowmean(arr)"
   ]
  },
  {
   "cell_type": "code",
   "execution_count": 34,
   "id": "b1ff13d0-1ab2-4052-b27e-29d5219a1d79",
   "metadata": {},
   "outputs": [
    {
     "name": "stdout",
     "output_type": "stream",
     "text": [
      "  0.000005 seconds (1 allocation: 16 bytes)\n"
     ]
    },
    {
     "data": {
      "text/plain": [
       "832.33"
      ]
     },
     "execution_count": 34,
     "metadata": {},
     "output_type": "execute_result"
    }
   ],
   "source": [
    "@time slowmean(arr)"
   ]
  },
  {
   "cell_type": "code",
   "execution_count": 35,
   "id": "c946eaa5-f3f1-4210-96b0-07697430a773",
   "metadata": {},
   "outputs": [],
   "source": [
    "arr2 = rand(Int64, 100);"
   ]
  },
  {
   "cell_type": "code",
   "execution_count": 37,
   "id": "910aaca1-69d9-421a-a766-7242cf297c63",
   "metadata": {},
   "outputs": [
    {
     "name": "stdout",
     "output_type": "stream",
     "text": [
      "  0.013640 seconds (3.45 k allocations: 183.449 KiB, 98.64% compilation time)\n"
     ]
    },
    {
     "data": {
      "text/plain": [
       "-1.207473953300515e16"
      ]
     },
     "execution_count": 37,
     "metadata": {},
     "output_type": "execute_result"
    }
   ],
   "source": [
    "@time slowmean(arr2)"
   ]
  },
  {
   "cell_type": "code",
   "execution_count": 38,
   "id": "a1214f2b-a136-41ae-b9f2-681f52b78932",
   "metadata": {},
   "outputs": [
    {
     "name": "stdout",
     "output_type": "stream",
     "text": [
      "  0.000010 seconds (1 allocation: 16 bytes)\n"
     ]
    },
    {
     "data": {
      "text/plain": [
       "-1.207473953300515e16"
      ]
     },
     "execution_count": 38,
     "metadata": {},
     "output_type": "execute_result"
    }
   ],
   "source": [
    "@time slowmean(arr2)"
   ]
  },
  {
   "cell_type": "markdown",
   "id": "9bb0d18c-9c30-48bc-b416-72b1a9ac18b3",
   "metadata": {},
   "source": [
    "## Tiny temperature library\n",
    "\n",
    "Inspired by Erik Engheim\n",
    "\n",
    "Read the original blog post by Erik Engheim here: https://erik-engheim.medium.com/defining-custom-units-in-julia-and-python-513c34a4c971"
   ]
  },
  {
   "cell_type": "code",
   "execution_count": 39,
   "id": "ed506bea-0cd0-40d1-a796-1f18534cce16",
   "metadata": {},
   "outputs": [],
   "source": [
    "struct Celsius\n",
    "    value\n",
    "end"
   ]
  },
  {
   "cell_type": "code",
   "execution_count": 40,
   "id": "a8ff9fa2-4fbf-4335-950d-e78f61287103",
   "metadata": {},
   "outputs": [
    {
     "data": {
      "text/plain": [
       "Celsius(10)"
      ]
     },
     "execution_count": 40,
     "metadata": {},
     "output_type": "execute_result"
    }
   ],
   "source": [
    "Celsius(10)"
   ]
  },
  {
   "cell_type": "code",
   "execution_count": 43,
   "id": "2df284c4-a762-4415-87f9-69278650542e",
   "metadata": {},
   "outputs": [
    {
     "data": {
      "text/plain": [
       "Celsius(10)"
      ]
     },
     "execution_count": 43,
     "metadata": {},
     "output_type": "execute_result"
    }
   ],
   "source": [
    "t = Celsius(10)"
   ]
  },
  {
   "cell_type": "code",
   "execution_count": 45,
   "id": "fc761ed4-fc9b-4e2e-88ba-d89977e583f9",
   "metadata": {},
   "outputs": [
    {
     "data": {
      "text/plain": [
       "Int64"
      ]
     },
     "execution_count": 45,
     "metadata": {},
     "output_type": "execute_result"
    }
   ],
   "source": [
    "typeof(t.value)"
   ]
  },
  {
   "cell_type": "code",
   "execution_count": 47,
   "id": "64cf8a0c-6215-41f7-8fdf-8da051abbcde",
   "metadata": {},
   "outputs": [
    {
     "data": {
      "text/plain": [
       "Celsius(23.5)"
      ]
     },
     "execution_count": 47,
     "metadata": {},
     "output_type": "execute_result"
    }
   ],
   "source": [
    "t₂ = Celsius(23.5)"
   ]
  },
  {
   "cell_type": "code",
   "execution_count": 49,
   "id": "740f279a-91ff-4481-ad67-05979c7593f1",
   "metadata": {},
   "outputs": [
    {
     "data": {
      "text/plain": [
       "Float64"
      ]
     },
     "execution_count": 49,
     "metadata": {},
     "output_type": "execute_result"
    }
   ],
   "source": [
    "typeof(t₂.value)"
   ]
  },
  {
   "cell_type": "code",
   "execution_count": 50,
   "id": "3c68119a-63cf-4a68-88eb-ae62ef09d8dd",
   "metadata": {},
   "outputs": [
    {
     "data": {
      "text/plain": [
       "Celsius(\"hello\")"
      ]
     },
     "execution_count": 50,
     "metadata": {},
     "output_type": "execute_result"
    }
   ],
   "source": [
    "Celsius(\"hello\")"
   ]
  },
  {
   "cell_type": "code",
   "execution_count": 1,
   "id": "f44432b3-dbb8-47bc-a8e0-d4274c020039",
   "metadata": {},
   "outputs": [],
   "source": [
    "struct Celsius{T<:Real}\n",
    "    value::T\n",
    "end"
   ]
  },
  {
   "cell_type": "code",
   "execution_count": 2,
   "id": "e769c114-a854-40da-8b48-8af2b06baf01",
   "metadata": {},
   "outputs": [
    {
     "data": {
      "text/plain": [
       "Celsius{Int64}(10)"
      ]
     },
     "execution_count": 2,
     "metadata": {},
     "output_type": "execute_result"
    }
   ],
   "source": [
    "Celsius(10)"
   ]
  },
  {
   "cell_type": "code",
   "execution_count": 3,
   "id": "4f52a880-81f1-41ff-b9cf-a801043f22f6",
   "metadata": {},
   "outputs": [
    {
     "data": {
      "text/plain": [
       "Celsius{Float64}(5.4)"
      ]
     },
     "execution_count": 3,
     "metadata": {},
     "output_type": "execute_result"
    }
   ],
   "source": [
    "Celsius(5.4)"
   ]
  },
  {
   "cell_type": "code",
   "execution_count": 4,
   "id": "77866ee6-66a1-4066-a85b-dbb2713ff9f7",
   "metadata": {},
   "outputs": [
    {
     "ename": "LoadError",
     "evalue": "MethodError: no method matching Celsius(::String)\n\u001b[0mClosest candidates are:\n\u001b[0m  Celsius(\u001b[91m::T\u001b[39m) where T<:Real at In[1]:2",
     "output_type": "error",
     "traceback": [
      "MethodError: no method matching Celsius(::String)\n\u001b[0mClosest candidates are:\n\u001b[0m  Celsius(\u001b[91m::T\u001b[39m) where T<:Real at In[1]:2",
      "",
      "Stacktrace:",
      " [1] top-level scope",
      "   @ In[4]:1",
      " [2] eval",
      "   @ ./boot.jl:360 [inlined]",
      " [3] include_string(mapexpr::typeof(REPL.softscope), mod::Module, code::String, filename::String)",
      "   @ Base ./loading.jl:1094"
     ]
    }
   ],
   "source": [
    "Celsius(\"hello\")"
   ]
  },
  {
   "cell_type": "code",
   "execution_count": 5,
   "id": "af1cb206-3206-4da2-881b-ca4c94260134",
   "metadata": {},
   "outputs": [
    {
     "ename": "LoadError",
     "evalue": "MethodError: no method matching Celsius(::Complex{Int64})\n\u001b[0mClosest candidates are:\n\u001b[0m  Celsius(\u001b[91m::T\u001b[39m) where T<:Real at In[1]:2",
     "output_type": "error",
     "traceback": [
      "MethodError: no method matching Celsius(::Complex{Int64})\n\u001b[0mClosest candidates are:\n\u001b[0m  Celsius(\u001b[91m::T\u001b[39m) where T<:Real at In[1]:2",
      "",
      "Stacktrace:",
      " [1] top-level scope",
      "   @ In[5]:1",
      " [2] eval",
      "   @ ./boot.jl:360 [inlined]",
      " [3] include_string(mapexpr::typeof(REPL.softscope), mod::Module, code::String, filename::String)",
      "   @ Base ./loading.jl:1094"
     ]
    }
   ],
   "source": [
    "Celsius(5 + 10im)"
   ]
  },
  {
   "cell_type": "code",
   "execution_count": 6,
   "id": "90719e20-b96f-47f1-8523-b32a34a9a625",
   "metadata": {},
   "outputs": [
    {
     "data": {
      "text/plain": [
       "false"
      ]
     },
     "execution_count": 6,
     "metadata": {},
     "output_type": "execute_result"
    }
   ],
   "source": [
    "Complex{Int64} <: Real"
   ]
  },
  {
   "cell_type": "code",
   "execution_count": 1,
   "id": "1839b11b-6126-4340-9063-9a8adc0012d4",
   "metadata": {},
   "outputs": [],
   "source": [
    "abstract type Temperature end"
   ]
  },
  {
   "cell_type": "code",
   "execution_count": 2,
   "id": "152ba287-9537-4862-b20e-21366420e8ce",
   "metadata": {},
   "outputs": [],
   "source": [
    "struct Celsius <: Temperature\n",
    "    value::Float64\n",
    "end"
   ]
  },
  {
   "cell_type": "code",
   "execution_count": 3,
   "id": "b4b80251-969c-4984-a789-7488b1c23130",
   "metadata": {},
   "outputs": [],
   "source": [
    "struct Kelvin <: Temperature\n",
    "    value::Float64\n",
    "end"
   ]
  },
  {
   "cell_type": "code",
   "execution_count": 5,
   "id": "1b5e2bd8-24d4-450e-afa0-3c0949ed72cd",
   "metadata": {},
   "outputs": [],
   "source": [
    "import Base: convert"
   ]
  },
  {
   "cell_type": "code",
   "execution_count": 7,
   "id": "ecfb2af8-37ef-44a5-93e7-6aab0c1de55c",
   "metadata": {},
   "outputs": [
    {
     "data": {
      "text/plain": [
       "convert (generic function with 189 methods)"
      ]
     },
     "execution_count": 7,
     "metadata": {},
     "output_type": "execute_result"
    }
   ],
   "source": [
    "convert(::Type{Kelvin}, t::Celsius) = Kelvin(t.value + 273.15)\n",
    "convert(::Type{Celsius}, t::Kelvin) = Celsius(t.value - 273.15)"
   ]
  },
  {
   "cell_type": "code",
   "execution_count": null,
   "id": "8b1f9593-2f07-45f6-8e30-fa893cddd6ce",
   "metadata": {},
   "outputs": [],
   "source": [
    "# Python example...\n",
    "class Celsius:\n",
    "    def __init__(self, value):\n",
    "        self.value = value\n",
    "\n",
    "    def to_kelvin(self):\n",
    "        ..."
   ]
  },
  {
   "cell_type": "code",
   "execution_count": 8,
   "id": "c18571b5-b971-472b-8c52-9c8223f5f922",
   "metadata": {},
   "outputs": [],
   "source": [
    "import Base: *"
   ]
  },
  {
   "cell_type": "code",
   "execution_count": 9,
   "id": "db764a24-66d6-49ac-b7ba-28c97d2047bb",
   "metadata": {},
   "outputs": [
    {
     "data": {
      "text/plain": [
       "* (generic function with 328 methods)"
      ]
     },
     "execution_count": 9,
     "metadata": {},
     "output_type": "execute_result"
    }
   ],
   "source": [
    "*"
   ]
  },
  {
   "cell_type": "code",
   "execution_count": 10,
   "id": "f26821f8-e21e-4843-aedf-e1167991edd6",
   "metadata": {},
   "outputs": [],
   "source": [
    "*(x::Number, y::T) where {T <: Temperature} = T(x * y.value);"
   ]
  },
  {
   "cell_type": "code",
   "execution_count": 12,
   "id": "7a376cdc-9a14-4781-a754-002e628a2184",
   "metadata": {},
   "outputs": [
    {
     "data": {
      "text/plain": [
       "Kelvin(100.0)"
      ]
     },
     "execution_count": 12,
     "metadata": {},
     "output_type": "execute_result"
    }
   ],
   "source": [
    "10Kelvin(10)"
   ]
  },
  {
   "cell_type": "code",
   "execution_count": 17,
   "id": "20a1b37a-10c1-4236-902b-839657d5b21f",
   "metadata": {},
   "outputs": [
    {
     "data": {
      "text/plain": [
       "1.0 K"
      ]
     },
     "execution_count": 17,
     "metadata": {},
     "output_type": "execute_result"
    }
   ],
   "source": [
    "const °C = Celsius(1)\n",
    "const K = Kelvin(1)"
   ]
  },
  {
   "cell_type": "code",
   "execution_count": 13,
   "id": "1094bddd-2f9a-464e-9d8c-0e98d9eca417",
   "metadata": {},
   "outputs": [
    {
     "data": {
      "text/plain": [
       "Kelvin(10.0)"
      ]
     },
     "execution_count": 13,
     "metadata": {},
     "output_type": "execute_result"
    }
   ],
   "source": [
    "Kelvin(10)"
   ]
  },
  {
   "cell_type": "code",
   "execution_count": 14,
   "id": "365eb06d-7dc0-41cd-b5e0-d23c42637e77",
   "metadata": {},
   "outputs": [
    {
     "data": {
      "text/plain": [
       "show (generic function with 257 methods)"
      ]
     },
     "execution_count": 14,
     "metadata": {},
     "output_type": "execute_result"
    }
   ],
   "source": [
    "import Base: show\n",
    "show(io::IO, t::Celsius) = print(io, \"$(t.value) °C\")\n",
    "show(io::IO, t::Kelvin) = print(io, \"$(t.value) K\")"
   ]
  },
  {
   "cell_type": "code",
   "execution_count": 15,
   "id": "3742bbb6-c242-42b9-af42-327bcd48ea34",
   "metadata": {},
   "outputs": [
    {
     "data": {
      "text/plain": [
       "23.5 °C"
      ]
     },
     "execution_count": 15,
     "metadata": {},
     "output_type": "execute_result"
    }
   ],
   "source": [
    "Celsius(23.5)"
   ]
  },
  {
   "cell_type": "code",
   "execution_count": 18,
   "id": "2ac8299f-2265-4b7a-a59e-57590b6b6633",
   "metadata": {},
   "outputs": [
    {
     "data": {
      "text/plain": [
       "309.15 K"
      ]
     },
     "execution_count": 18,
     "metadata": {},
     "output_type": "execute_result"
    }
   ],
   "source": [
    "convert(Kelvin, 36°C)"
   ]
  },
  {
   "cell_type": "markdown",
   "id": "f3e2dc4d-6830-4082-a248-d44bc78c45e7",
   "metadata": {},
   "source": [
    "### Random temperatures?"
   ]
  },
  {
   "cell_type": "code",
   "execution_count": 19,
   "id": "d125eb91-5e01-40a4-8591-dee301211071",
   "metadata": {},
   "outputs": [
    {
     "data": {
      "text/plain": [
       "0.04572757192280141"
      ]
     },
     "execution_count": 19,
     "metadata": {},
     "output_type": "execute_result"
    }
   ],
   "source": [
    "rand()"
   ]
  },
  {
   "cell_type": "code",
   "execution_count": 20,
   "id": "d8d60747-681e-4d71-9a32-3e2a630fb6ad",
   "metadata": {},
   "outputs": [
    {
     "data": {
      "text/plain": [
       "1910831644"
      ]
     },
     "execution_count": 20,
     "metadata": {},
     "output_type": "execute_result"
    }
   ],
   "source": [
    "rand(Int32)"
   ]
  },
  {
   "cell_type": "code",
   "execution_count": 21,
   "id": "78adf629-5924-47d7-a666-6b1db1d3caa4",
   "metadata": {},
   "outputs": [],
   "source": [
    "using Random"
   ]
  },
  {
   "cell_type": "code",
   "execution_count": 26,
   "id": "eee2d805-c784-4931-9789-5932335bd531",
   "metadata": {},
   "outputs": [],
   "source": [
    "Random.rand(rng::AbstractRNG, ::Random.SamplerType{Kelvin}) = Kelvin(rand())"
   ]
  },
  {
   "cell_type": "code",
   "execution_count": 27,
   "id": "ecece015-5225-4e36-9f40-7e22e07a522f",
   "metadata": {},
   "outputs": [
    {
     "data": {
      "text/plain": [
       "0.29931148837148225 K"
      ]
     },
     "execution_count": 27,
     "metadata": {},
     "output_type": "execute_result"
    }
   ],
   "source": [
    "rand(Kelvin)"
   ]
  },
  {
   "cell_type": "code",
   "execution_count": 29,
   "id": "e96e6c57-7e30-4957-a110-8abf520e4b7f",
   "metadata": {},
   "outputs": [
    {
     "data": {
      "text/plain": [
       "100×100 Matrix{Kelvin}:\n",
       " 0.7166055641529143 K    0.062047265945729846 K  …  0.7907739675149648 K\n",
       " 0.4486062678320071 K    0.8868163186078697 K       0.6559046356001139 K\n",
       " 0.14408860303284432 K   0.5551208722439058 K       0.9472317322065356 K\n",
       " 0.8623844254467885 K    0.298714328555014 K        0.23851394321598662 K\n",
       " 0.6104824418405042 K    0.7216254974468121 K       0.7478808217634498 K\n",
       " 0.35201459805156654 K   0.28015508672223133 K   …  0.16244678773901833 K\n",
       " 0.046517372951268676 K  0.4593328580659566 K       0.2651785344743045 K\n",
       " 0.5478507088779361 K    0.9044897234238174 K       0.40641836996378466 K\n",
       " 0.6472558218446516 K    0.5019562475248476 K       0.21544514634678125 K\n",
       " 0.055518339051443766 K  0.35557748255123034 K      0.18531419239656222 K\n",
       " 0.8244840996507072 K    0.08089720798442901 K   …  0.4679345326910971 K\n",
       " 0.7332685937715724 K    0.10599961731536389 K      0.37789083612629715 K\n",
       " 0.7505914585011357 K    0.14948227210123766 K      0.7775012052805184 K\n",
       " ⋮                                               ⋱  \n",
       " 0.8728624862588636 K    0.16877850154058383 K      0.705453815552562 K\n",
       " 0.6163861700530961 K    0.20351597919451092 K      0.7145602766637629 K\n",
       " 0.5943128222704568 K    0.9043448067183666 K    …  0.27632036676726535 K\n",
       " 0.8736645144299573 K    0.40415488412922373 K      0.7938132770300563 K\n",
       " 0.25596833013242226 K   0.8498859724388266 K       0.9825943291699726 K\n",
       " 0.6885536221485338 K    0.5792264439136425 K       0.44589454135430984 K\n",
       " 0.5638590500954237 K    0.16642265269362722 K      0.04984524299175219 K\n",
       " 0.8637998680921186 K    0.15872132725716281 K   …  0.34355369748604914 K\n",
       " 0.1324059990939448 K    0.22693059895554524 K      0.18167349968576718 K\n",
       " 0.5216361775198417 K    0.5376471970813843 K       0.19043851068161155 K\n",
       " 0.9582849270593652 K    0.9252078073370591 K       0.8576974703318778 K\n",
       " 0.5930044757695678 K    0.9143106138600487 K       0.5923841408108468 K"
      ]
     },
     "execution_count": 29,
     "metadata": {},
     "output_type": "execute_result"
    }
   ],
   "source": [
    "rand(Kelvin, 100, 100)"
   ]
  },
  {
   "cell_type": "code",
   "execution_count": 30,
   "id": "1dc9f07a-c932-49f9-9d25-bc27141085a9",
   "metadata": {},
   "outputs": [],
   "source": [
    "using BenchmarkTools"
   ]
  },
  {
   "cell_type": "code",
   "execution_count": 31,
   "id": "24eb49cd-c643-4920-a091-e7220d112395",
   "metadata": {},
   "outputs": [
    {
     "name": "stdout",
     "output_type": "stream",
     "text": [
      "  3.721 ms (2 allocations: 7.63 MiB)\n"
     ]
    },
    {
     "data": {
      "text/plain": [
       "1000×1000 Matrix{Kelvin}:\n",
       " 0.010927394499722132 K  0.3134106143526172 K    …  0.05292425504102294 K\n",
       " 0.9411248522843292 K    0.4900094639311108 K       0.3190431886539189 K\n",
       " 0.7785926608082536 K    0.23575162028532093 K      0.30747454094662663 K\n",
       " 0.5643459987334154 K    0.13986884901729835 K      0.9033866911874655 K\n",
       " 0.2614721681307668 K    0.33556086558364284 K      0.8632205795469408 K\n",
       " 0.3716472121324552 K    0.617721573790204 K     …  0.04927600576748925 K\n",
       " 0.3495121720914838 K    0.7503673207505956 K       0.8853709085734691 K\n",
       " 0.2848098487274697 K    0.2719419853055578 K       0.2099358094042738 K\n",
       " 0.7086361857545505 K    0.951649846517485 K        0.6127611949584475 K\n",
       " 0.7991704801126653 K    0.9878984120852266 K       0.3557107077405146 K\n",
       " 0.46182032788505323 K   0.059317830491813384 K  …  0.8812606607010474 K\n",
       " 0.6809710657814392 K    0.17879553280748262 K      0.9830132916385828 K\n",
       " 0.1790446327580708 K    0.3664745793074826 K       0.7149226183883208 K\n",
       " ⋮                                               ⋱  \n",
       " 0.4184549435974152 K    0.9953859773108298 K       0.49086443987628137 K\n",
       " 0.6114818046082171 K    0.6013641008172792 K       0.12967381543926493 K\n",
       " 0.7700801882888668 K    0.9593588831231437 K    …  0.8835537494589158 K\n",
       " 0.9092878199459342 K    0.6520987097399626 K       0.8036717009935817 K\n",
       " 0.41110282370382323 K   0.7732947151115654 K       0.8586466608631671 K\n",
       " 0.07302450496122836 K   0.12098185086290858 K      0.43477680754813175 K\n",
       " 0.75936567045951 K      0.4800315438372085 K       0.27973492345790607 K\n",
       " 0.8649755899951102 K    0.8721263102345944 K    …  0.9443537841986369 K\n",
       " 0.33651486203139114 K   0.02592822473564471 K      0.2280370136203047 K\n",
       " 0.27445280334851896 K   0.7717530796567216 K       0.6837901118918011 K\n",
       " 0.03812143026565096 K   0.506650261839716 K        0.8217328128609827 K\n",
       " 0.7768766718244082 K    0.5691194009210405 K       0.8301866816534107 K"
      ]
     },
     "execution_count": 31,
     "metadata": {},
     "output_type": "execute_result"
    }
   ],
   "source": [
    "@btime rand(Kelvin, 1000, 1000)"
   ]
  },
  {
   "cell_type": "code",
   "execution_count": 32,
   "id": "af13878e-1239-43cc-8286-afcd22389b18",
   "metadata": {},
   "outputs": [
    {
     "name": "stdout",
     "output_type": "stream",
     "text": [
      "  38.709 μs (4 allocations: 156.41 KiB)\n"
     ]
    },
    {
     "data": {
      "text/plain": [
       "100×100 Matrix{Kelvin}:\n",
       " 1.7362810121612084 K   0.26927866861204564 K  …  1.7950647447716657 K\n",
       " 1.429334444369788 K    1.2839463225990588 K      0.8582360382251455 K\n",
       " 0.562976636796682 K    0.5007480637916029 K      1.0866172214726735 K\n",
       " 0.3673180323652967 K   1.9311321259310272 K      0.06411885347878243 K\n",
       " 0.6067950870804157 K   0.4737392641989131 K      1.1775427642563567 K\n",
       " 0.08350595624808888 K  0.43663475803044793 K  …  0.27788375949634503 K\n",
       " 0.6280446740731294 K   1.88405905683233 K        0.44829628760749385 K\n",
       " 1.0316926305495198 K   0.2926749687894765 K      0.6206366618553467 K\n",
       " 1.58156945690529 K     0.44090781995437967 K     1.3041519406850184 K\n",
       " 1.1358304858932886 K   1.071359745235176 K       1.6428446905546106 K\n",
       " 0.2691150374328979 K   1.5265747774439578 K   …  1.9808585738425286 K\n",
       " 1.6857339931181112 K   0.07333488054728887 K     0.5794299428685941 K\n",
       " 1.2761714602613439 K   0.6744726923104984 K      0.1227883266343408 K\n",
       " ⋮                                             ⋱  \n",
       " 1.0413404585775008 K   1.531617490867256 K       0.7828949783877945 K\n",
       " 0.21640929080850668 K  1.501097666930879 K       1.7036313572584962 K\n",
       " 0.5272624959097851 K   0.9309500647493723 K   …  1.7863761046738058 K\n",
       " 0.3098299572546823 K   0.6133049557925498 K      1.683401103158697 K\n",
       " 0.6412674443617798 K   1.7809750144923928 K      0.35431489768817714 K\n",
       " 0.6256177238019829 K   0.283881832081081 K       0.1332831643454493 K\n",
       " 0.0310258057471966 K   0.9800657116296883 K      1.8810964148827956 K\n",
       " 0.45566462567608124 K  0.36732741468025676 K  …  0.39830522165554294 K\n",
       " 1.9694385012544968 K   0.4649458226192369 K      1.887618856538662 K\n",
       " 1.9348694146737109 K   1.3252767835870998 K      1.4706004793202228 K\n",
       " 0.215471730000246 K    0.6591846602995064 K      1.2501471623831089 K\n",
       " 0.7235178344239022 K   0.24486903090358503 K     0.4583181520781392 K"
      ]
     },
     "execution_count": 32,
     "metadata": {},
     "output_type": "execute_result"
    }
   ],
   "source": [
    "@btime 2 * rand(Kelvin, 100, 100)"
   ]
  },
  {
   "cell_type": "code",
   "execution_count": 33,
   "id": "9d7608a2-bc19-4ab0-9336-0824753552ab",
   "metadata": {},
   "outputs": [],
   "source": [
    "struct DAQHit\n",
    "    dom_id::UInt32\n",
    "    pmt_id::UInt8\n",
    "    tot::UInt8\n",
    "    time::Float64\n",
    "end"
   ]
  },
  {
   "cell_type": "code",
   "execution_count": 34,
   "id": "9dba6d2a-ad6c-4813-be95-f7b900d95ccb",
   "metadata": {},
   "outputs": [],
   "source": [
    "import StatsBase: sample"
   ]
  },
  {
   "cell_type": "code",
   "execution_count": 36,
   "id": "917ba252-ec1e-456e-895a-f1fb8ce6e81b",
   "metadata": {},
   "outputs": [],
   "source": [
    "function Random.rand(rng::AbstractRNG, ::Random.SamplerType{DAQHit})\n",
    "    dom_id = sample([808123456, 809321654, 808765983, 809233667])\n",
    "    pmt_id = rand(0:30)\n",
    "    tot = rand(0:255)\n",
    "    time = rand() * 1e6\n",
    "    DAQHit(dom_id, pmt_id, tot, time)\n",
    "end"
   ]
  },
  {
   "cell_type": "code",
   "execution_count": 37,
   "id": "7a034145-39ba-4744-80c0-ca8befcb92a0",
   "metadata": {},
   "outputs": [
    {
     "data": {
      "text/plain": [
       "DAQHit(0x303d44b6, 0x18, 0x8e, 694947.2033514938)"
      ]
     },
     "execution_count": 37,
     "metadata": {},
     "output_type": "execute_result"
    }
   ],
   "source": [
    "rand(DAQHit)"
   ]
  },
  {
   "cell_type": "code",
   "execution_count": 38,
   "id": "d516efe3-eb6a-41c9-8516-8b714b96360a",
   "metadata": {},
   "outputs": [
    {
     "data": {
      "text/plain": [
       "100-element Vector{DAQHit}:\n",
       " DAQHit(0x302afc40, 0x05, 0x7f, 969399.3429786933)\n",
       " DAQHit(0x3034ca1f, 0x19, 0xa3, 594843.3182884052)\n",
       " DAQHit(0x303bed03, 0x13, 0xa4, 103175.67615491497)\n",
       " DAQHit(0x302afc40, 0x1e, 0xdd, 716435.8756371152)\n",
       " DAQHit(0x303bed03, 0x00, 0x54, 201869.22759825166)\n",
       " DAQHit(0x3034ca1f, 0x0d, 0x79, 574731.4090552957)\n",
       " DAQHit(0x303bed03, 0x05, 0x2b, 439890.5314304435)\n",
       " DAQHit(0x3034ca1f, 0x0c, 0xed, 355279.2567617096)\n",
       " DAQHit(0x303d44b6, 0x19, 0x3d, 98942.6292074702)\n",
       " DAQHit(0x302afc40, 0x11, 0x0a, 873734.4760333687)\n",
       " DAQHit(0x302afc40, 0x14, 0xb9, 151623.2432850937)\n",
       " DAQHit(0x303bed03, 0x18, 0xf4, 179873.88275197212)\n",
       " DAQHit(0x302afc40, 0x0f, 0x63, 340654.3593984197)\n",
       " ⋮\n",
       " DAQHit(0x302afc40, 0x18, 0xae, 47094.716354926015)\n",
       " DAQHit(0x3034ca1f, 0x15, 0x09, 948760.9204409916)\n",
       " DAQHit(0x303d44b6, 0x02, 0xbb, 212622.07926206588)\n",
       " DAQHit(0x302afc40, 0x12, 0x5c, 148827.26086976318)\n",
       " DAQHit(0x302afc40, 0x1b, 0xb4, 921495.892201782)\n",
       " DAQHit(0x3034ca1f, 0x10, 0xb8, 793642.7636521253)\n",
       " DAQHit(0x3034ca1f, 0x08, 0x18, 489583.7779812495)\n",
       " DAQHit(0x302afc40, 0x15, 0x4b, 550922.1383180065)\n",
       " DAQHit(0x303d44b6, 0x16, 0x66, 446878.6518953882)\n",
       " DAQHit(0x303d44b6, 0x0a, 0xef, 298318.2614103961)\n",
       " DAQHit(0x303d44b6, 0x0c, 0x47, 600839.2772199715)\n",
       " DAQHit(0x302afc40, 0x0d, 0x60, 656072.3359763183)"
      ]
     },
     "execution_count": 38,
     "metadata": {},
     "output_type": "execute_result"
    }
   ],
   "source": [
    "rand(DAQHit, 100)"
   ]
  },
  {
   "cell_type": "markdown",
   "id": "66a1db0e-e4f3-4ea6-a2a7-cf398709155c",
   "metadata": {},
   "source": [
    "### Plotting"
   ]
  },
  {
   "cell_type": "code",
   "execution_count": 39,
   "id": "34299457-b08f-41a6-b510-208ab62429a8",
   "metadata": {},
   "outputs": [],
   "source": [
    "using Plots"
   ]
  },
  {
   "cell_type": "code",
   "execution_count": 40,
   "id": "1259cf3f-6cd1-459f-b1ed-16c42d6461fa",
   "metadata": {},
   "outputs": [
    {
     "data": {
      "text/plain": [
       "100"
      ]
     },
     "execution_count": 40,
     "metadata": {},
     "output_type": "execute_result"
    }
   ],
   "source": [
    "n = 100"
   ]
  },
  {
   "cell_type": "code",
   "execution_count": 43,
   "id": "5c536f2f-c392-400c-ad10-dbb66b5b77d9",
   "metadata": {},
   "outputs": [
    {
     "data": {
      "image/svg+xml": [
       "<?xml version=\"1.0\" encoding=\"utf-8\"?>\n",
       "<svg xmlns=\"http://www.w3.org/2000/svg\" xmlns:xlink=\"http://www.w3.org/1999/xlink\" width=\"600\" height=\"400\" viewBox=\"0 0 2400 1600\">\n",
       "<defs>\n",
       "  <clipPath id=\"clip430\">\n",
       "    <rect x=\"0\" y=\"0\" width=\"2400\" height=\"1600\"/>\n",
       "  </clipPath>\n",
       "</defs>\n",
       "<path clip-path=\"url(#clip430)\" d=\"\n",
       "M0 1600 L2400 1600 L2400 0 L0 0  Z\n",
       "  \" fill=\"#ffffff\" fill-rule=\"evenodd\" fill-opacity=\"1\"/>\n",
       "<defs>\n",
       "  <clipPath id=\"clip431\">\n",
       "    <rect x=\"480\" y=\"0\" width=\"1681\" height=\"1600\"/>\n",
       "  </clipPath>\n",
       "</defs>\n",
       "<path clip-path=\"url(#clip430)\" d=\"\n",
       "M186.274 1486.45 L2352.76 1486.45 L2352.76 47.2441 L186.274 47.2441  Z\n",
       "  \" fill=\"#ffffff\" fill-rule=\"evenodd\" fill-opacity=\"1\"/>\n",
       "<defs>\n",
       "  <clipPath id=\"clip432\">\n",
       "    <rect x=\"186\" y=\"47\" width=\"2167\" height=\"1440\"/>\n",
       "  </clipPath>\n",
       "</defs>\n",
       "<polyline clip-path=\"url(#clip432)\" style=\"stroke:#000000; stroke-linecap:butt; stroke-linejoin:round; stroke-width:2; stroke-opacity:0.1; fill:none\" points=\"\n",
       "  226.945,1486.45 226.945,47.2441 \n",
       "  \"/>\n",
       "<polyline clip-path=\"url(#clip432)\" style=\"stroke:#000000; stroke-linecap:butt; stroke-linejoin:round; stroke-width:2; stroke-opacity:0.1; fill:none\" points=\"\n",
       "  743.069,1486.45 743.069,47.2441 \n",
       "  \"/>\n",
       "<polyline clip-path=\"url(#clip432)\" style=\"stroke:#000000; stroke-linecap:butt; stroke-linejoin:round; stroke-width:2; stroke-opacity:0.1; fill:none\" points=\"\n",
       "  1259.19,1486.45 1259.19,47.2441 \n",
       "  \"/>\n",
       "<polyline clip-path=\"url(#clip432)\" style=\"stroke:#000000; stroke-linecap:butt; stroke-linejoin:round; stroke-width:2; stroke-opacity:0.1; fill:none\" points=\"\n",
       "  1775.32,1486.45 1775.32,47.2441 \n",
       "  \"/>\n",
       "<polyline clip-path=\"url(#clip432)\" style=\"stroke:#000000; stroke-linecap:butt; stroke-linejoin:round; stroke-width:2; stroke-opacity:0.1; fill:none\" points=\"\n",
       "  2291.44,1486.45 2291.44,47.2441 \n",
       "  \"/>\n",
       "<polyline clip-path=\"url(#clip430)\" style=\"stroke:#000000; stroke-linecap:butt; stroke-linejoin:round; stroke-width:4; stroke-opacity:1; fill:none\" points=\"\n",
       "  186.274,1486.45 2352.76,1486.45 \n",
       "  \"/>\n",
       "<polyline clip-path=\"url(#clip430)\" style=\"stroke:#000000; stroke-linecap:butt; stroke-linejoin:round; stroke-width:4; stroke-opacity:1; fill:none\" points=\"\n",
       "  226.945,1486.45 226.945,1469.18 \n",
       "  \"/>\n",
       "<polyline clip-path=\"url(#clip430)\" style=\"stroke:#000000; stroke-linecap:butt; stroke-linejoin:round; stroke-width:4; stroke-opacity:1; fill:none\" points=\"\n",
       "  743.069,1486.45 743.069,1469.18 \n",
       "  \"/>\n",
       "<polyline clip-path=\"url(#clip430)\" style=\"stroke:#000000; stroke-linecap:butt; stroke-linejoin:round; stroke-width:4; stroke-opacity:1; fill:none\" points=\"\n",
       "  1259.19,1486.45 1259.19,1469.18 \n",
       "  \"/>\n",
       "<polyline clip-path=\"url(#clip430)\" style=\"stroke:#000000; stroke-linecap:butt; stroke-linejoin:round; stroke-width:4; stroke-opacity:1; fill:none\" points=\"\n",
       "  1775.32,1486.45 1775.32,1469.18 \n",
       "  \"/>\n",
       "<polyline clip-path=\"url(#clip430)\" style=\"stroke:#000000; stroke-linecap:butt; stroke-linejoin:round; stroke-width:4; stroke-opacity:1; fill:none\" points=\"\n",
       "  2291.44,1486.45 2291.44,1469.18 \n",
       "  \"/>\n",
       "<path clip-path=\"url(#clip430)\" d=\"M226.945 1515.64 Q223.333 1515.64 221.505 1519.2 Q219.699 1522.75 219.699 1529.87 Q219.699 1536.98 221.505 1540.55 Q223.333 1544.09 226.945 1544.09 Q230.579 1544.09 232.384 1540.55 Q234.213 1536.98 234.213 1529.87 Q234.213 1522.75 232.384 1519.2 Q230.579 1515.64 226.945 1515.64 M226.945 1511.93 Q232.755 1511.93 235.81 1516.54 Q238.889 1521.12 238.889 1529.87 Q238.889 1538.6 235.81 1543.21 Q232.755 1547.79 226.945 1547.79 Q221.134 1547.79 218.056 1543.21 Q215 1538.6 215 1529.87 Q215 1521.12 218.056 1516.54 Q221.134 1511.93 226.945 1511.93 Z\" fill=\"#000000\" fill-rule=\"evenodd\" fill-opacity=\"1\" /><path clip-path=\"url(#clip430)\" d=\"M722.339 1543.18 L738.659 1543.18 L738.659 1547.12 L716.714 1547.12 L716.714 1543.18 Q719.377 1540.43 723.96 1535.8 Q728.566 1531.15 729.747 1529.81 Q731.992 1527.28 732.872 1525.55 Q733.775 1523.79 733.775 1522.1 Q733.775 1519.34 731.83 1517.61 Q729.909 1515.87 726.807 1515.87 Q724.608 1515.87 722.154 1516.63 Q719.724 1517.4 716.946 1518.95 L716.946 1514.23 Q719.77 1513.09 722.224 1512.51 Q724.677 1511.93 726.714 1511.93 Q732.085 1511.93 735.279 1514.62 Q738.474 1517.31 738.474 1521.8 Q738.474 1523.93 737.663 1525.85 Q736.876 1527.74 734.77 1530.34 Q734.191 1531.01 731.089 1534.23 Q727.988 1537.42 722.339 1543.18 Z\" fill=\"#000000\" fill-rule=\"evenodd\" fill-opacity=\"1\" /><path clip-path=\"url(#clip430)\" d=\"M748.52 1512.56 L766.876 1512.56 L766.876 1516.5 L752.802 1516.5 L752.802 1524.97 Q753.821 1524.62 754.839 1524.46 Q755.858 1524.27 756.876 1524.27 Q762.663 1524.27 766.043 1527.44 Q769.423 1530.62 769.423 1536.03 Q769.423 1541.61 765.95 1544.71 Q762.478 1547.79 756.159 1547.79 Q753.983 1547.79 751.714 1547.42 Q749.469 1547.05 747.062 1546.31 L747.062 1541.61 Q749.145 1542.74 751.367 1543.3 Q753.589 1543.86 756.066 1543.86 Q760.071 1543.86 762.409 1541.75 Q764.747 1539.64 764.747 1536.03 Q764.747 1532.42 762.409 1530.31 Q760.071 1528.21 756.066 1528.21 Q754.191 1528.21 752.316 1528.62 Q750.464 1529.04 748.52 1529.92 L748.52 1512.56 Z\" fill=\"#000000\" fill-rule=\"evenodd\" fill-opacity=\"1\" /><path clip-path=\"url(#clip430)\" d=\"M1233.89 1512.56 L1252.25 1512.56 L1252.25 1516.5 L1238.17 1516.5 L1238.17 1524.97 Q1239.19 1524.62 1240.21 1524.46 Q1241.23 1524.27 1242.25 1524.27 Q1248.04 1524.27 1251.41 1527.44 Q1254.79 1530.62 1254.79 1536.03 Q1254.79 1541.61 1251.32 1544.71 Q1247.85 1547.79 1241.53 1547.79 Q1239.35 1547.79 1237.09 1547.42 Q1234.84 1547.05 1232.43 1546.31 L1232.43 1541.61 Q1234.52 1542.74 1236.74 1543.3 Q1238.96 1543.86 1241.44 1543.86 Q1245.44 1543.86 1247.78 1541.75 Q1250.12 1539.64 1250.12 1536.03 Q1250.12 1532.42 1247.78 1530.31 Q1245.44 1528.21 1241.44 1528.21 Q1239.56 1528.21 1237.69 1528.62 Q1235.84 1529.04 1233.89 1529.92 L1233.89 1512.56 Z\" fill=\"#000000\" fill-rule=\"evenodd\" fill-opacity=\"1\" /><path clip-path=\"url(#clip430)\" d=\"M1274.01 1515.64 Q1270.4 1515.64 1268.57 1519.2 Q1266.76 1522.75 1266.76 1529.87 Q1266.76 1536.98 1268.57 1540.55 Q1270.4 1544.09 1274.01 1544.09 Q1277.64 1544.09 1279.45 1540.55 Q1281.28 1536.98 1281.28 1529.87 Q1281.28 1522.75 1279.45 1519.2 Q1277.64 1515.64 1274.01 1515.64 M1274.01 1511.93 Q1279.82 1511.93 1282.87 1516.54 Q1285.95 1521.12 1285.95 1529.87 Q1285.95 1538.6 1282.87 1543.21 Q1279.82 1547.79 1274.01 1547.79 Q1268.2 1547.79 1265.12 1543.21 Q1262.06 1538.6 1262.06 1529.87 Q1262.06 1521.12 1265.12 1516.54 Q1268.2 1511.93 1274.01 1511.93 Z\" fill=\"#000000\" fill-rule=\"evenodd\" fill-opacity=\"1\" /><path clip-path=\"url(#clip430)\" d=\"M1749.17 1512.56 L1771.39 1512.56 L1771.39 1514.55 L1758.85 1547.12 L1753.96 1547.12 L1765.77 1516.5 L1749.17 1516.5 L1749.17 1512.56 Z\" fill=\"#000000\" fill-rule=\"evenodd\" fill-opacity=\"1\" /><path clip-path=\"url(#clip430)\" d=\"M1780.56 1512.56 L1798.92 1512.56 L1798.92 1516.5 L1784.84 1516.5 L1784.84 1524.97 Q1785.86 1524.62 1786.88 1524.46 Q1787.9 1524.27 1788.92 1524.27 Q1794.7 1524.27 1798.08 1527.44 Q1801.46 1530.62 1801.46 1536.03 Q1801.46 1541.61 1797.99 1544.71 Q1794.52 1547.79 1788.2 1547.79 Q1786.02 1547.79 1783.75 1547.42 Q1781.51 1547.05 1779.1 1546.31 L1779.1 1541.61 Q1781.18 1542.74 1783.41 1543.3 Q1785.63 1543.86 1788.11 1543.86 Q1792.11 1543.86 1794.45 1541.75 Q1796.79 1539.64 1796.79 1536.03 Q1796.79 1532.42 1794.45 1530.31 Q1792.11 1528.21 1788.11 1528.21 Q1786.23 1528.21 1784.36 1528.62 Q1782.5 1529.04 1780.56 1529.92 L1780.56 1512.56 Z\" fill=\"#000000\" fill-rule=\"evenodd\" fill-opacity=\"1\" /><path clip-path=\"url(#clip430)\" d=\"M2251.05 1543.18 L2258.69 1543.18 L2258.69 1516.82 L2250.38 1518.49 L2250.38 1514.23 L2258.64 1512.56 L2263.32 1512.56 L2263.32 1543.18 L2270.95 1543.18 L2270.95 1547.12 L2251.05 1547.12 L2251.05 1543.18 Z\" fill=\"#000000\" fill-rule=\"evenodd\" fill-opacity=\"1\" /><path clip-path=\"url(#clip430)\" d=\"M2290.4 1515.64 Q2286.79 1515.64 2284.96 1519.2 Q2283.15 1522.75 2283.15 1529.87 Q2283.15 1536.98 2284.96 1540.55 Q2286.79 1544.09 2290.4 1544.09 Q2294.03 1544.09 2295.84 1540.55 Q2297.67 1536.98 2297.67 1529.87 Q2297.67 1522.75 2295.84 1519.2 Q2294.03 1515.64 2290.4 1515.64 M2290.4 1511.93 Q2296.21 1511.93 2299.26 1516.54 Q2302.34 1521.12 2302.34 1529.87 Q2302.34 1538.6 2299.26 1543.21 Q2296.21 1547.79 2290.4 1547.79 Q2284.59 1547.79 2281.51 1543.21 Q2278.45 1538.6 2278.45 1529.87 Q2278.45 1521.12 2281.51 1516.54 Q2284.59 1511.93 2290.4 1511.93 Z\" fill=\"#000000\" fill-rule=\"evenodd\" fill-opacity=\"1\" /><path clip-path=\"url(#clip430)\" d=\"M2320.56 1515.64 Q2316.95 1515.64 2315.12 1519.2 Q2313.32 1522.75 2313.32 1529.87 Q2313.32 1536.98 2315.12 1540.55 Q2316.95 1544.09 2320.56 1544.09 Q2324.19 1544.09 2326 1540.55 Q2327.83 1536.98 2327.83 1529.87 Q2327.83 1522.75 2326 1519.2 Q2324.19 1515.64 2320.56 1515.64 M2320.56 1511.93 Q2326.37 1511.93 2329.43 1516.54 Q2332.5 1521.12 2332.5 1529.87 Q2332.5 1538.6 2329.43 1543.21 Q2326.37 1547.79 2320.56 1547.79 Q2314.75 1547.79 2311.67 1543.21 Q2308.62 1538.6 2308.62 1529.87 Q2308.62 1521.12 2311.67 1516.54 Q2314.75 1511.93 2320.56 1511.93 Z\" fill=\"#000000\" fill-rule=\"evenodd\" fill-opacity=\"1\" /><polyline clip-path=\"url(#clip432)\" style=\"stroke:#000000; stroke-linecap:butt; stroke-linejoin:round; stroke-width:2; stroke-opacity:0.1; fill:none\" points=\"\n",
       "  186.274,1473.61 2352.76,1473.61 \n",
       "  \"/>\n",
       "<polyline clip-path=\"url(#clip432)\" style=\"stroke:#000000; stroke-linecap:butt; stroke-linejoin:round; stroke-width:2; stroke-opacity:0.1; fill:none\" points=\"\n",
       "  186.274,1126.51 2352.76,1126.51 \n",
       "  \"/>\n",
       "<polyline clip-path=\"url(#clip432)\" style=\"stroke:#000000; stroke-linecap:butt; stroke-linejoin:round; stroke-width:2; stroke-opacity:0.1; fill:none\" points=\"\n",
       "  186.274,779.417 2352.76,779.417 \n",
       "  \"/>\n",
       "<polyline clip-path=\"url(#clip432)\" style=\"stroke:#000000; stroke-linecap:butt; stroke-linejoin:round; stroke-width:2; stroke-opacity:0.1; fill:none\" points=\"\n",
       "  186.274,432.32 2352.76,432.32 \n",
       "  \"/>\n",
       "<polyline clip-path=\"url(#clip432)\" style=\"stroke:#000000; stroke-linecap:butt; stroke-linejoin:round; stroke-width:2; stroke-opacity:0.1; fill:none\" points=\"\n",
       "  186.274,85.2226 2352.76,85.2226 \n",
       "  \"/>\n",
       "<polyline clip-path=\"url(#clip430)\" style=\"stroke:#000000; stroke-linecap:butt; stroke-linejoin:round; stroke-width:4; stroke-opacity:1; fill:none\" points=\"\n",
       "  186.274,1486.45 186.274,47.2441 \n",
       "  \"/>\n",
       "<polyline clip-path=\"url(#clip430)\" style=\"stroke:#000000; stroke-linecap:butt; stroke-linejoin:round; stroke-width:4; stroke-opacity:1; fill:none\" points=\"\n",
       "  186.274,1473.61 212.272,1473.61 \n",
       "  \"/>\n",
       "<polyline clip-path=\"url(#clip430)\" style=\"stroke:#000000; stroke-linecap:butt; stroke-linejoin:round; stroke-width:4; stroke-opacity:1; fill:none\" points=\"\n",
       "  186.274,1126.51 212.272,1126.51 \n",
       "  \"/>\n",
       "<polyline clip-path=\"url(#clip430)\" style=\"stroke:#000000; stroke-linecap:butt; stroke-linejoin:round; stroke-width:4; stroke-opacity:1; fill:none\" points=\"\n",
       "  186.274,779.417 212.272,779.417 \n",
       "  \"/>\n",
       "<polyline clip-path=\"url(#clip430)\" style=\"stroke:#000000; stroke-linecap:butt; stroke-linejoin:round; stroke-width:4; stroke-opacity:1; fill:none\" points=\"\n",
       "  186.274,432.32 212.272,432.32 \n",
       "  \"/>\n",
       "<polyline clip-path=\"url(#clip430)\" style=\"stroke:#000000; stroke-linecap:butt; stroke-linejoin:round; stroke-width:4; stroke-opacity:1; fill:none\" points=\"\n",
       "  186.274,85.2226 212.272,85.2226 \n",
       "  \"/>\n",
       "<path clip-path=\"url(#clip430)\" d=\"M62.9365 1459.41 Q59.3254 1459.41 57.4967 1462.97 Q55.6912 1466.52 55.6912 1473.65 Q55.6912 1480.75 57.4967 1484.32 Q59.3254 1487.86 62.9365 1487.86 Q66.5707 1487.86 68.3763 1484.32 Q70.205 1480.75 70.205 1473.65 Q70.205 1466.52 68.3763 1462.97 Q66.5707 1459.41 62.9365 1459.41 M62.9365 1455.71 Q68.7467 1455.71 71.8022 1460.31 Q74.8809 1464.9 74.8809 1473.65 Q74.8809 1482.37 71.8022 1486.98 Q68.7467 1491.56 62.9365 1491.56 Q57.1264 1491.56 54.0477 1486.98 Q50.9921 1482.37 50.9921 1473.65 Q50.9921 1464.9 54.0477 1460.31 Q57.1264 1455.71 62.9365 1455.71 Z\" fill=\"#000000\" fill-rule=\"evenodd\" fill-opacity=\"1\" /><path clip-path=\"url(#clip430)\" d=\"M83.0984 1485.01 L87.9827 1485.01 L87.9827 1490.89 L83.0984 1490.89 L83.0984 1485.01 Z\" fill=\"#000000\" fill-rule=\"evenodd\" fill-opacity=\"1\" /><path clip-path=\"url(#clip430)\" d=\"M108.168 1459.41 Q104.557 1459.41 102.728 1462.97 Q100.922 1466.52 100.922 1473.65 Q100.922 1480.75 102.728 1484.32 Q104.557 1487.86 108.168 1487.86 Q111.802 1487.86 113.608 1484.32 Q115.436 1480.75 115.436 1473.65 Q115.436 1466.52 113.608 1462.97 Q111.802 1459.41 108.168 1459.41 M108.168 1455.71 Q113.978 1455.71 117.033 1460.31 Q120.112 1464.9 120.112 1473.65 Q120.112 1482.37 117.033 1486.98 Q113.978 1491.56 108.168 1491.56 Q102.358 1491.56 99.2789 1486.98 Q96.2234 1482.37 96.2234 1473.65 Q96.2234 1464.9 99.2789 1460.31 Q102.358 1455.71 108.168 1455.71 Z\" fill=\"#000000\" fill-rule=\"evenodd\" fill-opacity=\"1\" /><path clip-path=\"url(#clip430)\" d=\"M138.33 1459.41 Q134.719 1459.41 132.89 1462.97 Q131.084 1466.52 131.084 1473.65 Q131.084 1480.75 132.89 1484.32 Q134.719 1487.86 138.33 1487.86 Q141.964 1487.86 143.769 1484.32 Q145.598 1480.75 145.598 1473.65 Q145.598 1466.52 143.769 1462.97 Q141.964 1459.41 138.33 1459.41 M138.33 1455.71 Q144.14 1455.71 147.195 1460.31 Q150.274 1464.9 150.274 1473.65 Q150.274 1482.37 147.195 1486.98 Q144.14 1491.56 138.33 1491.56 Q132.519 1491.56 129.441 1486.98 Q126.385 1482.37 126.385 1473.65 Q126.385 1464.9 129.441 1460.31 Q132.519 1455.71 138.33 1455.71 Z\" fill=\"#000000\" fill-rule=\"evenodd\" fill-opacity=\"1\" /><path clip-path=\"url(#clip430)\" d=\"M63.9319 1112.31 Q60.3208 1112.31 58.4921 1115.88 Q56.6865 1119.42 56.6865 1126.55 Q56.6865 1133.65 58.4921 1137.22 Q60.3208 1140.76 63.9319 1140.76 Q67.5661 1140.76 69.3717 1137.22 Q71.2004 1133.65 71.2004 1126.55 Q71.2004 1119.42 69.3717 1115.88 Q67.5661 1112.31 63.9319 1112.31 M63.9319 1108.61 Q69.742 1108.61 72.7976 1113.22 Q75.8763 1117.8 75.8763 1126.55 Q75.8763 1135.28 72.7976 1139.88 Q69.742 1144.47 63.9319 1144.47 Q58.1217 1144.47 55.043 1139.88 Q51.9875 1135.28 51.9875 1126.55 Q51.9875 1117.8 55.043 1113.22 Q58.1217 1108.61 63.9319 1108.61 Z\" fill=\"#000000\" fill-rule=\"evenodd\" fill-opacity=\"1\" /><path clip-path=\"url(#clip430)\" d=\"M84.0938 1137.91 L88.978 1137.91 L88.978 1143.79 L84.0938 1143.79 L84.0938 1137.91 Z\" fill=\"#000000\" fill-rule=\"evenodd\" fill-opacity=\"1\" /><path clip-path=\"url(#clip430)\" d=\"M103.191 1139.86 L119.51 1139.86 L119.51 1143.79 L97.566 1143.79 L97.566 1139.86 Q100.228 1137.1 104.811 1132.47 Q109.418 1127.82 110.598 1126.48 Q112.844 1123.96 113.723 1122.22 Q114.626 1120.46 114.626 1118.77 Q114.626 1116.02 112.682 1114.28 Q110.76 1112.54 107.658 1112.54 Q105.459 1112.54 103.006 1113.31 Q100.575 1114.07 97.7974 1115.62 L97.7974 1110.9 Q100.621 1109.77 103.075 1109.19 Q105.529 1108.61 107.566 1108.61 Q112.936 1108.61 116.131 1111.29 Q119.325 1113.98 119.325 1118.47 Q119.325 1120.6 118.515 1122.52 Q117.728 1124.42 115.621 1127.01 Q115.043 1127.68 111.941 1130.9 Q108.839 1134.09 103.191 1139.86 Z\" fill=\"#000000\" fill-rule=\"evenodd\" fill-opacity=\"1\" /><path clip-path=\"url(#clip430)\" d=\"M129.371 1109.23 L147.728 1109.23 L147.728 1113.17 L133.654 1113.17 L133.654 1121.64 Q134.672 1121.29 135.691 1121.13 Q136.709 1120.95 137.728 1120.95 Q143.515 1120.95 146.894 1124.12 Q150.274 1127.29 150.274 1132.71 Q150.274 1138.28 146.802 1141.39 Q143.33 1144.47 137.01 1144.47 Q134.834 1144.47 132.566 1144.09 Q130.32 1143.72 127.913 1142.98 L127.913 1138.28 Q129.996 1139.42 132.219 1139.97 Q134.441 1140.53 136.918 1140.53 Q140.922 1140.53 143.26 1138.42 Q145.598 1136.32 145.598 1132.71 Q145.598 1129.09 143.26 1126.99 Q140.922 1124.88 136.918 1124.88 Q135.043 1124.88 133.168 1125.3 Q131.316 1125.72 129.371 1126.59 L129.371 1109.23 Z\" fill=\"#000000\" fill-rule=\"evenodd\" fill-opacity=\"1\" /><path clip-path=\"url(#clip430)\" d=\"M62.9365 765.215 Q59.3254 765.215 57.4967 768.78 Q55.6912 772.322 55.6912 779.451 Q55.6912 786.558 57.4967 790.123 Q59.3254 793.664 62.9365 793.664 Q66.5707 793.664 68.3763 790.123 Q70.205 786.558 70.205 779.451 Q70.205 772.322 68.3763 768.78 Q66.5707 765.215 62.9365 765.215 M62.9365 761.512 Q68.7467 761.512 71.8022 766.118 Q74.8809 770.701 74.8809 779.451 Q74.8809 788.178 71.8022 792.785 Q68.7467 797.368 62.9365 797.368 Q57.1264 797.368 54.0477 792.785 Q50.9921 788.178 50.9921 779.451 Q50.9921 770.701 54.0477 766.118 Q57.1264 761.512 62.9365 761.512 Z\" fill=\"#000000\" fill-rule=\"evenodd\" fill-opacity=\"1\" /><path clip-path=\"url(#clip430)\" d=\"M83.0984 790.817 L87.9827 790.817 L87.9827 796.697 L83.0984 796.697 L83.0984 790.817 Z\" fill=\"#000000\" fill-rule=\"evenodd\" fill-opacity=\"1\" /><path clip-path=\"url(#clip430)\" d=\"M98.2141 762.137 L116.57 762.137 L116.57 766.072 L102.496 766.072 L102.496 774.544 Q103.515 774.197 104.534 774.035 Q105.552 773.85 106.571 773.85 Q112.358 773.85 115.737 777.021 Q119.117 780.192 119.117 785.609 Q119.117 791.187 115.645 794.289 Q112.172 797.368 105.853 797.368 Q103.677 797.368 101.409 796.998 Q99.1632 796.627 96.7558 795.886 L96.7558 791.187 Q98.8391 792.322 101.061 792.877 Q103.284 793.433 105.76 793.433 Q109.765 793.433 112.103 791.326 Q114.441 789.22 114.441 785.609 Q114.441 781.998 112.103 779.891 Q109.765 777.785 105.76 777.785 Q103.885 777.785 102.01 778.201 Q100.159 778.618 98.2141 779.498 L98.2141 762.137 Z\" fill=\"#000000\" fill-rule=\"evenodd\" fill-opacity=\"1\" /><path clip-path=\"url(#clip430)\" d=\"M138.33 765.215 Q134.719 765.215 132.89 768.78 Q131.084 772.322 131.084 779.451 Q131.084 786.558 132.89 790.123 Q134.719 793.664 138.33 793.664 Q141.964 793.664 143.769 790.123 Q145.598 786.558 145.598 779.451 Q145.598 772.322 143.769 768.78 Q141.964 765.215 138.33 765.215 M138.33 761.512 Q144.14 761.512 147.195 766.118 Q150.274 770.701 150.274 779.451 Q150.274 788.178 147.195 792.785 Q144.14 797.368 138.33 797.368 Q132.519 797.368 129.441 792.785 Q126.385 788.178 126.385 779.451 Q126.385 770.701 129.441 766.118 Q132.519 761.512 138.33 761.512 Z\" fill=\"#000000\" fill-rule=\"evenodd\" fill-opacity=\"1\" /><path clip-path=\"url(#clip430)\" d=\"M63.9319 418.118 Q60.3208 418.118 58.4921 421.683 Q56.6865 425.225 56.6865 432.354 Q56.6865 439.461 58.4921 443.026 Q60.3208 446.567 63.9319 446.567 Q67.5661 446.567 69.3717 443.026 Q71.2004 439.461 71.2004 432.354 Q71.2004 425.225 69.3717 421.683 Q67.5661 418.118 63.9319 418.118 M63.9319 414.415 Q69.742 414.415 72.7976 419.021 Q75.8763 423.604 75.8763 432.354 Q75.8763 441.081 72.7976 445.688 Q69.742 450.271 63.9319 450.271 Q58.1217 450.271 55.043 445.688 Q51.9875 441.081 51.9875 432.354 Q51.9875 423.604 55.043 419.021 Q58.1217 414.415 63.9319 414.415 Z\" fill=\"#000000\" fill-rule=\"evenodd\" fill-opacity=\"1\" /><path clip-path=\"url(#clip430)\" d=\"M84.0938 443.72 L88.978 443.72 L88.978 449.6 L84.0938 449.6 L84.0938 443.72 Z\" fill=\"#000000\" fill-rule=\"evenodd\" fill-opacity=\"1\" /><path clip-path=\"url(#clip430)\" d=\"M97.9826 415.04 L120.205 415.04 L120.205 417.03 L107.658 449.6 L102.774 449.6 L114.58 418.975 L97.9826 418.975 L97.9826 415.04 Z\" fill=\"#000000\" fill-rule=\"evenodd\" fill-opacity=\"1\" /><path clip-path=\"url(#clip430)\" d=\"M129.371 415.04 L147.728 415.04 L147.728 418.975 L133.654 418.975 L133.654 427.447 Q134.672 427.1 135.691 426.938 Q136.709 426.753 137.728 426.753 Q143.515 426.753 146.894 429.924 Q150.274 433.095 150.274 438.512 Q150.274 444.09 146.802 447.192 Q143.33 450.271 137.01 450.271 Q134.834 450.271 132.566 449.901 Q130.32 449.53 127.913 448.789 L127.913 444.09 Q129.996 445.225 132.219 445.78 Q134.441 446.336 136.918 446.336 Q140.922 446.336 143.26 444.229 Q145.598 442.123 145.598 438.512 Q145.598 434.901 143.26 432.794 Q140.922 430.688 136.918 430.688 Q135.043 430.688 133.168 431.104 Q131.316 431.521 129.371 432.401 L129.371 415.04 Z\" fill=\"#000000\" fill-rule=\"evenodd\" fill-opacity=\"1\" /><path clip-path=\"url(#clip430)\" d=\"M53.7467 98.5674 L61.3856 98.5674 L61.3856 72.2018 L53.0754 73.8684 L53.0754 69.6092 L61.3393 67.9426 L66.0152 67.9426 L66.0152 98.5674 L73.654 98.5674 L73.654 102.503 L53.7467 102.503 L53.7467 98.5674 Z\" fill=\"#000000\" fill-rule=\"evenodd\" fill-opacity=\"1\" /><path clip-path=\"url(#clip430)\" d=\"M83.0984 96.623 L87.9827 96.623 L87.9827 102.503 L83.0984 102.503 L83.0984 96.623 Z\" fill=\"#000000\" fill-rule=\"evenodd\" fill-opacity=\"1\" /><path clip-path=\"url(#clip430)\" d=\"M108.168 71.0212 Q104.557 71.0212 102.728 74.586 Q100.922 78.1277 100.922 85.2573 Q100.922 92.3637 102.728 95.9285 Q104.557 99.4702 108.168 99.4702 Q111.802 99.4702 113.608 95.9285 Q115.436 92.3637 115.436 85.2573 Q115.436 78.1277 113.608 74.586 Q111.802 71.0212 108.168 71.0212 M108.168 67.3176 Q113.978 67.3176 117.033 71.924 Q120.112 76.5073 120.112 85.2573 Q120.112 93.9841 117.033 98.5905 Q113.978 103.174 108.168 103.174 Q102.358 103.174 99.2789 98.5905 Q96.2234 93.9841 96.2234 85.2573 Q96.2234 76.5073 99.2789 71.924 Q102.358 67.3176 108.168 67.3176 Z\" fill=\"#000000\" fill-rule=\"evenodd\" fill-opacity=\"1\" /><path clip-path=\"url(#clip430)\" d=\"M138.33 71.0212 Q134.719 71.0212 132.89 74.586 Q131.084 78.1277 131.084 85.2573 Q131.084 92.3637 132.89 95.9285 Q134.719 99.4702 138.33 99.4702 Q141.964 99.4702 143.769 95.9285 Q145.598 92.3637 145.598 85.2573 Q145.598 78.1277 143.769 74.586 Q141.964 71.0212 138.33 71.0212 M138.33 67.3176 Q144.14 67.3176 147.195 71.924 Q150.274 76.5073 150.274 85.2573 Q150.274 93.9841 147.195 98.5905 Q144.14 103.174 138.33 103.174 Q132.519 103.174 129.441 98.5905 Q126.385 93.9841 126.385 85.2573 Q126.385 76.5073 129.441 71.924 Q132.519 67.3176 138.33 67.3176 Z\" fill=\"#000000\" fill-rule=\"evenodd\" fill-opacity=\"1\" /><polyline clip-path=\"url(#clip432)\" style=\"stroke:#009af9; stroke-linecap:butt; stroke-linejoin:round; stroke-width:4; stroke-opacity:1; fill:none\" points=\"\n",
       "  247.59,1066.3 268.234,1024.87 288.879,1223 309.524,301.623 330.169,630.446 350.814,1035.52 371.459,1332.71 392.104,1191.81 412.749,757.921 433.394,714.471 \n",
       "  454.039,96.2956 474.684,1070.85 495.329,1121.45 515.974,496.289 536.619,952.664 557.264,1183.66 577.909,836.767 598.554,134.871 619.199,1270.04 639.844,311.646 \n",
       "  660.489,489.426 681.134,201.056 701.779,969.423 722.424,1337.41 743.069,640.864 763.713,1196.96 784.358,503.002 805.003,172.438 825.648,696.749 846.293,683.651 \n",
       "  866.938,1406.38 887.583,883.217 908.228,1122.14 928.873,110.411 949.518,668.5 970.163,1206.66 990.808,458.436 1011.45,229.425 1032.1,600.046 1052.74,675.175 \n",
       "  1073.39,1052.34 1094.03,1182.43 1114.68,1333.75 1135.32,1414.76 1155.97,246.772 1176.61,634.114 1197.26,1350.22 1217.9,158.776 1238.55,612.65 1259.19,396.451 \n",
       "  1279.84,245.788 1300.48,1139.77 1321.13,1381.72 1341.77,1077.22 1362.42,1332.86 1383.06,1445.72 1403.71,997.408 1424.35,885.935 1445,610.192 1465.64,276.644 \n",
       "  1486.29,983.034 1506.93,102.784 1527.58,1324.74 1548.22,406.482 1568.87,1029.99 1589.51,1197.8 1610.16,1076.26 1630.8,1169.86 1651.45,539.167 1672.09,149.581 \n",
       "  1692.74,999.531 1713.38,1418.37 1734.03,891.852 1754.67,506.836 1775.32,1297.89 1795.96,489.068 1816.61,365.265 1837.25,126.702 1857.9,1162.8 1878.54,986.32 \n",
       "  1899.19,486.177 1919.83,848.814 1940.48,361.956 1961.12,1039.11 1981.77,911.204 2002.41,1140.24 2023.06,1078.13 2043.7,700.011 2064.35,1091.46 2084.99,459.257 \n",
       "  2105.64,527.496 2126.28,345.689 2146.93,1080.59 2167.57,861.02 2188.22,934.915 2208.86,87.9763 2229.51,1230.88 2250.15,182.286 2270.8,554.152 2291.44,551.187 \n",
       "  \n",
       "  \"/>\n",
       "<path clip-path=\"url(#clip430)\" d=\"\n",
       "M1987.39 216.178 L2280.54 216.178 L2280.54 95.2176 L1987.39 95.2176  Z\n",
       "  \" fill=\"#ffffff\" fill-rule=\"evenodd\" fill-opacity=\"1\"/>\n",
       "<polyline clip-path=\"url(#clip430)\" style=\"stroke:#000000; stroke-linecap:butt; stroke-linejoin:round; stroke-width:4; stroke-opacity:1; fill:none\" points=\"\n",
       "  1987.39,216.178 2280.54,216.178 2280.54,95.2176 1987.39,95.2176 1987.39,216.178 \n",
       "  \"/>\n",
       "<polyline clip-path=\"url(#clip430)\" style=\"stroke:#009af9; stroke-linecap:butt; stroke-linejoin:round; stroke-width:4; stroke-opacity:1; fill:none\" points=\"\n",
       "  2011.46,155.698 2155.89,155.698 \n",
       "  \"/>\n",
       "<path clip-path=\"url(#clip430)\" d=\"M2193.81 175.385 Q2192 180.015 2190.29 181.427 Q2188.58 182.839 2185.71 182.839 L2182.3 182.839 L2182.3 179.274 L2184.8 179.274 Q2186.56 179.274 2187.53 178.44 Q2188.51 177.607 2189.69 174.505 L2190.45 172.561 L2179.97 147.052 L2184.48 147.052 L2192.58 167.329 L2200.68 147.052 L2205.2 147.052 L2193.81 175.385 Z\" fill=\"#000000\" fill-rule=\"evenodd\" fill-opacity=\"1\" /><path clip-path=\"url(#clip430)\" d=\"M2212.49 169.042 L2220.13 169.042 L2220.13 142.677 L2211.82 144.343 L2211.82 140.084 L2220.08 138.418 L2224.76 138.418 L2224.76 169.042 L2232.4 169.042 L2232.4 172.978 L2212.49 172.978 L2212.49 169.042 Z\" fill=\"#000000\" fill-rule=\"evenodd\" fill-opacity=\"1\" /></svg>\n"
      ]
     },
     "execution_count": 43,
     "metadata": {},
     "output_type": "execute_result"
    }
   ],
   "source": [
    "plot(1:100, rand(n))"
   ]
  },
  {
   "cell_type": "code",
   "execution_count": 44,
   "id": "fe8177a6-6892-43ba-b4e8-885fef248d45",
   "metadata": {},
   "outputs": [
    {
     "data": {
      "text/plain": [
       "1:100"
      ]
     },
     "execution_count": 44,
     "metadata": {},
     "output_type": "execute_result"
    }
   ],
   "source": [
    "1:100"
   ]
  },
  {
   "cell_type": "code",
   "execution_count": 50,
   "id": "2c9ae692-a184-4323-8e93-645c14806548",
   "metadata": {},
   "outputs": [
    {
     "data": {
      "text/plain": [
       "6-element Vector{Int64}:\n",
       "  0\n",
       "  2\n",
       "  4\n",
       "  6\n",
       "  8\n",
       " 10"
      ]
     },
     "execution_count": 50,
     "metadata": {},
     "output_type": "execute_result"
    }
   ],
   "source": [
    "collect(range(0, 10; step=2))"
   ]
  },
  {
   "cell_type": "code",
   "execution_count": 51,
   "id": "a3c4caf4-4bde-4884-83b9-8fadac43e165",
   "metadata": {},
   "outputs": [
    {
     "data": {
      "image/svg+xml": [
       "<?xml version=\"1.0\" encoding=\"utf-8\"?>\n",
       "<svg xmlns=\"http://www.w3.org/2000/svg\" xmlns:xlink=\"http://www.w3.org/1999/xlink\" width=\"600\" height=\"400\" viewBox=\"0 0 2400 1600\">\n",
       "<defs>\n",
       "  <clipPath id=\"clip470\">\n",
       "    <rect x=\"0\" y=\"0\" width=\"2400\" height=\"1600\"/>\n",
       "  </clipPath>\n",
       "</defs>\n",
       "<path clip-path=\"url(#clip470)\" d=\"\n",
       "M0 1600 L2400 1600 L2400 0 L0 0  Z\n",
       "  \" fill=\"#ffffff\" fill-rule=\"evenodd\" fill-opacity=\"1\"/>\n",
       "<defs>\n",
       "  <clipPath id=\"clip471\">\n",
       "    <rect x=\"480\" y=\"0\" width=\"1681\" height=\"1600\"/>\n",
       "  </clipPath>\n",
       "</defs>\n",
       "<path clip-path=\"url(#clip470)\" d=\"\n",
       "M193.936 1486.45 L2352.76 1486.45 L2352.76 47.2441 L193.936 47.2441  Z\n",
       "  \" fill=\"#ffffff\" fill-rule=\"evenodd\" fill-opacity=\"1\"/>\n",
       "<defs>\n",
       "  <clipPath id=\"clip472\">\n",
       "    <rect x=\"193\" y=\"47\" width=\"2160\" height=\"1440\"/>\n",
       "  </clipPath>\n",
       "</defs>\n",
       "<polyline clip-path=\"url(#clip472)\" style=\"stroke:#000000; stroke-linecap:butt; stroke-linejoin:round; stroke-width:2; stroke-opacity:0.1; fill:none\" points=\"\n",
       "  481.326,1486.45 481.326,47.2441 \n",
       "  \"/>\n",
       "<polyline clip-path=\"url(#clip472)\" style=\"stroke:#000000; stroke-linecap:butt; stroke-linejoin:round; stroke-width:2; stroke-opacity:0.1; fill:none\" points=\"\n",
       "  933.909,1486.45 933.909,47.2441 \n",
       "  \"/>\n",
       "<polyline clip-path=\"url(#clip472)\" style=\"stroke:#000000; stroke-linecap:butt; stroke-linejoin:round; stroke-width:2; stroke-opacity:0.1; fill:none\" points=\"\n",
       "  1386.49,1486.45 1386.49,47.2441 \n",
       "  \"/>\n",
       "<polyline clip-path=\"url(#clip472)\" style=\"stroke:#000000; stroke-linecap:butt; stroke-linejoin:round; stroke-width:2; stroke-opacity:0.1; fill:none\" points=\"\n",
       "  1839.07,1486.45 1839.07,47.2441 \n",
       "  \"/>\n",
       "<polyline clip-path=\"url(#clip472)\" style=\"stroke:#000000; stroke-linecap:butt; stroke-linejoin:round; stroke-width:2; stroke-opacity:0.1; fill:none\" points=\"\n",
       "  2291.66,1486.45 2291.66,47.2441 \n",
       "  \"/>\n",
       "<polyline clip-path=\"url(#clip470)\" style=\"stroke:#000000; stroke-linecap:butt; stroke-linejoin:round; stroke-width:4; stroke-opacity:1; fill:none\" points=\"\n",
       "  193.936,1486.45 2352.76,1486.45 \n",
       "  \"/>\n",
       "<polyline clip-path=\"url(#clip470)\" style=\"stroke:#000000; stroke-linecap:butt; stroke-linejoin:round; stroke-width:4; stroke-opacity:1; fill:none\" points=\"\n",
       "  481.326,1486.45 481.326,1469.18 \n",
       "  \"/>\n",
       "<polyline clip-path=\"url(#clip470)\" style=\"stroke:#000000; stroke-linecap:butt; stroke-linejoin:round; stroke-width:4; stroke-opacity:1; fill:none\" points=\"\n",
       "  933.909,1486.45 933.909,1469.18 \n",
       "  \"/>\n",
       "<polyline clip-path=\"url(#clip470)\" style=\"stroke:#000000; stroke-linecap:butt; stroke-linejoin:round; stroke-width:4; stroke-opacity:1; fill:none\" points=\"\n",
       "  1386.49,1486.45 1386.49,1469.18 \n",
       "  \"/>\n",
       "<polyline clip-path=\"url(#clip470)\" style=\"stroke:#000000; stroke-linecap:butt; stroke-linejoin:round; stroke-width:4; stroke-opacity:1; fill:none\" points=\"\n",
       "  1839.07,1486.45 1839.07,1469.18 \n",
       "  \"/>\n",
       "<polyline clip-path=\"url(#clip470)\" style=\"stroke:#000000; stroke-linecap:butt; stroke-linejoin:round; stroke-width:4; stroke-opacity:1; fill:none\" points=\"\n",
       "  2291.66,1486.45 2291.66,1469.18 \n",
       "  \"/>\n",
       "<path clip-path=\"url(#clip470)\" d=\"M475.979 1543.18 L492.298 1543.18 L492.298 1547.12 L470.354 1547.12 L470.354 1543.18 Q473.016 1540.43 477.599 1535.8 Q482.206 1531.15 483.386 1529.81 Q485.632 1527.28 486.511 1525.55 Q487.414 1523.79 487.414 1522.1 Q487.414 1519.34 485.47 1517.61 Q483.548 1515.87 480.446 1515.87 Q478.247 1515.87 475.794 1516.63 Q473.363 1517.4 470.585 1518.95 L470.585 1514.23 Q473.409 1513.09 475.863 1512.51 Q478.317 1511.93 480.354 1511.93 Q485.724 1511.93 488.919 1514.62 Q492.113 1517.31 492.113 1521.8 Q492.113 1523.93 491.303 1525.85 Q490.516 1527.74 488.409 1530.34 Q487.831 1531.01 484.729 1534.23 Q481.627 1537.42 475.979 1543.18 Z\" fill=\"#000000\" fill-rule=\"evenodd\" fill-opacity=\"1\" /><path clip-path=\"url(#clip470)\" d=\"M936.918 1516.63 L925.113 1535.08 L936.918 1535.08 L936.918 1516.63 M935.691 1512.56 L941.571 1512.56 L941.571 1535.08 L946.501 1535.08 L946.501 1538.97 L941.571 1538.97 L941.571 1547.12 L936.918 1547.12 L936.918 1538.97 L921.316 1538.97 L921.316 1534.46 L935.691 1512.56 Z\" fill=\"#000000\" fill-rule=\"evenodd\" fill-opacity=\"1\" /><path clip-path=\"url(#clip470)\" d=\"M1386.9 1527.98 Q1383.75 1527.98 1381.9 1530.13 Q1380.07 1532.28 1380.07 1536.03 Q1380.07 1539.76 1381.9 1541.93 Q1383.75 1544.09 1386.9 1544.09 Q1390.04 1544.09 1391.87 1541.93 Q1393.73 1539.76 1393.73 1536.03 Q1393.73 1532.28 1391.87 1530.13 Q1390.04 1527.98 1386.9 1527.98 M1396.18 1513.32 L1396.18 1517.58 Q1394.42 1516.75 1392.61 1516.31 Q1390.83 1515.87 1389.07 1515.87 Q1384.44 1515.87 1381.99 1519 Q1379.56 1522.12 1379.21 1528.44 Q1380.58 1526.43 1382.64 1525.36 Q1384.7 1524.27 1387.17 1524.27 Q1392.38 1524.27 1395.39 1527.44 Q1398.42 1530.59 1398.42 1536.03 Q1398.42 1541.36 1395.28 1544.57 Q1392.13 1547.79 1386.9 1547.79 Q1380.9 1547.79 1377.73 1543.21 Q1374.56 1538.6 1374.56 1529.87 Q1374.56 1521.68 1378.45 1516.82 Q1382.34 1511.93 1388.89 1511.93 Q1390.65 1511.93 1392.43 1512.28 Q1394.23 1512.63 1396.18 1513.32 Z\" fill=\"#000000\" fill-rule=\"evenodd\" fill-opacity=\"1\" /><path clip-path=\"url(#clip470)\" d=\"M1839.07 1530.71 Q1835.74 1530.71 1833.82 1532.49 Q1831.92 1534.27 1831.92 1537.4 Q1831.92 1540.52 1833.82 1542.31 Q1835.74 1544.09 1839.07 1544.09 Q1842.41 1544.09 1844.33 1542.31 Q1846.25 1540.5 1846.25 1537.4 Q1846.25 1534.27 1844.33 1532.49 Q1842.43 1530.71 1839.07 1530.71 M1834.4 1528.72 Q1831.39 1527.98 1829.7 1525.92 Q1828.03 1523.86 1828.03 1520.89 Q1828.03 1516.75 1830.97 1514.34 Q1833.94 1511.93 1839.07 1511.93 Q1844.24 1511.93 1847.18 1514.34 Q1850.12 1516.75 1850.12 1520.89 Q1850.12 1523.86 1848.43 1525.92 Q1846.76 1527.98 1843.77 1528.72 Q1847.15 1529.5 1849.03 1531.8 Q1850.93 1534.09 1850.93 1537.4 Q1850.93 1542.42 1847.85 1545.11 Q1844.79 1547.79 1839.07 1547.79 Q1833.36 1547.79 1830.28 1545.11 Q1827.22 1542.42 1827.22 1537.4 Q1827.22 1534.09 1829.12 1531.8 Q1831.02 1529.5 1834.4 1528.72 M1832.69 1521.33 Q1832.69 1524.02 1834.35 1525.52 Q1836.04 1527.03 1839.07 1527.03 Q1842.08 1527.03 1843.77 1525.52 Q1845.49 1524.02 1845.49 1521.33 Q1845.49 1518.65 1843.77 1517.14 Q1842.08 1515.64 1839.07 1515.64 Q1836.04 1515.64 1834.35 1517.14 Q1832.69 1518.65 1832.69 1521.33 Z\" fill=\"#000000\" fill-rule=\"evenodd\" fill-opacity=\"1\" /><path clip-path=\"url(#clip470)\" d=\"M2266.34 1543.18 L2273.98 1543.18 L2273.98 1516.82 L2265.67 1518.49 L2265.67 1514.23 L2273.94 1512.56 L2278.61 1512.56 L2278.61 1543.18 L2286.25 1543.18 L2286.25 1547.12 L2266.34 1547.12 L2266.34 1543.18 Z\" fill=\"#000000\" fill-rule=\"evenodd\" fill-opacity=\"1\" /><path clip-path=\"url(#clip470)\" d=\"M2305.7 1515.64 Q2302.09 1515.64 2300.26 1519.2 Q2298.45 1522.75 2298.45 1529.87 Q2298.45 1536.98 2300.26 1540.55 Q2302.09 1544.09 2305.7 1544.09 Q2309.33 1544.09 2311.14 1540.55 Q2312.96 1536.98 2312.96 1529.87 Q2312.96 1522.75 2311.14 1519.2 Q2309.33 1515.64 2305.7 1515.64 M2305.7 1511.93 Q2311.51 1511.93 2314.56 1516.54 Q2317.64 1521.12 2317.64 1529.87 Q2317.64 1538.6 2314.56 1543.21 Q2311.51 1547.79 2305.7 1547.79 Q2299.89 1547.79 2296.81 1543.21 Q2293.75 1538.6 2293.75 1529.87 Q2293.75 1521.12 2296.81 1516.54 Q2299.89 1511.93 2305.7 1511.93 Z\" fill=\"#000000\" fill-rule=\"evenodd\" fill-opacity=\"1\" /><polyline clip-path=\"url(#clip472)\" style=\"stroke:#000000; stroke-linecap:butt; stroke-linejoin:round; stroke-width:2; stroke-opacity:0.1; fill:none\" points=\"\n",
       "  193.936,1389.65 2352.76,1389.65 \n",
       "  \"/>\n",
       "<polyline clip-path=\"url(#clip472)\" style=\"stroke:#000000; stroke-linecap:butt; stroke-linejoin:round; stroke-width:2; stroke-opacity:0.1; fill:none\" points=\"\n",
       "  193.936,1064.23 2352.76,1064.23 \n",
       "  \"/>\n",
       "<polyline clip-path=\"url(#clip472)\" style=\"stroke:#000000; stroke-linecap:butt; stroke-linejoin:round; stroke-width:2; stroke-opacity:0.1; fill:none\" points=\"\n",
       "  193.936,738.813 2352.76,738.813 \n",
       "  \"/>\n",
       "<polyline clip-path=\"url(#clip472)\" style=\"stroke:#000000; stroke-linecap:butt; stroke-linejoin:round; stroke-width:2; stroke-opacity:0.1; fill:none\" points=\"\n",
       "  193.936,413.394 2352.76,413.394 \n",
       "  \"/>\n",
       "<polyline clip-path=\"url(#clip472)\" style=\"stroke:#000000; stroke-linecap:butt; stroke-linejoin:round; stroke-width:2; stroke-opacity:0.1; fill:none\" points=\"\n",
       "  193.936,87.9751 2352.76,87.9751 \n",
       "  \"/>\n",
       "<polyline clip-path=\"url(#clip470)\" style=\"stroke:#000000; stroke-linecap:butt; stroke-linejoin:round; stroke-width:4; stroke-opacity:1; fill:none\" points=\"\n",
       "  193.936,1486.45 193.936,47.2441 \n",
       "  \"/>\n",
       "<polyline clip-path=\"url(#clip470)\" style=\"stroke:#000000; stroke-linecap:butt; stroke-linejoin:round; stroke-width:4; stroke-opacity:1; fill:none\" points=\"\n",
       "  193.936,1389.65 219.842,1389.65 \n",
       "  \"/>\n",
       "<polyline clip-path=\"url(#clip470)\" style=\"stroke:#000000; stroke-linecap:butt; stroke-linejoin:round; stroke-width:4; stroke-opacity:1; fill:none\" points=\"\n",
       "  193.936,1064.23 219.842,1064.23 \n",
       "  \"/>\n",
       "<polyline clip-path=\"url(#clip470)\" style=\"stroke:#000000; stroke-linecap:butt; stroke-linejoin:round; stroke-width:4; stroke-opacity:1; fill:none\" points=\"\n",
       "  193.936,738.813 219.842,738.813 \n",
       "  \"/>\n",
       "<polyline clip-path=\"url(#clip470)\" style=\"stroke:#000000; stroke-linecap:butt; stroke-linejoin:round; stroke-width:4; stroke-opacity:1; fill:none\" points=\"\n",
       "  193.936,413.394 219.842,413.394 \n",
       "  \"/>\n",
       "<polyline clip-path=\"url(#clip470)\" style=\"stroke:#000000; stroke-linecap:butt; stroke-linejoin:round; stroke-width:4; stroke-opacity:1; fill:none\" points=\"\n",
       "  193.936,87.9751 219.842,87.9751 \n",
       "  \"/>\n",
       "<path clip-path=\"url(#clip470)\" d=\"M50.9921 1390.1 L80.6679 1390.1 L80.6679 1394.04 L50.9921 1394.04 L50.9921 1390.1 Z\" fill=\"#000000\" fill-rule=\"evenodd\" fill-opacity=\"1\" /><path clip-path=\"url(#clip470)\" d=\"M91.5706 1402.99 L99.2095 1402.99 L99.2095 1376.63 L90.8993 1378.3 L90.8993 1374.04 L99.1632 1372.37 L103.839 1372.37 L103.839 1402.99 L111.478 1402.99 L111.478 1406.93 L91.5706 1406.93 L91.5706 1402.99 Z\" fill=\"#000000\" fill-rule=\"evenodd\" fill-opacity=\"1\" /><path clip-path=\"url(#clip470)\" d=\"M120.922 1401.05 L125.807 1401.05 L125.807 1406.93 L120.922 1406.93 L120.922 1401.05 Z\" fill=\"#000000\" fill-rule=\"evenodd\" fill-opacity=\"1\" /><path clip-path=\"url(#clip470)\" d=\"M145.992 1375.45 Q142.381 1375.45 140.552 1379.01 Q138.746 1382.56 138.746 1389.68 Q138.746 1396.79 140.552 1400.36 Q142.381 1403.9 145.992 1403.9 Q149.626 1403.9 151.431 1400.36 Q153.26 1396.79 153.26 1389.68 Q153.26 1382.56 151.431 1379.01 Q149.626 1375.45 145.992 1375.45 M145.992 1371.75 Q151.802 1371.75 154.857 1376.35 Q157.936 1380.93 157.936 1389.68 Q157.936 1398.41 154.857 1403.02 Q151.802 1407.6 145.992 1407.6 Q140.181 1407.6 137.103 1403.02 Q134.047 1398.41 134.047 1389.68 Q134.047 1380.93 137.103 1376.35 Q140.181 1371.75 145.992 1371.75 Z\" fill=\"#000000\" fill-rule=\"evenodd\" fill-opacity=\"1\" /><path clip-path=\"url(#clip470)\" d=\"M51.9875 1064.68 L81.6633 1064.68 L81.6633 1068.62 L51.9875 1068.62 L51.9875 1064.68 Z\" fill=\"#000000\" fill-rule=\"evenodd\" fill-opacity=\"1\" /><path clip-path=\"url(#clip470)\" d=\"M101.756 1050.03 Q98.1447 1050.03 96.316 1053.59 Q94.5104 1057.14 94.5104 1064.27 Q94.5104 1071.37 96.316 1074.94 Q98.1447 1078.48 101.756 1078.48 Q105.39 1078.48 107.196 1074.94 Q109.024 1071.37 109.024 1064.27 Q109.024 1057.14 107.196 1053.59 Q105.39 1050.03 101.756 1050.03 M101.756 1046.33 Q107.566 1046.33 110.621 1050.93 Q113.7 1055.52 113.7 1064.27 Q113.7 1072.99 110.621 1077.6 Q107.566 1082.18 101.756 1082.18 Q95.9456 1082.18 92.8669 1077.6 Q89.8114 1072.99 89.8114 1064.27 Q89.8114 1055.52 92.8669 1050.93 Q95.9456 1046.33 101.756 1046.33 Z\" fill=\"#000000\" fill-rule=\"evenodd\" fill-opacity=\"1\" /><path clip-path=\"url(#clip470)\" d=\"M121.918 1075.63 L126.802 1075.63 L126.802 1081.51 L121.918 1081.51 L121.918 1075.63 Z\" fill=\"#000000\" fill-rule=\"evenodd\" fill-opacity=\"1\" /><path clip-path=\"url(#clip470)\" d=\"M137.033 1046.95 L155.39 1046.95 L155.39 1050.89 L141.316 1050.89 L141.316 1059.36 Q142.334 1059.01 143.353 1058.85 Q144.371 1058.66 145.39 1058.66 Q151.177 1058.66 154.556 1061.84 Q157.936 1065.01 157.936 1070.42 Q157.936 1076 154.464 1079.1 Q150.992 1082.18 144.672 1082.18 Q142.496 1082.18 140.228 1081.81 Q137.982 1081.44 135.575 1080.7 L135.575 1076 Q137.658 1077.14 139.881 1077.69 Q142.103 1078.25 144.58 1078.25 Q148.584 1078.25 150.922 1076.14 Q153.26 1074.03 153.26 1070.42 Q153.26 1066.81 150.922 1064.71 Q148.584 1062.6 144.58 1062.6 Q142.705 1062.6 140.83 1063.02 Q138.978 1063.43 137.033 1064.31 L137.033 1046.95 Z\" fill=\"#000000\" fill-rule=\"evenodd\" fill-opacity=\"1\" /><path clip-path=\"url(#clip470)\" d=\"M100.76 724.611 Q97.1493 724.611 95.3206 728.176 Q93.515 731.718 93.515 738.847 Q93.515 745.954 95.3206 749.519 Q97.1493 753.06 100.76 753.06 Q104.395 753.06 106.2 749.519 Q108.029 745.954 108.029 738.847 Q108.029 731.718 106.2 728.176 Q104.395 724.611 100.76 724.611 M100.76 720.908 Q106.571 720.908 109.626 725.514 Q112.705 730.097 112.705 738.847 Q112.705 747.574 109.626 752.181 Q106.571 756.764 100.76 756.764 Q94.9502 756.764 91.8715 752.181 Q88.816 747.574 88.816 738.847 Q88.816 730.097 91.8715 725.514 Q94.9502 720.908 100.76 720.908 Z\" fill=\"#000000\" fill-rule=\"evenodd\" fill-opacity=\"1\" /><path clip-path=\"url(#clip470)\" d=\"M120.922 750.213 L125.807 750.213 L125.807 756.093 L120.922 756.093 L120.922 750.213 Z\" fill=\"#000000\" fill-rule=\"evenodd\" fill-opacity=\"1\" /><path clip-path=\"url(#clip470)\" d=\"M145.992 724.611 Q142.381 724.611 140.552 728.176 Q138.746 731.718 138.746 738.847 Q138.746 745.954 140.552 749.519 Q142.381 753.06 145.992 753.06 Q149.626 753.06 151.431 749.519 Q153.26 745.954 153.26 738.847 Q153.26 731.718 151.431 728.176 Q149.626 724.611 145.992 724.611 M145.992 720.908 Q151.802 720.908 154.857 725.514 Q157.936 730.097 157.936 738.847 Q157.936 747.574 154.857 752.181 Q151.802 756.764 145.992 756.764 Q140.181 756.764 137.103 752.181 Q134.047 747.574 134.047 738.847 Q134.047 730.097 137.103 725.514 Q140.181 720.908 145.992 720.908 Z\" fill=\"#000000\" fill-rule=\"evenodd\" fill-opacity=\"1\" /><path clip-path=\"url(#clip470)\" d=\"M101.756 399.193 Q98.1447 399.193 96.316 402.757 Q94.5104 406.299 94.5104 413.429 Q94.5104 420.535 96.316 424.1 Q98.1447 427.641 101.756 427.641 Q105.39 427.641 107.196 424.1 Q109.024 420.535 109.024 413.429 Q109.024 406.299 107.196 402.757 Q105.39 399.193 101.756 399.193 M101.756 395.489 Q107.566 395.489 110.621 400.095 Q113.7 404.679 113.7 413.429 Q113.7 422.155 110.621 426.762 Q107.566 431.345 101.756 431.345 Q95.9456 431.345 92.8669 426.762 Q89.8114 422.155 89.8114 413.429 Q89.8114 404.679 92.8669 400.095 Q95.9456 395.489 101.756 395.489 Z\" fill=\"#000000\" fill-rule=\"evenodd\" fill-opacity=\"1\" /><path clip-path=\"url(#clip470)\" d=\"M121.918 424.794 L126.802 424.794 L126.802 430.674 L121.918 430.674 L121.918 424.794 Z\" fill=\"#000000\" fill-rule=\"evenodd\" fill-opacity=\"1\" /><path clip-path=\"url(#clip470)\" d=\"M137.033 396.114 L155.39 396.114 L155.39 400.049 L141.316 400.049 L141.316 408.521 Q142.334 408.174 143.353 408.012 Q144.371 407.827 145.39 407.827 Q151.177 407.827 154.556 410.998 Q157.936 414.169 157.936 419.586 Q157.936 425.165 154.464 428.266 Q150.992 431.345 144.672 431.345 Q142.496 431.345 140.228 430.975 Q137.982 430.604 135.575 429.864 L135.575 425.165 Q137.658 426.299 139.881 426.854 Q142.103 427.41 144.58 427.41 Q148.584 427.41 150.922 425.304 Q153.26 423.197 153.26 419.586 Q153.26 415.975 150.922 413.868 Q148.584 411.762 144.58 411.762 Q142.705 411.762 140.83 412.179 Q138.978 412.595 137.033 413.475 L137.033 396.114 Z\" fill=\"#000000\" fill-rule=\"evenodd\" fill-opacity=\"1\" /><path clip-path=\"url(#clip470)\" d=\"M91.5706 101.32 L99.2095 101.32 L99.2095 74.9544 L90.8993 76.621 L90.8993 72.3618 L99.1632 70.6951 L103.839 70.6951 L103.839 101.32 L111.478 101.32 L111.478 105.255 L91.5706 105.255 L91.5706 101.32 Z\" fill=\"#000000\" fill-rule=\"evenodd\" fill-opacity=\"1\" /><path clip-path=\"url(#clip470)\" d=\"M120.922 99.3755 L125.807 99.3755 L125.807 105.255 L120.922 105.255 L120.922 99.3755 Z\" fill=\"#000000\" fill-rule=\"evenodd\" fill-opacity=\"1\" /><path clip-path=\"url(#clip470)\" d=\"M145.992 73.7738 Q142.381 73.7738 140.552 77.3386 Q138.746 80.8803 138.746 88.0099 Q138.746 95.1163 140.552 98.6811 Q142.381 102.223 145.992 102.223 Q149.626 102.223 151.431 98.6811 Q153.26 95.1163 153.26 88.0099 Q153.26 80.8803 151.431 77.3386 Q149.626 73.7738 145.992 73.7738 M145.992 70.0701 Q151.802 70.0701 154.857 74.6766 Q157.936 79.2599 157.936 88.0099 Q157.936 96.7367 154.857 101.343 Q151.802 105.926 145.992 105.926 Q140.181 105.926 137.103 101.343 Q134.047 96.7367 134.047 88.0099 Q134.047 79.2599 137.103 74.6766 Q140.181 70.0701 145.992 70.0701 Z\" fill=\"#000000\" fill-rule=\"evenodd\" fill-opacity=\"1\" /><polyline clip-path=\"url(#clip472)\" style=\"stroke:#009af9; stroke-linecap:butt; stroke-linejoin:round; stroke-width:4; stroke-opacity:1; fill:none\" points=\"\n",
       "  255.035,191.152 257.073,188.006 259.112,184.905 261.151,181.849 263.189,178.838 265.228,175.873 267.267,172.953 269.305,170.079 271.344,167.251 273.383,164.47 \n",
       "  275.421,161.735 277.46,159.048 279.499,156.407 281.537,153.813 283.576,151.267 285.615,148.769 287.653,146.319 289.692,143.916 291.731,141.562 293.769,139.257 \n",
       "  295.808,137 297.847,134.792 299.885,132.633 301.924,130.523 303.963,128.462 306.001,126.451 308.04,124.49 310.079,122.579 312.117,120.717 314.156,118.906 \n",
       "  316.195,117.145 318.233,115.435 320.272,113.775 322.31,112.166 324.349,110.607 326.388,109.1 328.426,107.644 330.465,106.239 332.504,104.885 334.542,103.583 \n",
       "  336.581,102.333 338.62,101.134 340.658,99.9865 342.697,98.8912 344.736,97.8478 346.774,96.8564 348.813,95.9171 350.852,95.03 352.89,94.1952 354.929,93.4127 \n",
       "  356.968,92.6825 359.006,92.0048 361.045,91.3796 363.084,90.807 365.122,90.2869 367.161,89.8195 369.2,89.4047 371.238,89.0426 373.277,88.7333 375.316,88.4768 \n",
       "  377.354,88.273 379.393,88.122 381.432,88.0239 383.47,87.9785 385.509,87.986 387.548,88.0463 389.586,88.1594 391.625,88.3254 393.664,88.5441 395.702,88.8156 \n",
       "  397.741,89.1398 399.78,89.5168 401.818,89.9465 403.857,90.4288 405.896,90.9638 407.934,91.5514 409.973,92.1914 412.012,92.884 414.05,93.629 416.089,94.4263 \n",
       "  418.128,95.276 420.166,96.1779 422.205,97.1319 424.244,98.138 426.282,99.1961 428.321,100.306 430.36,101.468 432.398,102.682 434.437,103.947 436.476,105.264 \n",
       "  438.514,106.632 440.553,108.051 442.592,109.522 444.63,111.044 446.669,112.616 448.707,114.24 450.746,115.914 452.785,117.639 454.823,119.414 456.862,121.239 \n",
       "  458.901,123.115 460.939,125.04 462.978,127.016 465.017,129.041 467.055,131.115 469.094,133.239 471.133,135.412 473.171,137.634 475.21,139.905 477.249,142.224 \n",
       "  479.287,144.592 481.326,147.008 483.365,149.472 485.403,151.984 487.442,154.543 489.481,157.15 491.519,159.804 493.558,162.505 495.597,165.253 497.635,168.048 \n",
       "  499.674,170.888 501.713,173.775 503.751,176.708 505.79,179.686 507.829,182.71 509.867,185.779 511.906,188.892 513.945,192.051 515.983,195.254 518.022,198.5 \n",
       "  520.061,201.791 522.099,205.125 524.138,208.503 526.177,211.924 528.215,215.387 530.254,218.893 532.293,222.441 534.331,226.031 536.37,229.663 538.409,233.336 \n",
       "  540.447,237.049 542.486,240.804 544.525,244.599 546.563,248.434 548.602,252.309 550.641,256.224 552.679,260.178 554.718,264.17 556.757,268.201 558.795,272.27 \n",
       "  560.834,276.378 562.873,280.522 564.911,284.704 566.95,288.923 568.989,293.178 571.027,297.469 573.066,301.796 575.104,306.159 577.143,310.557 579.182,314.989 \n",
       "  581.22,319.456 583.259,323.957 585.298,328.492 587.336,333.06 589.375,337.661 591.414,342.294 593.452,346.96 595.491,351.657 597.53,356.386 599.568,361.146 \n",
       "  601.607,365.936 603.646,370.757 605.684,375.608 607.723,380.488 609.762,385.397 611.8,390.335 613.839,395.301 615.878,400.295 617.916,405.317 619.955,410.366 \n",
       "  621.994,415.441 624.032,420.542 626.071,425.67 628.11,430.822 630.148,436 632.187,441.202 634.226,446.429 636.264,451.679 638.303,456.953 640.342,462.249 \n",
       "  642.38,467.568 644.419,472.909 646.458,478.271 648.496,483.655 650.535,489.059 652.574,494.484 654.612,499.928 656.651,505.392 658.69,510.875 660.728,516.376 \n",
       "  662.767,521.895 664.806,527.432 666.844,532.986 668.883,538.557 670.922,544.144 672.96,549.747 674.999,555.365 677.038,560.998 679.076,566.645 681.115,572.307 \n",
       "  683.154,577.982 685.192,583.67 687.231,589.37 689.27,595.083 691.308,600.807 693.347,606.543 695.385,612.289 697.424,618.046 699.463,623.812 701.501,629.588 \n",
       "  703.54,635.373 705.579,641.166 707.617,646.966 709.656,652.775 711.695,658.59 713.733,664.412 715.772,670.24 717.811,676.073 719.849,681.912 721.888,687.755 \n",
       "  723.927,693.602 725.965,699.453 728.004,705.308 730.043,711.165 732.081,717.024 734.12,722.885 736.159,728.747 738.197,734.61 740.236,740.473 742.275,746.336 \n",
       "  744.313,752.199 746.352,758.061 748.391,763.921 750.429,769.779 752.468,775.634 754.507,781.486 756.545,787.335 758.584,793.18 760.623,799.021 762.661,804.857 \n",
       "  764.7,810.687 766.739,816.512 768.777,822.33 770.816,828.141 772.855,833.946 774.893,839.742 776.932,845.53 778.971,851.31 781.009,857.081 783.048,862.841 \n",
       "  785.087,868.592 787.125,874.333 789.164,880.062 791.203,885.78 793.241,891.486 795.28,897.179 797.319,902.86 799.357,908.527 801.396,914.181 803.435,919.82 \n",
       "  805.473,925.445 807.512,931.054 809.551,936.648 811.589,942.226 813.628,947.787 815.667,953.332 817.705,958.859 819.744,964.368 821.782,969.859 823.821,975.331 \n",
       "  825.86,980.784 827.898,986.217 829.937,991.63 831.976,997.022 834.014,1002.39 836.053,1007.74 838.092,1013.07 840.13,1018.38 842.169,1023.66 844.208,1028.92 \n",
       "  846.246,1034.16 848.285,1039.37 850.324,1044.56 852.362,1049.72 854.401,1054.86 856.44,1059.98 858.478,1065.06 860.517,1070.12 862.556,1075.16 864.594,1080.16 \n",
       "  866.633,1085.14 868.672,1090.09 870.71,1095.01 872.749,1099.91 874.788,1104.77 876.826,1109.6 878.865,1114.41 880.904,1119.18 882.942,1123.92 884.981,1128.63 \n",
       "  887.02,1133.31 889.058,1137.96 891.097,1142.57 893.136,1147.16 895.174,1151.71 897.213,1156.22 899.252,1160.7 901.29,1165.15 903.329,1169.56 905.368,1173.94 \n",
       "  907.406,1178.28 909.445,1182.59 911.484,1186.86 913.522,1191.1 915.561,1195.29 917.6,1199.46 919.638,1203.58 921.677,1207.66 923.716,1211.71 925.754,1215.72 \n",
       "  927.793,1219.69 929.832,1223.62 931.87,1227.52 933.909,1231.37 935.948,1235.18 937.986,1238.95 940.025,1242.68 942.064,1246.38 944.102,1250.02 946.141,1253.63 \n",
       "  948.179,1257.2 950.218,1260.72 952.257,1264.21 954.295,1267.64 956.334,1271.04 958.373,1274.39 960.411,1277.7 962.45,1280.97 964.489,1284.19 966.527,1287.37 \n",
       "  968.566,1290.5 970.605,1293.59 972.643,1296.63 974.682,1299.63 976.721,1302.58 978.759,1305.49 980.798,1308.35 982.837,1311.17 984.875,1313.93 986.914,1316.66 \n",
       "  988.953,1319.33 990.991,1321.96 993.03,1324.54 995.069,1327.07 997.107,1329.56 999.146,1331.99 1001.18,1334.38 1003.22,1336.72 1005.26,1339.01 1007.3,1341.26 \n",
       "  1009.34,1343.45 1011.38,1345.6 1013.42,1347.69 1015.46,1349.74 1017.49,1351.73 1019.53,1353.68 1021.57,1355.58 1023.61,1357.43 1025.65,1359.22 1027.69,1360.97 \n",
       "  1029.73,1362.67 1031.76,1364.31 1033.8,1365.91 1035.84,1367.45 1037.88,1368.94 1039.92,1370.38 1041.96,1371.77 1044,1373.11 1046.04,1374.4 1048.07,1375.64 \n",
       "  1050.11,1376.82 1052.15,1377.95 1054.19,1379.03 1056.23,1380.06 1058.27,1381.04 1060.31,1381.96 1062.34,1382.84 1064.38,1383.66 1066.42,1384.42 1068.46,1385.14 \n",
       "  1070.5,1385.8 1072.54,1386.41 1074.58,1386.97 1076.62,1387.48 1078.65,1387.93 1080.69,1388.33 1082.73,1388.68 1084.77,1388.97 1086.81,1389.21 1088.85,1389.4 \n",
       "  1090.89,1389.54 1092.92,1389.62 1094.96,1389.65 1097,1389.63 1099.04,1389.55 1101.08,1389.42 1103.12,1389.24 1105.16,1389.01 1107.2,1388.72 1109.23,1388.38 \n",
       "  1111.27,1387.99 1113.31,1387.55 1115.35,1387.05 1117.39,1386.5 1119.43,1385.9 1121.47,1385.24 1123.5,1384.54 1125.54,1383.78 1127.58,1382.96 1129.62,1382.1 \n",
       "  1131.66,1381.18 1133.7,1380.21 1135.74,1379.19 1137.77,1378.12 1139.81,1377 1141.85,1375.82 1143.89,1374.59 1145.93,1373.31 1147.97,1371.98 1150.01,1370.6 \n",
       "  1152.05,1369.16 1154.08,1367.68 1156.12,1366.14 1158.16,1364.55 1160.2,1362.92 1162.24,1361.23 1164.28,1359.49 1166.32,1357.7 1168.35,1355.86 1170.39,1353.97 \n",
       "  1172.43,1352.03 1174.47,1350.04 1176.51,1348 1178.55,1345.91 1180.59,1343.78 1182.63,1341.59 1184.66,1339.35 1186.7,1337.07 1188.74,1334.74 1190.78,1332.35 \n",
       "  1192.82,1329.92 1194.86,1327.45 1196.9,1324.92 1198.93,1322.35 1200.97,1319.73 1203.01,1317.06 1205.05,1314.35 1207.09,1311.59 1209.13,1308.78 1211.17,1305.92 \n",
       "  1213.21,1303.02 1215.24,1300.08 1217.28,1297.09 1219.32,1294.05 1221.36,1290.97 1223.4,1287.84 1225.44,1284.67 1227.48,1281.46 1229.51,1278.2 1231.55,1274.89 \n",
       "  1233.59,1271.55 1235.63,1268.16 1237.67,1264.73 1239.71,1261.25 1241.75,1257.73 1243.79,1254.17 1245.82,1250.57 1247.86,1246.93 1249.9,1243.24 1251.94,1239.52 \n",
       "  1253.98,1235.75 1256.02,1231.94 1258.06,1228.1 1260.09,1224.21 1262.13,1220.29 1264.17,1216.32 1266.21,1212.32 1268.25,1208.28 1270.29,1204.2 1272.33,1200.08 \n",
       "  1274.37,1195.92 1276.4,1191.73 1278.44,1187.5 1280.48,1183.24 1282.52,1178.93 1284.56,1174.6 1286.6,1170.22 1288.64,1165.82 1290.67,1161.37 1292.71,1156.9 \n",
       "  1294.75,1152.39 1296.79,1147.84 1298.83,1143.27 1300.87,1138.66 1302.91,1134.01 1304.95,1129.34 1306.98,1124.63 1309.02,1119.89 1311.06,1115.13 1313.1,1110.33 \n",
       "  1315.14,1105.5 1317.18,1100.64 1319.22,1095.75 1321.25,1090.83 1323.29,1085.89 1325.33,1080.91 1327.37,1075.91 1329.41,1070.88 1331.45,1065.83 1333.49,1060.74 \n",
       "  1335.53,1055.63 1337.56,1050.5 1339.6,1045.34 1341.64,1040.15 1343.68,1034.95 1345.72,1029.71 1347.76,1024.45 1349.8,1019.17 1351.83,1013.87 1353.87,1008.55 \n",
       "  1355.91,1003.2 1357.95,997.831 1359.99,992.442 1362.03,987.032 1364.07,981.602 1366.11,976.152 1368.14,970.683 1370.18,965.195 1372.22,959.688 1374.26,954.164 \n",
       "  1376.3,948.622 1378.34,943.063 1380.38,937.488 1382.41,931.896 1384.45,926.289 1386.49,920.667 1388.53,915.03 1390.57,909.378 1392.61,903.713 1394.65,898.034 \n",
       "  1396.68,892.342 1398.72,886.638 1400.76,880.922 1402.8,875.195 1404.84,869.456 1406.88,863.707 1408.92,857.947 1410.96,852.178 1412.99,846.4 1415.03,840.613 \n",
       "  1417.07,834.818 1419.11,829.015 1421.15,823.204 1423.19,817.387 1425.23,811.563 1427.26,805.734 1429.3,799.899 1431.34,794.059 1433.38,788.214 1435.42,782.366 \n",
       "  1437.46,776.514 1439.5,770.659 1441.54,764.802 1443.57,758.942 1445.61,753.08 1447.65,747.218 1449.69,741.355 1451.73,735.491 1453.77,729.628 1455.81,723.766 \n",
       "  1457.84,717.905 1459.88,712.045 1461.92,706.188 1463.96,700.333 1466,694.482 1468.04,688.634 1470.08,682.79 1472.12,676.951 1474.15,671.117 1476.19,665.288 \n",
       "  1478.23,659.465 1480.27,653.649 1482.31,647.839 1484.35,642.037 1486.39,636.243 1488.42,630.457 1490.46,624.68 1492.5,618.912 1494.54,613.154 1496.58,607.406 \n",
       "  1498.62,601.669 1500.66,595.943 1502.7,590.228 1504.73,584.526 1506.77,578.836 1508.81,573.159 1510.85,567.496 1512.89,561.846 1514.93,556.211 1516.97,550.59 \n",
       "  1519,544.985 1521.04,539.396 1523.08,533.823 1525.12,528.266 1527.16,522.726 1529.2,517.204 1531.24,511.701 1533.28,506.215 1535.31,500.748 1537.35,495.301 \n",
       "  1539.39,489.873 1541.43,484.466 1543.47,479.079 1545.51,473.714 1547.55,468.37 1549.58,463.047 1551.62,457.748 1553.66,452.471 1555.7,447.217 1557.74,441.987 \n",
       "  1559.78,436.781 1561.82,431.599 1563.86,426.443 1565.89,421.312 1567.93,416.206 1569.97,411.127 1572.01,406.074 1574.05,401.049 1576.09,396.05 1578.13,391.08 \n",
       "  1580.16,386.138 1582.2,381.224 1584.24,376.34 1586.28,371.485 1588.32,366.659 1590.36,361.864 1592.4,357.1 1594.44,352.366 1596.47,347.664 1598.51,342.994 \n",
       "  1600.55,338.355 1602.59,333.75 1604.63,329.177 1606.67,324.637 1608.71,320.131 1610.74,315.659 1612.78,311.221 1614.82,306.818 1616.86,302.45 1618.9,298.118 \n",
       "  1620.94,293.821 1622.98,289.56 1625.02,285.336 1627.05,281.149 1629.09,276.998 1631.13,272.886 1633.17,268.811 1635.21,264.774 1637.25,260.775 1639.29,256.816 \n",
       "  1641.32,252.896 1643.36,249.015 1645.4,245.173 1647.44,241.372 1649.48,237.611 1651.52,233.891 1653.56,230.212 1655.59,226.574 1657.63,222.978 1659.67,219.424 \n",
       "  1661.71,215.911 1663.75,212.442 1665.79,209.015 1667.83,205.63 1669.87,202.29 1671.9,198.992 1673.94,195.739 1675.98,192.529 1678.02,189.364 1680.06,186.244 \n",
       "  1682.1,183.168 1684.14,180.138 1686.17,177.153 1688.21,174.213 1690.25,171.319 1692.29,168.472 1694.33,165.67 1696.37,162.915 1698.41,160.207 1700.45,157.546 \n",
       "  1702.48,154.932 1704.52,152.365 1706.56,149.846 1708.6,147.375 1710.64,144.952 1712.68,142.577 1714.72,140.25 1716.75,137.972 1718.79,135.743 1720.83,133.563 \n",
       "  1722.87,131.431 1724.91,129.349 1726.95,127.317 1728.99,125.334 1731.03,123.401 1733.06,121.518 1735.1,119.685 1737.14,117.902 1739.18,116.17 1741.22,114.488 \n",
       "  1743.26,112.857 1745.3,111.277 1747.33,109.747 1749.37,108.269 1751.41,106.842 1753.45,105.466 1755.49,104.141 1757.53,102.869 1759.57,101.647 1761.61,100.478 \n",
       "  1763.64,99.3597 1765.68,98.2938 1767.72,97.2799 1769.76,96.318 1771.8,95.4083 1773.84,94.5507 1775.88,93.7455 1777.91,92.9927 1779.95,92.2922 1781.99,91.6442 \n",
       "  1784.03,91.0488 1786.07,90.5059 1788.11,90.0157 1790.15,89.5781 1792.19,89.1931 1794.22,88.861 1796.26,88.5815 1798.3,88.3549 1800.34,88.181 1802.38,88.0599 \n",
       "  1804.42,87.9917 1806.46,87.9763 1808.49,88.0137 1810.53,88.1039 1812.57,88.2469 1814.61,88.4428 1816.65,88.6914 1818.69,88.9928 1820.73,89.3469 1822.77,89.7537 \n",
       "  1824.8,90.2132 1826.84,90.7254 1828.88,91.2902 1830.92,91.9075 1832.96,92.5773 1835,93.2995 1837.04,94.0742 1839.07,94.9012 1841.11,95.7804 1843.15,96.7119 \n",
       "  1845.19,97.6954 1847.23,98.731 1849.27,99.8185 1851.31,100.958 1853.35,102.149 1855.38,103.392 1857.42,104.686 1859.46,106.032 1861.5,107.429 1863.54,108.878 \n",
       "  1865.58,110.378 1867.62,111.928 1869.65,113.53 1871.69,115.182 1873.73,116.885 1875.77,118.638 1877.81,120.442 1879.85,122.296 1881.89,124.199 1883.92,126.153 \n",
       "  1885.96,128.157 1888,130.21 1890.04,132.312 1892.08,134.464 1894.12,136.665 1896.16,138.914 1898.2,141.212 1900.23,143.559 1902.27,145.954 1904.31,148.398 \n",
       "  1906.35,150.889 1908.39,153.428 1910.43,156.014 1912.47,158.648 1914.5,161.328 1916.54,164.056 1918.58,166.83 1920.62,169.651 1922.66,172.518 1924.7,175.431 \n",
       "  1926.74,178.389 1928.78,181.393 1930.81,184.443 1932.85,187.537 1934.89,190.676 1936.93,193.859 1938.97,197.087 1941.01,200.359 1943.05,203.674 1945.08,207.033 \n",
       "  1947.12,210.435 1949.16,213.88 1951.2,217.368 1953.24,220.897 1955.28,224.469 1957.32,228.083 1959.36,231.738 1961.39,235.434 1963.43,239.171 1965.47,242.949 \n",
       "  1967.51,246.767 1969.55,250.625 1971.59,254.522 1973.63,258.459 1975.66,262.434 1977.7,266.449 1979.74,270.501 1981.78,274.592 1983.82,278.721 1985.86,282.886 \n",
       "  1987.9,287.089 1989.94,291.329 1991.97,295.604 1994.01,299.916 1996.05,304.263 1998.09,308.646 2000.13,313.063 2002.17,317.515 2004.21,322.002 2006.24,326.522 \n",
       "  2008.28,331.075 2010.32,335.662 2012.36,340.281 2014.4,344.933 2016.44,349.617 2018.48,354.332 2020.52,359.078 2022.55,363.856 2024.59,368.663 2026.63,373.501 \n",
       "  2028.67,378.369 2030.71,383.265 2032.75,388.191 2034.79,393.145 2036.82,398.127 2038.86,403.136 2040.9,408.173 2042.94,413.237 2044.98,418.327 2047.02,423.443 \n",
       "  2049.06,428.585 2051.1,433.752 2053.13,438.944 2055.17,444.16 2057.21,449.4 2059.25,454.663 2061.29,459.95 2063.33,465.259 2065.37,470.59 2067.4,475.944 \n",
       "  2069.44,481.318 2071.48,486.713 2073.52,492.129 2075.56,497.565 2077.6,503.021 2079.64,508.495 2081.68,513.988 2083.71,519.5 2085.75,525.029 2087.79,530.576 \n",
       "  2089.83,536.139 2091.87,541.719 2093.91,547.315 2095.95,552.927 2097.98,558.554 2100.02,564.195 2102.06,569.85 2104.1,575.519 2106.14,581.202 2108.18,586.897 \n",
       "  2110.22,592.605 2112.26,598.324 2114.29,604.055 2116.33,609.796 2118.37,615.549 2120.41,621.311 2122.45,627.083 2124.49,632.863 2126.53,638.653 2128.56,644.45 \n",
       "  2130.6,650.256 2132.64,656.068 2134.68,661.887 2136.72,667.712 2138.76,673.544 2140.8,679.38 2142.83,685.221 2144.87,691.067 2146.91,696.916 2148.95,702.769 \n",
       "  2150.99,708.625 2153.03,714.483 2155.07,720.343 2157.11,726.205 2159.14,732.068 2161.18,737.931 2163.22,743.794 2165.26,749.657 2167.3,755.519 2169.34,761.38 \n",
       "  2171.38,767.239 2173.41,773.096 2175.45,778.949 2177.49,784.8 2179.53,790.647 2181.57,796.489 2183.61,802.327 2185.65,808.16 2187.69,813.987 2189.72,819.808 \n",
       "  2191.76,825.623 2193.8,831.43 2195.84,837.23 2197.88,843.022 2199.92,848.805 2201.96,854.58 2203.99,860.345 2206.03,866.1 2208.07,871.845 2210.11,877.579 \n",
       "  2212.15,883.302 2214.19,889.013 2216.23,894.712 2218.27,900.398 2220.3,906.072 2222.34,911.731 2224.38,917.377 2226.42,923.008 2228.46,928.624 2230.5,934.225 \n",
       "  2232.54,939.81 2234.57,945.378 2236.61,950.93 2238.65,956.465 2240.69,961.981 2242.73,967.48 2244.77,972.96 2246.81,978.422 2248.85,983.863 2250.88,989.285 \n",
       "  2252.92,994.687 2254.96,1000.07 2257,1005.43 2259.04,1010.77 2261.08,1016.08 2263.12,1021.37 2265.15,1026.65 2267.19,1031.89 2269.23,1037.12 2271.27,1042.31 \n",
       "  2273.31,1047.49 2275.35,1052.64 2277.39,1057.76 2279.43,1062.86 2281.46,1067.93 2283.5,1072.98 2285.54,1078 2287.58,1082.99 2289.62,1087.95 2291.66,1092.88 \n",
       "  \n",
       "  \"/>\n",
       "<polyline clip-path=\"url(#clip472)\" style=\"stroke:#e26f46; stroke-linecap:butt; stroke-linejoin:round; stroke-width:4; stroke-opacity:1; fill:none\" points=\"\n",
       "  255.035,387.164 257.073,392.112 259.112,397.088 261.151,402.092 263.189,407.123 265.228,412.181 267.267,417.266 269.305,422.377 271.344,427.513 273.383,432.675 \n",
       "  275.421,437.862 277.46,443.073 279.499,448.308 281.537,453.566 283.576,458.848 285.615,464.153 287.653,469.48 289.692,474.828 291.731,480.198 293.769,485.589 \n",
       "  295.808,491.001 297.847,496.433 299.885,501.884 301.924,507.355 303.963,512.844 306.001,518.352 308.04,523.877 310.079,529.421 312.117,534.981 314.156,540.557 \n",
       "  316.195,546.15 318.233,551.758 320.272,557.382 322.31,563.02 324.349,568.673 326.388,574.339 328.426,580.019 330.465,585.711 332.504,591.416 334.542,597.133 \n",
       "  336.581,602.862 338.62,608.601 340.658,614.351 342.697,620.111 344.736,625.881 346.774,631.66 348.813,637.448 350.852,643.244 352.89,649.047 354.929,654.858 \n",
       "  356.968,660.676 359.006,666.5 361.045,672.33 363.084,678.165 365.122,684.006 367.161,689.85 369.2,695.699 371.238,701.551 373.277,707.406 375.316,713.264 \n",
       "  377.354,719.124 379.393,724.985 381.432,730.848 383.47,736.711 385.509,742.575 387.548,748.438 389.586,754.3 391.625,760.161 393.664,766.02 395.702,771.877 \n",
       "  397.741,777.732 399.78,783.583 401.818,789.431 403.857,795.274 405.896,801.113 407.934,806.947 409.973,812.775 412.012,818.598 414.05,824.414 416.089,830.222 \n",
       "  418.128,836.024 420.166,841.818 422.205,847.603 424.244,853.379 426.282,859.146 428.321,864.904 430.36,870.651 432.398,876.387 434.437,882.112 436.476,887.826 \n",
       "  438.514,893.528 440.553,899.217 442.592,904.892 444.63,910.555 446.669,916.203 448.707,921.838 450.746,927.457 452.785,933.061 454.823,938.649 456.862,944.221 \n",
       "  458.901,949.776 460.939,955.315 462.978,960.835 465.017,966.338 467.055,971.822 469.094,977.287 471.133,982.733 473.171,988.159 475.21,993.565 477.249,998.95 \n",
       "  479.287,1004.31 481.326,1009.66 483.365,1014.98 485.403,1020.28 487.442,1025.55 489.481,1030.8 491.519,1036.03 493.558,1041.23 495.597,1046.41 497.635,1051.57 \n",
       "  499.674,1056.7 501.713,1061.8 503.751,1066.88 505.79,1071.93 507.829,1076.95 509.867,1081.95 511.906,1086.92 513.945,1091.86 515.983,1096.77 518.022,1101.65 \n",
       "  520.061,1106.5 522.099,1111.33 524.138,1116.12 526.177,1120.88 528.215,1125.61 530.254,1130.31 532.293,1134.98 534.331,1139.62 536.37,1144.22 538.409,1148.79 \n",
       "  540.447,1153.33 542.486,1157.83 544.525,1162.3 546.563,1166.74 548.602,1171.14 550.641,1175.5 552.679,1179.83 554.718,1184.13 556.757,1188.38 558.795,1192.61 \n",
       "  560.834,1196.79 562.873,1200.94 564.911,1205.05 566.95,1209.12 568.989,1213.15 571.027,1217.15 573.066,1221.11 575.104,1225.02 577.143,1228.9 579.182,1232.74 \n",
       "  581.22,1236.54 583.259,1240.29 585.298,1244.01 587.336,1247.69 589.375,1251.32 591.414,1254.92 593.452,1258.47 595.491,1261.98 597.53,1265.44 599.568,1268.87 \n",
       "  601.607,1272.25 603.646,1275.59 605.684,1278.88 607.723,1282.13 609.762,1285.34 611.8,1288.5 613.839,1291.61 615.878,1294.69 617.916,1297.71 619.955,1300.7 \n",
       "  621.994,1303.63 624.032,1306.52 626.071,1309.37 628.11,1312.16 630.148,1314.92 632.187,1317.62 634.226,1320.28 636.264,1322.89 638.303,1325.45 640.342,1327.97 \n",
       "  642.38,1330.43 644.419,1332.85 646.458,1335.22 648.496,1337.55 650.535,1339.82 652.574,1342.05 654.612,1344.22 656.651,1346.35 658.69,1348.43 660.728,1350.46 \n",
       "  662.767,1352.44 664.806,1354.37 666.844,1356.25 668.883,1358.08 670.922,1359.85 672.96,1361.58 674.999,1363.26 677.038,1364.89 679.076,1366.47 681.115,1367.99 \n",
       "  683.154,1369.47 685.192,1370.89 687.231,1372.26 689.27,1373.58 691.308,1374.85 693.347,1376.07 695.385,1377.23 697.424,1378.35 699.463,1379.41 701.501,1380.42 \n",
       "  703.54,1381.38 705.579,1382.28 707.617,1383.14 709.656,1383.94 711.695,1384.69 713.733,1385.38 715.772,1386.03 717.811,1386.62 719.849,1387.16 721.888,1387.64 \n",
       "  723.927,1388.08 725.965,1388.46 728.004,1388.79 730.043,1389.06 732.081,1389.29 734.12,1389.46 736.159,1389.57 738.197,1389.64 740.236,1389.65 742.275,1389.61 \n",
       "  744.313,1389.51 746.352,1389.37 748.391,1389.17 750.429,1388.91 752.468,1388.61 754.507,1388.25 756.545,1387.84 758.584,1387.38 760.623,1386.86 762.661,1386.29 \n",
       "  764.7,1385.67 766.739,1385 768.777,1384.27 770.816,1383.49 772.855,1382.66 774.893,1381.78 776.932,1380.84 778.971,1379.85 781.009,1378.81 783.048,1377.72 \n",
       "  785.087,1376.58 787.125,1375.38 789.164,1374.14 791.203,1372.84 793.241,1371.49 795.28,1370.09 797.319,1368.64 799.357,1367.13 801.396,1365.58 803.435,1363.97 \n",
       "  805.473,1362.32 807.512,1360.61 809.551,1358.85 811.589,1357.05 813.628,1355.19 815.667,1353.28 817.705,1351.32 819.744,1349.32 821.782,1347.26 823.821,1345.15 \n",
       "  825.86,1343 827.898,1340.79 829.937,1338.54 831.976,1336.24 834.014,1333.89 836.053,1331.49 838.092,1329.04 840.13,1326.55 842.169,1324 844.208,1321.41 \n",
       "  846.246,1318.78 848.285,1316.09 850.324,1313.36 852.362,1310.58 854.401,1307.76 856.44,1304.89 858.478,1301.97 860.517,1299.01 862.556,1296 864.594,1292.95 \n",
       "  866.633,1289.85 868.672,1286.71 870.71,1283.52 872.749,1280.29 874.788,1277.02 876.826,1273.7 878.865,1270.34 880.904,1266.93 882.942,1263.48 884.981,1259.99 \n",
       "  887.02,1256.46 889.058,1252.89 891.097,1249.27 893.136,1245.61 895.174,1241.91 897.213,1238.17 899.252,1234.39 901.29,1230.57 903.329,1226.71 905.368,1222.81 \n",
       "  907.406,1218.87 909.445,1214.89 911.484,1210.87 913.522,1206.82 915.561,1202.72 917.6,1198.59 919.638,1194.42 921.677,1190.22 923.716,1185.98 925.754,1181.7 \n",
       "  927.793,1177.38 929.832,1173.03 931.87,1168.65 933.909,1164.23 935.948,1159.77 937.986,1155.28 940.025,1150.76 942.064,1146.21 944.102,1141.62 946.141,1137 \n",
       "  948.179,1132.34 950.218,1127.66 952.257,1122.94 954.295,1118.19 956.334,1113.41 958.373,1108.6 960.411,1103.76 962.45,1098.89 964.489,1093.99 966.527,1089.06 \n",
       "  968.566,1084.11 970.605,1079.12 972.643,1074.11 974.682,1069.07 976.721,1064.01 978.759,1058.91 980.798,1053.8 982.837,1048.65 984.875,1043.48 986.914,1038.29 \n",
       "  988.953,1033.07 990.991,1027.83 993.03,1022.57 995.069,1017.28 997.107,1011.97 999.146,1006.63 1001.18,1001.28 1003.22,995.902 1005.26,990.505 1007.3,985.088 \n",
       "  1009.34,979.651 1011.38,974.194 1013.42,968.718 1015.46,963.223 1017.49,957.71 1019.53,952.18 1021.57,946.632 1023.61,941.067 1025.65,935.486 1027.69,929.889 \n",
       "  1029.73,924.276 1031.76,918.648 1033.8,913.006 1035.84,907.349 1037.88,901.679 1039.92,895.996 1041.96,890.3 1044,884.591 1046.04,878.871 1048.07,873.139 \n",
       "  1050.11,867.397 1052.15,861.644 1054.19,855.881 1056.23,850.108 1058.27,844.327 1060.31,838.537 1062.34,832.739 1064.38,826.933 1066.42,821.12 1068.46,815.3 \n",
       "  1070.5,809.475 1072.54,803.643 1074.58,797.806 1076.62,791.965 1078.65,786.119 1080.69,780.269 1082.73,774.416 1084.77,768.56 1086.81,762.702 1088.85,756.841 \n",
       "  1090.89,750.98 1092.92,745.117 1094.96,739.253 1097,733.39 1099.04,727.527 1101.08,721.665 1103.12,715.805 1105.16,709.946 1107.2,704.09 1109.23,698.236 \n",
       "  1111.27,692.386 1113.31,686.539 1115.35,680.697 1117.39,674.859 1119.43,669.027 1121.47,663.2 1123.5,657.38 1125.54,651.566 1127.58,645.759 1129.62,639.96 \n",
       "  1131.66,634.168 1133.7,628.386 1135.74,622.612 1137.77,616.847 1139.81,611.093 1141.85,605.349 1143.89,599.615 1145.93,593.893 1147.97,588.183 1150.01,582.485 \n",
       "  1152.05,576.8 1154.08,571.128 1156.12,565.469 1158.16,559.825 1160.2,554.195 1162.24,548.58 1164.28,542.98 1166.32,537.396 1168.35,531.829 1170.39,526.279 \n",
       "  1172.43,520.745 1174.47,515.23 1176.51,509.732 1178.55,504.254 1180.59,498.794 1182.63,493.353 1184.66,487.933 1186.7,482.533 1188.74,477.154 1190.78,471.796 \n",
       "  1192.82,466.46 1194.86,461.145 1196.9,455.854 1198.93,450.585 1200.97,445.34 1203.01,440.118 1205.05,434.921 1207.09,429.748 1209.13,424.601 1211.17,419.479 \n",
       "  1213.21,414.383 1215.24,409.313 1217.28,404.27 1219.32,399.254 1221.36,394.266 1223.4,389.305 1225.44,384.374 1227.48,379.47 1229.51,374.596 1231.55,369.752 \n",
       "  1233.59,364.937 1235.63,360.153 1237.67,355.4 1239.71,350.677 1241.75,345.987 1243.79,341.328 1245.82,336.701 1247.86,332.107 1249.9,327.546 1251.94,323.018 \n",
       "  1253.98,318.524 1256.02,314.064 1258.06,309.639 1260.09,305.249 1262.13,300.893 1264.17,296.574 1266.21,292.29 1268.25,288.042 1270.29,283.831 1272.33,279.657 \n",
       "  1274.37,275.52 1276.4,271.421 1278.44,267.359 1280.48,263.336 1282.52,259.352 1284.56,255.406 1286.6,251.5 1288.64,247.633 1290.67,243.806 1292.71,240.02 \n",
       "  1294.75,236.273 1296.79,232.568 1298.83,228.904 1300.87,225.281 1302.91,221.699 1304.95,218.16 1306.98,214.663 1309.02,211.208 1311.06,207.797 1313.1,204.428 \n",
       "  1315.14,201.103 1317.18,197.821 1319.22,194.584 1321.25,191.39 1323.29,188.241 1325.33,185.137 1327.37,182.077 1329.41,179.063 1331.45,176.094 1333.49,173.171 \n",
       "  1335.53,170.293 1337.56,167.462 1339.6,164.678 1341.64,161.939 1343.68,159.248 1345.72,156.604 1347.76,154.007 1349.8,151.457 1351.83,148.955 1353.87,146.501 \n",
       "  1355.91,144.095 1357.95,141.738 1359.99,139.428 1362.03,137.168 1364.07,134.956 1366.11,132.793 1368.14,130.68 1370.18,128.615 1372.22,126.601 1374.26,124.636 \n",
       "  1376.3,122.721 1378.34,120.855 1380.38,119.04 1382.41,117.276 1384.45,115.561 1386.49,113.898 1388.53,112.285 1390.57,110.723 1392.61,109.212 1394.65,107.752 \n",
       "  1396.68,106.343 1398.72,104.985 1400.76,103.679 1402.8,102.425 1404.84,101.222 1406.88,100.071 1408.92,98.9717 1410.96,97.9244 1412.99,96.9291 1415.03,95.9859 \n",
       "  1417.07,95.0949 1419.11,94.2561 1421.15,93.4697 1423.19,92.7356 1425.23,92.0539 1427.26,91.4248 1429.3,90.8482 1431.34,90.3242 1433.38,89.8528 1435.42,89.434 \n",
       "  1437.46,89.068 1439.5,88.7547 1441.54,88.4942 1443.57,88.2865 1445.61,88.1315 1447.65,88.0294 1449.69,87.9801 1451.73,87.9836 1453.77,88.0399 1455.81,88.1491 \n",
       "  1457.84,88.311 1459.88,88.5258 1461.92,88.7933 1463.96,89.1136 1466,89.4866 1468.04,89.9124 1470.08,90.3907 1472.12,90.9218 1474.15,91.5054 1476.19,92.1415 \n",
       "  1478.23,92.8301 1480.27,93.5712 1482.31,94.3646 1484.35,95.2103 1486.39,96.1083 1488.42,97.0584 1490.46,98.0606 1492.5,99.1148 1494.54,100.221 1496.58,101.379 \n",
       "  1498.62,102.589 1500.66,103.85 1502.7,105.163 1504.73,106.527 1506.77,107.943 1508.81,109.409 1510.85,110.927 1512.89,112.496 1514.93,114.116 1516.97,115.786 \n",
       "  1519,117.507 1521.04,119.279 1523.08,121.1 1525.12,122.972 1527.16,124.894 1529.2,126.866 1531.24,128.887 1533.28,130.958 1535.31,133.078 1537.35,135.247 \n",
       "  1539.39,137.465 1541.43,139.732 1543.47,142.048 1545.51,144.412 1547.55,146.824 1549.58,149.285 1551.62,151.793 1553.66,154.349 1555.7,156.952 1557.74,159.603 \n",
       "  1559.78,162.301 1561.82,165.045 1563.86,167.836 1565.89,170.673 1567.93,173.556 1569.97,176.486 1572.01,179.461 1574.05,182.481 1576.09,185.546 1578.13,188.657 \n",
       "  1580.16,191.812 1582.2,195.011 1584.24,198.255 1586.28,201.542 1588.32,204.873 1590.36,208.248 1592.4,211.665 1594.44,215.125 1596.47,218.628 1598.51,222.173 \n",
       "  1600.55,225.76 1602.59,229.388 1604.63,233.058 1606.67,236.769 1608.71,240.52 1610.74,244.313 1612.78,248.145 1614.82,252.017 1616.86,255.928 1618.9,259.879 \n",
       "  1620.94,263.869 1622.98,267.897 1625.02,271.963 1627.05,276.067 1629.09,280.209 1631.13,284.388 1633.17,288.604 1635.21,292.857 1637.25,297.145 1639.29,301.47 \n",
       "  1641.32,305.83 1643.36,310.225 1645.4,314.655 1647.44,319.119 1649.48,323.618 1651.52,328.15 1653.56,332.715 1655.59,337.314 1657.63,341.945 1659.67,346.608 \n",
       "  1661.71,351.303 1663.75,356.029 1665.79,360.787 1667.83,365.575 1669.87,370.394 1671.9,375.242 1673.94,380.12 1675.98,385.027 1678.02,389.963 1680.06,394.927 \n",
       "  1682.1,399.919 1684.14,404.938 1686.17,409.985 1688.21,415.058 1690.25,420.158 1692.29,425.283 1694.33,430.434 1696.37,435.61 1698.41,440.811 1700.45,446.035 \n",
       "  1702.48,451.284 1704.52,456.555 1706.56,461.85 1708.6,467.167 1710.64,472.507 1712.68,477.867 1714.72,483.249 1716.75,488.652 1718.79,494.075 1720.83,499.518 \n",
       "  1722.87,504.98 1724.91,510.462 1726.95,515.962 1728.99,521.48 1731.03,527.015 1733.06,532.568 1735.1,538.137 1737.14,543.723 1739.18,549.325 1741.22,554.942 \n",
       "  1743.26,560.574 1745.3,566.22 1747.33,571.881 1749.37,577.554 1751.41,583.242 1753.45,588.941 1755.49,594.653 1757.53,600.377 1759.57,606.111 1761.61,611.857 \n",
       "  1763.64,617.613 1765.68,623.378 1767.72,629.153 1769.76,634.937 1771.8,640.73 1773.84,646.53 1775.88,652.338 1777.91,658.153 1779.95,663.974 1781.99,669.802 \n",
       "  1784.03,675.635 1786.07,681.473 1788.11,687.316 1790.15,693.163 1792.19,699.013 1794.22,704.867 1796.26,710.724 1798.3,716.583 1800.34,722.444 1802.38,728.306 \n",
       "  1804.42,734.169 1806.46,740.032 1808.49,745.896 1810.53,751.758 1812.57,757.62 1814.61,763.48 1816.65,769.338 1818.69,775.194 1820.73,781.047 1822.77,786.896 \n",
       "  1824.8,792.741 1826.84,798.582 1828.88,804.418 1830.92,810.249 1832.96,816.074 1835,821.893 1837.04,827.705 1839.07,833.51 1841.11,839.307 1843.15,845.096 \n",
       "  1845.19,850.876 1847.23,856.647 1849.27,862.409 1851.31,868.16 1853.35,873.901 1855.38,879.632 1857.42,885.35 1859.46,891.057 1861.5,896.752 1863.54,902.433 \n",
       "  1865.58,908.102 1867.62,913.756 1869.65,919.397 1871.69,925.022 1873.73,930.633 1875.77,936.228 1877.81,941.807 1879.85,947.37 1881.89,952.916 1883.92,958.444 \n",
       "  1885.96,963.954 1888,969.446 1890.04,974.92 1892.08,980.374 1894.12,985.809 1896.16,991.224 1898.2,996.618 1900.23,1001.99 1902.27,1007.34 1904.31,1012.67 \n",
       "  1906.35,1017.98 1908.39,1023.27 1910.43,1028.53 1912.47,1033.77 1914.5,1038.98 1916.54,1044.17 1918.58,1049.34 1920.62,1054.48 1922.66,1059.59 1924.7,1064.68 \n",
       "  1926.74,1069.74 1928.78,1074.78 1930.81,1079.79 1932.85,1084.77 1934.89,1089.72 1936.93,1094.64 1938.97,1099.54 1941.01,1104.4 1943.05,1109.24 1945.08,1114.05 \n",
       "  1947.12,1118.82 1949.16,1123.57 1951.2,1128.28 1953.24,1132.96 1955.28,1137.61 1957.32,1142.23 1959.36,1146.81 1961.39,1151.37 1963.43,1155.88 1965.47,1160.37 \n",
       "  1967.51,1164.82 1969.55,1169.23 1971.59,1173.61 1973.63,1177.96 1975.66,1182.27 1977.7,1186.54 1979.74,1190.78 1981.78,1194.98 1983.82,1199.14 1985.86,1203.27 \n",
       "  1987.9,1207.36 1989.94,1211.41 1991.97,1215.42 1994.01,1219.39 1996.05,1223.33 1998.09,1227.22 2000.13,1231.08 2002.17,1234.9 2004.21,1238.67 2006.24,1242.41 \n",
       "  2008.28,1246.1 2010.32,1249.75 2012.36,1253.36 2014.4,1256.93 2016.44,1260.46 2018.48,1263.95 2020.52,1267.39 2022.55,1270.79 2024.59,1274.14 2026.63,1277.46 \n",
       "  2028.67,1280.73 2030.71,1283.95 2032.75,1287.13 2034.79,1290.27 2036.82,1293.36 2038.86,1296.41 2040.9,1299.41 2042.94,1302.36 2044.98,1305.27 2047.02,1308.14 \n",
       "  2049.06,1310.96 2051.1,1313.73 2053.13,1316.45 2055.17,1319.13 2057.21,1321.76 2059.25,1324.35 2061.29,1326.88 2063.33,1329.37 2065.37,1331.81 2067.4,1334.2 \n",
       "  2069.44,1336.55 2071.48,1338.84 2073.52,1341.09 2075.56,1343.29 2077.6,1345.44 2079.64,1347.54 2081.68,1349.59 2083.71,1351.59 2085.75,1353.54 2087.79,1355.44 \n",
       "  2089.83,1357.29 2091.87,1359.09 2093.91,1360.84 2095.95,1362.54 2097.98,1364.19 2100.02,1365.79 2102.06,1367.34 2104.1,1368.83 2106.14,1370.28 2108.18,1371.67 \n",
       "  2110.22,1373.02 2112.26,1374.31 2114.29,1375.55 2116.33,1376.73 2118.37,1377.87 2120.41,1378.96 2122.45,1379.99 2124.49,1380.97 2126.53,1381.9 2128.56,1382.77 \n",
       "  2130.6,1383.6 2132.64,1384.37 2134.68,1385.09 2136.72,1385.75 2138.76,1386.37 2140.8,1386.93 2142.83,1387.44 2144.87,1387.9 2146.91,1388.3 2148.95,1388.65 \n",
       "  2150.99,1388.95 2153.03,1389.2 2155.07,1389.39 2157.11,1389.53 2159.14,1389.62 2161.18,1389.65 2163.22,1389.63 2165.26,1389.56 2167.3,1389.44 2169.34,1389.26 \n",
       "  2171.38,1389.03 2173.41,1388.75 2175.45,1388.41 2177.49,1388.02 2179.53,1387.58 2181.57,1387.09 2183.61,1386.54 2185.65,1385.95 2187.69,1385.29 2189.72,1384.59 \n",
       "  2191.76,1383.83 2193.8,1383.03 2195.84,1382.17 2197.88,1381.25 2199.92,1380.29 2201.96,1379.27 2203.99,1378.2 2206.03,1377.08 2208.07,1375.91 2210.11,1374.68 \n",
       "  2212.15,1373.41 2214.19,1372.08 2216.23,1370.7 2218.27,1369.27 2220.3,1367.79 2222.34,1366.26 2224.38,1364.68 2226.42,1363.04 2228.46,1361.36 2230.5,1359.62 \n",
       "  2232.54,1357.84 2234.57,1356 2236.61,1354.11 2238.65,1352.18 2240.69,1350.19 2242.73,1348.16 2244.77,1346.07 2246.81,1343.94 2248.85,1341.76 2250.88,1339.52 \n",
       "  2252.92,1337.24 2254.96,1334.91 2257,1332.53 2259.04,1330.11 2261.08,1327.63 2263.12,1325.11 2265.15,1322.54 2267.19,1319.93 2269.23,1317.26 2271.27,1314.55 \n",
       "  2273.31,1311.79 2275.35,1308.99 2277.39,1306.14 2279.43,1303.24 2281.46,1300.3 2283.5,1297.31 2285.54,1294.28 2287.58,1291.2 2289.62,1288.08 2291.66,1284.91 \n",
       "  \n",
       "  \"/>\n",
       "<polyline clip-path=\"url(#clip472)\" style=\"stroke:#3da44d; stroke-linecap:butt; stroke-linejoin:round; stroke-width:20; stroke-opacity:1; fill:none\" points=\"\n",
       "  255.035,738.813 257.073,767.864 259.112,796.378 261.151,824.346 263.189,851.76 265.228,878.612 267.267,904.893 269.305,930.597 271.344,955.717 273.383,980.246 \n",
       "  275.421,1004.18 277.46,1027.51 279.499,1050.23 281.537,1072.33 283.576,1093.82 285.615,1114.68 287.653,1134.92 289.692,1154.53 291.731,1173.5 293.769,1191.83 \n",
       "  295.808,1209.53 297.847,1226.58 299.885,1242.98 301.924,1258.75 303.963,1273.86 306.001,1288.33 308.04,1302.15 310.079,1315.32 312.117,1327.84 314.156,1339.72 \n",
       "  316.195,1350.95 318.233,1361.53 320.272,1371.47 322.31,1380.77 324.349,1389.43 326.388,1397.46 328.426,1404.85 330.465,1411.61 332.504,1417.75 334.542,1423.26 \n",
       "  336.581,1428.16 338.62,1432.44 340.658,1436.11 342.697,1439.19 344.736,1441.66 346.774,1443.55 348.813,1444.85 350.852,1445.57 352.89,1445.72 354.929,1445.3 \n",
       "  356.968,1444.33 359.006,1442.81 361.045,1440.74 363.084,1438.15 365.122,1435.02 367.161,1431.38 369.2,1427.24 371.238,1422.59 373.277,1417.45 375.316,1411.84 \n",
       "  377.354,1405.75 379.393,1399.21 381.432,1392.21 383.47,1384.78 385.509,1376.91 387.548,1368.63 389.586,1359.93 391.625,1350.84 393.664,1341.37 395.702,1331.52 \n",
       "  397.741,1321.31 399.78,1310.74 401.818,1299.83 403.857,1288.6 405.896,1277.05 407.934,1265.2 409.973,1253.05 412.012,1240.62 414.05,1227.92 416.089,1214.97 \n",
       "  418.128,1201.78 420.166,1188.35 422.205,1174.7 424.244,1160.85 426.282,1146.8 428.321,1132.57 430.36,1118.17 432.398,1103.62 434.437,1088.92 436.476,1074.09 \n",
       "  438.514,1059.14 440.553,1044.08 442.592,1028.92 444.63,1013.69 446.669,998.38 448.707,983.015 450.746,967.603 452.785,952.158 454.823,936.69 456.862,921.212 \n",
       "  458.901,905.735 460.939,890.271 462.978,874.831 465.017,859.428 467.055,844.071 469.094,828.773 471.133,813.544 473.171,798.395 475.21,783.337 477.249,768.38 \n",
       "  479.287,753.535 481.326,738.813 483.365,724.222 485.403,709.773 487.442,695.476 489.481,681.339 491.519,667.373 493.558,653.587 495.597,639.989 497.635,626.588 \n",
       "  499.674,613.393 501.713,600.411 503.751,587.651 505.79,575.121 507.829,562.828 509.867,550.78 511.906,538.983 513.945,527.444 515.983,516.171 518.022,505.17 \n",
       "  520.061,494.446 522.099,484.005 524.138,473.854 526.177,463.997 528.215,454.441 530.254,445.188 532.293,436.245 534.331,427.615 536.37,419.303 538.409,411.312 \n",
       "  540.447,403.646 542.486,396.309 544.525,389.302 546.563,382.63 548.602,376.294 550.641,370.297 552.679,364.641 554.718,359.327 556.757,354.357 558.795,349.732 \n",
       "  560.834,345.452 562.873,341.52 564.911,337.934 566.95,334.695 568.989,331.803 571.027,329.258 573.066,327.058 575.104,325.204 577.143,323.693 579.182,322.525 \n",
       "  581.22,321.698 583.259,321.21 585.298,321.058 587.336,321.241 589.375,321.756 591.414,322.6 593.452,323.77 595.491,325.263 597.53,327.076 599.568,329.204 \n",
       "  601.607,331.643 603.646,334.391 605.684,337.442 607.723,340.791 609.762,344.435 611.8,348.368 613.839,352.586 615.878,357.082 617.916,361.852 619.955,366.89 \n",
       "  621.994,372.19 624.032,377.747 626.071,383.554 628.11,389.605 630.148,395.894 632.187,402.414 634.226,409.158 636.264,416.121 638.303,423.294 640.342,430.672 \n",
       "  642.38,438.247 644.419,446.011 646.458,453.958 648.496,462.08 650.535,470.37 652.574,478.819 654.612,487.422 656.651,496.169 658.69,505.053 660.728,514.067 \n",
       "  662.767,523.202 664.806,532.451 666.844,541.805 668.883,551.257 670.922,560.799 672.96,570.423 674.999,580.12 677.038,589.883 679.076,599.704 681.115,609.574 \n",
       "  683.154,619.486 685.192,629.432 687.231,639.403 689.27,649.393 691.308,659.392 693.347,669.394 695.385,679.389 697.424,689.372 699.463,699.333 701.501,709.265 \n",
       "  703.54,719.16 705.579,729.012 707.617,738.813 709.656,748.554 711.695,758.23 713.733,767.833 715.772,777.356 717.811,786.791 719.849,796.132 721.888,805.373 \n",
       "  723.927,814.507 725.965,823.526 728.004,832.425 730.043,841.198 732.081,849.838 734.12,858.34 736.159,866.697 738.197,874.904 740.236,882.955 742.275,890.845 \n",
       "  744.313,898.568 746.352,906.121 748.391,913.496 750.429,920.691 752.468,927.7 754.507,934.518 756.545,941.142 758.584,947.567 760.623,953.79 762.661,959.807 \n",
       "  764.7,965.614 766.739,971.207 768.777,976.584 770.816,981.741 772.855,986.677 774.893,991.387 776.932,995.87 778.971,1000.12 781.009,1004.14 783.048,1007.93 \n",
       "  785.087,1011.48 787.125,1014.8 789.164,1017.88 791.203,1020.71 793.241,1023.31 795.28,1025.67 797.319,1027.78 799.357,1029.65 801.396,1031.29 803.435,1032.67 \n",
       "  805.473,1033.82 807.512,1034.72 809.551,1035.39 811.589,1035.81 813.628,1035.99 815.667,1035.94 817.705,1035.65 819.744,1035.12 821.782,1034.36 823.821,1033.36 \n",
       "  825.86,1032.14 827.898,1030.69 829.937,1029.01 831.976,1027.11 834.014,1024.98 836.053,1022.64 838.092,1020.09 840.13,1017.32 842.169,1014.35 844.208,1011.17 \n",
       "  846.246,1007.78 848.285,1004.2 850.324,1000.43 852.362,996.463 854.401,992.312 856.44,987.978 858.478,983.466 860.517,978.782 862.556,973.928 864.594,968.91 \n",
       "  866.633,963.733 868.672,958.401 870.71,952.919 872.749,947.293 874.788,941.528 876.826,935.628 878.865,929.599 880.904,923.447 882.942,917.176 884.981,910.793 \n",
       "  887.02,904.302 889.058,897.71 891.097,891.023 893.136,884.245 895.174,877.383 897.213,870.442 899.252,863.429 901.29,856.349 903.329,849.208 905.368,842.012 \n",
       "  907.406,834.767 909.445,827.479 911.484,820.154 913.522,812.797 915.561,805.415 917.6,798.014 919.638,790.599 921.677,783.177 923.716,775.753 925.754,768.333 \n",
       "  927.793,760.923 929.832,753.53 931.87,746.157 933.909,738.813 935.948,731.501 937.986,724.228 940.025,716.999 942.064,709.819 944.102,702.695 946.141,695.632 \n",
       "  948.179,688.634 950.218,681.707 952.257,674.857 954.295,668.088 956.334,661.405 958.373,654.813 960.411,648.317 962.45,641.922 964.489,635.632 966.527,629.453 \n",
       "  968.566,623.387 970.605,617.44 972.643,611.615 974.682,605.917 976.721,600.35 978.759,594.918 980.798,589.624 982.837,584.472 984.875,579.465 986.914,574.606 \n",
       "  988.953,569.9 990.991,565.348 993.03,560.955 995.069,556.722 997.107,552.652 999.146,548.749 1001.18,545.014 1003.22,541.449 1005.26,538.057 1007.3,534.839 \n",
       "  1009.34,531.798 1011.38,528.935 1013.42,526.251 1015.46,523.749 1017.49,521.429 1019.53,519.292 1021.57,517.339 1023.61,515.572 1025.65,513.99 1027.69,512.594 \n",
       "  1029.73,511.385 1031.76,510.362 1033.8,509.526 1035.84,508.877 1037.88,508.415 1039.92,508.138 1041.96,508.047 1044,508.141 1046.04,508.418 1048.07,508.879 \n",
       "  1050.11,509.522 1052.15,510.345 1054.19,511.348 1056.23,512.529 1058.27,513.886 1060.31,515.417 1062.34,517.121 1064.38,518.996 1066.42,521.038 1068.46,523.247 \n",
       "  1070.5,525.62 1072.54,528.153 1074.58,530.846 1076.62,533.694 1078.65,536.695 1080.69,539.845 1082.73,543.143 1084.77,546.585 1086.81,550.167 1088.85,553.885 \n",
       "  1090.89,557.738 1092.92,561.72 1094.96,565.829 1097,570.061 1099.04,574.411 1101.08,578.876 1103.12,583.452 1105.16,588.135 1107.2,592.92 1109.23,597.805 \n",
       "  1111.27,602.783 1113.31,607.852 1115.35,613.006 1117.39,618.242 1119.43,623.554 1121.47,628.939 1123.5,634.391 1125.54,639.907 1127.58,645.481 1129.62,651.11 \n",
       "  1131.66,656.787 1133.7,662.509 1135.74,668.272 1137.77,674.069 1139.81,679.897 1141.85,685.75 1143.89,691.625 1145.93,697.516 1147.97,703.418 1150.01,709.328 \n",
       "  1152.05,715.239 1154.08,721.148 1156.12,727.05 1158.16,732.939 1160.2,738.813 1162.24,744.665 1164.28,750.491 1166.32,756.287 1168.35,762.049 1170.39,767.771 \n",
       "  1172.43,773.45 1174.47,779.081 1176.51,784.659 1178.55,790.181 1180.59,795.643 1182.63,801.04 1184.66,806.368 1186.7,811.623 1188.74,816.802 1190.78,821.9 \n",
       "  1192.82,826.914 1194.86,831.839 1196.9,836.674 1198.93,841.413 1200.97,846.053 1203.01,850.592 1205.05,855.026 1207.09,859.351 1209.13,863.565 1211.17,867.665 \n",
       "  1213.21,871.647 1215.24,875.51 1217.28,879.25 1219.32,882.865 1221.36,886.353 1223.4,889.71 1225.44,892.936 1227.48,896.027 1229.51,898.982 1231.55,901.799 \n",
       "  1233.59,904.476 1235.63,907.012 1237.67,909.405 1239.71,911.653 1241.75,913.755 1243.79,915.711 1245.82,917.518 1247.86,919.176 1249.9,920.685 1251.94,922.043 \n",
       "  1253.98,923.25 1256.02,924.306 1258.06,925.21 1260.09,925.962 1262.13,926.561 1264.17,927.009 1266.21,927.305 1268.25,927.448 1270.29,927.441 1272.33,927.283 \n",
       "  1274.37,926.974 1276.4,926.516 1278.44,925.91 1280.48,925.156 1282.52,924.255 1284.56,923.209 1286.6,922.019 1288.64,920.686 1290.67,919.212 1292.71,917.598 \n",
       "  1294.75,915.847 1296.79,913.96 1298.83,911.939 1300.87,909.785 1302.91,907.502 1304.95,905.092 1306.98,902.556 1309.02,899.897 1311.06,897.118 1313.1,894.221 \n",
       "  1315.14,891.209 1317.18,888.085 1319.22,884.851 1321.25,881.51 1323.29,878.066 1325.33,874.522 1327.37,870.88 1329.41,867.144 1331.45,863.316 1333.49,859.402 \n",
       "  1335.53,855.403 1337.56,851.323 1339.6,847.166 1341.64,842.935 1343.68,838.634 1345.72,834.267 1347.76,829.836 1349.8,825.347 1351.83,820.802 1353.87,816.206 \n",
       "  1355.91,811.562 1357.95,806.874 1359.99,802.146 1362.03,797.381 1364.07,792.585 1366.11,787.76 1368.14,782.91 1370.18,778.04 1372.22,773.153 1374.26,768.254 \n",
       "  1376.3,763.346 1378.34,758.433 1380.38,753.52 1382.41,748.609 1384.45,743.705 1386.49,738.813 1388.53,733.934 1390.57,729.075 1392.61,724.237 1394.65,719.426 \n",
       "  1396.68,714.645 1398.72,709.897 1400.76,705.186 1402.8,700.516 1404.84,695.891 1406.88,691.314 1408.92,686.788 1410.96,682.317 1412.99,677.905 1415.03,673.554 \n",
       "  1417.07,669.268 1419.11,665.051 1421.15,660.904 1423.19,656.833 1425.23,652.838 1427.26,648.924 1429.3,645.094 1431.34,641.349 1433.38,637.693 1435.42,634.129 \n",
       "  1437.46,630.659 1439.5,627.285 1441.54,624.01 1443.57,620.837 1445.61,617.767 1447.65,614.803 1449.69,611.946 1451.73,609.199 1453.77,606.563 1455.81,604.041 \n",
       "  1457.84,601.634 1459.88,599.344 1461.92,597.171 1463.96,595.118 1466,593.186 1468.04,591.375 1470.08,589.688 1472.12,588.125 1474.15,586.686 1476.19,585.374 \n",
       "  1478.23,584.188 1480.27,583.128 1482.31,582.197 1484.35,581.393 1486.39,580.717 1488.42,580.17 1490.46,579.751 1492.5,579.461 1494.54,579.299 1496.58,579.265 \n",
       "  1498.62,579.358 1500.66,579.579 1502.7,579.927 1504.73,580.4 1506.77,580.999 1508.81,581.723 1510.85,582.571 1512.89,583.541 1514.93,584.632 1516.97,585.844 \n",
       "  1519,587.175 1521.04,588.624 1523.08,590.188 1525.12,591.868 1527.16,593.66 1529.2,595.564 1531.24,597.577 1533.28,599.697 1535.31,601.923 1537.35,604.253 \n",
       "  1539.39,606.684 1541.43,609.214 1543.47,611.841 1545.51,614.562 1547.55,617.376 1549.58,620.279 1551.62,623.269 1553.66,626.344 1555.7,629.5 1557.74,632.735 \n",
       "  1559.78,636.047 1561.82,639.432 1563.86,642.887 1565.89,646.411 1567.93,649.998 1569.97,653.647 1572.01,657.355 1574.05,661.118 1576.09,664.933 1578.13,668.798 \n",
       "  1580.16,672.708 1582.2,676.661 1584.24,680.653 1586.28,684.681 1588.32,688.742 1590.36,692.833 1592.4,696.949 1594.44,701.089 1596.47,705.247 1598.51,709.422 \n",
       "  1600.55,713.61 1602.59,717.807 1604.63,722.009 1606.67,726.215 1608.71,730.419 1610.74,734.62 1612.78,738.813 1614.82,742.995 1616.86,747.163 1618.9,751.314 \n",
       "  1620.94,755.444 1622.98,759.55 1625.02,763.629 1627.05,767.678 1629.09,771.694 1631.13,775.673 1633.17,779.612 1635.21,783.509 1637.25,787.36 1639.29,791.162 \n",
       "  1641.32,794.914 1643.36,798.61 1645.4,802.25 1647.44,805.829 1649.48,809.346 1651.52,812.798 1653.56,816.182 1655.59,819.495 1657.63,822.736 1659.67,825.902 \n",
       "  1661.71,828.989 1663.75,831.997 1665.79,834.923 1667.83,837.765 1669.87,840.521 1671.9,843.188 1673.94,845.766 1675.98,848.251 1678.02,850.643 1680.06,852.939 \n",
       "  1682.1,855.138 1684.14,857.239 1686.17,859.24 1688.21,861.14 1690.25,862.937 1692.29,864.63 1694.33,866.219 1696.37,867.702 1698.41,869.078 1700.45,870.346 \n",
       "  1702.48,871.506 1704.52,872.558 1706.56,873.499 1708.6,874.331 1710.64,875.052 1712.68,875.663 1714.72,876.162 1716.75,876.551 1718.79,876.828 1720.83,876.994 \n",
       "  1722.87,877.049 1724.91,876.994 1726.95,876.828 1728.99,876.552 1731.03,876.167 1733.06,875.672 1735.1,875.069 1737.14,874.359 1739.18,873.542 1741.22,872.619 \n",
       "  1743.26,871.592 1745.3,870.46 1747.33,869.226 1749.37,867.89 1751.41,866.455 1753.45,864.92 1755.49,863.289 1757.53,861.561 1759.57,859.74 1761.61,857.826 \n",
       "  1763.64,855.821 1765.68,853.727 1767.72,851.547 1769.76,849.281 1771.8,846.932 1773.84,844.502 1775.88,841.994 1777.91,839.408 1779.95,836.748 1781.99,834.016 \n",
       "  1784.03,831.214 1786.07,828.345 1788.11,825.411 1790.15,822.414 1792.19,819.357 1794.22,816.243 1796.26,813.074 1798.3,809.853 1800.34,806.583 1802.38,803.266 \n",
       "  1804.42,799.905 1806.46,796.503 1808.49,793.062 1810.53,789.586 1812.57,786.077 1814.61,782.538 1816.65,778.973 1818.69,775.383 1820.73,771.773 1822.77,768.144 \n",
       "  1824.8,764.5 1826.84,760.844 1828.88,757.178 1830.92,753.506 1832.96,749.831 1835,746.155 1837.04,742.481 1839.07,738.813 1841.11,735.153 1843.15,731.504 \n",
       "  1845.19,727.869 1847.23,724.251 1849.27,720.653 1851.31,717.077 1853.35,713.527 1855.38,710.005 1857.42,706.514 1859.46,703.056 1861.5,699.635 1863.54,696.253 \n",
       "  1865.58,692.912 1867.62,689.616 1869.65,686.366 1871.69,683.165 1873.73,680.016 1875.77,676.92 1877.81,673.882 1879.85,670.901 1881.89,667.982 1883.92,665.126 \n",
       "  1885.96,662.335 1888,659.611 1890.04,656.957 1892.08,654.374 1894.12,651.864 1896.16,649.429 1898.2,647.071 1900.23,644.792 1902.27,642.593 1904.31,640.475 \n",
       "  1906.35,638.441 1908.39,636.492 1910.43,634.628 1912.47,632.852 1914.5,631.165 1916.54,629.567 1918.58,628.061 1920.62,626.646 1922.66,625.324 1924.7,624.095 \n",
       "  1926.74,622.961 1928.78,621.923 1930.81,620.979 1932.85,620.133 1934.89,619.383 1936.93,618.73 1938.97,618.174 1941.01,617.717 1943.05,617.357 1945.08,617.095 \n",
       "  1947.12,616.931 1949.16,616.865 1951.2,616.897 1953.24,617.026 1955.28,617.252 1957.32,617.575 1959.36,617.995 1961.39,618.51 1963.43,619.12 1965.47,619.825 \n",
       "  1967.51,620.624 1969.55,621.515 1971.59,622.499 1973.63,623.573 1975.66,624.738 1977.7,625.991 1979.74,627.332 1981.78,628.759 1983.82,630.272 1985.86,631.868 \n",
       "  1987.9,633.546 1989.94,635.305 1991.97,637.144 1994.01,639.059 1996.05,641.051 1998.09,643.117 2000.13,645.255 2002.17,647.463 2004.21,649.74 2006.24,652.084 \n",
       "  2008.28,654.492 2010.32,656.963 2012.36,659.494 2014.4,662.083 2016.44,664.729 2018.48,667.428 2020.52,670.179 2022.55,672.979 2024.59,675.827 2026.63,678.718 \n",
       "  2028.67,681.652 2030.71,684.626 2032.75,687.637 2034.79,690.683 2036.82,693.761 2038.86,696.869 2040.9,700.004 2042.94,703.164 2044.98,706.346 2047.02,709.548 \n",
       "  2049.06,712.767 2051.1,716 2053.13,719.244 2055.17,722.498 2057.21,725.758 2059.25,729.023 2061.29,732.288 2063.33,735.552 2065.37,738.813 2067.4,742.066 \n",
       "  2069.44,745.311 2071.48,748.544 2073.52,751.763 2075.56,754.965 2077.6,758.147 2079.64,761.308 2081.68,764.445 2083.71,767.555 2085.75,770.635 2087.79,773.685 \n",
       "  2089.83,776.7 2091.87,779.679 2093.91,782.619 2095.95,785.518 2097.98,788.375 2100.02,791.186 2102.06,793.95 2104.1,796.664 2106.14,799.326 2108.18,801.935 \n",
       "  2110.22,804.488 2112.26,806.984 2114.29,809.42 2116.33,811.795 2118.37,814.107 2120.41,816.354 2122.45,818.535 2124.49,820.648 2126.53,822.691 2128.56,824.663 \n",
       "  2130.6,826.563 2132.64,828.388 2134.68,830.139 2136.72,831.813 2138.76,833.409 2140.8,834.927 2142.83,836.364 2144.87,837.721 2146.91,838.996 2148.95,840.189 \n",
       "  2150.99,841.298 2153.03,842.323 2155.07,843.263 2157.11,844.118 2159.14,844.886 2161.18,845.569 2163.22,846.165 2165.26,846.673 2167.3,847.095 2169.34,847.429 \n",
       "  2171.38,847.675 2173.41,847.834 2175.45,847.905 2177.49,847.889 2179.53,847.786 2181.57,847.595 2183.61,847.318 2185.65,846.955 2187.69,846.506 2189.72,845.971 \n",
       "  2191.76,845.352 2193.8,844.648 2195.84,843.862 2197.88,842.992 2199.92,842.041 2201.96,841.009 2203.99,839.897 2206.03,838.707 2208.07,837.439 2210.11,836.094 \n",
       "  2212.15,834.674 2214.19,833.179 2216.23,831.612 2218.27,829.974 2220.3,828.266 2222.34,826.489 2224.38,824.646 2226.42,822.737 2228.46,820.765 2230.5,818.73 \n",
       "  2232.54,816.636 2234.57,814.483 2236.61,812.273 2238.65,810.009 2240.69,807.692 2242.73,805.324 2244.77,802.908 2246.81,800.444 2248.85,797.936 2250.88,795.385 \n",
       "  2252.92,792.793 2254.96,790.163 2257,787.496 2259.04,784.796 2261.08,782.063 2263.12,779.302 2265.15,776.512 2267.19,773.698 2269.23,770.86 2271.27,768.003 \n",
       "  2273.31,765.127 2275.35,762.235 2277.39,759.33 2279.43,756.414 2281.46,753.488 2283.5,750.557 2285.54,747.621 2287.58,744.683 2289.62,741.747 2291.66,738.813 \n",
       "  \n",
       "  \"/>\n",
       "<path clip-path=\"url(#clip470)\" d=\"\n",
       "M1987.92 337.138 L2280.8 337.138 L2280.8 95.2176 L1987.92 95.2176  Z\n",
       "  \" fill=\"#ffffff\" fill-rule=\"evenodd\" fill-opacity=\"1\"/>\n",
       "<polyline clip-path=\"url(#clip470)\" style=\"stroke:#000000; stroke-linecap:butt; stroke-linejoin:round; stroke-width:4; stroke-opacity:1; fill:none\" points=\"\n",
       "  1987.92,337.138 2280.8,337.138 2280.8,95.2176 1987.92,95.2176 1987.92,337.138 \n",
       "  \"/>\n",
       "<polyline clip-path=\"url(#clip470)\" style=\"stroke:#009af9; stroke-linecap:butt; stroke-linejoin:round; stroke-width:4; stroke-opacity:1; fill:none\" points=\"\n",
       "  2011.9,155.698 2155.83,155.698 \n",
       "  \"/>\n",
       "<path clip-path=\"url(#clip470)\" d=\"M2193.66 175.385 Q2191.85 180.015 2190.14 181.427 Q2188.42 182.839 2185.55 182.839 L2182.15 182.839 L2182.15 179.274 L2184.65 179.274 Q2186.41 179.274 2187.38 178.44 Q2188.35 177.607 2189.53 174.505 L2190.3 172.561 L2179.81 147.052 L2184.33 147.052 L2192.43 167.329 L2200.53 147.052 L2205.04 147.052 L2193.66 175.385 Z\" fill=\"#000000\" fill-rule=\"evenodd\" fill-opacity=\"1\" /><path clip-path=\"url(#clip470)\" d=\"M2212.34 169.042 L2219.97 169.042 L2219.97 142.677 L2211.66 144.343 L2211.66 140.084 L2219.93 138.418 L2224.6 138.418 L2224.6 169.042 L2232.24 169.042 L2232.24 172.978 L2212.34 172.978 L2212.34 169.042 Z\" fill=\"#000000\" fill-rule=\"evenodd\" fill-opacity=\"1\" /><polyline clip-path=\"url(#clip470)\" style=\"stroke:#e26f46; stroke-linecap:butt; stroke-linejoin:round; stroke-width:4; stroke-opacity:1; fill:none\" points=\"\n",
       "  2011.9,216.178 2155.83,216.178 \n",
       "  \"/>\n",
       "<path clip-path=\"url(#clip470)\" d=\"M2193.66 235.865 Q2191.85 240.495 2190.14 241.907 Q2188.42 243.319 2185.55 243.319 L2182.15 243.319 L2182.15 239.754 L2184.65 239.754 Q2186.41 239.754 2187.38 238.92 Q2188.35 238.087 2189.53 234.985 L2190.3 233.041 L2179.81 207.532 L2184.33 207.532 L2192.43 227.809 L2200.53 207.532 L2205.04 207.532 L2193.66 235.865 Z\" fill=\"#000000\" fill-rule=\"evenodd\" fill-opacity=\"1\" /><path clip-path=\"url(#clip470)\" d=\"M2215.55 229.522 L2231.87 229.522 L2231.87 233.458 L2209.93 233.458 L2209.93 229.522 Q2212.59 226.768 2217.17 222.138 Q2221.78 217.485 2222.96 216.143 Q2225.21 213.62 2226.09 211.884 Q2226.99 210.124 2226.99 208.435 Q2226.99 205.68 2225.04 203.944 Q2223.12 202.208 2220.02 202.208 Q2217.82 202.208 2215.37 202.972 Q2212.94 203.735 2210.16 205.286 L2210.16 200.564 Q2212.98 199.43 2215.44 198.851 Q2217.89 198.273 2219.93 198.273 Q2225.3 198.273 2228.49 200.958 Q2231.69 203.643 2231.69 208.134 Q2231.69 210.263 2230.88 212.185 Q2230.09 214.083 2227.98 216.675 Q2227.4 217.347 2224.3 220.564 Q2221.2 223.759 2215.55 229.522 Z\" fill=\"#000000\" fill-rule=\"evenodd\" fill-opacity=\"1\" /><polyline clip-path=\"url(#clip470)\" style=\"stroke:#3da44d; stroke-linecap:butt; stroke-linejoin:round; stroke-width:4; stroke-opacity:1; fill:none\" points=\"\n",
       "  2011.9,276.658 2155.83,276.658 \n",
       "  \"/>\n",
       "<path clip-path=\"url(#clip470)\" d=\"M2193.66 296.345 Q2191.85 300.975 2190.14 302.387 Q2188.42 303.799 2185.55 303.799 L2182.15 303.799 L2182.15 300.234 L2184.65 300.234 Q2186.41 300.234 2187.38 299.4 Q2188.35 298.567 2189.53 295.465 L2190.3 293.521 L2179.81 268.012 L2184.33 268.012 L2192.43 288.289 L2200.53 268.012 L2205.04 268.012 L2193.66 296.345 Z\" fill=\"#000000\" fill-rule=\"evenodd\" fill-opacity=\"1\" /><path clip-path=\"url(#clip470)\" d=\"M2225.69 275.303 Q2229.05 276.021 2230.92 278.289 Q2232.82 280.558 2232.82 283.891 Q2232.82 289.007 2229.3 291.808 Q2225.78 294.609 2219.3 294.609 Q2217.13 294.609 2214.81 294.169 Q2212.52 293.752 2210.07 292.896 L2210.07 288.382 Q2212.01 289.516 2214.33 290.095 Q2216.64 290.674 2219.16 290.674 Q2223.56 290.674 2225.85 288.938 Q2228.17 287.201 2228.17 283.891 Q2228.17 280.836 2226.02 279.123 Q2223.89 277.387 2220.07 277.387 L2216.04 277.387 L2216.04 273.544 L2220.25 273.544 Q2223.7 273.544 2225.53 272.178 Q2227.36 270.79 2227.36 268.197 Q2227.36 265.535 2225.46 264.123 Q2223.59 262.688 2220.07 262.688 Q2218.15 262.688 2215.95 263.104 Q2213.75 263.521 2211.11 264.401 L2211.11 260.234 Q2213.77 259.493 2216.09 259.123 Q2218.42 258.753 2220.48 258.753 Q2225.81 258.753 2228.91 261.183 Q2232.01 263.59 2232.01 267.711 Q2232.01 270.581 2230.37 272.572 Q2228.72 274.54 2225.69 275.303 Z\" fill=\"#000000\" fill-rule=\"evenodd\" fill-opacity=\"1\" /></svg>\n"
      ]
     },
     "execution_count": 51,
     "metadata": {},
     "output_type": "execute_result"
    }
   ],
   "source": [
    "xs = range(1, 10, length=1000)\n",
    "plot(xs, sin.(xs))\n",
    "plot!(xs, cos.(xs))\n",
    "plot!(xs, 5sinc.(xs), linewidth=5)"
   ]
  },
  {
   "cell_type": "code",
   "execution_count": 53,
   "id": "8bddd36a-7138-4528-bff5-a85df3321294",
   "metadata": {},
   "outputs": [
    {
     "data": {
      "image/svg+xml": [
       "<?xml version=\"1.0\" encoding=\"utf-8\"?>\n",
       "<svg xmlns=\"http://www.w3.org/2000/svg\" xmlns:xlink=\"http://www.w3.org/1999/xlink\" width=\"600\" height=\"400\" viewBox=\"0 0 2400 1600\">\n",
       "<defs>\n",
       "  <clipPath id=\"clip550\">\n",
       "    <rect x=\"0\" y=\"0\" width=\"2400\" height=\"1600\"/>\n",
       "  </clipPath>\n",
       "</defs>\n",
       "<path clip-path=\"url(#clip550)\" d=\"\n",
       "M0 1600 L2400 1600 L2400 0 L0 0  Z\n",
       "  \" fill=\"#ffffff\" fill-rule=\"evenodd\" fill-opacity=\"1\"/>\n",
       "<defs>\n",
       "  <clipPath id=\"clip551\">\n",
       "    <rect x=\"480\" y=\"0\" width=\"1681\" height=\"1600\"/>\n",
       "  </clipPath>\n",
       "</defs>\n",
       "<path clip-path=\"url(#clip550)\" d=\"\n",
       "M205.121 1423.18 L2352.76 1423.18 L2352.76 47.2441 L205.121 47.2441  Z\n",
       "  \" fill=\"#ffffff\" fill-rule=\"evenodd\" fill-opacity=\"1\"/>\n",
       "<defs>\n",
       "  <clipPath id=\"clip552\">\n",
       "    <rect x=\"205\" y=\"47\" width=\"2149\" height=\"1377\"/>\n",
       "  </clipPath>\n",
       "</defs>\n",
       "<polyline clip-path=\"url(#clip552)\" style=\"stroke:#000000; stroke-linecap:butt; stroke-linejoin:round; stroke-width:2; stroke-opacity:0.1; fill:none\" points=\"\n",
       "  297.061,1423.18 297.061,47.2441 \n",
       "  \"/>\n",
       "<polyline clip-path=\"url(#clip552)\" style=\"stroke:#000000; stroke-linecap:butt; stroke-linejoin:round; stroke-width:2; stroke-opacity:0.1; fill:none\" points=\"\n",
       "  820.729,1423.18 820.729,47.2441 \n",
       "  \"/>\n",
       "<polyline clip-path=\"url(#clip552)\" style=\"stroke:#000000; stroke-linecap:butt; stroke-linejoin:round; stroke-width:2; stroke-opacity:0.1; fill:none\" points=\"\n",
       "  1344.4,1423.18 1344.4,47.2441 \n",
       "  \"/>\n",
       "<polyline clip-path=\"url(#clip552)\" style=\"stroke:#000000; stroke-linecap:butt; stroke-linejoin:round; stroke-width:2; stroke-opacity:0.1; fill:none\" points=\"\n",
       "  1868.06,1423.18 1868.06,47.2441 \n",
       "  \"/>\n",
       "<polyline clip-path=\"url(#clip550)\" style=\"stroke:#000000; stroke-linecap:butt; stroke-linejoin:round; stroke-width:4; stroke-opacity:1; fill:none\" points=\"\n",
       "  205.121,1423.18 2352.76,1423.18 \n",
       "  \"/>\n",
       "<polyline clip-path=\"url(#clip550)\" style=\"stroke:#000000; stroke-linecap:butt; stroke-linejoin:round; stroke-width:4; stroke-opacity:1; fill:none\" points=\"\n",
       "  297.061,1423.18 297.061,1406.67 \n",
       "  \"/>\n",
       "<polyline clip-path=\"url(#clip550)\" style=\"stroke:#000000; stroke-linecap:butt; stroke-linejoin:round; stroke-width:4; stroke-opacity:1; fill:none\" points=\"\n",
       "  820.729,1423.18 820.729,1406.67 \n",
       "  \"/>\n",
       "<polyline clip-path=\"url(#clip550)\" style=\"stroke:#000000; stroke-linecap:butt; stroke-linejoin:round; stroke-width:4; stroke-opacity:1; fill:none\" points=\"\n",
       "  1344.4,1423.18 1344.4,1406.67 \n",
       "  \"/>\n",
       "<polyline clip-path=\"url(#clip550)\" style=\"stroke:#000000; stroke-linecap:butt; stroke-linejoin:round; stroke-width:4; stroke-opacity:1; fill:none\" points=\"\n",
       "  1868.06,1423.18 1868.06,1406.67 \n",
       "  \"/>\n",
       "<path clip-path=\"url(#clip550)\" d=\"M265.962 1467.02 L295.638 1467.02 L295.638 1470.96 L265.962 1470.96 L265.962 1467.02 Z\" fill=\"#000000\" fill-rule=\"evenodd\" fill-opacity=\"1\" /><path clip-path=\"url(#clip550)\" d=\"M318.577 1453.37 L306.772 1471.81 L318.577 1471.81 L318.577 1453.37 M317.351 1449.29 L323.23 1449.29 L323.23 1471.81 L328.161 1471.81 L328.161 1475.7 L323.23 1475.7 L323.23 1483.85 L318.577 1483.85 L318.577 1475.7 L302.976 1475.7 L302.976 1471.19 L317.351 1449.29 Z\" fill=\"#000000\" fill-rule=\"evenodd\" fill-opacity=\"1\" /><path clip-path=\"url(#clip550)\" d=\"M790.671 1467.02 L820.347 1467.02 L820.347 1470.96 L790.671 1470.96 L790.671 1467.02 Z\" fill=\"#000000\" fill-rule=\"evenodd\" fill-opacity=\"1\" /><path clip-path=\"url(#clip550)\" d=\"M834.467 1479.92 L850.787 1479.92 L850.787 1483.85 L828.843 1483.85 L828.843 1479.92 Q831.505 1477.16 836.088 1472.53 Q840.694 1467.88 841.875 1466.54 Q844.12 1464.01 845 1462.28 Q845.903 1460.52 845.903 1458.83 Q845.903 1456.07 843.958 1454.34 Q842.037 1452.6 838.935 1452.6 Q836.736 1452.6 834.282 1453.37 Q831.852 1454.13 829.074 1455.68 L829.074 1450.96 Q831.898 1449.82 834.352 1449.25 Q836.805 1448.67 838.842 1448.67 Q844.213 1448.67 847.407 1451.35 Q850.602 1454.04 850.602 1458.53 Q850.602 1460.66 849.791 1462.58 Q849.004 1464.48 846.898 1467.07 Q846.319 1467.74 843.217 1470.96 Q840.116 1474.15 834.467 1479.92 Z\" fill=\"#000000\" fill-rule=\"evenodd\" fill-opacity=\"1\" /><path clip-path=\"url(#clip550)\" d=\"M1344.4 1452.37 Q1340.79 1452.37 1338.96 1455.94 Q1337.15 1459.48 1337.15 1466.61 Q1337.15 1473.71 1338.96 1477.28 Q1340.79 1480.82 1344.4 1480.82 Q1348.03 1480.82 1349.84 1477.28 Q1351.67 1473.71 1351.67 1466.61 Q1351.67 1459.48 1349.84 1455.94 Q1348.03 1452.37 1344.4 1452.37 M1344.4 1448.67 Q1350.21 1448.67 1353.26 1453.27 Q1356.34 1457.86 1356.34 1466.61 Q1356.34 1475.33 1353.26 1479.94 Q1350.21 1484.52 1344.4 1484.52 Q1338.59 1484.52 1335.51 1479.94 Q1332.45 1475.33 1332.45 1466.61 Q1332.45 1457.86 1335.51 1453.27 Q1338.59 1448.67 1344.4 1448.67 Z\" fill=\"#000000\" fill-rule=\"evenodd\" fill-opacity=\"1\" /><path clip-path=\"url(#clip550)\" d=\"M1862.72 1479.92 L1879.04 1479.92 L1879.04 1483.85 L1857.09 1483.85 L1857.09 1479.92 Q1859.75 1477.16 1864.34 1472.53 Q1868.94 1467.88 1870.12 1466.54 Q1872.37 1464.01 1873.25 1462.28 Q1874.15 1460.52 1874.15 1458.83 Q1874.15 1456.07 1872.21 1454.34 Q1870.29 1452.6 1867.19 1452.6 Q1864.99 1452.6 1862.53 1453.37 Q1860.1 1454.13 1857.32 1455.68 L1857.32 1450.96 Q1860.15 1449.82 1862.6 1449.25 Q1865.06 1448.67 1867.09 1448.67 Q1872.46 1448.67 1875.66 1451.35 Q1878.85 1454.04 1878.85 1458.53 Q1878.85 1460.66 1878.04 1462.58 Q1877.25 1464.48 1875.15 1467.07 Q1874.57 1467.74 1871.47 1470.96 Q1868.37 1474.15 1862.72 1479.92 Z\" fill=\"#000000\" fill-rule=\"evenodd\" fill-opacity=\"1\" /><path clip-path=\"url(#clip550)\" d=\"M1215.89 1532.4 L1203 1549.74 L1216.55 1568.04 L1209.65 1568.04 L1199.27 1554.04 L1188.9 1568.04 L1181.99 1568.04 L1195.83 1549.39 L1183.17 1532.4 L1190.07 1532.4 L1199.53 1545.1 L1208.98 1532.4 L1215.89 1532.4 Z\" fill=\"#000000\" fill-rule=\"evenodd\" fill-opacity=\"1\" /><path clip-path=\"url(#clip550)\" d=\"M1255.96 1520.52 L1261.37 1520.52 L1244.82 1574.09 L1239.41 1574.09 L1255.96 1520.52 Z\" fill=\"#000000\" fill-rule=\"evenodd\" fill-opacity=\"1\" /><path clip-path=\"url(#clip550)\" d=\"M1313.89 1533.76 L1313.89 1539.24 Q1311.4 1537.87 1308.89 1537.2 Q1306.41 1536.5 1303.86 1536.5 Q1298.16 1536.5 1295.01 1540.13 Q1291.86 1543.73 1291.86 1550.25 Q1291.86 1556.78 1295.01 1560.4 Q1298.16 1564 1303.86 1564 Q1306.41 1564 1308.89 1563.33 Q1311.4 1562.63 1313.89 1561.26 L1313.89 1566.68 Q1311.44 1567.82 1308.79 1568.39 Q1306.18 1568.97 1303.22 1568.97 Q1295.17 1568.97 1290.43 1563.91 Q1285.69 1558.85 1285.69 1550.25 Q1285.69 1541.53 1290.46 1536.53 Q1295.27 1531.54 1303.61 1531.54 Q1306.31 1531.54 1308.89 1532.11 Q1311.47 1532.65 1313.89 1533.76 Z\" fill=\"#000000\" fill-rule=\"evenodd\" fill-opacity=\"1\" /><path clip-path=\"url(#clip550)\" d=\"M1351.83 1539.24 Q1354.02 1535.29 1357.08 1533.41 Q1360.13 1531.54 1364.27 1531.54 Q1369.84 1531.54 1372.86 1535.45 Q1375.89 1539.33 1375.89 1546.53 L1375.89 1568.04 L1370 1568.04 L1370 1546.72 Q1370 1541.59 1368.19 1539.11 Q1366.37 1536.63 1362.65 1536.63 Q1358.1 1536.63 1355.45 1539.65 Q1352.81 1542.68 1352.81 1547.9 L1352.81 1568.04 L1346.92 1568.04 L1346.92 1546.72 Q1346.92 1541.56 1345.11 1539.11 Q1343.3 1536.63 1339.51 1536.63 Q1335.02 1536.63 1332.38 1539.68 Q1329.74 1542.71 1329.74 1547.9 L1329.74 1568.04 L1323.85 1568.04 L1323.85 1532.4 L1329.74 1532.4 L1329.74 1537.93 Q1331.74 1534.66 1334.54 1533.1 Q1337.34 1531.54 1341.2 1531.54 Q1345.08 1531.54 1347.78 1533.51 Q1350.52 1535.48 1351.83 1539.24 Z\" fill=\"#000000\" fill-rule=\"evenodd\" fill-opacity=\"1\" /><polyline clip-path=\"url(#clip552)\" style=\"stroke:#000000; stroke-linecap:butt; stroke-linejoin:round; stroke-width:2; stroke-opacity:0.1; fill:none\" points=\"\n",
       "  205.121,1384.24 2352.76,1384.24 \n",
       "  \"/>\n",
       "<polyline clip-path=\"url(#clip552)\" style=\"stroke:#000000; stroke-linecap:butt; stroke-linejoin:round; stroke-width:2; stroke-opacity:0.1; fill:none\" points=\"\n",
       "  205.121,1095.78 2352.76,1095.78 \n",
       "  \"/>\n",
       "<polyline clip-path=\"url(#clip552)\" style=\"stroke:#000000; stroke-linecap:butt; stroke-linejoin:round; stroke-width:2; stroke-opacity:0.1; fill:none\" points=\"\n",
       "  205.121,807.326 2352.76,807.326 \n",
       "  \"/>\n",
       "<polyline clip-path=\"url(#clip552)\" style=\"stroke:#000000; stroke-linecap:butt; stroke-linejoin:round; stroke-width:2; stroke-opacity:0.1; fill:none\" points=\"\n",
       "  205.121,518.87 2352.76,518.87 \n",
       "  \"/>\n",
       "<polyline clip-path=\"url(#clip552)\" style=\"stroke:#000000; stroke-linecap:butt; stroke-linejoin:round; stroke-width:2; stroke-opacity:0.1; fill:none\" points=\"\n",
       "  205.121,230.414 2352.76,230.414 \n",
       "  \"/>\n",
       "<polyline clip-path=\"url(#clip550)\" style=\"stroke:#000000; stroke-linecap:butt; stroke-linejoin:round; stroke-width:4; stroke-opacity:1; fill:none\" points=\"\n",
       "  205.121,1423.18 205.121,47.2441 \n",
       "  \"/>\n",
       "<polyline clip-path=\"url(#clip550)\" style=\"stroke:#000000; stroke-linecap:butt; stroke-linejoin:round; stroke-width:4; stroke-opacity:1; fill:none\" points=\"\n",
       "  205.121,1384.24 230.893,1384.24 \n",
       "  \"/>\n",
       "<polyline clip-path=\"url(#clip550)\" style=\"stroke:#000000; stroke-linecap:butt; stroke-linejoin:round; stroke-width:4; stroke-opacity:1; fill:none\" points=\"\n",
       "  205.121,1095.78 230.893,1095.78 \n",
       "  \"/>\n",
       "<polyline clip-path=\"url(#clip550)\" style=\"stroke:#000000; stroke-linecap:butt; stroke-linejoin:round; stroke-width:4; stroke-opacity:1; fill:none\" points=\"\n",
       "  205.121,807.326 230.893,807.326 \n",
       "  \"/>\n",
       "<polyline clip-path=\"url(#clip550)\" style=\"stroke:#000000; stroke-linecap:butt; stroke-linejoin:round; stroke-width:4; stroke-opacity:1; fill:none\" points=\"\n",
       "  205.121,518.87 230.893,518.87 \n",
       "  \"/>\n",
       "<polyline clip-path=\"url(#clip550)\" style=\"stroke:#000000; stroke-linecap:butt; stroke-linejoin:round; stroke-width:4; stroke-opacity:1; fill:none\" points=\"\n",
       "  205.121,230.414 230.893,230.414 \n",
       "  \"/>\n",
       "<path clip-path=\"url(#clip550)\" d=\"M157.177 1370.04 Q153.566 1370.04 151.737 1373.6 Q149.931 1377.14 149.931 1384.27 Q149.931 1391.38 151.737 1394.94 Q153.566 1398.49 157.177 1398.49 Q160.811 1398.49 162.616 1394.94 Q164.445 1391.38 164.445 1384.27 Q164.445 1377.14 162.616 1373.6 Q160.811 1370.04 157.177 1370.04 M157.177 1366.33 Q162.987 1366.33 166.042 1370.94 Q169.121 1375.52 169.121 1384.27 Q169.121 1393 166.042 1397.61 Q162.987 1402.19 157.177 1402.19 Q151.366 1402.19 148.288 1397.61 Q145.232 1393 145.232 1384.27 Q145.232 1375.52 148.288 1370.94 Q151.366 1366.33 157.177 1366.33 Z\" fill=\"#000000\" fill-rule=\"evenodd\" fill-opacity=\"1\" /><path clip-path=\"url(#clip550)\" d=\"M117.825 1109.13 L125.464 1109.13 L125.464 1082.76 L117.154 1084.43 L117.154 1080.17 L125.418 1078.5 L130.093 1078.5 L130.093 1109.13 L137.732 1109.13 L137.732 1113.06 L117.825 1113.06 L117.825 1109.13 Z\" fill=\"#000000\" fill-rule=\"evenodd\" fill-opacity=\"1\" /><path clip-path=\"url(#clip550)\" d=\"M157.177 1081.58 Q153.566 1081.58 151.737 1085.15 Q149.931 1088.69 149.931 1095.82 Q149.931 1102.92 151.737 1106.49 Q153.566 1110.03 157.177 1110.03 Q160.811 1110.03 162.616 1106.49 Q164.445 1102.92 164.445 1095.82 Q164.445 1088.69 162.616 1085.15 Q160.811 1081.58 157.177 1081.58 M157.177 1077.88 Q162.987 1077.88 166.042 1082.48 Q169.121 1087.07 169.121 1095.82 Q169.121 1104.54 166.042 1109.15 Q162.987 1113.73 157.177 1113.73 Q151.366 1113.73 148.288 1109.15 Q145.232 1104.54 145.232 1095.82 Q145.232 1087.07 148.288 1082.48 Q151.366 1077.88 157.177 1077.88 Z\" fill=\"#000000\" fill-rule=\"evenodd\" fill-opacity=\"1\" /><path clip-path=\"url(#clip550)\" d=\"M121.043 820.671 L137.362 820.671 L137.362 824.606 L115.418 824.606 L115.418 820.671 Q118.08 817.916 122.663 813.287 Q127.269 808.634 128.45 807.291 Q130.695 804.768 131.575 803.032 Q132.478 801.273 132.478 799.583 Q132.478 796.828 130.533 795.092 Q128.612 793.356 125.51 793.356 Q123.311 793.356 120.857 794.12 Q118.427 794.884 115.649 796.435 L115.649 791.713 Q118.473 790.578 120.927 790 Q123.38 789.421 125.418 789.421 Q130.788 789.421 133.982 792.106 Q137.177 794.791 137.177 799.282 Q137.177 801.412 136.367 803.333 Q135.579 805.231 133.473 807.824 Q132.894 808.495 129.792 811.713 Q126.691 814.907 121.043 820.671 Z\" fill=\"#000000\" fill-rule=\"evenodd\" fill-opacity=\"1\" /><path clip-path=\"url(#clip550)\" d=\"M157.177 793.125 Q153.566 793.125 151.737 796.689 Q149.931 800.231 149.931 807.361 Q149.931 814.467 151.737 818.032 Q153.566 821.574 157.177 821.574 Q160.811 821.574 162.616 818.032 Q164.445 814.467 164.445 807.361 Q164.445 800.231 162.616 796.689 Q160.811 793.125 157.177 793.125 M157.177 789.421 Q162.987 789.421 166.042 794.027 Q169.121 798.611 169.121 807.361 Q169.121 816.088 166.042 820.694 Q162.987 825.277 157.177 825.277 Q151.366 825.277 148.288 820.694 Q145.232 816.088 145.232 807.361 Q145.232 798.611 148.288 794.027 Q151.366 789.421 157.177 789.421 Z\" fill=\"#000000\" fill-rule=\"evenodd\" fill-opacity=\"1\" /><path clip-path=\"url(#clip550)\" d=\"M131.181 517.516 Q134.538 518.233 136.413 520.502 Q138.311 522.77 138.311 526.104 Q138.311 531.219 134.792 534.02 Q131.274 536.821 124.793 536.821 Q122.617 536.821 120.302 536.381 Q118.01 535.965 115.556 535.108 L115.556 530.594 Q117.501 531.729 119.816 532.307 Q122.13 532.886 124.654 532.886 Q129.052 532.886 131.343 531.15 Q133.658 529.414 133.658 526.104 Q133.658 523.048 131.505 521.335 Q129.376 519.599 125.556 519.599 L121.529 519.599 L121.529 515.756 L125.742 515.756 Q129.191 515.756 131.019 514.391 Q132.848 513.002 132.848 510.409 Q132.848 507.747 130.95 506.335 Q129.075 504.9 125.556 504.9 Q123.635 504.9 121.436 505.317 Q119.237 505.733 116.598 506.613 L116.598 502.446 Q119.26 501.706 121.575 501.335 Q123.913 500.965 125.973 500.965 Q131.297 500.965 134.399 503.395 Q137.501 505.803 137.501 509.923 Q137.501 512.794 135.857 514.784 Q134.214 516.752 131.181 517.516 Z\" fill=\"#000000\" fill-rule=\"evenodd\" fill-opacity=\"1\" /><path clip-path=\"url(#clip550)\" d=\"M157.177 504.669 Q153.566 504.669 151.737 508.233 Q149.931 511.775 149.931 518.905 Q149.931 526.011 151.737 529.576 Q153.566 533.117 157.177 533.117 Q160.811 533.117 162.616 529.576 Q164.445 526.011 164.445 518.905 Q164.445 511.775 162.616 508.233 Q160.811 504.669 157.177 504.669 M157.177 500.965 Q162.987 500.965 166.042 505.571 Q169.121 510.155 169.121 518.905 Q169.121 527.631 166.042 532.238 Q162.987 536.821 157.177 536.821 Q151.366 536.821 148.288 532.238 Q145.232 527.631 145.232 518.905 Q145.232 510.155 148.288 505.571 Q151.366 500.965 157.177 500.965 Z\" fill=\"#000000\" fill-rule=\"evenodd\" fill-opacity=\"1\" /><path clip-path=\"url(#clip550)\" d=\"M129.862 217.208 L118.056 235.657 L129.862 235.657 L129.862 217.208 M128.635 213.134 L134.515 213.134 L134.515 235.657 L139.445 235.657 L139.445 239.546 L134.515 239.546 L134.515 247.694 L129.862 247.694 L129.862 239.546 L114.26 239.546 L114.26 235.032 L128.635 213.134 Z\" fill=\"#000000\" fill-rule=\"evenodd\" fill-opacity=\"1\" /><path clip-path=\"url(#clip550)\" d=\"M157.177 216.212 Q153.566 216.212 151.737 219.777 Q149.931 223.319 149.931 230.448 Q149.931 237.555 151.737 241.12 Q153.566 244.661 157.177 244.661 Q160.811 244.661 162.616 241.12 Q164.445 237.555 164.445 230.448 Q164.445 223.319 162.616 219.777 Q160.811 216.212 157.177 216.212 M157.177 212.509 Q162.987 212.509 166.042 217.115 Q169.121 221.699 169.121 230.448 Q169.121 239.175 166.042 243.782 Q162.987 248.365 157.177 248.365 Q151.366 248.365 148.288 243.782 Q145.232 239.175 145.232 230.448 Q145.232 221.699 148.288 217.115 Q151.366 212.509 157.177 212.509 Z\" fill=\"#000000\" fill-rule=\"evenodd\" fill-opacity=\"1\" /><path clip-path=\"url(#clip550)\" d=\"M29.7248 796.386 L35.1993 796.386 Q33.8307 798.869 33.1623 801.383 Q32.4621 803.866 32.4621 806.412 Q32.4621 812.11 36.0905 815.261 Q39.6872 818.412 46.212 818.412 Q52.7369 818.412 56.3653 815.261 Q59.9619 812.11 59.9619 806.412 Q59.9619 803.866 59.2935 801.383 Q58.5933 798.869 57.2247 796.386 L62.6355 796.386 Q63.7814 798.837 64.3543 801.479 Q64.9272 804.089 64.9272 807.049 Q64.9272 815.102 59.8664 819.844 Q54.8057 824.586 46.212 824.586 Q37.491 824.586 32.4939 819.812 Q27.4968 815.006 27.4968 806.667 Q27.4968 803.962 28.0697 801.383 Q28.6108 798.805 29.7248 796.386 Z\" fill=\"#000000\" fill-rule=\"evenodd\" fill-opacity=\"1\" /><path clip-path=\"url(#clip550)\" d=\"M32.4621 772.388 Q32.4621 777.098 36.1542 779.836 Q39.8145 782.573 46.212 782.573 Q52.6095 782.573 56.3017 779.867 Q59.9619 777.13 59.9619 772.388 Q59.9619 767.709 56.2698 764.972 Q52.5777 762.234 46.212 762.234 Q39.8781 762.234 36.186 764.972 Q32.4621 767.709 32.4621 772.388 M27.4968 772.388 Q27.4968 764.749 32.4621 760.388 Q37.4273 756.028 46.212 756.028 Q54.9649 756.028 59.9619 760.388 Q64.9272 764.749 64.9272 772.388 Q64.9272 780.058 59.9619 784.419 Q54.9649 788.748 46.212 788.748 Q37.4273 788.748 32.4621 784.419 Q27.4968 780.058 27.4968 772.388 Z\" fill=\"#000000\" fill-rule=\"evenodd\" fill-opacity=\"1\" /><path clip-path=\"url(#clip550)\" d=\"M49.9359 746.925 L28.3562 746.925 L28.3562 741.068 L49.7131 741.068 Q54.7739 741.068 57.3202 739.095 Q59.8346 737.122 59.8346 733.175 Q59.8346 728.432 56.8109 725.695 Q53.7872 722.926 48.5673 722.926 L28.3562 722.926 L28.3562 717.07 L64.0042 717.07 L64.0042 722.926 L58.5296 722.926 Q61.7762 725.059 63.3676 727.891 Q64.9272 730.692 64.9272 734.416 Q64.9272 740.559 61.1078 743.742 Q57.2883 746.925 49.9359 746.925 M27.4968 732.188 L27.4968 732.188 Z\" fill=\"#000000\" fill-rule=\"evenodd\" fill-opacity=\"1\" /><path clip-path=\"url(#clip550)\" d=\"M42.4881 675.374 L64.0042 675.374 L64.0042 681.231 L42.679 681.231 Q37.6183 681.231 35.1038 683.204 Q32.5894 685.178 32.5894 689.124 Q32.5894 693.867 35.6131 696.604 Q38.6368 699.341 43.8567 699.341 L64.0042 699.341 L64.0042 705.229 L28.3562 705.229 L28.3562 699.341 L33.8944 699.341 Q30.6797 697.241 29.0883 694.408 Q27.4968 691.543 27.4968 687.819 Q27.4968 681.676 31.3163 678.525 Q35.1038 675.374 42.4881 675.374 Z\" fill=\"#000000\" fill-rule=\"evenodd\" fill-opacity=\"1\" /><path clip-path=\"url(#clip550)\" d=\"M18.2347 657.9 L28.3562 657.9 L28.3562 645.837 L32.9077 645.837 L32.9077 657.9 L52.2594 657.9 Q56.6199 657.9 57.8613 656.723 Q59.1026 655.513 59.1026 651.853 L59.1026 645.837 L64.0042 645.837 L64.0042 651.853 Q64.0042 658.633 61.4897 661.211 Q58.9434 663.789 52.2594 663.789 L32.9077 663.789 L32.9077 668.086 L28.3562 668.086 L28.3562 663.789 L18.2347 663.789 L18.2347 657.9 Z\" fill=\"#000000\" fill-rule=\"evenodd\" fill-opacity=\"1\" /><path clip-path=\"url(#clip552)\" d=\"\n",
       "M323.245 1355.39 L323.245 1384.24 L349.428 1384.24 L349.428 1355.39 L323.245 1355.39 L323.245 1355.39  Z\n",
       "  \" fill=\"#009af9\" fill-rule=\"evenodd\" fill-opacity=\"1\"/>\n",
       "<polyline clip-path=\"url(#clip552)\" style=\"stroke:#000000; stroke-linecap:butt; stroke-linejoin:round; stroke-width:4; stroke-opacity:1; fill:none\" points=\"\n",
       "  323.245,1355.39 323.245,1384.24 349.428,1384.24 349.428,1355.39 323.245,1355.39 \n",
       "  \"/>\n",
       "<path clip-path=\"url(#clip552)\" d=\"\n",
       "M349.428 1384.24 L349.428 1384.24 L375.611 1384.24 L375.611 1384.24 L349.428 1384.24 L349.428 1384.24  Z\n",
       "  \" fill=\"#009af9\" fill-rule=\"evenodd\" fill-opacity=\"1\"/>\n",
       "<polyline clip-path=\"url(#clip552)\" style=\"stroke:#000000; stroke-linecap:butt; stroke-linejoin:round; stroke-width:4; stroke-opacity:1; fill:none\" points=\"\n",
       "  349.428,1384.24 349.428,1384.24 375.611,1384.24 349.428,1384.24 \n",
       "  \"/>\n",
       "<path clip-path=\"url(#clip552)\" d=\"\n",
       "M375.611 1355.39 L375.611 1384.24 L401.795 1384.24 L401.795 1355.39 L375.611 1355.39 L375.611 1355.39  Z\n",
       "  \" fill=\"#009af9\" fill-rule=\"evenodd\" fill-opacity=\"1\"/>\n",
       "<polyline clip-path=\"url(#clip552)\" style=\"stroke:#000000; stroke-linecap:butt; stroke-linejoin:round; stroke-width:4; stroke-opacity:1; fill:none\" points=\"\n",
       "  375.611,1355.39 375.611,1384.24 401.795,1384.24 401.795,1355.39 375.611,1355.39 \n",
       "  \"/>\n",
       "<path clip-path=\"url(#clip552)\" d=\"\n",
       "M401.795 1384.24 L401.795 1384.24 L427.978 1384.24 L427.978 1384.24 L401.795 1384.24 L401.795 1384.24  Z\n",
       "  \" fill=\"#009af9\" fill-rule=\"evenodd\" fill-opacity=\"1\"/>\n",
       "<polyline clip-path=\"url(#clip552)\" style=\"stroke:#000000; stroke-linecap:butt; stroke-linejoin:round; stroke-width:4; stroke-opacity:1; fill:none\" points=\"\n",
       "  401.795,1384.24 401.795,1384.24 427.978,1384.24 401.795,1384.24 \n",
       "  \"/>\n",
       "<path clip-path=\"url(#clip552)\" d=\"\n",
       "M427.978 1384.24 L427.978 1384.24 L454.162 1384.24 L454.162 1384.24 L427.978 1384.24 L427.978 1384.24  Z\n",
       "  \" fill=\"#009af9\" fill-rule=\"evenodd\" fill-opacity=\"1\"/>\n",
       "<polyline clip-path=\"url(#clip552)\" style=\"stroke:#000000; stroke-linecap:butt; stroke-linejoin:round; stroke-width:4; stroke-opacity:1; fill:none\" points=\"\n",
       "  427.978,1384.24 427.978,1384.24 454.162,1384.24 427.978,1384.24 \n",
       "  \"/>\n",
       "<path clip-path=\"url(#clip552)\" d=\"\n",
       "M454.162 1384.24 L454.162 1384.24 L480.345 1384.24 L480.345 1384.24 L454.162 1384.24 L454.162 1384.24  Z\n",
       "  \" fill=\"#009af9\" fill-rule=\"evenodd\" fill-opacity=\"1\"/>\n",
       "<polyline clip-path=\"url(#clip552)\" style=\"stroke:#000000; stroke-linecap:butt; stroke-linejoin:round; stroke-width:4; stroke-opacity:1; fill:none\" points=\"\n",
       "  454.162,1384.24 454.162,1384.24 480.345,1384.24 454.162,1384.24 \n",
       "  \"/>\n",
       "<path clip-path=\"url(#clip552)\" d=\"\n",
       "M480.345 1384.24 L480.345 1384.24 L506.528 1384.24 L506.528 1384.24 L480.345 1384.24 L480.345 1384.24  Z\n",
       "  \" fill=\"#009af9\" fill-rule=\"evenodd\" fill-opacity=\"1\"/>\n",
       "<polyline clip-path=\"url(#clip552)\" style=\"stroke:#000000; stroke-linecap:butt; stroke-linejoin:round; stroke-width:4; stroke-opacity:1; fill:none\" points=\"\n",
       "  480.345,1384.24 480.345,1384.24 506.528,1384.24 480.345,1384.24 \n",
       "  \"/>\n",
       "<path clip-path=\"url(#clip552)\" d=\"\n",
       "M506.528 1384.24 L506.528 1384.24 L532.712 1384.24 L532.712 1384.24 L506.528 1384.24 L506.528 1384.24  Z\n",
       "  \" fill=\"#009af9\" fill-rule=\"evenodd\" fill-opacity=\"1\"/>\n",
       "<polyline clip-path=\"url(#clip552)\" style=\"stroke:#000000; stroke-linecap:butt; stroke-linejoin:round; stroke-width:4; stroke-opacity:1; fill:none\" points=\"\n",
       "  506.528,1384.24 506.528,1384.24 532.712,1384.24 506.528,1384.24 \n",
       "  \"/>\n",
       "<path clip-path=\"url(#clip552)\" d=\"\n",
       "M532.712 1355.39 L532.712 1384.24 L558.895 1384.24 L558.895 1355.39 L532.712 1355.39 L532.712 1355.39  Z\n",
       "  \" fill=\"#009af9\" fill-rule=\"evenodd\" fill-opacity=\"1\"/>\n",
       "<polyline clip-path=\"url(#clip552)\" style=\"stroke:#000000; stroke-linecap:butt; stroke-linejoin:round; stroke-width:4; stroke-opacity:1; fill:none\" points=\"\n",
       "  532.712,1355.39 532.712,1384.24 558.895,1384.24 558.895,1355.39 532.712,1355.39 \n",
       "  \"/>\n",
       "<path clip-path=\"url(#clip552)\" d=\"\n",
       "M558.895 1384.24 L558.895 1384.24 L585.079 1384.24 L585.079 1384.24 L558.895 1384.24 L558.895 1384.24  Z\n",
       "  \" fill=\"#009af9\" fill-rule=\"evenodd\" fill-opacity=\"1\"/>\n",
       "<polyline clip-path=\"url(#clip552)\" style=\"stroke:#000000; stroke-linecap:butt; stroke-linejoin:round; stroke-width:4; stroke-opacity:1; fill:none\" points=\"\n",
       "  558.895,1384.24 558.895,1384.24 585.079,1384.24 558.895,1384.24 \n",
       "  \"/>\n",
       "<path clip-path=\"url(#clip552)\" d=\"\n",
       "M585.079 1384.24 L585.079 1384.24 L611.262 1384.24 L611.262 1384.24 L585.079 1384.24 L585.079 1384.24  Z\n",
       "  \" fill=\"#009af9\" fill-rule=\"evenodd\" fill-opacity=\"1\"/>\n",
       "<polyline clip-path=\"url(#clip552)\" style=\"stroke:#000000; stroke-linecap:butt; stroke-linejoin:round; stroke-width:4; stroke-opacity:1; fill:none\" points=\"\n",
       "  585.079,1384.24 585.079,1384.24 611.262,1384.24 585.079,1384.24 \n",
       "  \"/>\n",
       "<path clip-path=\"url(#clip552)\" d=\"\n",
       "M611.262 1384.24 L611.262 1384.24 L637.445 1384.24 L637.445 1384.24 L611.262 1384.24 L611.262 1384.24  Z\n",
       "  \" fill=\"#009af9\" fill-rule=\"evenodd\" fill-opacity=\"1\"/>\n",
       "<polyline clip-path=\"url(#clip552)\" style=\"stroke:#000000; stroke-linecap:butt; stroke-linejoin:round; stroke-width:4; stroke-opacity:1; fill:none\" points=\"\n",
       "  611.262,1384.24 611.262,1384.24 637.445,1384.24 611.262,1384.24 \n",
       "  \"/>\n",
       "<path clip-path=\"url(#clip552)\" d=\"\n",
       "M637.445 1384.24 L637.445 1384.24 L663.629 1384.24 L663.629 1384.24 L637.445 1384.24 L637.445 1384.24  Z\n",
       "  \" fill=\"#009af9\" fill-rule=\"evenodd\" fill-opacity=\"1\"/>\n",
       "<polyline clip-path=\"url(#clip552)\" style=\"stroke:#000000; stroke-linecap:butt; stroke-linejoin:round; stroke-width:4; stroke-opacity:1; fill:none\" points=\"\n",
       "  637.445,1384.24 637.445,1384.24 663.629,1384.24 637.445,1384.24 \n",
       "  \"/>\n",
       "<path clip-path=\"url(#clip552)\" d=\"\n",
       "M663.629 1384.24 L663.629 1384.24 L689.812 1384.24 L689.812 1384.24 L663.629 1384.24 L663.629 1384.24  Z\n",
       "  \" fill=\"#009af9\" fill-rule=\"evenodd\" fill-opacity=\"1\"/>\n",
       "<polyline clip-path=\"url(#clip552)\" style=\"stroke:#000000; stroke-linecap:butt; stroke-linejoin:round; stroke-width:4; stroke-opacity:1; fill:none\" points=\"\n",
       "  663.629,1384.24 663.629,1384.24 689.812,1384.24 663.629,1384.24 \n",
       "  \"/>\n",
       "<path clip-path=\"url(#clip552)\" d=\"\n",
       "M689.812 1297.7 L689.812 1384.24 L715.996 1384.24 L715.996 1297.7 L689.812 1297.7 L689.812 1297.7  Z\n",
       "  \" fill=\"#009af9\" fill-rule=\"evenodd\" fill-opacity=\"1\"/>\n",
       "<polyline clip-path=\"url(#clip552)\" style=\"stroke:#000000; stroke-linecap:butt; stroke-linejoin:round; stroke-width:4; stroke-opacity:1; fill:none\" points=\"\n",
       "  689.812,1297.7 689.812,1384.24 715.996,1384.24 715.996,1297.7 689.812,1297.7 \n",
       "  \"/>\n",
       "<path clip-path=\"url(#clip552)\" d=\"\n",
       "M715.996 1297.7 L715.996 1384.24 L742.179 1384.24 L742.179 1297.7 L715.996 1297.7 L715.996 1297.7  Z\n",
       "  \" fill=\"#009af9\" fill-rule=\"evenodd\" fill-opacity=\"1\"/>\n",
       "<polyline clip-path=\"url(#clip552)\" style=\"stroke:#000000; stroke-linecap:butt; stroke-linejoin:round; stroke-width:4; stroke-opacity:1; fill:none\" points=\"\n",
       "  715.996,1297.7 715.996,1384.24 742.179,1384.24 742.179,1297.7 715.996,1297.7 \n",
       "  \"/>\n",
       "<path clip-path=\"url(#clip552)\" d=\"\n",
       "M742.179 1153.47 L742.179 1384.24 L768.362 1384.24 L768.362 1153.47 L742.179 1153.47 L742.179 1153.47  Z\n",
       "  \" fill=\"#009af9\" fill-rule=\"evenodd\" fill-opacity=\"1\"/>\n",
       "<polyline clip-path=\"url(#clip552)\" style=\"stroke:#000000; stroke-linecap:butt; stroke-linejoin:round; stroke-width:4; stroke-opacity:1; fill:none\" points=\"\n",
       "  742.179,1153.47 742.179,1384.24 768.362,1384.24 768.362,1153.47 742.179,1153.47 \n",
       "  \"/>\n",
       "<path clip-path=\"url(#clip552)\" d=\"\n",
       "M768.362 1297.7 L768.362 1384.24 L794.546 1384.24 L794.546 1297.7 L768.362 1297.7 L768.362 1297.7  Z\n",
       "  \" fill=\"#009af9\" fill-rule=\"evenodd\" fill-opacity=\"1\"/>\n",
       "<polyline clip-path=\"url(#clip552)\" style=\"stroke:#000000; stroke-linecap:butt; stroke-linejoin:round; stroke-width:4; stroke-opacity:1; fill:none\" points=\"\n",
       "  768.362,1297.7 768.362,1384.24 794.546,1384.24 794.546,1297.7 768.362,1297.7 \n",
       "  \"/>\n",
       "<path clip-path=\"url(#clip552)\" d=\"\n",
       "M794.546 1240.01 L794.546 1384.24 L820.729 1384.24 L820.729 1240.01 L794.546 1240.01 L794.546 1240.01  Z\n",
       "  \" fill=\"#009af9\" fill-rule=\"evenodd\" fill-opacity=\"1\"/>\n",
       "<polyline clip-path=\"url(#clip552)\" style=\"stroke:#000000; stroke-linecap:butt; stroke-linejoin:round; stroke-width:4; stroke-opacity:1; fill:none\" points=\"\n",
       "  794.546,1240.01 794.546,1384.24 820.729,1384.24 820.729,1240.01 794.546,1240.01 \n",
       "  \"/>\n",
       "<path clip-path=\"url(#clip552)\" d=\"\n",
       "M820.729 1297.7 L820.729 1384.24 L846.913 1384.24 L846.913 1297.7 L820.729 1297.7 L820.729 1297.7  Z\n",
       "  \" fill=\"#009af9\" fill-rule=\"evenodd\" fill-opacity=\"1\"/>\n",
       "<polyline clip-path=\"url(#clip552)\" style=\"stroke:#000000; stroke-linecap:butt; stroke-linejoin:round; stroke-width:4; stroke-opacity:1; fill:none\" points=\"\n",
       "  820.729,1297.7 820.729,1384.24 846.913,1384.24 846.913,1297.7 820.729,1297.7 \n",
       "  \"/>\n",
       "<path clip-path=\"url(#clip552)\" d=\"\n",
       "M846.913 1182.32 L846.913 1384.24 L873.096 1384.24 L873.096 1182.32 L846.913 1182.32 L846.913 1182.32  Z\n",
       "  \" fill=\"#009af9\" fill-rule=\"evenodd\" fill-opacity=\"1\"/>\n",
       "<polyline clip-path=\"url(#clip552)\" style=\"stroke:#000000; stroke-linecap:butt; stroke-linejoin:round; stroke-width:4; stroke-opacity:1; fill:none\" points=\"\n",
       "  846.913,1182.32 846.913,1384.24 873.096,1384.24 873.096,1182.32 846.913,1182.32 \n",
       "  \"/>\n",
       "<path clip-path=\"url(#clip552)\" d=\"\n",
       "M873.096 1211.16 L873.096 1384.24 L899.279 1384.24 L899.279 1211.16 L873.096 1211.16 L873.096 1211.16  Z\n",
       "  \" fill=\"#009af9\" fill-rule=\"evenodd\" fill-opacity=\"1\"/>\n",
       "<polyline clip-path=\"url(#clip552)\" style=\"stroke:#000000; stroke-linecap:butt; stroke-linejoin:round; stroke-width:4; stroke-opacity:1; fill:none\" points=\"\n",
       "  873.096,1211.16 873.096,1384.24 899.279,1384.24 899.279,1211.16 873.096,1211.16 \n",
       "  \"/>\n",
       "<path clip-path=\"url(#clip552)\" d=\"\n",
       "M899.279 1182.32 L899.279 1384.24 L925.463 1384.24 L925.463 1182.32 L899.279 1182.32 L899.279 1182.32  Z\n",
       "  \" fill=\"#009af9\" fill-rule=\"evenodd\" fill-opacity=\"1\"/>\n",
       "<polyline clip-path=\"url(#clip552)\" style=\"stroke:#000000; stroke-linecap:butt; stroke-linejoin:round; stroke-width:4; stroke-opacity:1; fill:none\" points=\"\n",
       "  899.279,1182.32 899.279,1384.24 925.463,1384.24 925.463,1182.32 899.279,1182.32 \n",
       "  \"/>\n",
       "<path clip-path=\"url(#clip552)\" d=\"\n",
       "M925.463 1009.25 L925.463 1384.24 L951.646 1384.24 L951.646 1009.25 L925.463 1009.25 L925.463 1009.25  Z\n",
       "  \" fill=\"#009af9\" fill-rule=\"evenodd\" fill-opacity=\"1\"/>\n",
       "<polyline clip-path=\"url(#clip552)\" style=\"stroke:#000000; stroke-linecap:butt; stroke-linejoin:round; stroke-width:4; stroke-opacity:1; fill:none\" points=\"\n",
       "  925.463,1009.25 925.463,1384.24 951.646,1384.24 951.646,1009.25 925.463,1009.25 \n",
       "  \"/>\n",
       "<path clip-path=\"url(#clip552)\" d=\"\n",
       "M951.646 922.708 L951.646 1384.24 L977.829 1384.24 L977.829 922.708 L951.646 922.708 L951.646 922.708  Z\n",
       "  \" fill=\"#009af9\" fill-rule=\"evenodd\" fill-opacity=\"1\"/>\n",
       "<polyline clip-path=\"url(#clip552)\" style=\"stroke:#000000; stroke-linecap:butt; stroke-linejoin:round; stroke-width:4; stroke-opacity:1; fill:none\" points=\"\n",
       "  951.646,922.708 951.646,1384.24 977.829,1384.24 977.829,922.708 951.646,922.708 \n",
       "  \"/>\n",
       "<path clip-path=\"url(#clip552)\" d=\"\n",
       "M977.829 663.098 L977.829 1384.24 L1004.01 1384.24 L1004.01 663.098 L977.829 663.098 L977.829 663.098  Z\n",
       "  \" fill=\"#009af9\" fill-rule=\"evenodd\" fill-opacity=\"1\"/>\n",
       "<polyline clip-path=\"url(#clip552)\" style=\"stroke:#000000; stroke-linecap:butt; stroke-linejoin:round; stroke-width:4; stroke-opacity:1; fill:none\" points=\"\n",
       "  977.829,663.098 977.829,1384.24 1004.01,1384.24 1004.01,663.098 977.829,663.098 \n",
       "  \"/>\n",
       "<path clip-path=\"url(#clip552)\" d=\"\n",
       "M1004.01 893.863 L1004.01 1384.24 L1030.2 1384.24 L1030.2 893.863 L1004.01 893.863 L1004.01 893.863  Z\n",
       "  \" fill=\"#009af9\" fill-rule=\"evenodd\" fill-opacity=\"1\"/>\n",
       "<polyline clip-path=\"url(#clip552)\" style=\"stroke:#000000; stroke-linecap:butt; stroke-linejoin:round; stroke-width:4; stroke-opacity:1; fill:none\" points=\"\n",
       "  1004.01,893.863 1004.01,1384.24 1030.2,1384.24 1030.2,893.863 1004.01,893.863 \n",
       "  \"/>\n",
       "<path clip-path=\"url(#clip552)\" d=\"\n",
       "M1030.2 778.48 L1030.2 1384.24 L1056.38 1384.24 L1056.38 778.48 L1030.2 778.48 L1030.2 778.48  Z\n",
       "  \" fill=\"#009af9\" fill-rule=\"evenodd\" fill-opacity=\"1\"/>\n",
       "<polyline clip-path=\"url(#clip552)\" style=\"stroke:#000000; stroke-linecap:butt; stroke-linejoin:round; stroke-width:4; stroke-opacity:1; fill:none\" points=\"\n",
       "  1030.2,778.48 1030.2,1384.24 1056.38,1384.24 1056.38,778.48 1030.2,778.48 \n",
       "  \"/>\n",
       "<path clip-path=\"url(#clip552)\" d=\"\n",
       "M1056.38 778.48 L1056.38 1384.24 L1082.56 1384.24 L1082.56 778.48 L1056.38 778.48 L1056.38 778.48  Z\n",
       "  \" fill=\"#009af9\" fill-rule=\"evenodd\" fill-opacity=\"1\"/>\n",
       "<polyline clip-path=\"url(#clip552)\" style=\"stroke:#000000; stroke-linecap:butt; stroke-linejoin:round; stroke-width:4; stroke-opacity:1; fill:none\" points=\"\n",
       "  1056.38,778.48 1056.38,1384.24 1082.56,1384.24 1082.56,778.48 1056.38,778.48 \n",
       "  \"/>\n",
       "<path clip-path=\"url(#clip552)\" d=\"\n",
       "M1082.56 576.561 L1082.56 1384.24 L1108.75 1384.24 L1108.75 576.561 L1082.56 576.561 L1082.56 576.561  Z\n",
       "  \" fill=\"#009af9\" fill-rule=\"evenodd\" fill-opacity=\"1\"/>\n",
       "<polyline clip-path=\"url(#clip552)\" style=\"stroke:#000000; stroke-linecap:butt; stroke-linejoin:round; stroke-width:4; stroke-opacity:1; fill:none\" points=\"\n",
       "  1082.56,576.561 1082.56,1384.24 1108.75,1384.24 1108.75,576.561 1082.56,576.561 \n",
       "  \"/>\n",
       "<path clip-path=\"url(#clip552)\" d=\"\n",
       "M1108.75 518.87 L1108.75 1384.24 L1134.93 1384.24 L1134.93 518.87 L1108.75 518.87 L1108.75 518.87  Z\n",
       "  \" fill=\"#009af9\" fill-rule=\"evenodd\" fill-opacity=\"1\"/>\n",
       "<polyline clip-path=\"url(#clip552)\" style=\"stroke:#000000; stroke-linecap:butt; stroke-linejoin:round; stroke-width:4; stroke-opacity:1; fill:none\" points=\"\n",
       "  1108.75,518.87 1108.75,1384.24 1134.93,1384.24 1134.93,518.87 1108.75,518.87 \n",
       "  \"/>\n",
       "<path clip-path=\"url(#clip552)\" d=\"\n",
       "M1134.93 605.407 L1134.93 1384.24 L1161.11 1384.24 L1161.11 605.407 L1134.93 605.407 L1134.93 605.407  Z\n",
       "  \" fill=\"#009af9\" fill-rule=\"evenodd\" fill-opacity=\"1\"/>\n",
       "<polyline clip-path=\"url(#clip552)\" style=\"stroke:#000000; stroke-linecap:butt; stroke-linejoin:round; stroke-width:4; stroke-opacity:1; fill:none\" points=\"\n",
       "  1134.93,605.407 1134.93,1384.24 1161.11,1384.24 1161.11,605.407 1134.93,605.407 \n",
       "  \"/>\n",
       "<path clip-path=\"url(#clip552)\" d=\"\n",
       "M1161.11 288.105 L1161.11 1384.24 L1187.3 1384.24 L1187.3 288.105 L1161.11 288.105 L1161.11 288.105  Z\n",
       "  \" fill=\"#009af9\" fill-rule=\"evenodd\" fill-opacity=\"1\"/>\n",
       "<polyline clip-path=\"url(#clip552)\" style=\"stroke:#000000; stroke-linecap:butt; stroke-linejoin:round; stroke-width:4; stroke-opacity:1; fill:none\" points=\"\n",
       "  1161.11,288.105 1161.11,1384.24 1187.3,1384.24 1187.3,288.105 1161.11,288.105 \n",
       "  \"/>\n",
       "<path clip-path=\"url(#clip552)\" d=\"\n",
       "M1187.3 547.715 L1187.3 1384.24 L1213.48 1384.24 L1213.48 547.715 L1187.3 547.715 L1187.3 547.715  Z\n",
       "  \" fill=\"#009af9\" fill-rule=\"evenodd\" fill-opacity=\"1\"/>\n",
       "<polyline clip-path=\"url(#clip552)\" style=\"stroke:#000000; stroke-linecap:butt; stroke-linejoin:round; stroke-width:4; stroke-opacity:1; fill:none\" points=\"\n",
       "  1187.3,547.715 1187.3,1384.24 1213.48,1384.24 1213.48,547.715 1187.3,547.715 \n",
       "  \"/>\n",
       "<path clip-path=\"url(#clip552)\" d=\"\n",
       "M1213.48 691.944 L1213.48 1384.24 L1239.66 1384.24 L1239.66 691.944 L1213.48 691.944 L1213.48 691.944  Z\n",
       "  \" fill=\"#009af9\" fill-rule=\"evenodd\" fill-opacity=\"1\"/>\n",
       "<polyline clip-path=\"url(#clip552)\" style=\"stroke:#000000; stroke-linecap:butt; stroke-linejoin:round; stroke-width:4; stroke-opacity:1; fill:none\" points=\"\n",
       "  1213.48,691.944 1213.48,1384.24 1239.66,1384.24 1239.66,691.944 1213.48,691.944 \n",
       "  \"/>\n",
       "<path clip-path=\"url(#clip552)\" d=\"\n",
       "M1239.66 201.568 L1239.66 1384.24 L1265.85 1384.24 L1265.85 201.568 L1239.66 201.568 L1239.66 201.568  Z\n",
       "  \" fill=\"#009af9\" fill-rule=\"evenodd\" fill-opacity=\"1\"/>\n",
       "<polyline clip-path=\"url(#clip552)\" style=\"stroke:#000000; stroke-linecap:butt; stroke-linejoin:round; stroke-width:4; stroke-opacity:1; fill:none\" points=\"\n",
       "  1239.66,201.568 1239.66,1384.24 1265.85,1384.24 1265.85,201.568 1239.66,201.568 \n",
       "  \"/>\n",
       "<path clip-path=\"url(#clip552)\" d=\"\n",
       "M1265.85 115.031 L1265.85 1384.24 L1292.03 1384.24 L1292.03 115.031 L1265.85 115.031 L1265.85 115.031  Z\n",
       "  \" fill=\"#009af9\" fill-rule=\"evenodd\" fill-opacity=\"1\"/>\n",
       "<polyline clip-path=\"url(#clip552)\" style=\"stroke:#000000; stroke-linecap:butt; stroke-linejoin:round; stroke-width:4; stroke-opacity:1; fill:none\" points=\"\n",
       "  1265.85,115.031 1265.85,1384.24 1292.03,1384.24 1292.03,115.031 1265.85,115.031 \n",
       "  \"/>\n",
       "<path clip-path=\"url(#clip552)\" d=\"\n",
       "M1292.03 86.1857 L1292.03 1384.24 L1318.21 1384.24 L1318.21 86.1857 L1292.03 86.1857 L1292.03 86.1857  Z\n",
       "  \" fill=\"#009af9\" fill-rule=\"evenodd\" fill-opacity=\"1\"/>\n",
       "<polyline clip-path=\"url(#clip552)\" style=\"stroke:#000000; stroke-linecap:butt; stroke-linejoin:round; stroke-width:4; stroke-opacity:1; fill:none\" points=\"\n",
       "  1292.03,86.1857 1292.03,1384.24 1318.21,1384.24 1318.21,86.1857 1292.03,86.1857 \n",
       "  \"/>\n",
       "<path clip-path=\"url(#clip552)\" d=\"\n",
       "M1318.21 576.561 L1318.21 1384.24 L1344.4 1384.24 L1344.4 576.561 L1318.21 576.561 L1318.21 576.561  Z\n",
       "  \" fill=\"#009af9\" fill-rule=\"evenodd\" fill-opacity=\"1\"/>\n",
       "<polyline clip-path=\"url(#clip552)\" style=\"stroke:#000000; stroke-linecap:butt; stroke-linejoin:round; stroke-width:4; stroke-opacity:1; fill:none\" points=\"\n",
       "  1318.21,576.561 1318.21,1384.24 1344.4,1384.24 1344.4,576.561 1318.21,576.561 \n",
       "  \"/>\n",
       "<path clip-path=\"url(#clip552)\" d=\"\n",
       "M1344.4 576.561 L1344.4 1384.24 L1370.58 1384.24 L1370.58 576.561 L1344.4 576.561 L1344.4 576.561  Z\n",
       "  \" fill=\"#009af9\" fill-rule=\"evenodd\" fill-opacity=\"1\"/>\n",
       "<polyline clip-path=\"url(#clip552)\" style=\"stroke:#000000; stroke-linecap:butt; stroke-linejoin:round; stroke-width:4; stroke-opacity:1; fill:none\" points=\"\n",
       "  1344.4,576.561 1344.4,1384.24 1370.58,1384.24 1370.58,576.561 1344.4,576.561 \n",
       "  \"/>\n",
       "<path clip-path=\"url(#clip552)\" d=\"\n",
       "M1370.58 143.877 L1370.58 1384.24 L1396.76 1384.24 L1396.76 143.877 L1370.58 143.877 L1370.58 143.877  Z\n",
       "  \" fill=\"#009af9\" fill-rule=\"evenodd\" fill-opacity=\"1\"/>\n",
       "<polyline clip-path=\"url(#clip552)\" style=\"stroke:#000000; stroke-linecap:butt; stroke-linejoin:round; stroke-width:4; stroke-opacity:1; fill:none\" points=\"\n",
       "  1370.58,143.877 1370.58,1384.24 1396.76,1384.24 1396.76,143.877 1370.58,143.877 \n",
       "  \"/>\n",
       "<path clip-path=\"url(#clip552)\" d=\"\n",
       "M1396.76 288.105 L1396.76 1384.24 L1422.95 1384.24 L1422.95 288.105 L1396.76 288.105 L1396.76 288.105  Z\n",
       "  \" fill=\"#009af9\" fill-rule=\"evenodd\" fill-opacity=\"1\"/>\n",
       "<polyline clip-path=\"url(#clip552)\" style=\"stroke:#000000; stroke-linecap:butt; stroke-linejoin:round; stroke-width:4; stroke-opacity:1; fill:none\" points=\"\n",
       "  1396.76,288.105 1396.76,1384.24 1422.95,1384.24 1422.95,288.105 1396.76,288.105 \n",
       "  \"/>\n",
       "<path clip-path=\"url(#clip552)\" d=\"\n",
       "M1422.95 461.179 L1422.95 1384.24 L1449.13 1384.24 L1449.13 461.179 L1422.95 461.179 L1422.95 461.179  Z\n",
       "  \" fill=\"#009af9\" fill-rule=\"evenodd\" fill-opacity=\"1\"/>\n",
       "<polyline clip-path=\"url(#clip552)\" style=\"stroke:#000000; stroke-linecap:butt; stroke-linejoin:round; stroke-width:4; stroke-opacity:1; fill:none\" points=\"\n",
       "  1422.95,461.179 1422.95,1384.24 1449.13,1384.24 1449.13,461.179 1422.95,461.179 \n",
       "  \"/>\n",
       "<path clip-path=\"url(#clip552)\" d=\"\n",
       "M1449.13 345.796 L1449.13 1384.24 L1475.31 1384.24 L1475.31 345.796 L1449.13 345.796 L1449.13 345.796  Z\n",
       "  \" fill=\"#009af9\" fill-rule=\"evenodd\" fill-opacity=\"1\"/>\n",
       "<polyline clip-path=\"url(#clip552)\" style=\"stroke:#000000; stroke-linecap:butt; stroke-linejoin:round; stroke-width:4; stroke-opacity:1; fill:none\" points=\"\n",
       "  1449.13,345.796 1449.13,1384.24 1475.31,1384.24 1475.31,345.796 1449.13,345.796 \n",
       "  \"/>\n",
       "<path clip-path=\"url(#clip552)\" d=\"\n",
       "M1475.31 230.414 L1475.31 1384.24 L1501.5 1384.24 L1501.5 230.414 L1475.31 230.414 L1475.31 230.414  Z\n",
       "  \" fill=\"#009af9\" fill-rule=\"evenodd\" fill-opacity=\"1\"/>\n",
       "<polyline clip-path=\"url(#clip552)\" style=\"stroke:#000000; stroke-linecap:butt; stroke-linejoin:round; stroke-width:4; stroke-opacity:1; fill:none\" points=\"\n",
       "  1475.31,230.414 1475.31,1384.24 1501.5,1384.24 1501.5,230.414 1475.31,230.414 \n",
       "  \"/>\n",
       "<path clip-path=\"url(#clip552)\" d=\"\n",
       "M1501.5 316.951 L1501.5 1384.24 L1527.68 1384.24 L1527.68 316.951 L1501.5 316.951 L1501.5 316.951  Z\n",
       "  \" fill=\"#009af9\" fill-rule=\"evenodd\" fill-opacity=\"1\"/>\n",
       "<polyline clip-path=\"url(#clip552)\" style=\"stroke:#000000; stroke-linecap:butt; stroke-linejoin:round; stroke-width:4; stroke-opacity:1; fill:none\" points=\"\n",
       "  1501.5,316.951 1501.5,1384.24 1527.68,1384.24 1527.68,316.951 1501.5,316.951 \n",
       "  \"/>\n",
       "<path clip-path=\"url(#clip552)\" d=\"\n",
       "M1527.68 634.252 L1527.68 1384.24 L1553.86 1384.24 L1553.86 634.252 L1527.68 634.252 L1527.68 634.252  Z\n",
       "  \" fill=\"#009af9\" fill-rule=\"evenodd\" fill-opacity=\"1\"/>\n",
       "<polyline clip-path=\"url(#clip552)\" style=\"stroke:#000000; stroke-linecap:butt; stroke-linejoin:round; stroke-width:4; stroke-opacity:1; fill:none\" points=\"\n",
       "  1527.68,634.252 1527.68,1384.24 1553.86,1384.24 1553.86,634.252 1527.68,634.252 \n",
       "  \"/>\n",
       "<path clip-path=\"url(#clip552)\" d=\"\n",
       "M1553.86 547.715 L1553.86 1384.24 L1580.05 1384.24 L1580.05 547.715 L1553.86 547.715 L1553.86 547.715  Z\n",
       "  \" fill=\"#009af9\" fill-rule=\"evenodd\" fill-opacity=\"1\"/>\n",
       "<polyline clip-path=\"url(#clip552)\" style=\"stroke:#000000; stroke-linecap:butt; stroke-linejoin:round; stroke-width:4; stroke-opacity:1; fill:none\" points=\"\n",
       "  1553.86,547.715 1553.86,1384.24 1580.05,1384.24 1580.05,547.715 1553.86,547.715 \n",
       "  \"/>\n",
       "<path clip-path=\"url(#clip552)\" d=\"\n",
       "M1580.05 605.407 L1580.05 1384.24 L1606.23 1384.24 L1606.23 605.407 L1580.05 605.407 L1580.05 605.407  Z\n",
       "  \" fill=\"#009af9\" fill-rule=\"evenodd\" fill-opacity=\"1\"/>\n",
       "<polyline clip-path=\"url(#clip552)\" style=\"stroke:#000000; stroke-linecap:butt; stroke-linejoin:round; stroke-width:4; stroke-opacity:1; fill:none\" points=\"\n",
       "  1580.05,605.407 1580.05,1384.24 1606.23,1384.24 1606.23,605.407 1580.05,605.407 \n",
       "  \"/>\n",
       "<path clip-path=\"url(#clip552)\" d=\"\n",
       "M1606.23 663.098 L1606.23 1384.24 L1632.41 1384.24 L1632.41 663.098 L1606.23 663.098 L1606.23 663.098  Z\n",
       "  \" fill=\"#009af9\" fill-rule=\"evenodd\" fill-opacity=\"1\"/>\n",
       "<polyline clip-path=\"url(#clip552)\" style=\"stroke:#000000; stroke-linecap:butt; stroke-linejoin:round; stroke-width:4; stroke-opacity:1; fill:none\" points=\"\n",
       "  1606.23,663.098 1606.23,1384.24 1632.41,1384.24 1632.41,663.098 1606.23,663.098 \n",
       "  \"/>\n",
       "<path clip-path=\"url(#clip552)\" d=\"\n",
       "M1632.41 576.561 L1632.41 1384.24 L1658.6 1384.24 L1658.6 576.561 L1632.41 576.561 L1632.41 576.561  Z\n",
       "  \" fill=\"#009af9\" fill-rule=\"evenodd\" fill-opacity=\"1\"/>\n",
       "<polyline clip-path=\"url(#clip552)\" style=\"stroke:#000000; stroke-linecap:butt; stroke-linejoin:round; stroke-width:4; stroke-opacity:1; fill:none\" points=\"\n",
       "  1632.41,576.561 1632.41,1384.24 1658.6,1384.24 1658.6,576.561 1632.41,576.561 \n",
       "  \"/>\n",
       "<path clip-path=\"url(#clip552)\" d=\"\n",
       "M1658.6 893.863 L1658.6 1384.24 L1684.78 1384.24 L1684.78 893.863 L1658.6 893.863 L1658.6 893.863  Z\n",
       "  \" fill=\"#009af9\" fill-rule=\"evenodd\" fill-opacity=\"1\"/>\n",
       "<polyline clip-path=\"url(#clip552)\" style=\"stroke:#000000; stroke-linecap:butt; stroke-linejoin:round; stroke-width:4; stroke-opacity:1; fill:none\" points=\"\n",
       "  1658.6,893.863 1658.6,1384.24 1684.78,1384.24 1684.78,893.863 1658.6,893.863 \n",
       "  \"/>\n",
       "<path clip-path=\"url(#clip552)\" d=\"\n",
       "M1684.78 749.635 L1684.78 1384.24 L1710.96 1384.24 L1710.96 749.635 L1684.78 749.635 L1684.78 749.635  Z\n",
       "  \" fill=\"#009af9\" fill-rule=\"evenodd\" fill-opacity=\"1\"/>\n",
       "<polyline clip-path=\"url(#clip552)\" style=\"stroke:#000000; stroke-linecap:butt; stroke-linejoin:round; stroke-width:4; stroke-opacity:1; fill:none\" points=\"\n",
       "  1684.78,749.635 1684.78,1384.24 1710.96,1384.24 1710.96,749.635 1684.78,749.635 \n",
       "  \"/>\n",
       "<path clip-path=\"url(#clip552)\" d=\"\n",
       "M1710.96 1038.09 L1710.96 1384.24 L1737.15 1384.24 L1737.15 1038.09 L1710.96 1038.09 L1710.96 1038.09  Z\n",
       "  \" fill=\"#009af9\" fill-rule=\"evenodd\" fill-opacity=\"1\"/>\n",
       "<polyline clip-path=\"url(#clip552)\" style=\"stroke:#000000; stroke-linecap:butt; stroke-linejoin:round; stroke-width:4; stroke-opacity:1; fill:none\" points=\"\n",
       "  1710.96,1038.09 1710.96,1384.24 1737.15,1384.24 1737.15,1038.09 1710.96,1038.09 \n",
       "  \"/>\n",
       "<path clip-path=\"url(#clip552)\" d=\"\n",
       "M1737.15 922.708 L1737.15 1384.24 L1763.33 1384.24 L1763.33 922.708 L1737.15 922.708 L1737.15 922.708  Z\n",
       "  \" fill=\"#009af9\" fill-rule=\"evenodd\" fill-opacity=\"1\"/>\n",
       "<polyline clip-path=\"url(#clip552)\" style=\"stroke:#000000; stroke-linecap:butt; stroke-linejoin:round; stroke-width:4; stroke-opacity:1; fill:none\" points=\"\n",
       "  1737.15,922.708 1737.15,1384.24 1763.33,1384.24 1763.33,922.708 1737.15,922.708 \n",
       "  \"/>\n",
       "<path clip-path=\"url(#clip552)\" d=\"\n",
       "M1763.33 1124.63 L1763.33 1384.24 L1789.51 1384.24 L1789.51 1124.63 L1763.33 1124.63 L1763.33 1124.63  Z\n",
       "  \" fill=\"#009af9\" fill-rule=\"evenodd\" fill-opacity=\"1\"/>\n",
       "<polyline clip-path=\"url(#clip552)\" style=\"stroke:#000000; stroke-linecap:butt; stroke-linejoin:round; stroke-width:4; stroke-opacity:1; fill:none\" points=\"\n",
       "  1763.33,1124.63 1763.33,1384.24 1789.51,1384.24 1789.51,1124.63 1763.33,1124.63 \n",
       "  \"/>\n",
       "<path clip-path=\"url(#clip552)\" d=\"\n",
       "M1789.51 1182.32 L1789.51 1384.24 L1815.7 1384.24 L1815.7 1182.32 L1789.51 1182.32 L1789.51 1182.32  Z\n",
       "  \" fill=\"#009af9\" fill-rule=\"evenodd\" fill-opacity=\"1\"/>\n",
       "<polyline clip-path=\"url(#clip552)\" style=\"stroke:#000000; stroke-linecap:butt; stroke-linejoin:round; stroke-width:4; stroke-opacity:1; fill:none\" points=\"\n",
       "  1789.51,1182.32 1789.51,1384.24 1815.7,1384.24 1815.7,1182.32 1789.51,1182.32 \n",
       "  \"/>\n",
       "<path clip-path=\"url(#clip552)\" d=\"\n",
       "M1815.7 1182.32 L1815.7 1384.24 L1841.88 1384.24 L1841.88 1182.32 L1815.7 1182.32 L1815.7 1182.32  Z\n",
       "  \" fill=\"#009af9\" fill-rule=\"evenodd\" fill-opacity=\"1\"/>\n",
       "<polyline clip-path=\"url(#clip552)\" style=\"stroke:#000000; stroke-linecap:butt; stroke-linejoin:round; stroke-width:4; stroke-opacity:1; fill:none\" points=\"\n",
       "  1815.7,1182.32 1815.7,1384.24 1841.88,1384.24 1841.88,1182.32 1815.7,1182.32 \n",
       "  \"/>\n",
       "<path clip-path=\"url(#clip552)\" d=\"\n",
       "M1841.88 1240.01 L1841.88 1384.24 L1868.06 1384.24 L1868.06 1240.01 L1841.88 1240.01 L1841.88 1240.01  Z\n",
       "  \" fill=\"#009af9\" fill-rule=\"evenodd\" fill-opacity=\"1\"/>\n",
       "<polyline clip-path=\"url(#clip552)\" style=\"stroke:#000000; stroke-linecap:butt; stroke-linejoin:round; stroke-width:4; stroke-opacity:1; fill:none\" points=\"\n",
       "  1841.88,1240.01 1841.88,1384.24 1868.06,1384.24 1868.06,1240.01 1841.88,1240.01 \n",
       "  \"/>\n",
       "<path clip-path=\"url(#clip552)\" d=\"\n",
       "M1868.06 1268.86 L1868.06 1384.24 L1894.25 1384.24 L1894.25 1268.86 L1868.06 1268.86 L1868.06 1268.86  Z\n",
       "  \" fill=\"#009af9\" fill-rule=\"evenodd\" fill-opacity=\"1\"/>\n",
       "<polyline clip-path=\"url(#clip552)\" style=\"stroke:#000000; stroke-linecap:butt; stroke-linejoin:round; stroke-width:4; stroke-opacity:1; fill:none\" points=\"\n",
       "  1868.06,1268.86 1868.06,1384.24 1894.25,1384.24 1894.25,1268.86 1868.06,1268.86 \n",
       "  \"/>\n",
       "<path clip-path=\"url(#clip552)\" d=\"\n",
       "M1894.25 1268.86 L1894.25 1384.24 L1920.43 1384.24 L1920.43 1268.86 L1894.25 1268.86 L1894.25 1268.86  Z\n",
       "  \" fill=\"#009af9\" fill-rule=\"evenodd\" fill-opacity=\"1\"/>\n",
       "<polyline clip-path=\"url(#clip552)\" style=\"stroke:#000000; stroke-linecap:butt; stroke-linejoin:round; stroke-width:4; stroke-opacity:1; fill:none\" points=\"\n",
       "  1894.25,1268.86 1894.25,1384.24 1920.43,1384.24 1920.43,1268.86 1894.25,1268.86 \n",
       "  \"/>\n",
       "<path clip-path=\"url(#clip552)\" d=\"\n",
       "M1920.43 1268.86 L1920.43 1384.24 L1946.61 1384.24 L1946.61 1268.86 L1920.43 1268.86 L1920.43 1268.86  Z\n",
       "  \" fill=\"#009af9\" fill-rule=\"evenodd\" fill-opacity=\"1\"/>\n",
       "<polyline clip-path=\"url(#clip552)\" style=\"stroke:#000000; stroke-linecap:butt; stroke-linejoin:round; stroke-width:4; stroke-opacity:1; fill:none\" points=\"\n",
       "  1920.43,1268.86 1920.43,1384.24 1946.61,1384.24 1946.61,1268.86 1920.43,1268.86 \n",
       "  \"/>\n",
       "<path clip-path=\"url(#clip552)\" d=\"\n",
       "M1946.61 1326.55 L1946.61 1384.24 L1972.8 1384.24 L1972.8 1326.55 L1946.61 1326.55 L1946.61 1326.55  Z\n",
       "  \" fill=\"#009af9\" fill-rule=\"evenodd\" fill-opacity=\"1\"/>\n",
       "<polyline clip-path=\"url(#clip552)\" style=\"stroke:#000000; stroke-linecap:butt; stroke-linejoin:round; stroke-width:4; stroke-opacity:1; fill:none\" points=\"\n",
       "  1946.61,1326.55 1946.61,1384.24 1972.8,1384.24 1972.8,1326.55 1946.61,1326.55 \n",
       "  \"/>\n",
       "<path clip-path=\"url(#clip552)\" d=\"\n",
       "M1972.8 1326.55 L1972.8 1384.24 L1998.98 1384.24 L1998.98 1326.55 L1972.8 1326.55 L1972.8 1326.55  Z\n",
       "  \" fill=\"#009af9\" fill-rule=\"evenodd\" fill-opacity=\"1\"/>\n",
       "<polyline clip-path=\"url(#clip552)\" style=\"stroke:#000000; stroke-linecap:butt; stroke-linejoin:round; stroke-width:4; stroke-opacity:1; fill:none\" points=\"\n",
       "  1972.8,1326.55 1972.8,1384.24 1998.98,1384.24 1998.98,1326.55 1972.8,1326.55 \n",
       "  \"/>\n",
       "<path clip-path=\"url(#clip552)\" d=\"\n",
       "M1998.98 1384.24 L1998.98 1384.24 L2025.17 1384.24 L2025.17 1384.24 L1998.98 1384.24 L1998.98 1384.24  Z\n",
       "  \" fill=\"#009af9\" fill-rule=\"evenodd\" fill-opacity=\"1\"/>\n",
       "<polyline clip-path=\"url(#clip552)\" style=\"stroke:#000000; stroke-linecap:butt; stroke-linejoin:round; stroke-width:4; stroke-opacity:1; fill:none\" points=\"\n",
       "  1998.98,1384.24 1998.98,1384.24 2025.17,1384.24 1998.98,1384.24 \n",
       "  \"/>\n",
       "<path clip-path=\"url(#clip552)\" d=\"\n",
       "M2025.17 1355.39 L2025.17 1384.24 L2051.35 1384.24 L2051.35 1355.39 L2025.17 1355.39 L2025.17 1355.39  Z\n",
       "  \" fill=\"#009af9\" fill-rule=\"evenodd\" fill-opacity=\"1\"/>\n",
       "<polyline clip-path=\"url(#clip552)\" style=\"stroke:#000000; stroke-linecap:butt; stroke-linejoin:round; stroke-width:4; stroke-opacity:1; fill:none\" points=\"\n",
       "  2025.17,1355.39 2025.17,1384.24 2051.35,1384.24 2051.35,1355.39 2025.17,1355.39 \n",
       "  \"/>\n",
       "<path clip-path=\"url(#clip552)\" d=\"\n",
       "M2051.35 1384.24 L2051.35 1384.24 L2077.53 1384.24 L2077.53 1384.24 L2051.35 1384.24 L2051.35 1384.24  Z\n",
       "  \" fill=\"#009af9\" fill-rule=\"evenodd\" fill-opacity=\"1\"/>\n",
       "<polyline clip-path=\"url(#clip552)\" style=\"stroke:#000000; stroke-linecap:butt; stroke-linejoin:round; stroke-width:4; stroke-opacity:1; fill:none\" points=\"\n",
       "  2051.35,1384.24 2051.35,1384.24 2077.53,1384.24 2051.35,1384.24 \n",
       "  \"/>\n",
       "<path clip-path=\"url(#clip552)\" d=\"\n",
       "M2077.53 1326.55 L2077.53 1384.24 L2103.72 1384.24 L2103.72 1326.55 L2077.53 1326.55 L2077.53 1326.55  Z\n",
       "  \" fill=\"#009af9\" fill-rule=\"evenodd\" fill-opacity=\"1\"/>\n",
       "<polyline clip-path=\"url(#clip552)\" style=\"stroke:#000000; stroke-linecap:butt; stroke-linejoin:round; stroke-width:4; stroke-opacity:1; fill:none\" points=\"\n",
       "  2077.53,1326.55 2077.53,1384.24 2103.72,1384.24 2103.72,1326.55 2077.53,1326.55 \n",
       "  \"/>\n",
       "<path clip-path=\"url(#clip552)\" d=\"\n",
       "M2103.72 1384.24 L2103.72 1384.24 L2129.9 1384.24 L2129.9 1384.24 L2103.72 1384.24 L2103.72 1384.24  Z\n",
       "  \" fill=\"#009af9\" fill-rule=\"evenodd\" fill-opacity=\"1\"/>\n",
       "<polyline clip-path=\"url(#clip552)\" style=\"stroke:#000000; stroke-linecap:butt; stroke-linejoin:round; stroke-width:4; stroke-opacity:1; fill:none\" points=\"\n",
       "  2103.72,1384.24 2103.72,1384.24 2129.9,1384.24 2103.72,1384.24 \n",
       "  \"/>\n",
       "<path clip-path=\"url(#clip552)\" d=\"\n",
       "M2129.9 1355.39 L2129.9 1384.24 L2156.08 1384.24 L2156.08 1355.39 L2129.9 1355.39 L2129.9 1355.39  Z\n",
       "  \" fill=\"#009af9\" fill-rule=\"evenodd\" fill-opacity=\"1\"/>\n",
       "<polyline clip-path=\"url(#clip552)\" style=\"stroke:#000000; stroke-linecap:butt; stroke-linejoin:round; stroke-width:4; stroke-opacity:1; fill:none\" points=\"\n",
       "  2129.9,1355.39 2129.9,1384.24 2156.08,1384.24 2156.08,1355.39 2129.9,1355.39 \n",
       "  \"/>\n",
       "<path clip-path=\"url(#clip552)\" d=\"\n",
       "M2156.08 1384.24 L2156.08 1384.24 L2182.27 1384.24 L2182.27 1384.24 L2156.08 1384.24 L2156.08 1384.24  Z\n",
       "  \" fill=\"#009af9\" fill-rule=\"evenodd\" fill-opacity=\"1\"/>\n",
       "<polyline clip-path=\"url(#clip552)\" style=\"stroke:#000000; stroke-linecap:butt; stroke-linejoin:round; stroke-width:4; stroke-opacity:1; fill:none\" points=\"\n",
       "  2156.08,1384.24 2156.08,1384.24 2182.27,1384.24 2156.08,1384.24 \n",
       "  \"/>\n",
       "<path clip-path=\"url(#clip552)\" d=\"\n",
       "M2182.27 1384.24 L2182.27 1384.24 L2208.45 1384.24 L2208.45 1384.24 L2182.27 1384.24 L2182.27 1384.24  Z\n",
       "  \" fill=\"#009af9\" fill-rule=\"evenodd\" fill-opacity=\"1\"/>\n",
       "<polyline clip-path=\"url(#clip552)\" style=\"stroke:#000000; stroke-linecap:butt; stroke-linejoin:round; stroke-width:4; stroke-opacity:1; fill:none\" points=\"\n",
       "  2182.27,1384.24 2182.27,1384.24 2208.45,1384.24 2182.27,1384.24 \n",
       "  \"/>\n",
       "<path clip-path=\"url(#clip552)\" d=\"\n",
       "M2208.45 1355.39 L2208.45 1384.24 L2234.63 1384.24 L2234.63 1355.39 L2208.45 1355.39 L2208.45 1355.39  Z\n",
       "  \" fill=\"#009af9\" fill-rule=\"evenodd\" fill-opacity=\"1\"/>\n",
       "<polyline clip-path=\"url(#clip552)\" style=\"stroke:#000000; stroke-linecap:butt; stroke-linejoin:round; stroke-width:4; stroke-opacity:1; fill:none\" points=\"\n",
       "  2208.45,1355.39 2208.45,1384.24 2234.63,1384.24 2234.63,1355.39 2208.45,1355.39 \n",
       "  \"/>\n",
       "<path clip-path=\"url(#clip550)\" d=\"\n",
       "M1838.28 214.069 L2281.17 214.069 L2281.17 93.1086 L1838.28 93.1086  Z\n",
       "  \" fill=\"#ffffff\" fill-rule=\"evenodd\" fill-opacity=\"1\"/>\n",
       "<polyline clip-path=\"url(#clip550)\" style=\"stroke:#000000; stroke-linecap:butt; stroke-linejoin:round; stroke-width:4; stroke-opacity:1; fill:none\" points=\"\n",
       "  1838.28,214.069 2281.17,214.069 2281.17,93.1086 1838.28,93.1086 1838.28,214.069 \n",
       "  \"/>\n",
       "<path clip-path=\"url(#clip550)\" d=\"\n",
       "M1862.15 177.781 L2005.32 177.781 L2005.32 129.397 L1862.15 129.397 L1862.15 177.781  Z\n",
       "  \" fill=\"#009af9\" fill-rule=\"evenodd\" fill-opacity=\"1\"/>\n",
       "<polyline clip-path=\"url(#clip550)\" style=\"stroke:#000000; stroke-linecap:butt; stroke-linejoin:round; stroke-width:4; stroke-opacity:1; fill:none\" points=\"\n",
       "  1862.15,177.781 2005.32,177.781 2005.32,129.397 1862.15,129.397 1862.15,177.781 \n",
       "  \"/>\n",
       "<path clip-path=\"url(#clip550)\" d=\"M2047.61 145.707 L2047.61 149.734 Q2045.8 148.809 2043.86 148.346 Q2041.92 147.883 2039.83 147.883 Q2036.66 147.883 2035.06 148.855 Q2033.49 149.827 2033.49 151.771 Q2033.49 153.253 2034.62 154.109 Q2035.76 154.943 2039.18 155.707 L2040.64 156.031 Q2045.18 157.003 2047.08 158.785 Q2049 160.545 2049 163.716 Q2049 167.327 2046.13 169.433 Q2043.28 171.54 2038.28 171.54 Q2036.2 171.54 2033.93 171.123 Q2031.68 170.73 2029.18 169.92 L2029.18 165.521 Q2031.55 166.748 2033.84 167.373 Q2036.13 167.975 2038.37 167.975 Q2041.38 167.975 2043 166.957 Q2044.62 165.915 2044.62 164.04 Q2044.62 162.304 2043.44 161.378 Q2042.29 160.452 2038.33 159.596 L2036.85 159.248 Q2032.89 158.415 2031.13 156.702 Q2029.37 154.966 2029.37 151.957 Q2029.37 148.299 2031.96 146.309 Q2034.56 144.318 2039.32 144.318 Q2041.68 144.318 2043.77 144.665 Q2045.85 145.012 2047.61 145.707 Z\" fill=\"#000000\" fill-rule=\"evenodd\" fill-opacity=\"1\" /><path clip-path=\"url(#clip550)\" d=\"M2077.96 156.841 L2077.96 158.924 L2058.37 158.924 Q2058.65 163.322 2061.01 165.637 Q2063.4 167.929 2067.63 167.929 Q2070.09 167.929 2072.38 167.327 Q2074.69 166.725 2076.96 165.521 L2076.96 169.549 Q2074.67 170.521 2072.26 171.031 Q2069.86 171.54 2067.38 171.54 Q2061.18 171.54 2057.54 167.929 Q2053.93 164.318 2053.93 158.16 Q2053.93 151.795 2057.36 148.068 Q2060.8 144.318 2066.64 144.318 Q2071.87 144.318 2074.9 147.697 Q2077.96 151.054 2077.96 156.841 M2073.7 155.591 Q2073.65 152.096 2071.73 150.012 Q2069.83 147.929 2066.68 147.929 Q2063.12 147.929 2060.97 149.943 Q2058.84 151.957 2058.51 155.614 L2073.7 155.591 Z\" fill=\"#000000\" fill-rule=\"evenodd\" fill-opacity=\"1\" /><path clip-path=\"url(#clip550)\" d=\"M2106.5 155.221 L2106.5 170.869 L2102.24 170.869 L2102.24 155.359 Q2102.24 151.679 2100.8 149.85 Q2099.37 148.022 2096.5 148.022 Q2093.05 148.022 2091.06 150.221 Q2089.07 152.42 2089.07 156.216 L2089.07 170.869 L2084.79 170.869 L2084.79 144.943 L2089.07 144.943 L2089.07 148.971 Q2090.6 146.633 2092.66 145.475 Q2094.74 144.318 2097.45 144.318 Q2101.92 144.318 2104.21 147.096 Q2106.5 149.85 2106.5 155.221 Z\" fill=\"#000000\" fill-rule=\"evenodd\" fill-opacity=\"1\" /><path clip-path=\"url(#clip550)\" d=\"M2131.52 145.707 L2131.52 149.734 Q2129.72 148.809 2127.77 148.346 Q2125.83 147.883 2123.74 147.883 Q2120.57 147.883 2118.98 148.855 Q2117.4 149.827 2117.4 151.771 Q2117.4 153.253 2118.54 154.109 Q2119.67 154.943 2123.1 155.707 L2124.55 156.031 Q2129.09 157.003 2130.99 158.785 Q2132.91 160.545 2132.91 163.716 Q2132.91 167.327 2130.04 169.433 Q2127.19 171.54 2122.19 171.54 Q2120.11 171.54 2117.84 171.123 Q2115.6 170.73 2113.1 169.92 L2113.1 165.521 Q2115.46 166.748 2117.75 167.373 Q2120.04 167.975 2122.29 167.975 Q2125.3 167.975 2126.92 166.957 Q2128.54 165.915 2128.54 164.04 Q2128.54 162.304 2127.36 161.378 Q2126.2 160.452 2122.24 159.596 L2120.76 159.248 Q2116.8 158.415 2115.04 156.702 Q2113.28 154.966 2113.28 151.957 Q2113.28 148.299 2115.87 146.309 Q2118.47 144.318 2123.24 144.318 Q2125.6 144.318 2127.68 144.665 Q2129.76 145.012 2131.52 145.707 Z\" fill=\"#000000\" fill-rule=\"evenodd\" fill-opacity=\"1\" /><path clip-path=\"url(#clip550)\" d=\"M2149.74 147.929 Q2146.31 147.929 2144.32 150.614 Q2142.33 153.276 2142.33 157.929 Q2142.33 162.582 2144.3 165.267 Q2146.29 167.929 2149.74 167.929 Q2153.14 167.929 2155.13 165.244 Q2157.12 162.558 2157.12 157.929 Q2157.12 153.322 2155.13 150.637 Q2153.14 147.929 2149.74 147.929 M2149.74 144.318 Q2155.3 144.318 2158.47 147.929 Q2161.64 151.54 2161.64 157.929 Q2161.64 164.295 2158.47 167.929 Q2155.3 171.54 2149.74 171.54 Q2144.16 171.54 2140.99 167.929 Q2137.84 164.295 2137.84 157.929 Q2137.84 151.54 2140.99 147.929 Q2144.16 144.318 2149.74 144.318 Z\" fill=\"#000000\" fill-rule=\"evenodd\" fill-opacity=\"1\" /><path clip-path=\"url(#clip550)\" d=\"M2183.72 148.924 Q2183 148.508 2182.15 148.322 Q2181.31 148.114 2180.29 148.114 Q2176.68 148.114 2174.74 150.475 Q2172.82 152.813 2172.82 157.211 L2172.82 170.869 L2168.54 170.869 L2168.54 144.943 L2172.82 144.943 L2172.82 148.971 Q2174.16 146.609 2176.31 145.475 Q2178.47 144.318 2181.54 144.318 Q2181.98 144.318 2182.52 144.387 Q2183.05 144.434 2183.7 144.549 L2183.72 148.924 Z\" fill=\"#000000\" fill-rule=\"evenodd\" fill-opacity=\"1\" /><path clip-path=\"url(#clip550)\" d=\"M2217.47 139.48 Q2212.38 139.48 2209.37 143.276 Q2206.38 147.072 2206.38 153.623 Q2206.38 160.151 2209.37 163.947 Q2212.38 167.744 2217.47 167.744 Q2222.56 167.744 2225.53 163.947 Q2228.51 160.151 2228.51 153.623 Q2228.51 147.072 2225.53 143.276 Q2222.56 139.48 2217.47 139.48 M2224.02 170.244 L2230.18 176.98 L2224.53 176.98 L2219.42 171.447 Q2218.65 171.494 2218.23 171.517 Q2217.84 171.54 2217.47 171.54 Q2210.18 171.54 2205.8 166.679 Q2201.45 161.795 2201.45 153.623 Q2201.45 145.429 2205.8 140.568 Q2210.18 135.684 2217.47 135.684 Q2224.74 135.684 2229.09 140.568 Q2233.44 145.429 2233.44 153.623 Q2233.44 159.642 2231.01 163.924 Q2228.6 168.207 2224.02 170.244 Z\" fill=\"#000000\" fill-rule=\"evenodd\" fill-opacity=\"1\" /></svg>\n"
      ]
     },
     "execution_count": 53,
     "metadata": {},
     "output_type": "execute_result"
    }
   ],
   "source": [
    "histogram(randn(1000), bins=100, label=\"sensor Q\", xlabel=\"x / cm\", ylabel=\"count\")"
   ]
  },
  {
   "cell_type": "code",
   "execution_count": 54,
   "id": "2d17d5e1-6c8a-4f4c-bbc8-4336917a615e",
   "metadata": {},
   "outputs": [
    {
     "data": {
      "image/svg+xml": [
       "<?xml version=\"1.0\" encoding=\"utf-8\"?>\n",
       "<svg xmlns=\"http://www.w3.org/2000/svg\" xmlns:xlink=\"http://www.w3.org/1999/xlink\" width=\"600\" height=\"400\" viewBox=\"0 0 2400 1600\">\n",
       "<defs>\n",
       "  <clipPath id=\"clip590\">\n",
       "    <rect x=\"0\" y=\"0\" width=\"2400\" height=\"1600\"/>\n",
       "  </clipPath>\n",
       "</defs>\n",
       "<path clip-path=\"url(#clip590)\" d=\"\n",
       "M0 1600 L2400 1600 L2400 0 L0 0  Z\n",
       "  \" fill=\"#ffffff\" fill-rule=\"evenodd\" fill-opacity=\"1\"/>\n",
       "<defs>\n",
       "  <clipPath id=\"clip591\">\n",
       "    <rect x=\"480\" y=\"0\" width=\"1681\" height=\"1600\"/>\n",
       "  </clipPath>\n",
       "</defs>\n",
       "<path clip-path=\"url(#clip590)\" d=\"\n",
       "M156.598 1486.45 L2112.76 1486.45 L2112.76 47.2441 L156.598 47.2441  Z\n",
       "  \" fill=\"#ffffff\" fill-rule=\"evenodd\" fill-opacity=\"1\"/>\n",
       "<defs>\n",
       "  <clipPath id=\"clip592\">\n",
       "    <rect x=\"156\" y=\"47\" width=\"1957\" height=\"1440\"/>\n",
       "  </clipPath>\n",
       "</defs>\n",
       "<polyline clip-path=\"url(#clip592)\" style=\"stroke:#000000; stroke-linecap:butt; stroke-linejoin:round; stroke-width:2; stroke-opacity:0.1; fill:none\" points=\"\n",
       "  393.708,1486.45 393.708,47.2441 \n",
       "  \"/>\n",
       "<polyline clip-path=\"url(#clip592)\" style=\"stroke:#000000; stroke-linecap:butt; stroke-linejoin:round; stroke-width:2; stroke-opacity:0.1; fill:none\" points=\"\n",
       "  788.892,1486.45 788.892,47.2441 \n",
       "  \"/>\n",
       "<polyline clip-path=\"url(#clip592)\" style=\"stroke:#000000; stroke-linecap:butt; stroke-linejoin:round; stroke-width:2; stroke-opacity:0.1; fill:none\" points=\"\n",
       "  1184.07,1486.45 1184.07,47.2441 \n",
       "  \"/>\n",
       "<polyline clip-path=\"url(#clip592)\" style=\"stroke:#000000; stroke-linecap:butt; stroke-linejoin:round; stroke-width:2; stroke-opacity:0.1; fill:none\" points=\"\n",
       "  1579.26,1486.45 1579.26,47.2441 \n",
       "  \"/>\n",
       "<polyline clip-path=\"url(#clip592)\" style=\"stroke:#000000; stroke-linecap:butt; stroke-linejoin:round; stroke-width:2; stroke-opacity:0.1; fill:none\" points=\"\n",
       "  1974.44,1486.45 1974.44,47.2441 \n",
       "  \"/>\n",
       "<polyline clip-path=\"url(#clip590)\" style=\"stroke:#000000; stroke-linecap:butt; stroke-linejoin:round; stroke-width:4; stroke-opacity:1; fill:none\" points=\"\n",
       "  156.598,1486.45 2112.76,1486.45 \n",
       "  \"/>\n",
       "<polyline clip-path=\"url(#clip590)\" style=\"stroke:#000000; stroke-linecap:butt; stroke-linejoin:round; stroke-width:4; stroke-opacity:1; fill:none\" points=\"\n",
       "  393.708,1486.45 393.708,1469.18 \n",
       "  \"/>\n",
       "<polyline clip-path=\"url(#clip590)\" style=\"stroke:#000000; stroke-linecap:butt; stroke-linejoin:round; stroke-width:4; stroke-opacity:1; fill:none\" points=\"\n",
       "  788.892,1486.45 788.892,1469.18 \n",
       "  \"/>\n",
       "<polyline clip-path=\"url(#clip590)\" style=\"stroke:#000000; stroke-linecap:butt; stroke-linejoin:round; stroke-width:4; stroke-opacity:1; fill:none\" points=\"\n",
       "  1184.07,1486.45 1184.07,1469.18 \n",
       "  \"/>\n",
       "<polyline clip-path=\"url(#clip590)\" style=\"stroke:#000000; stroke-linecap:butt; stroke-linejoin:round; stroke-width:4; stroke-opacity:1; fill:none\" points=\"\n",
       "  1579.26,1486.45 1579.26,1469.18 \n",
       "  \"/>\n",
       "<polyline clip-path=\"url(#clip590)\" style=\"stroke:#000000; stroke-linecap:butt; stroke-linejoin:round; stroke-width:4; stroke-opacity:1; fill:none\" points=\"\n",
       "  1974.44,1486.45 1974.44,1469.18 \n",
       "  \"/>\n",
       "<path clip-path=\"url(#clip590)\" d=\"M362.609 1530.29 L392.285 1530.29 L392.285 1534.23 L362.609 1534.23 L362.609 1530.29 Z\" fill=\"#000000\" fill-rule=\"evenodd\" fill-opacity=\"1\" /><path clip-path=\"url(#clip590)\" d=\"M415.224 1516.63 L403.419 1535.08 L415.224 1535.08 L415.224 1516.63 M413.997 1512.56 L419.877 1512.56 L419.877 1535.08 L424.808 1535.08 L424.808 1538.97 L419.877 1538.97 L419.877 1547.12 L415.224 1547.12 L415.224 1538.97 L399.623 1538.97 L399.623 1534.46 L413.997 1512.56 Z\" fill=\"#000000\" fill-rule=\"evenodd\" fill-opacity=\"1\" /><path clip-path=\"url(#clip590)\" d=\"M758.834 1530.29 L788.51 1530.29 L788.51 1534.23 L758.834 1534.23 L758.834 1530.29 Z\" fill=\"#000000\" fill-rule=\"evenodd\" fill-opacity=\"1\" /><path clip-path=\"url(#clip590)\" d=\"M802.63 1543.18 L818.949 1543.18 L818.949 1547.12 L797.005 1547.12 L797.005 1543.18 Q799.667 1540.43 804.25 1535.8 Q808.857 1531.15 810.037 1529.81 Q812.283 1527.28 813.162 1525.55 Q814.065 1523.79 814.065 1522.1 Q814.065 1519.34 812.121 1517.61 Q810.199 1515.87 807.098 1515.87 Q804.898 1515.87 802.445 1516.63 Q800.014 1517.4 797.236 1518.95 L797.236 1514.23 Q800.061 1513.09 802.514 1512.51 Q804.968 1511.93 807.005 1511.93 Q812.375 1511.93 815.57 1514.62 Q818.764 1517.31 818.764 1521.8 Q818.764 1523.93 817.954 1525.85 Q817.167 1527.74 815.06 1530.34 Q814.482 1531.01 811.38 1534.23 Q808.278 1537.42 802.63 1543.18 Z\" fill=\"#000000\" fill-rule=\"evenodd\" fill-opacity=\"1\" /><path clip-path=\"url(#clip590)\" d=\"M1184.07 1515.64 Q1180.46 1515.64 1178.64 1519.2 Q1176.83 1522.75 1176.83 1529.87 Q1176.83 1536.98 1178.64 1540.55 Q1180.46 1544.09 1184.07 1544.09 Q1187.71 1544.09 1189.51 1540.55 Q1191.34 1536.98 1191.34 1529.87 Q1191.34 1522.75 1189.51 1519.2 Q1187.71 1515.64 1184.07 1515.64 M1184.07 1511.93 Q1189.89 1511.93 1192.94 1516.54 Q1196.02 1521.12 1196.02 1529.87 Q1196.02 1538.6 1192.94 1543.21 Q1189.89 1547.79 1184.07 1547.79 Q1178.26 1547.79 1175.19 1543.21 Q1172.13 1538.6 1172.13 1529.87 Q1172.13 1521.12 1175.19 1516.54 Q1178.26 1511.93 1184.07 1511.93 Z\" fill=\"#000000\" fill-rule=\"evenodd\" fill-opacity=\"1\" /><path clip-path=\"url(#clip590)\" d=\"M1573.91 1543.18 L1590.23 1543.18 L1590.23 1547.12 L1568.29 1547.12 L1568.29 1543.18 Q1570.95 1540.43 1575.53 1535.8 Q1580.14 1531.15 1581.32 1529.81 Q1583.56 1527.28 1584.44 1525.55 Q1585.35 1523.79 1585.35 1522.1 Q1585.35 1519.34 1583.4 1517.61 Q1581.48 1515.87 1578.38 1515.87 Q1576.18 1515.87 1573.73 1516.63 Q1571.3 1517.4 1568.52 1518.95 L1568.52 1514.23 Q1571.34 1513.09 1573.8 1512.51 Q1576.25 1511.93 1578.29 1511.93 Q1583.66 1511.93 1586.85 1514.62 Q1590.05 1517.31 1590.05 1521.8 Q1590.05 1523.93 1589.24 1525.85 Q1588.45 1527.74 1586.34 1530.34 Q1585.76 1531.01 1582.66 1534.23 Q1579.56 1537.42 1573.91 1543.18 Z\" fill=\"#000000\" fill-rule=\"evenodd\" fill-opacity=\"1\" /><path clip-path=\"url(#clip590)\" d=\"M1977.45 1516.63 L1965.65 1535.08 L1977.45 1535.08 L1977.45 1516.63 M1976.22 1512.56 L1982.1 1512.56 L1982.1 1535.08 L1987.03 1535.08 L1987.03 1538.97 L1982.1 1538.97 L1982.1 1547.12 L1977.45 1547.12 L1977.45 1538.97 L1961.85 1538.97 L1961.85 1534.46 L1976.22 1512.56 Z\" fill=\"#000000\" fill-rule=\"evenodd\" fill-opacity=\"1\" /><polyline clip-path=\"url(#clip592)\" style=\"stroke:#000000; stroke-linecap:butt; stroke-linejoin:round; stroke-width:2; stroke-opacity:0.1; fill:none\" points=\"\n",
       "  156.598,1198.61 2112.76,1198.61 \n",
       "  \"/>\n",
       "<polyline clip-path=\"url(#clip592)\" style=\"stroke:#000000; stroke-linecap:butt; stroke-linejoin:round; stroke-width:2; stroke-opacity:0.1; fill:none\" points=\"\n",
       "  156.598,910.766 2112.76,910.766 \n",
       "  \"/>\n",
       "<polyline clip-path=\"url(#clip592)\" style=\"stroke:#000000; stroke-linecap:butt; stroke-linejoin:round; stroke-width:2; stroke-opacity:0.1; fill:none\" points=\"\n",
       "  156.598,622.926 2112.76,622.926 \n",
       "  \"/>\n",
       "<polyline clip-path=\"url(#clip592)\" style=\"stroke:#000000; stroke-linecap:butt; stroke-linejoin:round; stroke-width:2; stroke-opacity:0.1; fill:none\" points=\"\n",
       "  156.598,335.085 2112.76,335.085 \n",
       "  \"/>\n",
       "<polyline clip-path=\"url(#clip592)\" style=\"stroke:#000000; stroke-linecap:butt; stroke-linejoin:round; stroke-width:2; stroke-opacity:0.1; fill:none\" points=\"\n",
       "  156.598,47.2441 2112.76,47.2441 \n",
       "  \"/>\n",
       "<polyline clip-path=\"url(#clip590)\" style=\"stroke:#000000; stroke-linecap:butt; stroke-linejoin:round; stroke-width:4; stroke-opacity:1; fill:none\" points=\"\n",
       "  156.598,1486.45 156.598,47.2441 \n",
       "  \"/>\n",
       "<polyline clip-path=\"url(#clip590)\" style=\"stroke:#000000; stroke-linecap:butt; stroke-linejoin:round; stroke-width:4; stroke-opacity:1; fill:none\" points=\"\n",
       "  156.598,1198.61 180.072,1198.61 \n",
       "  \"/>\n",
       "<polyline clip-path=\"url(#clip590)\" style=\"stroke:#000000; stroke-linecap:butt; stroke-linejoin:round; stroke-width:4; stroke-opacity:1; fill:none\" points=\"\n",
       "  156.598,910.766 180.072,910.766 \n",
       "  \"/>\n",
       "<polyline clip-path=\"url(#clip590)\" style=\"stroke:#000000; stroke-linecap:butt; stroke-linejoin:round; stroke-width:4; stroke-opacity:1; fill:none\" points=\"\n",
       "  156.598,622.926 180.072,622.926 \n",
       "  \"/>\n",
       "<polyline clip-path=\"url(#clip590)\" style=\"stroke:#000000; stroke-linecap:butt; stroke-linejoin:round; stroke-width:4; stroke-opacity:1; fill:none\" points=\"\n",
       "  156.598,335.085 180.072,335.085 \n",
       "  \"/>\n",
       "<polyline clip-path=\"url(#clip590)\" style=\"stroke:#000000; stroke-linecap:butt; stroke-linejoin:round; stroke-width:4; stroke-opacity:1; fill:none\" points=\"\n",
       "  156.598,47.2441 180.072,47.2441 \n",
       "  \"/>\n",
       "<path clip-path=\"url(#clip590)\" d=\"M65.0198 1184.41 Q61.4087 1184.41 59.58 1187.97 Q57.7745 1191.51 57.7745 1198.64 Q57.7745 1205.75 59.58 1209.31 Q61.4087 1212.85 65.0198 1212.85 Q68.6541 1212.85 70.4596 1209.31 Q72.2883 1205.75 72.2883 1198.64 Q72.2883 1191.51 70.4596 1187.97 Q68.6541 1184.41 65.0198 1184.41 M65.0198 1180.7 Q70.83 1180.7 73.8855 1185.31 Q76.9642 1189.89 76.9642 1198.64 Q76.9642 1207.37 73.8855 1211.98 Q70.83 1216.56 65.0198 1216.56 Q59.2097 1216.56 56.131 1211.98 Q53.0754 1207.37 53.0754 1198.64 Q53.0754 1189.89 56.131 1185.31 Q59.2097 1180.7 65.0198 1180.7 Z\" fill=\"#000000\" fill-rule=\"evenodd\" fill-opacity=\"1\" /><path clip-path=\"url(#clip590)\" d=\"M85.1818 1210.01 L90.066 1210.01 L90.066 1215.89 L85.1818 1215.89 L85.1818 1210.01 Z\" fill=\"#000000\" fill-rule=\"evenodd\" fill-opacity=\"1\" /><path clip-path=\"url(#clip590)\" d=\"M104.279 1211.95 L120.598 1211.95 L120.598 1215.89 L98.6539 1215.89 L98.6539 1211.95 Q101.316 1209.2 105.899 1204.57 Q110.506 1199.91 111.686 1198.57 Q113.932 1196.05 114.811 1194.31 Q115.714 1192.55 115.714 1190.86 Q115.714 1188.11 113.77 1186.37 Q111.848 1184.64 108.746 1184.64 Q106.547 1184.64 104.094 1185.4 Q101.663 1186.17 98.8854 1187.72 L98.8854 1182.99 Q101.709 1181.86 104.163 1181.28 Q106.617 1180.7 108.654 1180.7 Q114.024 1180.7 117.219 1183.39 Q120.413 1186.07 120.413 1190.56 Q120.413 1192.69 119.603 1194.61 Q118.816 1196.51 116.709 1199.1 Q116.131 1199.78 113.029 1202.99 Q109.927 1206.19 104.279 1211.95 Z\" fill=\"#000000\" fill-rule=\"evenodd\" fill-opacity=\"1\" /><path clip-path=\"url(#clip590)\" d=\"M62.9365 896.565 Q59.3254 896.565 57.4967 900.13 Q55.6912 903.671 55.6912 910.801 Q55.6912 917.908 57.4967 921.472 Q59.3254 925.014 62.9365 925.014 Q66.5707 925.014 68.3763 921.472 Q70.205 917.908 70.205 910.801 Q70.205 903.671 68.3763 900.13 Q66.5707 896.565 62.9365 896.565 M62.9365 892.861 Q68.7467 892.861 71.8022 897.468 Q74.8809 902.051 74.8809 910.801 Q74.8809 919.528 71.8022 924.134 Q68.7467 928.718 62.9365 928.718 Q57.1264 928.718 54.0477 924.134 Q50.9921 919.528 50.9921 910.801 Q50.9921 902.051 54.0477 897.468 Q57.1264 892.861 62.9365 892.861 Z\" fill=\"#000000\" fill-rule=\"evenodd\" fill-opacity=\"1\" /><path clip-path=\"url(#clip590)\" d=\"M83.0984 922.167 L87.9827 922.167 L87.9827 928.046 L83.0984 928.046 L83.0984 922.167 Z\" fill=\"#000000\" fill-rule=\"evenodd\" fill-opacity=\"1\" /><path clip-path=\"url(#clip590)\" d=\"M111.015 897.56 L99.2095 916.009 L111.015 916.009 L111.015 897.56 M109.788 893.486 L115.668 893.486 L115.668 916.009 L120.598 916.009 L120.598 919.898 L115.668 919.898 L115.668 928.046 L111.015 928.046 L111.015 919.898 L95.4132 919.898 L95.4132 915.384 L109.788 893.486 Z\" fill=\"#000000\" fill-rule=\"evenodd\" fill-opacity=\"1\" /><path clip-path=\"url(#clip590)\" d=\"M63.2606 608.724 Q59.6495 608.724 57.8208 612.289 Q56.0152 615.831 56.0152 622.96 Q56.0152 630.067 57.8208 633.632 Q59.6495 637.173 63.2606 637.173 Q66.8948 637.173 68.7004 633.632 Q70.5291 630.067 70.5291 622.96 Q70.5291 615.831 68.7004 612.289 Q66.8948 608.724 63.2606 608.724 M63.2606 605.021 Q69.0707 605.021 72.1263 609.627 Q75.205 614.21 75.205 622.96 Q75.205 631.687 72.1263 636.294 Q69.0707 640.877 63.2606 640.877 Q57.4504 640.877 54.3717 636.294 Q51.3162 631.687 51.3162 622.96 Q51.3162 614.21 54.3717 609.627 Q57.4504 605.021 63.2606 605.021 Z\" fill=\"#000000\" fill-rule=\"evenodd\" fill-opacity=\"1\" /><path clip-path=\"url(#clip590)\" d=\"M83.4225 634.326 L88.3067 634.326 L88.3067 640.206 L83.4225 640.206 L83.4225 634.326 Z\" fill=\"#000000\" fill-rule=\"evenodd\" fill-opacity=\"1\" /><path clip-path=\"url(#clip590)\" d=\"M109.071 621.062 Q105.922 621.062 104.071 623.215 Q102.242 625.368 102.242 629.118 Q102.242 632.845 104.071 635.02 Q105.922 637.173 109.071 637.173 Q112.219 637.173 114.047 635.02 Q115.899 632.845 115.899 629.118 Q115.899 625.368 114.047 623.215 Q112.219 621.062 109.071 621.062 M118.353 606.409 L118.353 610.669 Q116.594 609.835 114.788 609.396 Q113.006 608.956 111.246 608.956 Q106.617 608.956 104.163 612.081 Q101.733 615.206 101.385 621.525 Q102.751 619.511 104.811 618.446 Q106.871 617.359 109.348 617.359 Q114.557 617.359 117.566 620.53 Q120.598 623.678 120.598 629.118 Q120.598 634.442 117.45 637.659 Q114.302 640.877 109.071 640.877 Q103.075 640.877 99.9039 636.294 Q96.7326 631.687 96.7326 622.96 Q96.7326 614.766 100.621 609.905 Q104.51 605.021 111.061 605.021 Q112.82 605.021 114.603 605.368 Q116.408 605.715 118.353 606.409 Z\" fill=\"#000000\" fill-rule=\"evenodd\" fill-opacity=\"1\" /><path clip-path=\"url(#clip590)\" d=\"M63.5152 320.884 Q59.9041 320.884 58.0754 324.448 Q56.2699 327.99 56.2699 335.12 Q56.2699 342.226 58.0754 345.791 Q59.9041 349.332 63.5152 349.332 Q67.1494 349.332 68.955 345.791 Q70.7837 342.226 70.7837 335.12 Q70.7837 327.99 68.955 324.448 Q67.1494 320.884 63.5152 320.884 M63.5152 317.18 Q69.3254 317.18 72.3809 321.786 Q75.4596 326.37 75.4596 335.12 Q75.4596 343.846 72.3809 348.453 Q69.3254 353.036 63.5152 353.036 Q57.7051 353.036 54.6264 348.453 Q51.5708 343.846 51.5708 335.12 Q51.5708 326.37 54.6264 321.786 Q57.7051 317.18 63.5152 317.18 Z\" fill=\"#000000\" fill-rule=\"evenodd\" fill-opacity=\"1\" /><path clip-path=\"url(#clip590)\" d=\"M83.6771 346.485 L88.5614 346.485 L88.5614 352.365 L83.6771 352.365 L83.6771 346.485 Z\" fill=\"#000000\" fill-rule=\"evenodd\" fill-opacity=\"1\" /><path clip-path=\"url(#clip590)\" d=\"M108.746 335.953 Q105.413 335.953 103.492 337.735 Q101.594 339.518 101.594 342.643 Q101.594 345.768 103.492 347.55 Q105.413 349.332 108.746 349.332 Q112.08 349.332 114.001 347.55 Q115.922 345.745 115.922 342.643 Q115.922 339.518 114.001 337.735 Q112.103 335.953 108.746 335.953 M104.071 333.962 Q101.061 333.221 99.3715 331.161 Q97.7048 329.101 97.7048 326.138 Q97.7048 321.995 100.645 319.587 Q103.608 317.18 108.746 317.18 Q113.908 317.18 116.848 319.587 Q119.788 321.995 119.788 326.138 Q119.788 329.101 118.098 331.161 Q116.432 333.221 113.445 333.962 Q116.825 334.749 118.7 337.041 Q120.598 339.333 120.598 342.643 Q120.598 347.666 117.52 350.351 Q114.464 353.036 108.746 353.036 Q103.029 353.036 99.9502 350.351 Q96.8947 347.666 96.8947 342.643 Q96.8947 339.333 98.7928 337.041 Q100.691 334.749 104.071 333.962 M102.358 326.578 Q102.358 329.263 104.024 330.768 Q105.714 332.272 108.746 332.272 Q111.756 332.272 113.445 330.768 Q115.158 329.263 115.158 326.578 Q115.158 323.893 113.445 322.388 Q111.756 320.884 108.746 320.884 Q105.714 320.884 104.024 322.388 Q102.358 323.893 102.358 326.578 Z\" fill=\"#000000\" fill-rule=\"evenodd\" fill-opacity=\"1\" /><path clip-path=\"url(#clip590)\" d=\"M54.2328 60.5889 L61.8717 60.5889 L61.8717 34.2233 L53.5616 35.89 L53.5616 31.6308 L61.8254 29.9641 L66.5013 29.9641 L66.5013 60.5889 L74.1402 60.5889 L74.1402 64.5241 L54.2328 64.5241 L54.2328 60.5889 Z\" fill=\"#000000\" fill-rule=\"evenodd\" fill-opacity=\"1\" /><path clip-path=\"url(#clip590)\" d=\"M83.5845 58.6445 L88.4688 58.6445 L88.4688 64.5241 L83.5845 64.5241 L83.5845 58.6445 Z\" fill=\"#000000\" fill-rule=\"evenodd\" fill-opacity=\"1\" /><path clip-path=\"url(#clip590)\" d=\"M108.654 33.0428 Q105.043 33.0428 103.214 36.6076 Q101.409 40.1492 101.409 47.2788 Q101.409 54.3853 103.214 57.9501 Q105.043 61.4917 108.654 61.4917 Q112.288 61.4917 114.094 57.9501 Q115.922 54.3853 115.922 47.2788 Q115.922 40.1492 114.094 36.6076 Q112.288 33.0428 108.654 33.0428 M108.654 29.3391 Q114.464 29.3391 117.52 33.9456 Q120.598 38.5289 120.598 47.2788 Q120.598 56.0056 117.52 60.6121 Q114.464 65.1954 108.654 65.1954 Q102.844 65.1954 99.765 60.6121 Q96.7095 56.0056 96.7095 47.2788 Q96.7095 38.5289 99.765 33.9456 Q102.844 29.3391 108.654 29.3391 Z\" fill=\"#000000\" fill-rule=\"evenodd\" fill-opacity=\"1\" /><g clip-path=\"url(#clip592)\">\n",
       "<image width=\"1956\" height=\"1439\" xlink:href=\"data:image/png;base64,\n",
       "iVBORw0KGgoAAAANSUhEUgAAB6QAAAWfCAYAAAAMC0gLAAAgAElEQVR4nOzbWa9k15nn53fvGM6Y\n",
       "czLJ5KyhSiqVumWUZbSHtgHDlw34CzSMvvZHs33hO9+1q9CN6i5YZdXgUqklSqQoDjkxk8w8cwx7\n",
       "9QXRgK9og/gvnkPl83yAH3ZE7Fh77f1GDAV8A+Yt29sM2d7LJP1ZXGXZ82SoZe69G8KncAt/rMM8\n",
       "m6vc653NDmKtqqrtdBrtLed3or1N8PiWs2uxVlXVfNyN9vbGm9HeGDyP701vxlpVVdMwRXuv1+1o\n",
       "784yuwbc2cm19ma5VlXV3d1NtPfdw6Nobzbm1vcbO2exVlXV3vIi2vun/93/Fe0Ns9z3bLZ/HmtV\n",
       "VQ3L7Hk3/Mkr2d6jJ7FWe+N+rFVV1ZbZa890mL32VMudd/Nf/yLWqqqaHq+jvfWTG9He8q0vYq3j\n",
       "f8het9P+4ef/JNrb38mtx89OsvvFtL/5LLvePV/lNhaPz7P3eF+ssvd4h/Ps8f3s/FG0N2u5z+L5\n",
       "+CzWqqqaKrt3f7z6VbSXtNkeR3tTy157ks8WqqqG4D3jdvsi1qqqGsbgTVRVtfBnkdzz1DDmWlXx\n",
       "Z2QtvAZkeUYO3ybh1Q4AAAAAAAAAvmQgDQAAAAAAAEAXBtIAAAAAAAAAdGEgDQAAAAAAAEAXBtIA\n",
       "AAAAAAAAdGEgDQAAAAAAAEAXBtIAAAAAAAAAdGEgDQAAAAAAAEAXBtIAAAAAAAAAdGEgDQAAAAAA\n",
       "AEAXBtIAAAAAAAAAdGEgDQAAAAAAAEAXBtIAAAAAAAAAdGEgDQAAAAAAAEAXw2UfAMBXm7dsbxNc\n",
       "967ysVWlj28IXjJaZd+6cdiJ9lptor3k5Tb/Wqdobwj/1m02O4j2kvbnd6O92bCI9m6Pb8VaB1P2\n",
       "c1gNq2jve+Or0d62Zdeo13Znsdb9veyxvb6X/SzCF8Z699qLWOveteexVlXVtYOTaG937zzau/+f\n",
       "/zLWmlbzWKuqavHPb0V7tc6ex8N6HWu1nex1e3Mvt7ZXVdU8/Nn+4ue52Dq8H9vbjeamV7LXnukv\n",
       "P4m1zh/ejrWqqlYne9HeMGSvFr/65Q9irScnh7FWVdUXF9nzbjVl99ofneSO7zh8O/u74+x9yjq8\n",
       "v9uEe7+rh7HWasjuKU7as2jvbPt5tLczuxFrHa1ya3FV1baF9yjhR/lTy11r23QRa/VwlZ/zVMuu\n",
       "d61WV3zmk3xeebWfpealXy98s/xDGgAAAAAAAIAuDKQBAAAAAAAA6MJAGgAAAAAAAIAuDKQBAAAA\n",
       "AAAA6MJAGgAAAAAAAIAuDKQBAAAAAAAA6MJAGgAAAAAAAIAuDKQBAAAAAAAA6MJAGgAAAAAAAIAu\n",
       "DKQBAAAAAAAA6MJAGgAAAAAAAIAuDKQBAAAAAAAA6MJAGgAAAAAAAIAu5pd9AAB8aahFu+xj+Cqt\n",
       "coc3hH8P1doq2qshe3xDzWKtVlOs9aUhWhvHnWhvNuR6u/PrsVZV1WxYRHu3h7eivZN6nouFf8L4\n",
       "2vaVaO+kbaK913eX0d4UXN2Traqqk01ufaqqeuvgNNobhtwLvlhnv7P3rx1He+dnu9He8e/ux1rX\n",
       "f/D7WKuqajjNfsfWf38W7c3+29djrbbInnfT3rVob/npb6K99uI81hr2so8rpgcn0V599EE0N7sT\n",
       "3OM9zKWqqk6fZ8+7k+ODaG85X8daizG71z5cZO9THp/tR3tHm9y9wE54vzhkb1PqfLuN9p7WUbR3\n",
       "s92MtT6dZa/byWcBX8qeLCfrJ7FW/LW2bG/bLqK9Ifk8IPylbe1qP/uo6PFd6ceBV9zcmwffIv4h\n",
       "DQAAAAAAAEAXBtIAAAAAAAAAdGEgDQAAAAAAAEAXBtIAAAAAAAAAdGEgDQAAAAAAAEAXBtIAAAAA\n",
       "AAAAdGEgDQAAAAAAAEAXBtIAAAAAAAAAdGEgDQAAAAAAAEAXBtIAAAAAAAAAdGEgDQAAAAAAAEAX\n",
       "BtIAAAAAAAAAdGEgDQAAAAAAAEAXBtIAAAAAAAAAdDG/7AOAl8O8ZXubIdt7maQ/i5xWV/bQ8ob0\n",
       "KXzFe8MslhqHZaxVVTW1VbSXPr75mOuttqexVlXV4eJetHdaL6K9Ze3GWten67FWVdVO8DtRVbU3\n",
       "y25pb2dP47qxzK3vZ9vs+rQcp2jvw5P9aO/Nlnu9r998FmtVVZ2f5b5jVVXz+Sbau/FnH8Raq49u\n",
       "xlpVVdu/WER7+//sLNqr3+Xeu+n7fxRrVVUt/82/jva2P/1ptNf+67dirfmj38daVVWbn34v2lv+\n",
       "7N9Ee6v3stfapDvf/Tjae+8v/ptobznLrZ/PVzuxVlXVzZ3zaK/Cy913D3P3Ah+fZjdQu7Psf2gW\n",
       "Y/bac3axF+09mj2KtdLPFqaW3aNUZfefLdhbzg5jraqqacy+d6vtUbTXpnWsNQ7ZvfFm+iLaG9L/\n",
       "yxuCvbbNtarqKj/7vPrSz9x9FvD/5h/SAAAAAAAAAHRhIA0AAAAAAABAFwbSAAAAAAAAAHRhIA0A\n",
       "AAAAAABAFwbSAAAAAAAAAHRhIA0AAAAAAABAFwbSAAAAAAAAAHRhIA0AAAAAAABAFwbSAAAAAAAA\n",
       "AHRhIA0AAAAAAABAFwbSAAAAAAAAAHRhIA0AAAAAAABAFwbSAAAAAAAAAHQxXPYBAF/HvOVam5ds\n",
       "HbjK713y2Kqu8vENwyyV+lILv3VD9q0bah5rtdrEWlVV47Ab7c1mB9Fea1Ostbe4HWtVVS3Hw2hv\n",
       "Z8j2xuDvDi/acaxVVfXu9CfR3puL7HuX9tZBbk3ZCf+c9K2Di2jv/t5ptPfq4YtY69p+9tjeePej\n",
       "aG+xl/0slneex1rb0+y1Yvd7n0V74UtjtZ/8caw1/O2vY62qqvX/8N9He4sPfxnttV8+jrXGP7oV\n",
       "a1VVbf4uuwbMf5z9Xky/zX1nX/zq7Virqqptsxefo6c3o70HT+7FWotZdkH5u4dvRHsPz5fR3qbl\n",
       "9iifnWfPkyl8i/foPBt8sj6P9p4Puf32szG3FldVrSv7Ws+3X0R727aOtdbbk1irqmoznUV7aa3l\n",
       "1rxk68veKtobrvT/8sILXlgLH98QHEmlj+0qP0v90sv0HN9794foKq/EAAAAAAAAAHyLGUgDAAAA\n",
       "AAAA0IWBNAAAAAAAAABdGEgDAAAAAAAA0IWBNAAAAAAAAABdGEgDAAAAAAAA0IWBNAAAAAAAAABd\n",
       "GEgDAAAAAAAA0IWBNAAAAAAAAABdGEgDAAAAAAAA0IWBNAAAAAAAAABdGEgDAAAAAAAA0IWBNAAA\n",
       "AAAAAABdzC/7AIDLNm+XfQRfbTNc3d7Vfu+GWmSPbwj+hqlNuVZV9tiqahiW0V5rq1hrHHZjraqq\n",
       "1jbR3lDZr+ww5LYqrWW/Ehfbo2hvO15Ee7fHt2Otd6bvxFpVVTvDLNrbn4fPu2itaie4RB1nv7K1\n",
       "nbKv9sPjw2jveJ1bj9/cPI+1qqrubz+N9vbefBztrZ7eiLVme9n1aUh+Karq/P1b0d7Od4Pnyo/e\n",
       "ybWqavF//nm0N7xxM9qr3dwer/3+aaxVVTX/cfY82f6H42hvvJZ774Yhu+d5/ln2vTs/z+5np+C1\n",
       "7OOj27FWVdX+Yh3tHW6yj/FerHN7svAdXj3PvnV1tt1Ge+vK9k7G3JqyU/uxVlXVtrIfxv7sTrR3\n",
       "us1dL6ZxJ9aqqppa9jzZTtlrT5uCe7zwPd44pp99hBeVpPjTxSv9uLJa8PiG8P8t8+9c+rn2y8R7\n",
       "94fIP6QBAAAAAAAA6MJAGgAAAAAAAIAuDKQBAAAAAAAA6MJAGgAAAAAAAIAuDKQBAAAAAAAA6MJA\n",
       "GgAAAAAAAIAuDKQBAAAAAAAA6MJAGgAAAAAAAIAuDKQBAAAAAAAA6MJAGgAAAAAAAIAuDKQBAAAA\n",
       "AAAA6MJAGgAAAAAAAIAuDKQBAAAAAAAA6MJAGgAAAAAAAIAu5pd9AMBl2wyXfQRfbd4u+wi+OdnP\n",
       "oqXfu7aNpYZhFmtVVVWbsr3wt2IcdmOtVrnPoapqGHeive10Ee0NQ+63c1PbxFpVVYtxL9pLa5Vb\n",
       "Ah7NnsRaVVV3trejvYfn0VzdXCyivaN1blF5bS+73p1P2d+n3lquo71X9k9irU34tb54ejPaW/38\n",
       "h9HezXcexFrDPHvt2T7O7gN2/8nzaK9Nuc92+utPY62qqov/6V9Fe3v/+OfRXl2/EUsND7LvXW2z\n",
       "53Ha+uH1WGvn5lGsVVX1arj3wc//NNrb38ntP4fTa7FWVdVyzJ538zG7D3h6kdvz7IT/8nKxzd7O\n",
       "ngXvZ6uqns0+j/bube/FWg9mn8RaVfn7qFU7jfa2Lbf/HCq7R5mNy2ivtez9e81z97TTdBZrVVW1\n",
       "aRXtDUP2Hq9V9nvxcsk9/4w/+4xLH99Vf44PX80/pAEAAAAAAADowkAaAAAAAAAAgC4MpAEAAAAA\n",
       "AADowkAaAAAAAAAAgC4MpAEAAAAAAADowkAaAAAAAAAAgC4MpAEAAAAAAADowkAaAAAAAAAAgC4M\n",
       "pAEAAAAAAADowkAaAAAAAAAAgC4MpAEAAAAAAADowkAaAAAAAAAAgC4MpAEAAAAAAADoYn7ZBwDw\n",
       "1TbDZR/BN2feLvsIvimtbS/7EL5aW2d7wyKWmo37sVYPrU3R3jDktirL2UGsVVW1HLKfxbZW0d4s\n",
       "uM1rlV2eNkN2DXhtdxnt7YR/sjkEr2TzMftZ3Nu9iPZ2ZtnP9nyTWz8PFtnv2E74vdu/eRTtrY9y\n",
       "a9Tudz+LtaqqKrwNOP+v/kW0t/zol7HWeC373g2b82gvbXvzlVhr9v6HsVZV1fpXe9He8rvZE3n6\n",
       "MLeHalP2Qnby6Ha099rbn0R7v/vNd2KtccjuZR+eXYv2dsbs8b2xv4m1HpxlHzHuzrKPAna2s2jv\n",
       "YMreWyT32+vKXit2hsNo73x6Hu1tp9webztl93ctvOmZjbvR3nbKnSvpZwE1ZK9lrWXvBbLSjz7T\n",
       "vfTjyqv8/PMqH9vLJv1ZvEwzhqvLP6QBAAAAAAAA6MJAGgAAAAAAAIAuDKQBAAAAAAAA6MJAGgAA\n",
       "AAAAAIAuDKQBAAAAAAAA6MJAGgAAAAAAAIAuDKQBAAAAAAAA6MJAGgAAAAAAAIAuDKQBAAAAAAAA\n",
       "6MJAGgAAAAAAAIAuDKQBAAAAAAAA6MJAGgAAAAAAAIAuDKQBAAAAAAAA6MJAGgAAAAAAAIAu5pd9\n",
       "AMDXsRku+wi+KUMtWrLXKprjihjCv68ah91or9Um1tpsj2Otqqr57DDaS5vaOtY6XX8Wa1VVLZZv\n",
       "Rnvp3wnutJ1YaxM8h6uqFi27Bf30fBXtfe9gGe09vci13j7IXscenmXXu1vL3He2qurwILfm3bv+\n",
       "RaxVVbVeL6K97Tr7vTh8+2Gsdf7+3VirqmrvT59Fe7s/+9fRXnt2HmsN92/EWlVVu+/9VbS3euuH\n",
       "0d7Oz/481mpvvhZrVVWNTz6P9upgL5obFrlr7Rcf3o+1qqrm4bV9mE3R3u2bufV9vcmuxSfr7J7i\n",
       "r59ej/ZWwY/iKHua1NEme57MhuxjlDvtWrT3eMidx5uW3RuftvAeajqL9lrlzpXZmN0bJ+9nv+xl\n",
       "P9vWkvd522Crahiye+3WsmtKUvIc/jYYKrce55/zvjzP3K8+n8UfIv+QBgAAAAAAAKALA2kAAAAA\n",
       "AAAAujCQBgAAAAAAAKALA2kAAAAAAAAAujCQBgAAAAAAAKALA2kAAAAAAAAAujCQBgAAAAAAAKAL\n",
       "A2kAAAAAAAAAujCQBgAAAAAAAKALA2kAAAAAAAAAujCQBgAAAAAAAKALA2kAAAAAAAAAujCQBgAA\n",
       "AAAAAKCL+WUfAN8m85btbYZs72WS/Cyu9ufQah0+vvR5nJT+LLKvdRhmuVibcq2qqiH7+6ppOo32\n",
       "xnEv1hqG7KV7mlbRXvqzWI43Yq2pZV9rq+xysj/cjPZ2pp1Yaxqy39lZ+DeR6V9Ypi8Ud3IfRX2+\n",
       "Cq7FVfXOwUW098bBcbS3v8h9b4ch+8k+enI32kufeDd+9EGstT3djbWqqrZPslue2Z3sedwucqtK\n",
       "u/darFVVNT5+mO3dy+55pjffjrXGB5/EWlVV89fX0V57mj3vxsPc9+KV/+zXsVZV1bNffDfaO36a\n",
       "3fP8/uH9WOtis4i1qqo2U3aX8srONtp7vs4d37Zl1/YvwrcpiyF7fJ+H7y3WY26NulnZa88meGxV\n",
       "VQ+3v4z2dma5e8bVNruXbS37nb3a/y3Lfsda+rlR/C7v5TGEz7tWyc/2aj/Xznt5ZgJmUX+YrvJV\n",
       "DAAAAAAAAIBvMQNpAAAAAAAAALowkAYAAAAAAACgCwNpAAAAAAAAALowkAYAAAAAAACgCwNpAAAA\n",
       "AAAAALowkAYAAAAAAACgCwNpAAAAAAAAALowkAYAAAAAAACgCwNpAAAAAAAAALowkAYAAAAAAACg\n",
       "CwNpAAAAAAAAALowkAYAAAAAAACgi/llHwDfJpvhso+Ab4N5y/bS512yl36t2d5Q2beutW2slT62\n",
       "Ch5bD62S790s1vpPxaT5uBftDUPu+Jbj9VirqmrTLqK9o/Y42hvH3O8OD1r2vZuFz7vlmP1enIWX\n",
       "lMPgjvtglr30HK2ztwOPTg+ive/cXMVay8U61qqqOtg/jfZ29rJryvF7b8Vas53c51BVNXtnN9qr\n",
       "4HpXVTW8fhhrtb/6TaxVVdV+8nq0N5wdR3vn3/8vY62d5d/EWlVVs/ffi/aGu/vRXn2W+yzWH1+L\n",
       "taqqtuFrxflZdg3YmefW98Pds1irhw9Psnvt821uT/Yie5mtefA+oKrqw82LaK8N2T3ZnelWrPXR\n",
       "7PexVlXVi+lRtJe+Z5zaJtZaT9nr4mxYRnub7fNoL2kYsteKNmX3n2mt1rFFahh2ogtK8vkdXB6z\n",
       "qD9E/iENAAAAAAAAQBcG0gAAAAAAAAB0YSANAAAAAAAAQBcG0gAAAAAAAAB0YSANAAAAAAAAQBcG\n",
       "0gAAAAAAAAB0YSANAAAAAAAAQBcG0gAAAAAAAAB0YSANAAAAAAAAQBcG0gAAAAAAAAB0YSANAAAA\n",
       "AAAAQBcG0gAAAAAAAAB0YSANAAAAAAAAQBcG0gAAAAAAAAB0Mb/sA4CXw7xd9hF8czZDsjbUIvre\n",
       "tXp5Por8a01+ttnPtSp62tUwLLK9msVaraZYq6pqCP82LX3ebadVrDXOstue1rKfxXzcjfbO6zjW\n",
       "2qvDWKuqajZkz7vsClC1nrLn8TDkjvDJRfa9+97hJtq7tXMe7c3Hbax1dp79ju0fnEZ7R8+vRXs3\n",
       "3/k01hoX2fOkPTuJ9tKm19+KtYY/24m1qqpWb/4w2tv5xV9Fe9ubr8VamztvxlpVVbP334v2Vn/y\n",
       "Z9Fe/W8/j6VOHt6Jtaqqdg6z692TJ3ejvfksd6341ZPcOVxV9Xy1jPbG8Kbnjf3c+r5t2b32afjF\n",
       "zsbr0d6ji4to7/ezj2Otw3Yj1qqqOh9z9xVVVUfrB9Fe0nzcj/am4P1sVdUsfHyt5dbPacreB1T8\n",
       "mVb6rjH4rLdd7WeVrVbpNy8m/9x4HX6t6ZlA9rk7fNP8QxoAAAAAAACALgykAQAAAAAAAOjCQBoA\n",
       "AAAAAACALgykAQAAAAAAAOjCQBoAAAAAAACALgykAQAAAAAAAOjCQBoAAAAAAACALgykAQAAAAAA\n",
       "AOjCQBoAAAAAAACALgykAQAAAAAAAOjCQBoAAAAAAACALgykAQAAAAAAAOjCQBoAAAAAAACALobL\n",
       "PgDgss1btrd5idaV9Ht3tQ3JS8YQ/j1Um7K9YRbNjcNOrNUq+1rns2vR3nY6j/aWs+ux1v78TqxV\n",
       "VTWEz5PD4Xa0d3d6NdZ6Pj6Ptaqqbm+zr/VwWEZ7ryyzvdu5JaD2sqdd/fH1s2hvf7aJ9pazbaz1\n",
       "1o3PY62qqhuHx9nerez37M6P3o+1vvj127FWVdXBq8+ivcW/fDfam33xOBcbs1/aYZW9ztZsnu0F\n",
       "DcdH0V57mD3v2nF2Pzu+uRtrrf4xe2yf/PxPor2d3Yto78mTu7HWYp69jv3lh9+N9n57nDtPqqrW\n",
       "wVuL43WuVZU9tqqqz1e5PUVV1Ytt9gU/Gp/GWhdDdn93USfR3lTZz+Jiyu3JTlaPYq2qqiH87GO9\n",
       "fRHtDZXbpwzjItaqqtpusnvjGrJ7ntZW0V7WVX82+3I9T726rvp5cpWZp3xd/iENAAAAAAAAQBcG\n",
       "0gAAAAAAAAB0YSANAAAAAAAAQBcG0gAAAAAAAAB0YSANAAAAAAAAQBcG0gAAAAAAAAB0YSANAAAA\n",
       "AAAAQBcG0gAAAAAAAAB0YSANAAAAAAAAQBcG0gAAAAAAAAB0YSANAAAAAAAAQBcG0gAAAAAAAAB0\n",
       "YSANAAAAAAAAQBcG0gAAAAAAAAB0Mb/sAwAu22a47CP4avOW7SVf78v13rUK5tpF9L0bht3weZLN\n",
       "tdrGWuOwG2tVVW23J9HefHYt2kued1Pwc6iq2h+yr3Vdq2jvk/GDWOuN6TuxVlXVLPybyG34O3sQ\n",
       "3iHPgyve4WLKxarqZJN9sYsxe3xvHTyPtdbb7Gs9Pt2P9oYhex7fPMldL2587+NYq6pqfv002hv/\n",
       "8fNob3r9jVhrOMteZ6ebd6K9tNnDT3KxMfz7+Vl26z5dLLK93+TWz/Mn2fNkZ+8i2pu22c92DF57\n",
       "np8cxFpVVdcW62jv9b1ZtPd8nexlP9ePTrLXxWV4TVlO2c/ioOXOvaPhaaxVVXWyfRbtTW0T7uW+\n",
       "Z1PL3pPNx+yaMgzZa0+13D1ym7LvXQ3psUX2ecAw5NaAFvwcvpR+lsrVcdWfRb8sfA5fl39IAwAA\n",
       "AAAAANCFgTQAAAAAAAAAXRhIAwAAAAAAANCFgTQAAAAAAAAAXRhIAwAAAAAAANCFgTQAAAAAAAAA\n",
       "XRhIAwAAAAAAANCFgTQAAAAAAAAAXRhIAwAAAAAAANCFgTQAAAAAAAAAXRhIAwAAAAAAANCFgTQA\n",
       "AAAAAAAAXRhIAwAAAAAAANDF/LIPAK6mebvsI/hqm+Gyj+Cbc5Vfa/Y8GSr8Uofwb47alEvFv2Pp\n",
       "r+zVPe2mdhHtDcMi2ttO59Fe8rPdzg5iraqq4+3TaO/27K1ob6xZrPV8fB5rVVW9un0l2tsfs1va\n",
       "5+vsmnJtkVtTlmP22NKr3WLIXSuqqk7Wy1jrYJldPw/2z6K9e29/Gu21KbcPmB1mX+v2eC/aG+9v\n",
       "sr2To1jr9Kf/Y6xVVbXz/r+P9obVKtqb7t6L9pKGnZ1ob7Z6EO19/tffi7X2br+Itaqq7v3k19He\n",
       "h//uJ9HeepPbB8zG7HXsYLGO9k6P96O9a/NtrPXkPHv/uRizu5SjTe61VlV9NDyO9sbgf4Zut9di\n",
       "raqqYZa7r6iqOm/Ze4uj4HrcWvY8mabsGjAO2fuebcsdX/rZQvpfdFPwmdaXcvdlw5D9jrV2Eb7N\n",
       "Sz/Du8rPeoGe/EMaAAAAAAAAgC4MpAEAAAAAAADowkAaAAAAAAAAgC4MpAEAAAAAAADowkAaAAAA\n",
       "AAAAgC4MpAEAAAAAAADowkAaAAAAAAAAgC4MpAEAAAAAAADowkAaAAAAAAAAgC4MpAEAAAAAAADo\n",
       "wkAaAAAAAAAAgC4MpAEAAAAAAADowkAaAAAAAAAAgC7ml30AcDVthss+gq82b7nWVX+tV1n2vQt+\n",
       "qFVVNbRFNNlqHXy9yXO4qrVtMldD+PdaraZYaxwWsVZVVbXcsVVVzWb70d5mexxrbadVrNXD+Sz3\n",
       "WquqVtNJrHV3eCfWqqo6Gy6ivf2W3dK+dTCL9lbBJWo5Zq8W65bdBixn2TXlcJk7V9ZT9nM9OMh9\n",
       "x6qqNufLaG+ow1hrc7YTa1VVHf7gk2hvevP70d74ycex1v6//V9jraqqdu1atLd5/TvR3vqVP461\n",
       "lh//XaxVVTX+zXvRXoXXz1s//W2stfroVqxVVfX5L9+N9o5PD6K91Sa3Dzi62Iu1qqrWU/a+4t3D\n",
       "02jvg+Pc3v0ie0tWx5tscH+W/SxurW5Ge1PwicCz2bNYq6pq3c6iveP142gveY+8mN+ItaqqtlP2\n",
       "vZvC97RD5fbHU/DevapqGHejvQo/N6rK7QNarcLPZrPP3PLPyLLHl5V+Tp5+rZ7j8+3mH9IAAAAA\n",
       "AAAAdGEgDQAAAAAAAEAXBtIAAAAAAAAAdGEgDQAAAAAAAEAXBtIAAAAAAAAAdGEgDQAAAAAAAEAX\n",
       "BtIAAAAAAAAAdGEgDQAAAAAAAEAXBtIAAAAAAAAAdGEgDQAAAAAAAEAXBtIAAAAAAAAAdGEgDQAA\n",
       "AAAAAEAXBtIAAAAAAAAAdGEgDQAAAAAAAEAX88s+AODr2Ay51rzlWlXZY+sh/Xqvrlbpl5p774bw\n",
       "76GGcRnttbaJ9mbjXqy13R7FWlVV4+ww2ms1RXvjuBtrzcLnyXZaRXu7dS3ae7XeirXO6zzWqqp6\n",
       "dcy+1tay692js2iubgZPvRfr7Pq5CF+1p5YNzsZtrNXCx3Z+llufqqqWuxfR3rytY639tx/FWlVV\n",
       "qwc3o73l7m+ivXb/bqw1vfJ6rFVVNfvkw2hv/uB30d7i734Wa7W7d2KtqqqW3aJUTdk1ZXj3Vqw1\n",
       "Ps7uUfZuvYj2bh4fRHuLYO/R8Y1Yq6rq6Xn2WvHp2U6099lF7jwewnuK/Vl2z/N4lb3OLmsW7T0a\n",
       "n8Za+9N+rFVV9SL82S7T96Att1/chO/xpnSvZXvDEDyPh/D/3oKf65fCJ3Jw0Rtq50o/q0x+x14+\n",
       "V/05OXyz/EMaAAAAAAAAgC4MpAEAAAAAAADowkAaAAAAAAAAgC4MpAEAAAAAAADowkAaAAAAAAAA\n",
       "gC4MpAEAAAAAAADowkAaAAAAAAAAgC4MpAEAAAAAAADowkAaAAAAAAAAgC4MpAEAAAAAAADowkAa\n",
       "AAAAAAAAgC4MpAEAAAAAAADowkAaAAAAAAAAgC7ml30AAN+szZBrzVuuVZU9tqr88eW0mrK96Tza\n",
       "G8fdaG87ncRas9m1WKuqamrrbG+6iPZm416uNSxiraqqYcx+ZY/bZ9He/nAQa50PuXO4qurB9Dza\n",
       "u1G511pVtbPJ/mZzNuR6N5fZ8+58m+2tpq0LiToAACAASURBVOx799Hz27HW69ey593e/lm0t3t4\n",
       "Gu3tvfY01nr299+Ptaqq7v7z/xDttT/6XrQ3/u6DXGuxjLWqqqZ7r0V7w+lxtFd7uT3UcHQUa1VV\n",
       "Dfdze4qqqnbzZrb33qex1vroXqxVVfX0o/vR3hdf3Ij2lovcfnZntom1qqpuLlfR3oOz7JpydyfX\n",
       "+nyV3VMsd7O9k232XuBom/1sb06578XT2bNYq6rqfJtdj8fw4+gpeKq02uZiVTWfHUZ76+0X0d4Q\n",
       "vEeepuzeuFV2PR7C/8trLXuuZKWfL2YNtYw9r2wVvvgAXfmHNAAAAAAAAABdGEgDAAAAAAAA0IWB\n",
       "NAAAAAAAAABdGEgDAAAAAAAA0IWBNAAAAAAAAABdGEgDAAAAAAAA0IWBNAAAAAAAAABdGEgDAAAA\n",
       "AAAA0IWBNAAAAAAAAABdGEgDAAAAAAAA0IWBNAAAAAAAAABdGEgDAAAAAAAA0IWBNAAAAAAAAABd\n",
       "GEgDAAAAAAAA0MVw2QcAfB3zlmttrvg6kHytVVf79WZf6xD+zVGrKdYahlms1UNr22hvHHdjrdY2\n",
       "sVZV1TjuR3tps+B7tz+/G2tVVS3D793ecCPaS7q/fSPaOxqPo713hleivcWQvVS8e5hbj1/dza5P\n",
       "1xfZNeX+/mm0d2s317txcBJrVVW9/san0d7h/c+ivfXxXqx18PajWKuqajxcRXu1F97evXU/lhpO\n",
       "s9+J6cPn0d7Zv/yfo739//t/j7WGz7LfiQqv7XW+juam57nja+vsXrut59HexZOb0d77/88PYq3f\n",
       "Pc3uKTZT9p7s4Vl2//n4fBFrPTrLvtYH57n7z6qq1ZTtbVv2UcWvx9/GWsvK7QGqqs4qe+3ZVnb/\n",
       "+Xz1cazVKvu5rjdfRHvjuBPtpZ99JE0tu19s4V617JqSlD6Pr/az1LSX6Tk0fPP8QxoAAAAAAACA\n",
       "LgykAQAAAAAAAOjCQBoAAAAAAACALgykAQAAAAAAAOjCQBoAAAAAAACALgykAQAAAAAAAOjCQBoA\n",
       "AAAAAACALgykAQAAAAAAAOjCQBoAAAAAAACALgykAQAAAAAAAOjCQBoAAAAAAACALgykAQAAAAAA\n",
       "AOjCQBoAAAAAAACALuaXfQDA17EZcq15y7WqssfWo5d8veljy2q1ih7fUMvce9eyp12rKdobKv3R\n",
       "5nrDsIy1qqrG4WpvBXbnN2Ots82zWKuqappvor292Y1oL3keP51l37s729vR3jiL5ups2kZ7F9vc\n",
       "b0Cn8FX7dJN988422TXlRsudx4v5Otaqqvr0k9ejvXurRbS3e+0k1lo/P4i1qqp2X8uun+08uw/Y\n",
       "3rkfa43Lz2Otqqp2/61o7+Cv/pdobzrMXcuGnZ1Yq6qqPT2O9obr2eM7/tmrsdbi2mmsVVW1epFd\n",
       "Ax59+Ea0Nxtza8Bqm70ujkP2wn0WPr57u7lr43svst+J6/Psf2g2Ldv7zeqLaO/ulFsDnowPYq2q\n",
       "qouWXT+3LbsP2Jldj7XOt9nPdRG8n62qmqZVtJd8lrKdsufJ1Ze7T0k/08pLPztOuurPodNenufa\n",
       "/GHyD2kAAAAAAAAAujCQBgAAAAAAAKALA2kAAAAAAAAAujCQBgAAAAAAAKALA2kAAAAAAAAAujCQ\n",
       "BgAAAAAAAKALA2kAAAAAAAAAujCQBgAAAAAAAKALA2kAAAAAAAAAujCQBgAAAAAAAKALA2kAAAAA\n",
       "AAAAujCQBgAAAAAAAKALA2kAAAAAAAAAuphf9gEAl20zXPYRfHvN22UfwVcZahE9vlZTMhc1jnvZ\n",
       "YMu+1mFY5GJtm2tV1dQ20d5ydiPa206rWGs5O4i1qqpayy4Bn63fj/buL34Ua92Ysp/rnVn2O3tj\n",
       "MYv2WqV7Oceb7O9JX9tdR3sfHGe/Z+sp93pfvfl5rNXDYie33lVVLQ7Ocq0bJ7FWVVVN2fVzuJM9\n",
       "72ZPH+RiQ3arPT74JNrbvvOdaG8IXhvbZ8exVlVV+/EfR3vDe+9Fe3tvPIm12iZ7HTv/+F60d/NO\n",
       "dj3+y7//p7HWwSJ7Xfz45DDaWwzZ9fPZRe4+5dXwLdmnp9nXepG+9lR2fd9W7j7voGX37vNhJ9r7\n",
       "bJu970ne07b4s4DserydTqO9YciNBob0PVTLrsfR5zJV1YLr8RB+LlPBz7WqqrXT8LPj5PPUq/1s\n",
       "Ns9zfL7d/EMaAAAAAAAAgC4MpAEAAAAAAADowkAaAAAAAAAAgC4MpAEAAAAAAADowkAaAAAAAAAA\n",
       "gC4MpAEAAAAAAADowkAaAAAAAAAAgC4MpAEAAAAAAADowkAaAAAAAAAAgC4MpAEAAAAAAADowkAa\n",
       "AAAAAAAAgC4MpAEAAAAAAADowkAaAAAAAAAAgC4MpAEAAAAAAADoYrjsAwDgP5m3ZG0IL/GtoocX\n",
       "lX6tNcyyveB7NwyLWOtL2d+mzcbdcG8v1mptG2tVVR0uXo320t+xe8N3Yq0xfZ5U9jv2Zt2O9m4v\n",
       "59HeXjD39v6Ui1XV3jzbO5hvor0f330ca+0vL2Ktqqob119Ee4vlOto7vPNFrHXte5/EWlVVwzy7\n",
       "Ho/3smvU9mFuPR5/lF2f2sH1aG/15g+jvWGT+57t/OwvYq2qqhrDv8efZ68VF3+7E2u1bfa1tinb\n",
       "+/SX3432LlbLWOvTZ3djraqq+Sy73v3bB69Fe+fb3H3Up6fZe7IX6+we5fHmLNpL790fzR7GWmN4\n",
       "rz2E7wWO6rNo7/nq41hratn9WPq9m9oq2ttsj2OtMfwsYJrOo71q2fuUGoJrXsuud63W4Ydk2eeV\n",
       "WZuX6LWmpd87+P/mH9IAAAAAAAAAdGEgDQAAAAAAAEAXBtIAAAAAAAAAdGEgDQAAAAAAAEAXBtIA\n",
       "AAAAAAAAdGEgDQAAAAAAAEAXBtIAAAAAAAAAdGEgDQAAAAAAAEAXBtIAAAAAAAAAdGEgDQAAAAAA\n",
       "AEAXBtIAAAAAAAAAdGEgDQAAAAAAAEAXBtIAAAAAAAAAdDG/7AMALtu8XfYRfHtthmRtqGiuasj+\n",
       "5ih6dC182g3py9k2WhuGZazVWvbYZuNOtDe1TbQ3Bl/vGD5PVtNptLc/vx3tXdR5rLWpi1irquoH\n",
       "0/ejveUsu97thZeU5JJ3bZFdA7bh5fhwnl0DXpzvxVqv3n4aa1VVbbezaO/uaw+ivdnuKtbafHEY\n",
       "a1VV1ThFcztvrqO92TvBXc95dv0cnnwQ7dWbP4zmZke571m7dTPWqqoawp9FHZ1Ec9NmP9Za3Mge\n",
       "28O/+UG0d+eNR9Her36RO49vHxzFWlVVf/vwjWgve+WpWga3UHd3c62qqrNt9v74IHhPVhW+P66q\n",
       "5y23BpwP2fuUo5bdo9wY7kd7J+OTWGu1ze4pqrKb7SF8Tzsbc3vtqYWvs+HnMq2y+88huiJnV5Sh\n",
       "ltETr9UqveQFpZ9rZ5/1Xu3ju8rHdtV5774u/5AGAAAAAAAAoAsDaQAAAAAAAAC6MJAGAAAAAAAA\n",
       "oAsDaQAAAAAAAAC6MJAGAAAAAAAAoAsDaQAAAAAAAAC6MJAGAAAAAAAAoAsDaQAAAAAAAAC6MJAG\n",
       "AAAAAAAAoAsDaQAAAAAAAAC6MJAGAAAAAAAAoAsDaQAAAAAAAAC6MJAGAAAAAAAAoIv5ZR/At9+8\n",
       "5VqbIdeC/79etvMu+Z1NtvJa20Z7Q+VOlVbZt+7Kn8RtiqXGYRlrVVXVEP5t2rSO5pazg1hrGGax\n",
       "VlXVctyP9qplvxer4STWOqhbsVZV1VFbRXsXm+x6t1jtRnu3lrlVatOyK94UvpIN4fV9OdvEWh8/\n",
       "uRdrVVW9e//TaO/FozvR3mv/7B9irdXj7BqwuH0a7U2vvhntje+/n4vdyb53mz/9SbS38xf/R7Q3\n",
       "/fjHsdbw+GmsVVVVs/CeZze7J9t957NYa/M0t3+qqtq/cRTtzZbZ/eI45Pban58exlpVVbd2zqO9\n",
       "R+fZ8261ze0rznOX7KqqemU3u+fZTNl7gU82x9HeZgy/gUE7Q/Z78WT722ivBe+jhqv+363gs4Wq\n",
       "8HOj8P1sWvp5QPKzSD8jSxtqcWUPsNX6ij8SvMrP3a/ysV113ruv64pfZQEAAAAAAAD4tjKQBgAA\n",
       "AAAAAKALA2kAAAAAAAAAujCQBgAAAAAAAKALA2kAAAAAAAAAujCQBgAAAAAAAKALA2kAAAAAAAAA\n",
       "ujCQBgAAAAAAAKALA2kAAAAAAAAAujCQBgAAAAAAAKALA2kAAAAAAAAAujCQBgAAAAAAAKALA2kA\n",
       "AAAAAAAAujCQBgAAAAAAAKCL+WUfwLffZrjsI/j2mrdc62X7HF6m9y75WquGyr3cVuvoe9eu8Gut\n",
       "yr7eoRbR19raKpmrYZhFezUkP4voW1fT9jTam89vRHvjkNuqrKezWKuq6vbs7WjvrI6iveTvDmct\n",
       "+504GrOv9a16JdpbjNn18+2DKdZ6/zi7ff8v7pxEe7d2z6O9p2cHsdafvv5RrPUf2bezntnO887P\n",
       "96rxHfbIPXBzUyIpWpQFuz200+7uIEgDjSQwOofJ9+njfIqc5yhATnIUdBodJ0Fk2ZbVki2KEi1O\n",
       "e5Pc4zu/NaynD5QAObEE0P9Hb1H7uj7AD6uqVj3rWeuuqqpqLfvb3psPv4j2Lj+7G2tN9y9jraqq\n",
       "Ych9J6qq2t5BtFf7y1zrMvveTV88ifaGO9nr9vTxJ8FY9jvWTrfR3uWPs+/d7Eaudfpp9ro4rrPX\n",
       "nkcfvB3tbcfcuXJ0Gfz+V9VHJ9eivf1pdv1MauH94t8dha8VLXsfdXPYj/aeVG4fsK7stedk+zTa\n",
       "G9sm2muVXN+z50mFn8uMlX3voq93CP/vLf1RhLUdPsD088D0edxqFQxmn6Xu/nPyJO8dv3n+IQ0A\n",
       "AAAAAABAFwbSAAAAAAAAAHRhIA0AAAAAAABAFwbSAAAAAAAAAHRhIA0AAAAAAABAFwbSAAAAAAAA\n",
       "AHRhIA0AAAAAAABAFwbSAAAAAAAAAHRhIA0AAAAAAABAFwbSAAAAAAAAAHRhIA0AAAAAAABAFwbS\n",
       "AAAAAAAAAHRhIA0AAAAAAABAF7OrPgBeZZvhqo/g68t791W1Wgffu1nLtaryn+s8fHzB1ztkfw81\n",
       "tPBLrWk2Fzy+NoyxVlXVMGS3AuO4ivZOLj+NtRaz27FWVdVpex7tbds62rs7vBlrjZU97w7aQbT3\n",
       "sl1Ee7fatWjvw5PcmncQ3r0/Pt+L9qZDdj3+zp0vor2k6XQT7W3Cn8Vknju+xd2XsVZV1fSN7Jqy\n",
       "HbJbqPXv/mGsNXv6KNaqqhq//zjaG/7lW9He5PnTXOy1W7lWVdVp8Niqau9Ps9ftOs99Z5cvTmKt\n",
       "qqrjL7N7qNff+iza2/w8eXHMricn60W0d7yeR3vPV7k9ypfZ7Vj8HzTn8XvGbO8guP88Cz9ZuDa9\n",
       "F+2djc+yvfWTWKu17B5lrOx+Mfls4ZdyJ0tr2WcBaa1to70hfL1IauH1Kb3e5Z+nvkqS7535Ar95\n",
       "/iENAAAAAAAAQBcG0gAAAAAAAAB0YSANAAAAAAAAQBcG0gAAAAAAAAB0YSANAAAAAAAAQBcG0gAA\n",
       "AAAAAAB0YSANAAAAAAAAQBcG0gAAAAAAAAB0YSANAAAAAAAAQBcG0gAAAAAAAAB0YSANAAAAAAAA\n",
       "QBcG0gAAAAAAAAB0YSANAAAAAAAAQBcG0gAAAAAAAAB0MbvqAwD41TZDtjdruVb62NKyhzcMud8w\n",
       "tbaNtaqqhvTvq9ommwu+d9WCp3BVTaf70V5rY7Q3n92ItfZmN2OtqqrJkN1GzYe9aO9lPY213tm+\n",
       "G2tVVV0Mq2jvxmQZ7aUX93t7ue/tcpJdAx7sX0R79/bPor0h+GG0MXutuLwMn3fPsmvUjddza0Db\n",
       "TGOtqqrNx9lv2fTib7K9ee74xvfei7WqqiZ/dCfa2x5cj/aGbXAPdX6aa1VVO8uex/XoOJo7ff9h\n",
       "rLV47SjWqqq69trLaO/Tn78V7V2sFrHWyWV2P3Z9nt3zHK3n0d50yO0rjrO3UDWfZK8VF9nblDpq\n",
       "l9HeLPiIdj5k9yjnlV1TJpVdjw/muWvj2Tq3f6qqmg259amqajNm99ot+OxjCJ93bTyP9oYhe96l\n",
       "n2slpZ+RtQovoNHnqcnnvPzjpD+LXX7u/iq91iz/kAYAAAAAAACgCwNpAAAAAAAAALowkAYAAAAA\n",
       "AACgCwNpAAAAAAAAALowkAYAAAAAAACgCwNpAAAAAAAAALowkAYAAAAAAACgCwNpAAAAAAAAALow\n",
       "kAYAAAAAAACgCwNpAAAAAAAAALowkAYAAAAAAACgCwNpAAAAAAAAALowkAYAAAAAAACgi9lVHwDA\n",
       "rzZr2d5myLV2+diqWo3JXA0td3jDkL78hD+KsGFYBGvZ17rdnkZ7i/mdaG+6w+/d0eqzaO/m4s1o\n",
       "L2kMv3c3az/aW7XsejcN/2TzZB1c3ue5VFXV5XYa7T06vRbtDUPu3HsWPrYHN59He4fXsuvx8tZx\n",
       "rDVeJNfiquV3XkZ77TKaq7YKrnlDdHtXw8lJtnd7m+09yl0bxze/GWtVVdX0aTQ33N3L9j7InXfj\n",
       "+TLWqqo6P86un2PwvqKq6s5rufX4kxevxVo9LKfZ7+zHp7n1/d1r2f3iz7PLXS0m2Q3eRbuI9obK\n",
       "fS+OK7vepY2VPY+TWsse2673klp6Qzbs9v/okt/ZtFar8MGln3+me+yG7HPt3fYqvdas3V7ZAQAA\n",
       "AAAAAPjaMpAGAAAAAAAAoAsDaQAAAAAAAAC6MJAGAAAAAAAAoAsDaQAAAAAAAAC6MJAGAAAAAAAA\n",
       "oAsDaQAAAAAAAAC6MJAGAAAAAAAAoAsDaQAAAAAAAAC6MJAGAAAAAAAAoAsDaQAAAAAAAAC6MJAG\n",
       "AAAAAAAAoAsDaQAAAAAAAAC6mF31AQD8apsh25u1XGuXj62DIfgbprbNtapqGBbRXqtNttdWsdYw\n",
       "zGOt/zcYza23J9HeONmLtWaT/Virqura/H60d7E9ivauTe/FWrPwbxgfD8+ivW/W3WjvaD1Ge/f3\n",
       "cu/fcpK9VLxcZ28HvnFwHu29eftprPXJs+x5crCffa0Ht46jvckidy07/sWDWKuqavntF9HecO9G\n",
       "tFdnZ7HU6s43Yq2qqrr3djS3/MGfR3vb3/lOrDU5zp4n9XtvRHPjjx5He5uL3H52cTu7niz3L6K9\n",
       "O3dza3tV1YcfvRVrXWyz18XlNHvf8/n5Mtr75mFuz3O8ye4Xh8rueT7eZteURWXvQU+G3H3UXl2P\n",
       "taqqzir73s2G7HmcvI9azLLv3XbMPQuoqqrsbUptxstscKeFH+Eln5GltR1/vhiVfjYL9LTDKycA\n",
       "AAAAAAAAX2cG0gAAAAAAAAB0YSANAAAAAAAAQBcG0gAAAAAAAAB0YSANAAAAAAAAQBcG0gAAAAAA\n",
       "AAB0YSANAAAAAAAAQBcG0gAAAAAAAAB0YSANAAAAAAAAQBcG0gAAAAAAAAB0YSANAAAAAAAAQBcG\n",
       "0gAAAAAAAAB0YSANAAAAAAAAQBcG0gAAAAAAAAB0MbvqAwD4zdoMudas5Vq7r7VtrDWEfw/VahPt\n",
       "VQVPk6qq2t1TZTLZzwZb9rXOJnvRXtJsWEZ7i+lhtNcq9539ePpprFVV9a3xm9HecppdU946zPbm\n",
       "wSVlbNn16Xybfa2bMdv74uhWrPX6zRexVlXVMOzu2l5VdfboTqw1TMdYq6qqnYffu9cX0dxweRlr\n",
       "LX7+N7FWVdWwya3tVVXjgzeivemjT3Kx1SrXqqr25DzaG7KX7dq/9zzWmt09ibWqqmaPct+Jqqqf\n",
       "ffCtaG9vnjtXvnEje6344NndaG8vvB4/X01jreR+p6rq5iIbfGvM7Smqqj7ZHkV7+y13X7Yast/Z\n",
       "bcv20v+Pmgy5x9vn6+waMIafVSSfy+Tl1pNf2uXXWhV9vW2da1XVEH6m1Xb4mVZe+llv8jn0rvPe\n",
       "8ev5hzQAAAAAAAAAXRhIAwAAAAAAANCFgTQAAAAAAAAAXRhIAwAAAAAAANCFgTQAAAAAAAAAXRhI\n",
       "AwAAAAAAANCFgTQAAAAAAAAAXRhIAwAAAAAAANCFgTQAAAAAAAAAXRhIAwAAAAAAANCFgTQAAAAA\n",
       "AAAAXRhIAwAAAAAAANCFgTQAAAAAAAAAXcyu+gCA3zazlu1thmwveXzZYxtqEX3vWo3JXA2Ve7nx\n",
       "Y2vZ31dNp9eive14EqxlvxLj9izam89uR3ut5b4Wq23yc6iq8Hm8N70V7R1W7rO4s70ba1VVjUP2\n",
       "UnE+bqO9T8+y37Nbi1zv3WvZ8+7e3iraO91kby/GMfferdbZYzu8kV1TLk/3o71b734aa108uRlr\n",
       "VVUN16fRXh0dZ3uT3L5iuMx+x8b7D6K91cPvRnvL9/+XWGu4thdrVVUNd7K98fPLaK+mufX99P03\n",
       "Yq2qqmef3Y/2Htz7Mtp79jy355lOstfZW8uLaO/xxTLaO9/mrrPhG/d6ucruF+/vZe8ZPz/J7ite\n",
       "TF7GWttax1pVVYvhMNo73T6J9k4uP4m1DhYPY62qqpPLX0R700l2v9iG3PdiEv7f29iy63Frm2hv\n",
       "GHL72VbZ9S75/G737fpz6LRdPr5dPjZ2hX9IAwAAAAAAANCFgTQAAAAAAAAAXRhIAwAAAAAAANCF\n",
       "gTQAAAAAAAAAXRhIAwAAAAAAANCFgTQAAAAAAAAAXRhIAwAAAAAAANCFgTQAAAAAAAAAXRhIAwAA\n",
       "AAAAANCFgTQAAAAAAAAAXRhIAwAAAAAAANCFgTQAAAAAAAAAXRhIAwAAAAAAANCFgTQAAAAAAAAA\n",
       "Xcyu+gCA3zab4aqP4Ouq1RjtDeHfHLVaxT7bYVi2VKuH7XgS7U2G/VgrfZ5Mp4fRXvr4xraOtWaT\n",
       "3OdQVbU3uRnttbaN9mbDPNY6nhzHWlVV4dOkDifZ8/jGPHspWwSX48sxe2wfnuxFe//y3rNo78vz\n",
       "3Gd7c/8s1qqqGobspezoeXZNmX92GWvd/KMPY62qqs1ni2hv9jvZ29p2M/tZJG1uvR7tTV88iva2\n",
       "f/hHsdbs/R/FWlVVNc9dF6uqhnl2DZjdOo21zh7djbWqqm7ceRHtrc6y157PXt6Ote5fP4q1qqrO\n",
       "Ntnzbtuy+4A39jex1l88ncZaVVWbMfsd+9lp7r6iqurGZBntPa/c6z1sN2KtqqpPx8+ivemQfe8O\n",
       "Fg9irc14EWtVVS1mufWpqmrbVtFe8LSrsWXfuyE9thjS/8vL3r/vsqGy156WPPF23iz8Ynf5ufur\n",
       "9Fr5qvxDGgAAAAAAAIAuDKQBAAAAAAAA6MJAGgAAAAAAAIAuDKQBAAAAAAAA6MJAGgAAAAAAAIAu\n",
       "DKQBAAAAAAAA6MJAGgAAAAAAAIAuDKQBAAAAAAAA6MJAGgAAAAAAAIAuDKQBAAAAAAAA6MJAGgAA\n",
       "AAAAAIAuDKQBAAAAAAAA6MJAGgAAAAAAAIAuZld9AJAxa9neZsj2+O2UPu+yWo3R3lDznX29rW2j\n",
       "vWFYRHvJz2Ko7PI0DNmtQGvh827I/XZuGLLv3aqdRnsHkzvR3lkdxVrzYS/Wqqq6XbeivfMxuwZs\n",
       "2jTamwZPvYNpdil+OWa/F0erZbT32t55rDWZZNenH73/XrT3z/70L6O9vfvPY63Jt16LtaqqhsdP\n",
       "o72aZs+74Tx33o0/exlrVVW1t38v2lv87D9Ge2f/4r+LtYZ//8NYq6pq+voq2ts+34/2Zr+X238e\n",
       "PM9+x1bPbkR7R0+z+4CbwWvFyUV2z3O0nkd7e9PstWwV3Af8zvVYqqqqHp1l/0OT3t893V5Ee6/V\n",
       "7Vjro+mHsVZV1WJyEO21yu5nN+NlrJU+tgrfv2+32XvQ7POA7Hestex1O/3ZTobc/rNV9n42fd6l\n",
       "ny9mpZ/h7/qMIXl86WMzT+HX8w9pAAAAAAAAALowkAYAAAAAAACgCwNpAAAAAAAAALowkAYAAAAA\n",
       "AACgCwNpAAAAAAAAALowkAYAAAAAAACgCwNpAAAAAAAAALowkAYAAAAAAACgCwNpAAAAAAAAALow\n",
       "kAYAAAAAAACgCwNpAAAAAAAAALowkAYAAAAAAACgCwNpAAAAAAAAALqYXfUBQMZmuOoj4Osiea7M\n",
       "Wq61+1rlXu7Qsm/dMEyjvdZW0d5kmMdaY7uItaqqhraI9lrbRnuzyV6s1doYa1VVTYOfa1XVyfbL\n",
       "aO/W9GGs9XD7RqxVVbWqTbR3GDxPqqperLLn8eU29xvQhwexVBd7s+xnO5/mPov1Jnvr8/brj6O9\n",
       "85fXo73F9bNY6+L/yF6353eyn8X0fvi2dr2Opbb/9b+ItaqqZi+/iPbWf/Zvo739f/c/5GKH2bV4\n",
       "9c/+dbQ3+8aH0V59nltTtmfZ9eTy+DDbWy2jvfk0d+1Zj9n7im/ffB7t/fDp3WjvaJ17vR+fZh/L\n",
       "bML3jBdjdk2Zhv/j83iaW98P62asVVXVhux7t22562xV9n77Yp29J0s/q8g/+8itn5Mh+2xhTJ8n\n",
       "4XvGccw9mxnC60mr7LMP/jHSz453eQbyKr1Wvir/kAYAAAAAAACgCwNpAAAAAAAAALowkAYAAAAA\n",
       "AACgCwNpAAAAAAAAALowkAYAAAAAAACgCwNpAAAAAAAAALowkAYAAAAAAACgCwNpAAAAAAAAALow\n",
       "kAYAAAAAAACgCwNpAAAAAAAAALowkAYAAAAAAACgCwNpAAAAAAAAALowkAYAAAAAAACgCwNpAAAA\n",
       "AAAAALqYXfUBAF/FrOVamyHX4rfZUMFTZdjt024YFtHe2C6CtfB714LLSVVVG7O5yh3fZJjHWlVV\n",
       "6/Ey2ot+x8K9L6ZPYq2qqgfbe9He4Wwa7Z1vs+fx9Xnus9iM2fPk9mIb7S2nm2hvCK4Bi1n22Obz\n",
       "dbR3dnwY7c0+vxNrXX/ns1irqmry+7ejvfGn2TVq8s6tWGv+47+Ktaqq2mn22lP1P2Zzv3gcSw3X\n",
       "s48rFt//D9He6ffvRnsH383tF1dHD2KtqqrpIrvezcLXirHl/mux2mTPux8/z6531+bZ9+52y+0r\n",
       "VmP2vXt6kd3zTIfsf3Kyd4xV85a7t5AfVwAAIABJREFUV1m2ZaxVVfVs+DTaW4+n0d4QfL4wm16L\n",
       "taqqxraK9maT69HeZvMy1mote62o8P17G7OfRfJ5aos+580bwv9pbLUKLvC7/d7l7fJMwIyBX88/\n",
       "pAEAAAAAAADowkAaAAAAAAAAgC4MpAEAAAAAAADowkAaAAAAAAAAgC4MpAEAAAAAAADowkAaAAAA\n",
       "AAAAgC4MpAEAAAAAAADowkAaAAAAAAAAgC4MpAEAAAAAAADowkAaAAAAAAAAgC4MpAEAAAAAAADo\n",
       "wkAaAAAAAAAAgC4MpAEAAAAAAADoYnbVBwB8FZvhqo+AqvznMGvZXtoun3bhY2ubbG/IHd9k2Iu1\n",
       "ehgm82hvOuR6yVZVVatttLc/vRPtnddxrHVzfC3Wqqo6HS6ivaPNItrb5dVuNWaP7t5edr07ulxG\n",
       "e9cWl7HWZDLGWlVVN+49j/aePboX7R0+eBJrbU/3Y62qquEvzqK9+R/ciPbqOLd+bt/9dqxVVTU5\n",
       "z753bZZdPy//q/821lp+8JexVlVVffI4mjv4b7L7gM33D2Kt7WYaa1VVLW+cRnubTfZR1MEyt6/Y\n",
       "bLPv3RjeVTy5yH5nz7e5/6lcZL8SdZm9bNf+JPufnIMh2/tkzL2Bq1rFWlVVyyG3PlVVVXhPNm5z\n",
       "vc32JNaqqppOsnuo7Ta7HlfwPJ4M2fuAsWXvGVt4PR7aIvcML/jMqKqqWngBrfTjyl1//pnkGT78\n",
       "//mHNAAAAAAAAABdGEgDAAAAAAAA0IWBNAAAAAAAAABdGEgDAAAAAAAA0IWBNAAAAAAAAABdGEgD\n",
       "AAAAAAAA0IWBNAAAAAAAAABdGEgDAAAAAAAA0IWBNAAAAAAAAABdGEgDAAAAAAAA0IWBNAAAAAAA\n",
       "AABdGEgDAAAAAAAA0IWBNAAAAAAAAABdGEgDAAAAAAAA0MXsqg8AuGqzlu1thmwvfXy7bNffu2Qu\n",
       "/Huots32hnk2N+Re79jOY62qqunkRrQ3nxxGe2Pws922y1jrl7Ln8SZ8fJOaxlpHkxexVlXV74xv\n",
       "R3uzIbt8Hkyzn+16jOaiLra586Sqam+SfbHHl3ux1nK2jrWqqrar7LViG/4sNufLWOvwzzaxVlVV\n",
       "/f1pNDd+mP3ODv/kQaw1OTmKtaqq2nI/2huXB9He8qffj7VW3/onsVZV1WLM7hfb+0+ivfEytyfb\n",
       "v/My1qqqevFR7jtRVbV/kN3PTi5y154fPn4z1qqqeriffa2PzrNrwGKa+148X2UfMbbo/WfVtXn2\n",
       "WvHz87Nob5jk9rOzlv0sNrWK9saW3S8OwXuB2fRarFVVtR0vor283Hs3jtn1rlV4/xnWKngex598\n",
       "7vrzxfTxJaVf66v03sGv5x/SAAAAAAAAAHRhIA0AAAAAAABAFwbSAAAAAAAAAHRhIA0AAAAAAABA\n",
       "FwbSAAAAAAAAAHRhIA0AAAAAAABAFwbSAAAAAAAAAHRhIA0AAAAAAABAFwbSAAAAAAAAAHRhIA0A\n",
       "AAAAAABAFwbSAAAAAAAAAHRhIA0AAAAAAABAFwbSAAAAAAAAAHQxu+oDAK7aZsj2Zi3bS0u/3qTs\n",
       "ezdU9qW2yh3eEGz9f8VsLXyatNzrnQx7sVZV1XZ7Gu2lLae3grXs7/Dmk/1or9U22rtd34i1bm1v\n",
       "xlpVVS+Gs2hvMh5Ee/eW2XPl9jLXen1vnYtV1TBk1+PlbBPtJc2mY7T3yUe571hV1cM3P4v2Dr/z\n",
       "KNZa/Z/ZNWCyOIz2hn/zXrS3+sYfxVqT0y9jraqq+dOPo73F+z+I9ur4JJZann8v1qqqatevR3u1\n",
       "zV4rlr+b25OdfO9+rFVVtd1kHx2dnmTXgMkkt77/0zc/irWqqr738TvR3pcX02jv9b3cdXsM3+Jd\n",
       "n2Xvyf7m9Cjaa+E91LzmsdbR5HmsVVW1bdn93Xo8j/Zmk0W0lzSbZte71eZptDdUbk0ZK3ueDEPu\n",
       "O1FV1Vr6Pip43oWPbccfzO64V+05Ofxm+Yc0AAAAAAAAAF0YSAMAAAAAAADQhYE0AAAAAAAAAF0Y\n",
       "SAMAAAAAAADQhYE0AAAAAAAAAF0YSAMAAAAAAADQhYE0AAAAAAAAAF0YSAMAAAAAAADQhYE0AAAA\n",
       "AAAAAF0YSAMAAAAAAADQhYE0AAAAAAAAAF0YSAMAAAAAAADQhYE0AAAAAAAAAF3MrvoAeJXNWq61\n",
       "GXIt/nF2/bN4dc67VsGXWlVD5V5ua9tYq6pqCP++qrV1tDdMFslasFU1nexHe8nzpKrqcvMs1tqf\n",
       "3421qqomQ3YbNQmfxy+Gz2OtxZA8h6uut8NobznJvndPL8do7/o8d3yblv2OLYbstaKFj28IHt9y\n",
       "voq1qqquXzuJ9g7uvoj2Xv7NO7HW9Xc/jbWqqrZne9He/G9/GO1N/vwHudYb2dc6PngY7dUq+71Y\n",
       "/em/irUWP/perFVV1faz157xX//TaG/zP78faz364O1Yq6rq5mvZ9elwexrtffb5/Vhrtc3u775x\n",
       "/Sjam4Sv23/1LPe9yB5Z1UX2lrEOKrufvTaZR3sftONYK/0sYDpkX2tVdq/dWvL1Zt+71fpJtDeZ\n",
       "ZPcV2/E81hrCY4bWsudJpXvxVS8p+ezzVZN+73b72fGr5dWZCewy/5AGAAAAAAAAoAsDaQAAAAAA\n",
       "AAC6MJAGAAAAAAAAoAsDaQAAAAAAAAC6MJAGAAAAAAAAoAsDaQAAAAAAAAC6MJAGAAAAAAAAoAsD\n",
       "aQAAAAAAAAC6MJAGAAAAAAAAoAsDaQAAAAAAAAC6MJAGAAAAAAAAoAsDaQAAAAAAAAC6MJAGAAAA\n",
       "AAAAoAsDaQAAAAAAAAC6mF31AfB1MmvZ3mbI9vjttMvnXfrYXh1D+vdQQ3Y5GcKXx9bGXGzY5FpV\n",
       "1cZ1tDeZ7Ed78+n1YC173p2uv4j2bi/ejvbujg9jrfPJeaxVVXV7m/xcq47H7Pfi/mIR7U2DS9RP\n",
       "jua5WFXd38teymaT4HpXVb//4NNYaxo+tuu3j6K95x8/iPZee+ezWGtcZc+76b95K9qrn/xtNDfM\n",
       "c9+L7dvvxlpVVdMPfhLtje+Ej+/4aS4W3t/VX/00mhsuptHe9vJWrPXGt38Ra1VVHX1+N9pbh9eU\n",
       "9Ta3d09fKz4/ze55Xqyye5Tk1+w4e1tRT1fZ/d1syN4LpP/hM63cmjKvvVirqmqo7Hq8mpxEe9uW\n",
       "O/k229NYq6pqMc+un6vNs2gvaRiya3tr2XvQYciun2O7jLWGIbunqLbN9nbaLj837mGXn0Xv+nu3\n",
       "68f3avAPaQAAAAAAAAC6MJAGAAAAAAAAoAsDaQAAAAAAAAC6MJAGAAAAAAAAoAsDaQAAAAAAAAC6\n",
       "MJAGAAAAAAAAoAsDaQAAAAAAAAC6MJAGAAAAAAAAoAsDaQAAAAAAAAC6MJAGAAAAAAAAoAsDaQAA\n",
       "AAAAAAC6MJAGAAAAAAAAoAsDaQAAAAAAAAC6GK76AAB+tVm76iMgb0j/HmrI9oZhFu1FtexXYjLZ\n",
       "i/aGYRrttTbGWovZjVirqupwdi/au1PfiPZeDl/GWrfa/VirquqwHUZ7b0yvR3sP93f3N5vvHG6j\n",
       "vaer7Hf2j28fR3u3lhex1hu3nsdaVVVfHt2M9v74938U7d187+NYa/PyWqxVVbX85pNor/7kvWiu\n",
       "TXJrwBC+bq/vZK8V8ye586Sqqk1ze6jJUfY7W588jubaSTRXLbgen3+cvW5Xyz462lwuor2//us/\n",
       "iLWeXRzEWlVVF5vsfcVpuPfZ+TLWOl5nz5OzTTRXPz45j/aOh9No72jyMtaaVvY8OWqfR3ur8Sza\n",
       "Gyt3slxsXsRaVVXjuIr2tuH3Lvo8oGXvU8aWuw/oIvisIj2iaZU8tqqqTfQAh1rENsitVjs+30o/\n",
       "105+Frt8bPy22t2nbQAAAAAAAAB8rRlIAwAAAAAAANCFgTQAAAAAAAAAXRhIAwAAAAAAANCFgTQA\n",
       "AAAAAAAAXRhIAwAAAAAAANCFgTQAAAAAAAAAXRhIAwAAAAAAANCFgTQAAAAAAAAAXRhIAwAAAAAA\n",
       "ANCFgTQAAAAAAAAAXRhIAwAAAAAAANCFgTQAAAAAAAAAXcyu+gDg1TBrV30E/7DNcNVH8JuVfL3Z\n",
       "z3UYpslctXYZ/WyHmsdeb6sxlaqqqiF9OWvhr+yQ+ygmk71Yq6qqVfa1TodFtDfWJtZq4c910y6j\n",
       "vePJ82hvv27EWjfGXKsqf94dTrO/sXy+yh7f/b3cGrBp2cv2f3H/abT38jK7Rk2G3GexmK1jraqq\n",
       "d15/FO2tL5bR3vQgu0YlDYvsd2z44nG01z47irWG2/NYq6pqujyI9iaPPo32Nu+8l4uN4f3i669F\n",
       "e+3Fi2hve5pbP5/84mGsVVV1eOMk2js9uhbtTSe5c+XG4iLWqqpaj9nv7Mkme9/zxUVuX/FwP/ud\n",
       "/eg0u+c5mGTfu2E8jPa2bRtrnQ9nsVZVfu++Dd9HbcZcbz7JfmfPt8fR3iR9vz1mz5WkYcjuocYx\n",
       "u74PQ3BNCX7/q6qGSj/qzT0PrMo/E8za5Wf4aa/aTIBd4B/SAAAAAAAAAHRhIA0AAAAAAABAFwbS\n",
       "AAAAAAAAAHRhIA0AAAAAAABAFwbSAAAAAAAAAHRhIA0AAAAAAABAFwbSAAAAAAAAAHRhIA0AAAAA\n",
       "AABAFwbSAAAAAAAAAHRhIA0AAAAAAABAFwbSAAAAAAAAAHRhIA0AAAAAAABAFwbSAAAAAAAAAHRh\n",
       "IA0AAAAAAABAF7OrPgDgq9gMV30E5LV2Gf5cZy3byx3eEGz90jabG5bRXBsvYq3tsIm1qqqGIbsV\n",
       "2LZptJc0Cb/W+bAX7S0q27uo41jrfLgea1VV3WrZ3qPL3Hesqur+IrsGzIJL3sE0u959enot2rs5\n",
       "X0V7x6vcZ3Fyvh9rVVW9de9ptHd5ll0DXv74nVjrxu9+FGtVVQ372d9Fj/fuR3uTIfelXX/ru7FW\n",
       "VVVbHkR769/9w2ivtrk1av3O78VaVVXzf//vor3Jt29He9s/z+2h3vyTv4u1qqqe/uTtaG82z+5n\n",
       "94LXnsvNPNaqqvrpUfY6eyv83t1Z5m4ZTzbZtf1udjtW01X2XuB8lf0stsF72lbZRwH7w81o77ye\n",
       "R3uTIfe9beFnC7NJdg3YjufR3jAscrGWfe9aW0d7cW3MpWq9088D08/wkr3wg8+vgeRna76wO9LP\n",
       "8Hf3s/UPaQAAAAAAAAC6MJAGAAAAAAAAoAsDaQAAAAAAAAC6MJAGAAAAAAAAoAsDaQAAAAAAAAC6\n",
       "MJAGAAAAAAAAoAsDaQAAAAAAAAC6MJAGAAAAAAAAoAsDaQAAAAAAAAC6MJAGAAAAAAAAoAsDaQAA\n",
       "AAAAAAC6MJAGAAAAAAAAoAsDaQAAAAAAAAC6mF31AQBfxaxd9RH8wzbDVR8BfbQaY62hwqdJ+BvR\n",
       "6jIbHHKvdza9FWtVVW23x9Hecnoz2lttT2KtyZDd9qzGs2hvPt2L9lbtNNZa1CLWqqpq4S/t/mQe\n",
       "7R3OsmvU81Wu9WA/e2wvLrKf7d50G+29dfNFrHW5yZ4n68vse3d4M7feVVUtb+TWgPF8GWtVVU2v\n",
       "T6O94QcfRHt1N7cezz/6aaxVVVUtu35uHr4d7U2ff5GLffhZrlVVwzfuRHv15bNobvkw1zr/xeu5\n",
       "WFVVy157JpPcfUVV1d4id6H9xYvsefKdG9m1/fPz/Wjv9b11rPXpWfY6e77Nnnfn2+x592KSvY/a\n",
       "Drk9VPp+e1XZ+5696Y1ob9s2sdbl9ijWqqoahux/wZLPZaqy58pYuc+hqmoYsnvtauHnPFG7/Jw3\n",
       "f/+efXacfu881/7qdvs83u3PdpePLcs/pAEAAAAAAADowkAaAAAAAAAAgC4MpAEAAAAAAADowkAa\n",
       "AAAAAAAAgC4MpAEAAAAAAADowkAaAAAAAAAAgC4MpAEAAAAAAADowkAaAAAAAAAAgC4MpAEAAAAA\n",
       "AADowkAaAAAAAAAAgC4MpAEAAAAAAADowkAaAAAAAAAAgC4MpAEAAAAAAADowkAaAAAAAAAAgC5m\n",
       "V30A8GrYDFd9BP+wWbvqI/jVdvm9e7UMFfwohnmuVVXVNtle2BC83Lbwa51M9qK9y83zaG82PYy1\n",
       "1uNprFVVNZ/djfbSvxO8ObwRax3XcaxVVXXYsu/d+ZheA7Jb5DF4pb3cZs+TG/NttHdn7yLaO10t\n",
       "Y60be2exVlXVl0/uRHvvPfwi2ttcLGKt6WX6up097+q93HpXVVVPnuRam+z61G7eivYmq/Nob7ye\n",
       "O77xP3871qqqmn3v/4726o3wPuBl7rybHWY/1+sPgt+Jqjp+nH3vTi9y+9m7+9n94qOT69He/f3s\n",
       "Z/uXT2/EWmfh7Vj6QcC2ZR99zFp2v3h7zH0WH08/jbWqqqbhvfH5mD2Pt20da03Dzyq2tYr25tPc\n",
       "eVJVtdp8GWtNhv1Yq6qqVXi/OIRXlfCa8mpJPov23Hh3+Cz49fxDGgAAAAAAAIAuDKQBAAAAAAAA\n",
       "6MJAGgAAAAAAAIAuDKQBAAAAAAAA6MJAGgAAAAAAAIAuDKQBAAAAAAAA6MJAGgAAAAAAAIAuDKQB\n",
       "AAAAAAAA6MJAGgAAAAAAAIAuDKQBAAAAAAAA6MJAGgAAAAAAAIAuDKQBAAAAAAAA6MJAGgAAAAAA\n",
       "AIAuZld9ALCbZi3b2wzZXvL40sfGVzUMy+h519o2masakr9hyh5bqzHam9Qy2mvB1zu2i1irqmqo\n",
       "abQ3mWTfu6T55DDaW4/n0d5ichDtrZPbvPCVYqzsZfb+fC/aC28Cahn8mp1ssr8nvb3YRHtHq0W0\n",
       "9927z2Otz49vxlpVVe/c/SLae/yzt6K9+299Fmstv3sSa1VVXXzvRrRXdRmtLd/LfS+GRXbPM3yZ\n",
       "Pe/qtdeyvf3ctWz2H/6vWKuqangje96Nf/ss2wuun7Nr2T3KL77/+9HeweFZtDe23LVxPWb3xgfz\n",
       "7HX2f398O9o7Cx7ePPyXl+wdXtXzMXsftajsnuflkLvWXtRxrFVVNbbsebycXI/2Tja5a+Nq8zLW\n",
       "qqqaDNnzZL3N7Y2rqqaTa9Fe0hi+305rtQreJaefQ2cN4QcCLX7Hvct2fcawy7x3v438QxoAAAAA\n",
       "AACALgykAQAAAAAAAOjCQBoAAAAAAACALgykAQAAAAAAAOjCQBoAAAAAAACALgykAQAAAAAAAOjC\n",
       "QBoAAAAAAACALgykAQAAAAAAAOjCQBoAAAAAAACALgykAQAAAAAAAOjCQBoAAAAAAACALgykAQAA\n",
       "AAAAAOjCQBoAAAAAAACALoarPgDgq5i1qz6C35zNDq9Tu/45ZN+7YVjGXm9r21SqqqqGYRbuLaK9\n",
       "1i5jrWFYxlpVVZNhHu0N8V7ut3PL6fVYq6rqYHY32hvC27L9uhlrvTbeibWqqm7VQbS3bmO09wc3\n",
       "9qK95NHdW2Zf6+Es23v3+nG0d7nNre///N0PYq2qqr3982jv2p0X0d52k3vvDu49j7Wqqqb//bvZ\n",
       "3l//ZbS3+c/+eaw1/+insVZVVVtk9yjbe29Ge7OPct+z1Xf/JNaqqpp/9HfRXvvR59FechvQVtNc\n",
       "rKouv7gd7X38o/eiveVyFWv9xc+/HWtVVb22dxbt/ehZdv/5+CJ3rfjkNLuXTd9sr8ds8fNV7h6v\n",
       "qmpduXvkx9NHsVZV1XkdRXtH68+ivWnwHnQMP6tYj9k1YDteRHutbYKt3Fr8y2D2s6jws4oKfmer\n",
       "7fjjxbAWvUNOPzd+tZ71wm+af0gDAAAAAAAA0IWBNAAAAAAAAABdGEgDAAAAAAAA0IWBNAAAAAAA\n",
       "AABdGEgDAAAAAAAA0IWBNAAAAAAAAABdGEgDAAAAAAAA0IWBNAAAAAAAAABdGEgDAAAAAAAA0IWB\n",
       "NAAAAAAAAABdGEgDAAAAAAAA0IWBNAAAAAAAAABdGEgDAAAAAAAA0IWBNAAAAAAAAABdzK76AICv\n",
       "YjNc9RH85szaVR/B19fuvndD7fYp3MbzaG+YLHOt8HvX2ibam072or3Z5CDWGts21qqquti+iPYm\n",
       "wzzaO5zcjrUuh8tYq6rqZMxuQd+Y5c6TqqoXq2iu9qa51tE6+3vS/Wn2UtHCa9SDa8ex1tl5eH2a\n",
       "raO9cRs8UapqMhljreUfZ9eA+uFfRXOX/+rPor3FB7njO/uT7LEd/MX/Gu3NfvyDaK+9divWmn/4\n",
       "H2Otqqr6+ZfR3OTBItobv8ytKW2Tvc5uznN72aqq23efRXtPPr8Xa91aZu8Dnl/sR3vXZtm9+2zI\n",
       "nSsPsi+1LrJb93r/OPvenQzhe8bgHmpVZ7FWVdU6fH+8N81dK6qqJkNuf3yy/iLWqqoaW3a/WOF7\n",
       "2ujzhfD9bKvwI63ws48acu9dq9y+vapqGLL3FS183r1advkZ/u4+N/6lXX7v+Kr8QxoAAAAAAACA\n",
       "LgykAQAAAAAAAOjCQBoAAAAAAACALgykAQAAAAAAAOjCQBoAAAAAAACALgykAQAAAAAAAOjCQBoA\n",
       "AAAAAACALgykAQAAAAAAAOjCQBoAAAAAAACALgykAQAAAAAAAOjCQBoAAAAAAACALgykAQAAAAAA\n",
       "AOjCQBoAAAAAAACALmZXfQDAVZu1bG8zZHtpyePLvnfDrv9GqAVf7pB+rdnTeJjsR3vVtrlUbWKt\n",
       "qqrJZC/aa+HPYttWsdb+7HasVVV1a/Iw2nu6/ftob12XsdaysufJ7fB5dzgLrynhK9mdZe57MQ0f\n",
       "25jN1Wo7jfbmk9z6ebFaxlpVVfvri2hv3GTfu71bx7HW+iexVFVVze5nz7zl3/4/0V69PIqlDv63\n",
       "/ynWqqpqb74Z7V3+4X8Z7S0//EEu9vcf51pV8bV981E2uHn+WrSX1MJr+2Y1j/aOzw9irb1Zdq99\n",
       "us7ujWeT7Po5n+SO79kq+5348iL73i0m2f3icruI9lbDOtbar5uxVlXVdJJ9rdvK3eNVVR1tPo+1\n",
       "xpZdA6LPUapqbLl7vKqqYciNBobKXivG4HOUqqohvRH4T+zbya5l6Znf5/fb3dmnixNt9pnsu2os\n",
       "V7EkFizItuSJ4IEHnvgaPPct+E6kgQYCNJAESB4IsKmyWTZVRVpFgsUimclsIjOjjzjtbtbyIMuA\n",
       "IECUQP0/np2M57mAH9baq/vWes8J9tLbNoZ/u7zd/Ta7+9+1k16mfWVX7Pj0AwAAAAAAAIDPKwNp\n",
       "AAAAAAAAALowkAYAAAAAAACgCwNpAAAAAAAAALowkAYAAAAAAACgCwNpAAAAAAAAALowkAYAAAAA\n",
       "AACgCwNpAAAAAAAAALowkAYAAAAAAACgCwNpAAAAAAAAALowkAYAAAAAAACgCwNpAAAAAAAAALow\n",
       "kAYAAAAAAACgCwNpAAAAAAAAALqYXfcGANdt0657C361Xd++nLGG696EX6kF/4ZpHLexVlVVa9No\n",
       "bxjOo73JZBlrtfCjexw30d4wZC/ZyTS3v9OW/e0eb9+L9haTo2jv7vBqrDUdw9fYZIz2Prq6ivb+\n",
       "i5O9aO/GfHfv74fT7P347v5ZtPf44jDW+sL+g1irqqqFVyjTxTrae/L+a7HWq/eexlpVVW2e/fHG\n",
       "jx9He/Xm3Vhq+/oXY62qqumnH0R7bZs979b/+5NYa/533oq1qqrqp+9Hc9N7q2zv5qNYa/XLW7FW\n",
       "VdWLRzejvSdPsr39RW4dcP/5SaxVVXWxya4/P73MrlGSxuzyrmbhB+2TbXa9uA2/vyfX2/vjfqxV\n",
       "VfVw+EW0d7V9Hu3NJrn9Hcbsc3HS5tFehd8ZhzF3XcS/o7Ts/W6s8E0qeK7Ety0u/W12Ftzhl+e7\n",
       "Mfw28B/SAAAAAAAAAHRhIA0AAAAAAABAFwbSAAAAAAAAAHRhIA0AAAAAAABAFwbSAAAAAAAAAHRh\n",
       "IA0AAAAAAABAFwbSAAAAAAAAAHRhIA0AAAAAAABAFwbSAAAAAAAAAHRhIA0AAAAAAABAFwbSAAAA\n",
       "AAAAAHRhIA0AAAAAAABAFwbSAAAAAAAAAHQxu+4NAPjVZuN1b8HnVat23ZvwudXaNNobxyEXa9tc\n",
       "q6pam0d708letDdpuaXK5fZ5rFVVNZ8cRHt77SjaO6/zWGsz2cRaVVVHQ/Y8OZ5mz+NHV9FcnW1y\n",
       "95Rbi1iqqqpeXa6ivY/PjqO9Vw7OYq2HL27EWlVV2yH7t713orWq1//2D2Oti3dfi7WqqtrsQbQ3\n",
       "/UL2wtjeeyPWmj7N7mu7vIz29n78p9He5n/4ei72ve/nWlXVbi+jvZpk7wGr/ze35hmH7HvA8d0n\n",
       "0d5imX3QPn6Qu4MuZ9k1z6393Hqsquonz7PrxVXwNWUR/peXzZj9FLCu7LG90bL3lEf1ItbahPc1\n",
       "bTm7Ge0l37fnk+w1th2yz+30+3YNuessvDSuSn5H6aAFj8U4nIY/4KW/paZ7m+D+7vp34+S+Vu3+\n",
       "/ialfzt2gf+QBgAAAAAAAKALA2kAAAAAAAAAujCQBgAAAAAAAKALA2kAAAAAAAAAujCQBgAAAAAA\n",
       "AKALA2kAAAAAAAAAujCQBgAAAAAAAKALA2kAAAAAAAAAujCQBgAAAAAAAKALA2kAAAAAAAAAujCQ\n",
       "BgAAAAAAAKALA2kAAAAAAAAAujCQBgAAAAAAAKCL2XVvAMBv1qblWrMx18obK7t5reX+hqmN4b+H\n",
       "GsOHIrivn9kGW9lH96Rle61No7319jzWOpjfibWqqiaV3ddFLaO9Z+1BrLWo/VirqupiXEd7023w\n",
       "1l5V0/B18fZBbvuO50OsVVX1y/O9aO+tg6tor7Xc/X0+Td6Lq1659zDae3L/lWhvu5rHWkdvfxJr\n",
       "VVVNbmePxfaLX432Jg/vx1rt9CzWqqoaH+Wei1VVwx/+frQ3++Dnsdbw+9nj2j78INrbvpt9ltU0\n",
       "t/5cPTyKtaqqHn+UvT8l7+1VVVfrRaz1+smTWKuq6kefvB7tvb6/ivY+usj9dvcvYqmqqrrcZtc8\n",
       "hy275rkcN9ne5DLWOmvPYq2qqr1J9p5yNZxGe9lvH9n70xB+72nh7wHDkDvv0t+gqrL3gLRxyN0D\n",
       "Wi3CP142lz+2u/09NWuX9zXauAuEAAAgAElEQVT5jbyH9G+36/v7cvAf0gAAAAAAAAB0YSANAAAA\n",
       "AAAAQBcG0gAAAAAAAAB0YSANAAAAAAAAQBcG0gAAAAAAAAB0YSANAAAAAAAAQBcG0gAAAAAAAAB0\n",
       "YSANAAAAAAAAQBcG0gAAAAAAAAB0YSANAAAAAAAAQBcG0gAAAAAAAAB0YSANAAAAAAAAQBcG0gAA\n",
       "AAAAAAB0YSANAAAAAAAAQBez694A2E2zMdvbtGxvl6V/u7Tk9qWP667/dknhXW3pv69KH4rcqTJp\n",
       "i1irqmqzPY32WssuLfZmN2KtMX5cs67qLNo7rjux1sFwEGtVVa3bJtpbTvajvashe648W+fuUWP4\n",
       "70nv7WWPxc3FKtrbDrn9PV5exFpVVY8e3Y72vviNn0V7Y/C3W3wze1wreE1UVdW/+nG2d2MdSw2/\n",
       "85VYq6pqcvbzaG84OI72Jg+exFrjvVdjraqq4X72PJ4cDtHe+nHuWBy880msVVW1uPki2vvRn3w7\n",
       "2jvYv4y1/vz9L8RaVVWL6Tbae3aeXWtvgkueo3muVVV1uc0+K06zl2wtw+89y3EZa71oj2KtHvYm\n",
       "R9HetnLr2e14FWt9Jruv6/D7e7Xct4oWft2Ov7+P4ZtA8DvPWOlt23Uv03fyXbbr8w/nyW8j/yEN\n",
       "AAAAAAAAQBcG0gAAAAAAAAB0YSANAAAAAAAAQBcG0gAAAAAAAAB0YSANAAAAAAAAQBcG0gAAAAAA\n",
       "AAB0YSANAAAAAAAAQBcG0gAAAAAAAAB0YSANAAAAAAAAQBcG0gAAAAAAAAB0YSANAAAAAAAAQBcG\n",
       "0gAAAAAAAAB0YSANAAAAAAAAQBez694A2E2bdt1b8PmV/u1mY7LWKrd50Q2rqhb+G6GxhmivxvQe\n",
       "J2VPu9ayj8dxXMdaw7iKtaqqJm0R7W22L6K9/dmtWOti8yTWqqo62Xsj2rscs7/dZTuLtTaT3Dlc\n",
       "VfX18Z1o73LI3u/eWM6jvcttrnUre8nWEL5/DmO2N5vkfrzFPHseHx9nr9nJfLOzveHj7G9X0+ya\n",
       "Yvq7N6O9uriMpdr778VaVVXrb/9xtDe7/260V2+9FktNP/4o1qqqGsLnXbu9l+19lHuWnX/wSqxV\n",
       "VTUN358OlrlrrKpqf3kRa90OtqqqPjg9jvaW0+yaZ9Jy18VfPZ/GWlVVLfxl4bVF9pp9ts5eF5eV\n",
       "uy7mtYy1qqo2lX0HvRieRntj8FvFZriKtaqqVuF30OnkINqLfthq2XtAjcGXqKr89gV/vBZ+h0ob\n",
       "419As996Xy7J7+67/Q3ffOa3k/+QBgAAAAAAAKALA2kAAAAAAAAAujCQBgAAAAAAAKALA2kAAAAA\n",
       "AAAAujCQBgAAAAAAAKALA2kAAAAAAAAAujCQBgAAAAAAAKALA2kAAAAAAAAAujCQBgAAAAAAAKAL\n",
       "A2kAAAAAAAAAujCQBgAAAAAAAKALA2kAAAAAAAAAujCQBgAAAAAAAKALA2kAAAAAAAAAuphd9wYA\n",
       "/GqblqyNyVjNormxhmSug+TuRg9r3pg9U5L721r40T1mz7u92d1obzNcxVqH81diraqqVV1Ee/O2\n",
       "jPZmtYi1luN+rFVVtQ6fd6fjKto732avszf3cveA5TT72x3NNtHejb3LaO/pVe7c+727j2OtqqrL\n",
       "8+w1e/X8KNrbv/s01hrX01irqmr7NPvbTb/zRrb3s5/EWuPr2W2bnD2L9oYffBrtTb9xIxe7yq0B\n",
       "qqombwe3rarq6fNork33Yq1PfvFWrFVV9dqX34/2fvpJ9rq4d/gi1lrO1rFWVdWkZd8r0s/t985y\n",
       "9+P9WfYd7/k6u+Y5D68/PxyfRHt7lbsHLMbce0BV1cUkd41VVW2H7No9+b49jttYq6pqOsmueYYh\n",
       "u9ZulVvjDWP2ud3aPNobw79d9rtW9v451ir80S37/TP7rTe9bWnZ79q77WXaV35d/kMaAAAAAAAA\n",
       "gC4MpAEAAAAAAADowkAaAAAAAAAAgC4MpAEAAAAAAADowkAaAAAAAAAAgC4MpAEAAAAAAADowkAa\n",
       "AAAAAAAAgC4MpAEAAAAAAADowkAaAAAAAAAAgC4MpAEAAAAAAADowkAaAAAAAAAAgC4MpAEAAAAA\n",
       "AADowkAaAAAAAAAAgC5m170BAL9ZszFVatVSqaqqGmudDQb3NW2sIdqb1DzaG2sT7bWW275xzG5b\n",
       "urcZzqK9VtNYawjv6zBdR3uLyVG0t225/T2s7LZ92p5Ge7+zeCXaO99so72rbe483ozZR8XxPHse\n",
       "r4P7WlV1e3kea73/wRuxVlXVXvi3u/flD6K904/vxFrL1x/FWlVV89deRHvj6iLaq8Ui17rKbtv2\n",
       "ja9Ee7M/XkV766Pbsdbs0f1Yq6qqPXwQ7a3eO8z2nuaetYfH2fXY+nwZ7f3X3/nTaO/Dn78Ta/34\n",
       "4zdjraqqMfzcfrHOfsZbDeFX0KB7e9n/ofnkMru+m4ffQVctdz9+3D6OtaqqZrUX7e3PbkZ7V9vc\n",
       "Pa+17Hm33V5Ge1XZzzzjmL0uosbsd6MKH9sac8ci/Y2s1Tx6oozh8y77vXKz499Sd/fbbP6349eX\n",
       "Pk9299j6D2kAAAAAAAAAujCQBgAAAAAAAKALA2kAAAAAAAAAujCQBgAAAAAAAKALA2kAAAAAAAAA\n",
       "ujCQBgAAAAAAAKALA2kAAAAAAAAAujCQBgAAAAAAAKALA2kAAAAAAAAAujCQBgAAAAAAAKALA2kA\n",
       "AAAAAAAAujCQBgAAAAAAAKALA2kAAAAAAAAAuphd9wYA/GZtWq41H3Otl03yOFSN4yR7LFp08yr5\n",
       "91/jeBVrVVVNJofRXvpv3VrL9WaTvVirqmo+2Y/2tuM62pu2eax1MBzEWlVVy/ASdKzsLWBvmj2P\n",
       "h+DmPV9nt+1skz0Wd/fPor1fvjiJtb4228RaVVVf/uovor3FzdNob7rMPS/GTfje/rU3or3Ju+9G\n",
       "e9uvfyvWGqfh+90/+LNor/29G9He/M//71hr/e0/jrWqqmZ/+X60t3ryerS3fONRrDWss+fdxbOj\n",
       "aO/yLLuuWG9z+zttQ6xVVeEVStXzzTTaOw0+GtNvUM/W2V/v3l72t3t4nr3O5mOu98nkMtaqqmrh\n",
       "d7yrbXa9uBly+zubLGOtqqoh/L69DX8PGMdVrDWb5tbtVVWb7bNor8XfQXPv761l70/juI32Xi7Z\n",
       "75Xwn2bXz7tZbFHmP6QBAAAAAAAA6MJAGgAAAAAAAIAuDKQBAAAAAAAA6MJAGgAAAAAAAIAuDKQB\n",
       "AAAAAAAA6MJAGgAAAAAAAIAuDKQBAAAAAAAA6MJAGgAAAAAAAIAuDKQBAAAAAAAA6MJAGgAAAAAA\n",
       "AIAuDKQBAAAAAAAA6MJAGgAAAAAAAIAuDKQBAAAAAAAA6MJAGgAAAAAAAIAu2nVvAHDdZmO2t3Ff\n",
       "+bWlj0VWa9NcbMzuapssor1xWEV7k+lRrDUOV7FWVVVrs2hvMbsV7c0me7HWWNnzbtrm0d696Vej\n",
       "vVvb3LE4n5zHWlVVt4aTaG8aXtK+tb+M9pJb99XjIVir2ptkr4tv3nwa7SX9wVd/Gu0N2+zf9h7d\n",
       "eh7tHb7xINa6fHgz1qqqOvrKh9HeZH8T7bWbuWfj5pu/H2tVVU0uz6K9y7/xP0V7y+//w1zs++/l\n",
       "WlU1rLJrnulJdk22eXQQa83uZp/bv/wX3472Tk9za+OqqvOr3HP7yflhrFVV9SS4bVVVDy+zvUnL\n",
       "rQP+1cfZd7I7e9n13f2LbbT38XAa7Z233HV70bLPinnl3smqqj7Z/mW0l3zPW22zx3Ucs+fdNvw9\n",
       "YBguor2k9Pv7OGa/87Tg//mNlX3HS3+bbTWPHoyx1jv87Xi3v8367s7nnf+QBgAAAAAAAKALA2kA\n",
       "AAAAAAAAujCQBgAAAAAAAKALA2kAAAAAAAAAujCQBgAAAAAAAKALA2kAAAAAAAAAujCQBgAAAAAA\n",
       "AKALA2kAAAAAAAAAujCQBgAAAAAAAKALA2kAAAAAAAAAujCQBgAAAAAAAKALA2kAAAAAAAAAujCQ\n",
       "BgAAAAAAAKCL2XVvAOym2ZjtbVq2xy5otYieJ2MNyVy12t3TLr2vNayyvZZ9PA7DZazVWvpvydLn\n",
       "Sba3Ga6Ctey2HS7uRXsPtj+P9s6nt2Ote8ObsVZV1fN2Gu19ZXYn2nu62kZ7Xzmaxlo35tltS/v4\n",
       "/DDae/voRaz17OlJrFVVtbeXvD9VzZbZ3vx27rdrk/DSeMzej9s7uftdVdXmrS/HWqvXfzfWqqra\n",
       "/zf/LNo7+Mf/a7RXi9waavN3/yDWqqqafPf70d72yX60Nz25iLXG89xzp6rq6NbzaG++t472Ng/u\n",
       "xlqn60WsVVX19Gov2rvaZt8FTje53qvL8L09/JoSfpLVzcreA87qLNpLelGPrnsTfqVt8HvAtGXv\n",
       "AdsKf6sIn8mT6UGsNQ7Ze/s45p6LVVUt/n95yWOR/m6c/a49xu+g6e/uu8xMAP5d/kMaAAAAAAAA\n",
       "gC4MpAEAAAAAAADowkAaAAAAAAAAgC4MpAEAAAAAAADowkAaAAAAAAAAgC4MpAEAAAAAAADowkAa\n",
       "AAAAAAAAgC4MpAEAAAAAAADowkAaAAAAAAAAgC4MpAEAAAAAAADowkAaAAAAAAAAgC4MpAEAAAAA\n",
       "AADowkAaAAAAAAAAgC4MpAEAAAAAAADoYnbdGwC7adOuewvoZTamSmOtwudJbts+k928cdzGWq2l\n",
       "Hz/hn65y+1pV1do8Fxuz+zrUKtpbbR5HeweL12KtYRxiraqq1XAW7e1PT6K9MXhdTGsaa1VVnbXs\n",
       "b3d/fR7tfXX/KNp7GrzMfnEavJ9U1ZsHm2jvKPwo25vltu/0cj/Wqqo6v1pGe2/d+Mtob9zkrttx\n",
       "yK4p2jR7Px4PDqO96ZNPY61F+Lk9Ht6I9q6++Z1ob/m9/y3Wmn3w81irqmr8Rm5NUVU1/cX9aG99\n",
       "/zjWmu5fxVpVVXtH2efsi8fZNc/j09xvd2c/u0Z5eJl9Vpxvs/9XcmOee+95cJXdtnfPsu9kl0O4\n",
       "N4bXUGNu/fl8+jDWqsq/90yS78dVNWm5dcXF+kGsVVU1mx5Ee9FvC1U1DBex1hi+JuJa+v/ycmu8\n",
       "Ns6jC8ax1jv+vTL53T29bbsuub/mH/zm+Q9pAAAAAAAAALowkAYAAAAAAACgCwNpAAAAAAAAALow\n",
       "kAYAAAAAAACgCwNpAAAAAAAAALowkAYAAAAAAACgCwNpAAAAAAAAALowkAYAAAAAAACgCwNpAAAA\n",
       "AAAAALowkAYAAAAAAACgCwNpAAAAAAAAALowkAYAAAAAAACgCwNpAAAAAAAAALqYXfcG8DKbjbnW\n",
       "puVaL5uX7bdL7m/yHK5KH4sxvH2TthdrjbWJtT4LDtlem0dz47iOtaaTo1jrs95+tDeM2WM7Vu40\n",
       "HoLHoUdvDJ/Hs+A1u2qrWKuq6ng8jva+uJe9Lp6sttHel4+msdbbB9lr7PZe9thOW/bReLrKncf7\n",
       "86tYq6pqO2b/tnf14jDau3x8Emsdvvkg1qqqGq6yz9nJX3yQ7b1zI9Zqh9n7XVtnz+PFP//n0d76\n",
       "7/7tWGv68KNYq6pq/H/ei/baPPsaNW5z95TN8+z95PThrWhv/+g825vnnmXvPcvu63rIPiuOZtk1\n",
       "ys9Pc/fjZ9klRb22zK2fqqp+dpZdu69a+F0g+N6TNmnZz8fr4SLamwbf32fT7P1zDL8ftwp/wmu5\n",
       "6yz53aOqqoXHFuOYvUm1toi1xkr/dvPoDWWsdfjES39P3WW7/e0YftP8hzQAAAAAAAAAXRhIAwAA\n",
       "AAAAANCFgTQAAAAAAAAAXRhIAwAAAAAAANCFgTQAAAAAAAAAXRhIAwAAAAAAANCFgTQAAAAAAAAA\n",
       "XRhIAwAAAAAAANCFgTQAAAAAAAAAXRhIAwAAAAAAANCFgTQAAAAAAAAAXRhIAwAAAAAAANCFgTQA\n",
       "AAAAAAAAXcyuewN4mW3adW8BL6PZeN1b8Hk1jGexa3bSDqPHYax1MldV22ht0pax1jBexVpVVdvN\n",
       "WbQ3m96I9tbb81hrPj2ItaqqxsreTtbjZbQ3b/ux1mzMLhlfnxxFe8832Wv2zmIa7V0FN281ZJdP\n",
       "mzHbm7bsdXG5yZ1708kQa1VVvfXG/Wjv7NFJtHfnG+/lYuHjOj3J3u/aUfbvrNdf/EasNfvTP421\n",
       "qqrWf+e/ifYW9z+O9iY/zO3v5t3scZ1++5Vor6bZZ+Pk/3wUa62fHMdaVVXL4+x68cEHr0V72yF3\n",
       "rpwssmvtTXDbqqreO82uZ//wdm6t/eNn2W179zT77Hl1by/a+zh7qtSzdhprLSp7LCr89W7TsuuA\n",
       "1TZ5j8qed9shu6/juIn2hjH3LaWFT5SxsvsaP5GTWvi3G7PvPfzn2OX5R/ob+S7vK7vCf0gDAAAA\n",
       "AAAA0IWBNAAAAAAAAABdGEgDAAAAAAAA0IWBNAAAAAAAAABdGEgDAAAAAAAA0IWBNAAAAAAAAABd\n",
       "GEgDAAAAAAAA0IWBNAAAAAAAAABdGEgDAAAAAAAA0IWBNAAAAAAAAABdGEgDAAAAAAAA0IWBNAAA\n",
       "AAAAAABdGEgDAAAAAAAA0IWBNAAAAAAAAABdzK57AwD4fGhtb0y1xnGVSv21Fu5No7WxYj9dpf+W\n",
       "bDG7E+1t48c299uNY/I4VM0my2hvOTmO9ua1F2s9nHwca1VVrcd1tPd23Y32DsMr5OQd6tEqe3+6\n",
       "s5e9fy6m22hv0oZY63D/Itaqqrq8yN4Djm8+j/ZOP3gl1rr17Z/FWlVV42X2WdbeyN4/Zw8/zMW+\n",
       "9EauVVWzJ9n78cV/+z9Ge8sffzfWmr62iLWqqtqL7DW2+dF5tLd+ehJrDevsg2x9kVtTVFUd3XgR\n",
       "7T07zd0DPnqROw5VVXvh5+Imu5ytX5zux1pXuUd2VSXfAj4zCb8zLlr2WbZtuXNlb8wd16qqVbuM\n",
       "9tLvZdNJ7nmx2WTXixU+T9IXxqTNY61hSP926Zey7E1qrE2uNWafFXmz9C05aBP+ILjL+1qV3b70\n",
       "b7fr/Ha7wH9IAwAAAAAAANCFgTQAAAAAAAAAXRhIAwAAAAAAANCFgTQAAAAAAAAAXRhIAwAAAAAA\n",
       "ANCFgTQAAAAAAAAAXRhIAwAAAAAAANCFgTQAAAAAAAAAXRhIAwAAAAAAANCFgTQAAAAAAAAAXRhI\n",
       "AwAAAAAAANCFgTQAAAAAAAAAXRhIAwAAAAAAANDF7Lo3AIA+Wgvf4sch20tq7bq34D8i99u1msZa\n",
       "VVWb7Wm0N5+dRHvTtoi1ZpNcq6pqPZxFe/O2jPa2bRNrHY03Y62qqsPhMNpbt+z96dk6mqvj4O34\n",
       "nYPsxp1vsveUV/dz511V1Yt17rp98Cx7Ht/cZO8BJ3efRHu3vvOzWGv9/o1Yq6pq/vbzaG94P9ub\n",
       "vDXGWuPNW7FWVdXkk/vR3mKSvQe0s9x1sX3zbqxVVTX5y/eivc2z29He9ip3v1veexprVVUNQ/Z/\n",
       "Gc4+eDXae3h6HGv97usfxFpVVX/+4TvR3ivL7Drgo4vcebfaxlJVVXUwy77jvVhn14ur9PtxcHdf\n",
       "tEe5WFUNwffZqqpJ+FvFdshdF4tpds1ztcnej2uS/u3Oc7H0N6jweVeVW999lsv1Wvh/Bsf4b5fV\n",
       "gje88FH9HNjs+gfQHea32wX+QxoAAAAAAACALgykAQAAAAAAAOjCQBoAAAAAAACALgykAQAAAAAA\n",
       "AOjCQBoAAAAAAACALgykAQAAAAAAAOjCQBoAAAAAAACALgykAQAAAAAAAOjCQBoAAAAAAACALgyk\n",
       "AQAAAAAAAOjCQBoAAAAAAACALgykAQAAAAAAAOjCQBoAAAAAAACALmbXvQHAb5vZmO1t2u720vsa\n",
       "7o1DNFeV3LzwYU3va5tmc5XrDeM61qqqmk9Por3V5mm0t5jdjLVW69NYq6pqf3472mst+3eCB+Nx\n",
       "rLVuq1irquqkLaO95TR7zS7Cf7J5ts21Hq+yy/fn6+z9+AtH2d6d5UWstd5mz5O01eVetDc8XsRa\n",
       "89efx1pVVRW8Jqqq2mG2V1dXsVR7/CjWqqoa7r0a7U0/+SjaW3/5W7HW7Lvfi7WqKv7n+LOTs2hv\n",
       "e5W7Zjdn2efs04/uRXubTfZZ9uVX78daHz2+G2tVVR3Msmv39872o72Lbe65vQm/HT9bZ9/xHm8u\n",
       "o71F/J0xdyxmlV1TnI1Por2rbXZdMYybWGuMfveoGsbse1SF3xmT3z5aeoEX/I5SVTUOufVdVdVY\n",
       "6W9uL4/0dZaV/g7N7kh+d3ee/Lr8hzQAAAAAAAAAXRhIAwAAAAAAANCFgTQAAAAAAAAAXRhIAwAA\n",
       "AAAAANCFgTQAAAAAAAAAXRhIAwAAAAAAANCFgTQAAAAAAAAAXRhIAwAAAAAAANCFgTQAAAAAAAAA\n",
       "XRhIAwAAAAAAANCFgTQAAAAAAAAAXRhIAwAAAAAAANCFgTQAAAAAAAAAXRhIAwAAAAAAANDF7Lo3\n",
       "APhts2nZ3mzM9l4eY62ix6LVPHYsxhpSqaqqam0a7VVto7UheBa3yl5iw7iK9ubT42hvMT2KtbYt\n",
       "u6/Ttoj2LrfPo72z6TLWOhhvxFpVVUNlb+2bIXtPeZI9VeoPbuday0n2t7u9CP92V7nzrqrq7UXu\n",
       "ujhcXMVaVVXbbfZvew/vPI32Hvzg67HWnd/9WaxVVdXC5/HkKHts292DXGyaPU+2N+5Ee8PRzWhv\n",
       "cv4s1mqvHsZaVVVXf5Z9bu/9V9ljO/5Z7n736Q+/FmtVVR3fzd6fHt+/F+2NY259vAnf21v67Tjc\n",
       "O57l1gHDmP3trsLHYlrZNcrHm/NoL/mat6nsc/Gw3Yr21pOLaC/5TrsestvW2jzaq/C3lGHc5GJj\n",
       "dn2X/m5U4XfQFvw/v/g3svB3o+gNqtL7m/5unP6uze5wbHeB/5AGAAAAAAAAoAsDaQAAAAAAAAC6\n",
       "MJAGAAAAAAAAoAsDaQAAAAAAAAC6MJAGAAAAAAAAoAsDaQAAAAAAAAC6MJAGAAAAAAAAoAsDaQAA\n",
       "AAAAAAC6MJAGAAAAAAAAoAsDaQAAAAAAAAC6MJAGAAAAAAAAoAsDaQAAAAAAAAC6MJAGAAAAAAAA\n",
       "oIvZdW8AwK+2adnebMz2Xh5j5X661qax1l8Xw73sadJa7nE7aYtYq6pqGC6ivWrZv3Vbbc9ire1w\n",
       "FWt9Jnve3Zy/He3t13GsNQsvGYfwNTafZM+7Nw+yvefrXGucDblYVb1zlL0HPF9l71GbIXcsTo5O\n",
       "Y62qqpOT59HeZLaN9k7e/jjWSm/b9mwZ7c3eXEV721dej7U2d9+Jtaqq9n70vWivWvZZNi6Dx3ab\n",
       "Pe/2/ijbG/7qabQ3vZlrLZbpNU/Wo6fBna2qw+VlrHXrILf2rKpavciuofan2fP4fJvbvhfB9U5V\n",
       "1dWQXS9eDNk11KqFdzhoUYfR3ljZ824WfqddB7evVfZbxXQSXhsH34+rqmoMHtv0d57wt4rkN62q\n",
       "qhb8HpBs/f/FpLGy90/+cyS/a6e/ucN/nP+QBgAAAAAAAKALA2kAAAAAAAAAujCQBgAAAAAAAKAL\n",
       "A2kAAAAAAAAAujCQBgAAAAAAAKALA2kAAAAAAAAAujCQBgAAAAAAAKALA2kAAAAAAAAAujCQBgAA\n",
       "AAAAAKALA2kAAAAAAAAAujCQBgAAAAAAAKALA2kAAAAAAAAAujCQBgAAAAAAAKALA2kAAAAAAAAA\n",
       "uphd9wYAv21mY7a3adne7mqV3dXwgQhvX3hfx02011r68Zg7GtvhNNaqqpq0ZbQ3m+xHe5M2DcYW\n",
       "uVZV7U2Po731eB7trVpuf/dqL9aqqnpcL6K9g/FWtJe+gT69yrVuzHOtqqrnq+x1cWOxivZmk22s\n",
       "9fjFjVirqmovvK8Xj06ivcPXHsVaq8fZ325x+3m0V9vsRTv95S9yre/8L7FWVVX98F9Hcxd/67+P\n",
       "9va/+09ysW3u+q+qGp9fRns1ya5n20Gudee//GkuVlUffPdvRHs3j7PrgOOT3D3lp7/4UqxVVfXg\n",
       "Inhgq2o1Zv+v5Okq1xvTXwKGbHDestfsk/Y42ntt+1qs9WD6QazVw3KSfY/abHP391n4nXEzZNeL\n",
       "w5jtVfK6GLPP7Up+C6iqNg7RXtIY/4KX7qW/zSa/He/ytgH/Pv8hDQAAAAAAAEAXBtIAAAAAAAAA\n",
       "dGEgDQAAAAAAAEAXBtIAAAAAAAAAdGEgDQAAAAAAAEAXBtIAAAAAAAAAdGEgDQAAAAAAAEAXBtIA\n",
       "AAAAAAAAdGEgDQAAAAAAAEAXBtIAAAAAAAAAdGEgDQAAAAAAAEAXBtIAAAAAAAAAdGEgDQAAAAAA\n",
       "AEAXs+veAMiYjdnepmV7LxO/3a9rrOxp3GoRDuYObatprFVVNdYm2ksbx1Ws1do81uphO1xGe9Pp\n",
       "jVhrGLPnyXa8ivYmLbssS95TtrWNtaqq5pU9j49n2XvKi/At5Sh4aD+9yP496RcOs8f2fJ09tl84\n",
       "yV1np1fLWKuqav/wIto7fO1RtLe52Iu1xiF73s1PzqK9cZ17zlZVXX7n78da+//of461qqrGZ9ln\n",
       "z/7/9U+jvVrmrrP1l74Za1VVzX/yw2ivzbNrnosf34m1Wsu+Bkxn2WfFcpn97Z4+vhVrHe5lt21/\n",
       "ll1UPD/dj/aO57lzZTPs9qeAh9vsc3s5yR6Lj6f3Y60bdS/Wqqo6qyfR3vPNJ9HeesitK1r4f7dW\n",
       "2+fRXvpbSrXc/g5j9v5ZY/bZU+lvKeM629tpu/zdfZe3Dfj3+Q9pAAAAAAAAALowkAYAAAAAAACg\n",
       "CwNpAAAAAAAAALowkAYAAAAAAACgCwNpAAAAAAAAALowkAYAAAAAAACgCwNpAAAAAAAAALowkAYA\n",
       "AAAAAACgCwNpAAAAAAAAALowkAYAAAAAAACgCwNpAAAAAAAAALowkAYAAAAAAACgCwNpAAAAAAAA\n",
       "ALqYXfcG8HkyG7O9TdvNFvynSp932WtsrCGZq1bTWGsYr2KtqqrWctv2mV3+e63sadcm82hvrOyj\n",
       "YjNcxFrb4TLWqqqatIATnKIAACAASURBVOxvd7V9Fu3NZ8tY67huxlpVVTfqINp7vF5He3cW2WO7\n",
       "CN5SXt3f5mJVdbHJvg4czDbR3qTlnmVffPV+rFVVNWyzz4oP/+Kr0d7J7aex1sHdXKuqalhlz7v2\n",
       "ZBHtLX/8J7nYOntNbP/WH0V70/vvRnvVcuuU+bs/ibWqqmqaXS+O59k1z/63HsVam49ya4Cqqptv\n",
       "fhrtPfvoXrS3v59b4/3yUXbbTvay6883D7L3u/sXyV72PeV4nn3Orsf9aG85ZNeL77XzWOvx+GGs\n",
       "VVU1Db/3TFr22E7bXqy1DX+rmLTsNTtW9r0nK/ueUuHzpMbsmiz97WOXtfA3sjH6/XO3v83u9szi\n",
       "ZdpXdsUuf3EHAAAAAAAA4HPMQBoAAAAAAACALgykAQAAAAAAAOjCQBoAAAAAAACALgykAQAAAAAA\n",
       "AOjCQBoAAAAAAACALgykAQAAAAAAAOjCQBoAAAAAAACALgykAQAAAAAAAOjCQBoAAAAAAACALgyk\n",
       "AQAAAAAAAOjCQBoAAAAAAACALgykAQAAAAAAAOjCQBoAAAAAAACALmbXvQF8nmzadW8BL6PZeN1b\n",
       "8B+2y9tW1do0Gxxzu5vftiGaa5O9aK8qeapkT7tJeCkwjKtob2y5/d2b3Yy1qqqGcR3tHc9ei/bm\n",
       "tYy1lmOuVVU1qeySYhu8P1VVLcN/srkJbt7pOrtxXzjMXrPzyTba+/jFSazVwivZb331vWjv8smN\n",
       "aG+6l7tHTWbZ4zq7dRrt1R99LZprH74fa21+7w9iraqqyf/x/Whv9ff/u2hv7wd/EmuNR4exVlVV\n",
       "C98EhtN5tFfBy2JYZdd3m8tFtPfh/dejve2QO7abIfucffdF9t6+nGbvx++f5fZ3P/yF8WrIru8O\n",
       "puFjOz6J9l7b5q6LT4efxlpVVSfzN6K9bfg9aj7Zj7U2m/NYq6pqGC6jvbE20V4l38vC72TxxXu4\n",
       "18bkPSX7243x3ip8MHb5e+rLNP94mfaVXeE/pAEAAAAAAADowkAaAAAAAAAAgC4MpAEAAAAAAADo\n",
       "wkAaAAAAAAAAgC4MpAEAAAAAAADowkAaAAAAAAAAgC4MpAEAAAAAAADowkAaAAAAAAAAgC4MpAEA\n",
       "AAAAAADowkAaAAAAAAAAgC4MpAEAAAAAAADowkAaAAAAAAAAgC4MpAEAAAAAAADool33BsBumo3Z\n",
       "3maHr7X0vqbt8m+XtuvHYne19OOsZf9eq7V5rDWdHMRaVVXb4TLaSx+LxexWrDVps1jrs17uuFZV\n",
       "HUxz+1pVddJejbWOhqNYq6pqEv6byDemx9He4Sy7fa8sc631kGtVVb2yzAZfWa6ivS/deBZrHczD\n",
       "2/b2+9He4e3cvlZVPbn/Sqz1+u/9NNaqqmrzTbS3+KO9aK9W61zrMvucrUn4b8qT+1pV49k2F5vm\n",
       "UlVV9aU3o7nx396P9lrwfvz8B1+ItaqqHn+Uu59UVbWWfe158Ph2rPXsIrvW/vQ8u4Z67yy7fc/X\n",
       "uXvKw/Dtbhq+3T2+yp53H63Por3k1v1y+lfBWtVmvIr2LrdPo71JW8Ra5+tPYq0ehiG7nh3H3Dpg\n",
       "rOAaoKpaeCEwVnb9WeMuf8JLb1v2O89Y4ZfaqJfpOzT85vkPaQAAAAAAAAC6MJAGAAAAAAAAoAsD\n",
       "aQAAAAAAAAC6MJAGAAAAAAAAoAsDaQAAAAAAAAC6MJAGAAAAAAAAoAsDaQAAAAAAAAC6MJAGAAAA\n",
       "AAAAoAsDaQAAAAAAAAC6MJAGAAAAAAAAoAsDaQAAAAAAAAC6MJAGAAAAAAAAoAsDaQAAAAAAAAC6\n",
       "MJAGAAAAAAAAoIvZdW8A7KZNu+4t+M15mfa1qmo2XvcW/Ift9rFobS/2243jNpX6azv909U4XMVa\n",
       "8V+uLaK92eQg2pu0eazVWvY8mU3Cv11bRnubWsdak/DfMA41RHurIdu72bL7+9F57tHzzZNYqqqq\n",
       "vnXyIto7Xeeu2bTZNHsHPbz9LNq7eH4U7b3+ez+NtRZvPI21qqoufvZqtDf90eNs7+uHsdbV3/x7\n",
       "sVZV1d6//pfR3voPvxPtzf/N92Kt4Wtfi7Wqqtpf/CTby50mVVW1fv9GrLVdZz/13PvSB9HeX/3g\n",
       "d6K95WIVa/3y6Z1Yq6pqf5Zbj1VV7YefZS/WuTXPYhpLVVXVKvzic7HNBtPr46uWO49fHd6Otaqq\n",
       "Pmi5NUVV1f70VrR3tnkYa7XKnsjDmL0HjLWJ9tpkL9Yah/NYqyq/rzVmPweOwXfaFr6fjJX+9LnD\n",
       "n1Lj31J3+btx1a5/O85KH4uX6bfbXf5DGgAAAAAAAIAuDKQBAAAAAAAA6MJAGgAAAACA/499e+uV\n",
       "LL3v+/5fq0577967z9Mz08M5cShKomzJOVhQYjhxkNwFCHKdl5AXlasAuQlgJFeBkQRM5MRR4piC\n",
       "bIsSKXI4B3L6MN093fu8q2o9uRgFMBCQAia/R7vI/nxewBeraq31rMO/CgCgCwNpAAAAAAAAALow\n",
       "kAYAAAAAAACgCwNpAAAAAAAAALowkAYAAAAAAACgCwNpAAAAAAAAALowkAYAAAAAAACgCwNpAAAA\n",
       "AAAAALowkAYAAAAAAACgCwNpAAAAAAAAALowkAYAAAAAAACgi/l1bwDwTcxbrrUZcq2q7LZV5bdv\n",
       "l2W/u6F296sbhuzlJ93Ly+3a1jaxVlXVOKyivda20d445H47NwyzWKuqajNdRHuXw0m0d1R3Yq0W\n",
       "PIarqm7XjWhv06Zo73iT7d1d5o7jp9nDrj4/PYj2vnXjNNobh9yxd7h3HmtVVb16ejfau//RZ9He\n",
       "uMxdL9pV9nfM4+oq2pt9tBft1VVu+1Z/+sexVlXVDt/efW3MbeBw8irWqqpa/4P/INob/vH/Fe1t\n",
       "L3L3ZMsb2fVueec42rt373m0d3qSu6/46N6TWKuq6pMX96O9e+H182yTuz9et+y1Inw7Vssxu31t\n",
       "yt4fr9oy1vps9rNYq6pqO11GexdTdo0ah0WsNQSfP6uqqmWPk6Gyz7SVfH4Pvwuo9L4I94bkvo0f\n",
       "d+EFdKffHaffQ++6XZ4JpO369vFN+Ic0AAAAAAAAAF0YSAMAAAAAAADQhYE0AAAAAAAAAF0YSAMA\n",
       "AAAAAADQhYE0AAAAAAAAAF0YSAMAAAAAAADQhYE0AAAAAAAAAF0YSAMAAAAAAADQhYE0AAAAAAAA\n",
       "AF0YSAMAAAAAAADQhYE0AAAAAAAAAF0YSAMAAAAAAADQhYE0AAAAAAAAAF3Mq+Ytm9wM2R7w/5U8\n",
       "z163NWCXty+7L1pld+3QplgrvW0V72UPk2GY51q1jLW+DmZ/mzaOi2hv29a51vYk1qqqWs5uRnu3\n",
       "hjejvRvTjVjrcriMtaqqLqbscfzR/kG0l3ZvlVujDsKX7eUst7ZXVS3GbO/kahVrvTg5irWqqi7X\n",
       "2fVu7+A82rvx4HmstXjvNNaqqlrWy2hvevDtaG/87NNYq92+FWtVVdVR9jiePfsi2qtl7rxoP3oU\n",
       "a1VVLV+8iPbqt2fZ3l/kzrPV4UWsVVX10//xD6O9dXj9fPLydqzV0s8B4eeUz8/2o72z7e4+Hj+5\n",
       "2EZ7q1n2ueedZfb+8yfr3Bp12HLnRFXVMGa/uxfTZ9HeZsqueVnpcyzbm1ruuxvG3H17VVULvoP6\n",
       "OrjJ9pLSnzX87nOoxc6+rxzC/7dstdv7Yrft+owhuX2v037N8g9pAAAAAAAAALowkAYAAAAAAACg\n",
       "CwNpAAAAAAAAALowkAYAAAAAAACgCwNpAAAAAAAAALowkAYAAAAAAACgCwNpAAAAAAAAALowkAYA\n",
       "AAAAAACgCwNpAAAAAAAAALowkAYAAAAAAACgCwNpAAAAAAAAALowkAYAAAAAAACgCwNpAAAAAAAA\n",
       "ALowkAYAAAAAAACgi3nVZrjujQB+k8zbdW8B/6/0+r6M7dv0hae1bbQ3jvvR3hD8/Ver7GdNf3dp\n",
       "V5tXsdZqfjvW6uFVexLtbcarWOve9CDWqqra1hTtfXm5ifaOFrNob9tyq95qzH53e+He1ZT97laz\n",
       "3L69e5RbT6qqHrz9ONq79Z3Po73pcpFrfZW9co/vHkR79eJ5NNfu3o21ptv3Yq2qqmF9Ge2Nj76I\n",
       "9qY338rFnn6Sa1VVu529Dzj/J9nHnuW93Bq1Pc7ey+7tX0R7V1fLaO9ecH3/6vQw1qqqmoevs88u\n",
       "s/8rWc1yx/E6+1HrYJ69pzjdZJ97Xmyz6/HFmDvPWmXXp5fbn0d74zCP9ir4ebdTdr0bh+x6t23r\n",
       "aG8YcveLyf3wtfC7iiH8JqrlPm8LPx+n382m15Tk+8r8S+j0e+10L/mud5e3jd9U/iENAAAAAAAA\n",
       "QBcG0gAAAAAAAAB0YSANAAAAAAAAQBcG0gAAAAAAAAB0YSANAAAAAAAAQBcG0gAAAAAAAAB0YSAN\n",
       "AAAAAAAAQBcG0gAAAAAAAAB0YSANAAAAAAAAQBcG0gAAAAAAAAB0YSANAAAAAAAAQBcG0gAAAAAA\n",
       "AAB0YSANAAAAAAAAQBfz694AyJi3bG8zZHu7bNc/6y7v2/S2paW3L5gbsr+HSh/ErW2zvcr1hmG3\n",
       "L92b7Vm0N47LWGs+rmKtqqrZkO0th/1ob78dxloXw0WsVVU1a7Nobz5kV4FZuPfiKtd6Yy+7tB9v\n",
       "smvKapZdP2+vcsfe6cVerFVV9eSLN6O9Yczu26MPfhFrnX+S/ax7m6fR3rh/Eu3Vb78TS41n2W3b\n",
       "3H8Y7Y2PH0V7wzq34A3v34m1qqraz7Kfdf+jaK6mk0WsNcyy17H9w+z93Sx8rfjyy3ux1mq+ibWq\n",
       "qk7WuXvZqqp3D9bR3hcXueNuM8VSVVU1D/+F5miRvf/ctuy+fRV8RXs6ZK89N2dvR3un0/NorwXf\n",
       "VYzhZ8bWwidGXPB6Ef+s2XN2CL85akPuerHr77Tycu8r4/u11jv+njxp12cCaa/b591N/iENAAAA\n",
       "AAAAQBcG0gAAAAAAAAB0YSANAAAAAAAAQBcG0gAAAAAAAAB0YSANAAAAAAAAQBcG0gAAAAAAAAB0\n",
       "YSANAAAAAAAAQBcG0gAAAAAAAAB0YSANAAAAAAAAQBcG0gAAAAAAAAB0YSANAAAAAAAAQBcG0gAA\n",
       "AAAAAAB0YSANAAAAAAAAQBcG0gAAAAAAAAB0Mb/uDYCMzXDdWwC/6Vq1WGtoU6z1dXCRzdXuLinp\n",
       "bRuH7K3A1DbRXvLzDjWLtb7uZfdF8hyrqnoxPIq1brc3Y62q/Hf3YnsV7R0t9qO9u6tcazFkj5PH\n",
       "F9k14PYyuy8OVxex1sHqMtaqqjo4OI/2htk22huXufX4xh+9iLWqqqan2c9a330YzbX9G7HW+NWz\n",
       "WKuqanb8PNo7+0/+y2hv9aP/IRf7n/8i16qq8e+/F+3VX34azV19eTvWOv7ifqxVVbW8kV3vLp7f\n",
       "ivZenuXO2atN9ro4C1+3x/Bjyu1Fbj0+WWfvtdP/oPnkInscvxpOor2DdhBrncyOY62qqq82n0V7\n",
       "myl7TzYblrHWED7yti13L9tHbo1qlX0XUOH3RlP4eTt7rIS3bciux62F792DWq2jV8ahFtGdkd6+\n",
       "3TbPHsjmPb+R/EMaAAAAAAAAgC4MpAEAAAAAAADowkAaAAAAAAAAgC4MpAEAAAAAAADowkAaAAAA\n",
       "AAAAgC4MpAEAAAAAAADowkAaAAAAAAAAgC4MpAEAAAAAAADowkAaAAAAAAAAgC4MpAEAAAAAAADo\n",
       "wkAaAAAAAAAAgC4MpAEAAAAAAADowkAaAAAAAAAAgC7m170B8HqYt2xvM+Ra6W1LS37WtPS27fq+\n",
       "2GVTtNYquyvGYT/WmtpVrFVVNVZu26qqlrOb0d7UNrHW5fY41qqqurG4F+2N4duyWS1irbvTnVir\n",
       "qmpRs2hvXdto72yTXVN+Ejz0VmP2OLm/yn53l9vsvr1Y547ji82tWKuq6r3f/atobxiy157NcW59\n",
       "Hz5/FWtVVX3xf/xBtPfO772I9obT3Ek7/Si7beO7F9He4uD70d60zB13i49y539VVfv402hv/Sh7\n",
       "z3P2NHetvfu9j2Otqqoff//vR3s3bpxme6vcefHpy7djraqqzZT9H8gUfmI8WuTuA4Yhew/wap29\n",
       "H7s1W0Z7Tyq7Hr+op7HWvLKf9d78w2jvtGWvjefbXG+9PYm1qvLPeGnjuBdrbbfZ54oKv5cZhvT/\n",
       "8nKvBFvwvcfXwfS+2OV3s9l3qa3WO/6ud5f3Bd/c63Oc+Ic0AAAAAAAAAF0YSAMAAAAAAADQhYE0\n",
       "AAAAAAAAAF0YSAMAAAAAAADQhYE0AAAAAAAAAF0YSAMAAAAAAADQhYE0AAAAAAAAAF0YSAMAAAAA\n",
       "AADQhYE0AAAAAAAAAF0YSAMAAAAAAADQhYE0AAAAAAAAAF0YSAMAAAAAAADQhYE0AAAAAAAAAF3M\n",
       "r3sD4PWwGa57C3659LbN2273Xie7vG/Dm9ambG/Ibl+rbaw1jnuxVlXVNJ1He9sh+1u3abqKtQ5W\n",
       "92OtHha1ivaG4O8OFzWLtaqqLmsT7R0Oy2jvw6PscdyCq+dyzK53V1N2vVuEt28ccl/etx48jrWq\n",
       "qh7/9N1o71u//5fR3uLWaay1eXEUa1VVvfMf/2m0N3ySPY6nD96PtYa/81asVVWVvjG++uAfRHvz\n",
       "x38Wa7UbB7FWVdVwcRntLd4/jvYOt7lrz+zuRaxVVfXWez+P9j7+8bejvaTVLHuPcrrJ3rvPx+wq\n",
       "MLXc+rkIP+J9cJi9H/vLV9l9+8Z0L9r7YraOtcbwvfvT7U+jvSH8PmBquX07H/djraqq9eZVtJd+\n",
       "l7Ld5u4Xq8LvZcJay72Xqcoex8ln96+D4XdaLX0LusvvydPvoXf53Wx623Z5v+661+e78w9pAAAA\n",
       "AAAAALowkAYAAAAAAACgCwNpAAAAAAAAALowkAYAAAAAAACgCwNpAAAAAAAAALowkAYAAAAAAACg\n",
       "CwNpAAAAAAAAALowkAYAAAAAAACgCwNpAAAAAAAAALowkAYAAAAAAACgCwNpAAAAAAAAALowkAYA\n",
       "AAAAAACgCwNpAAAAAAAAALowkAYAAAAAAACgi/l1bwC8Hubturfgb89muO4t+NWS+yL9WdPHSbY3\n",
       "DLNcrE25VlVVZXdFa9tobwhuXmvrXKyqZuN+tNfC+3Y1vx1rbabLWKuqajZbRnvPt59Ee7dn34q1\n",
       "joezWKuq6qgdRHvpC89np9nl+Hu3cr3FmN229ZT99jYt25vPcuvxxcVerFVVdev2y2jv/Ms70d5s\n",
       "/yrWatvs75g3X2bXgMW3s9fG9ie/iLXGD8K/Ad/PXrdvfP+/ivbW3/m9WKv95MtYq6qqvvMgmhse\n",
       "P432lh9+FWtd/Oh+rFVVdfLiVrS3mG+ivRa89hwtc2tnVdV6Cj5DVdXJJvsa79XVItZaZT9q/emL\n",
       "7Nq+N8tu4DRl78kebt+Otf5V/UmsVVV1OLsX7W1a9jy72ObWz7RxzN5/TuHvbqzcM+3ULmKtqqph\n",
       "zD5vV/hdSva9Vvh1YNvt19BDLWMb2OrqtXo3u/vv3eFX8w9pAAAAAAAAALowkAYAAAAAAACgCwNp\n",
       "AAAAAAAAALowkAYAAAAAAACgCwNpAAAAAAAAALowkAYAAAAAAACgCwNpAAAAAAAAALowkAYAAAAA\n",
       "AACgCwNpAAAAAAAAALowkAYAAAAAAACgCwNpAAAAAAAAALowkAYAAAAAAACgCwNpAAAAAAAAALqY\n",
       "X/cGwG6at+vegl9tM1z3Fvzt2fV98RppUy5V2d06DNnfVw01i/Za28Zas3E/1qqqmtom2puHt28z\n",
       "ncdae/NVrFVVtW2X0d7N2dvR3kE7irVOxpNYq6pqf7sX7R0M2Vvau8vsZfbxRa73W0frWKuqaj+7\n",
       "3NWj8+x5duf4Vqx1Y3URa1VVra+W0d7yRm69q6o6+ezNWOv2H30ca1VVbb7IrgF1cBDNDf/wrVhr\n",
       "fXQ31qqqmn/242hvOM+uKeN57nox/FbuGK6qqk8fZXtvZfft9s9PY63Tx9ltO7r/ItpLr58vjw9j\n",
       "rYPFVaxVVfXleXZ9en6Z/e6+usrdCFzmHnmqqurbh4to718en0V7y/Az41nljr0Hs49iraqqJ9uf\n",
       "RHt7s5vR3mK8EWuln4/X06tobxiz58V2Cp4XwXdGVVWtsvcoacn3WkP4P4OtrsLvjbPvZlslj5Vd\n",
       "f2/sHf439zp9d68P/5AGAAAAAAAAoAsDaQAAAAAAAAC6MJAGAAAAAAAAoAsDaQAAAAAAAAC6MJAG\n",
       "AAAAAAAAoAsDaQAAAAAAAAC6MJAGAAAAAAAAoAsDaQAAAAAAAAC6MJAGAAAAAAAAoAsDaQAAAAAA\n",
       "AAC6MJAGAAAAAAAAoAsDaQAAAAAAAAC6MJAGAAAAAAAAoIv5dW8A7KbNkO3NW7b3OtndfTHUIrpf\n",
       "W6139rOmDenfQ7Upm6vsVzcOuctta5tYq6pqGBbRXv67y23fZrqKtaqqtu0k2pstsvviXnsz1roY\n",
       "zmKtqqptZc/Z8yl7XszH7C3yGFzdn19lt+29GxfR3pv759HefMwdK6tldg2YL9bR3tmzW9HeOMt9\n",
       "d+tPjmKtqqrZjexx0h5ne+PL41zr5mGsVVXVnr6K9rb/1u9He8P6Mtd6/jzWqqqavvvtaK/OcsdJ\n",
       "VdX2eD/WWt08jbWqqpbh3p1t9llgucoddy8+eT/WqqpazbbR3jsH4evssBdrfXySvUd5lb3M1uGY\n",
       "vdf+4fDjaO+o3Ym1TutlrFVVtRwPor3z7Ytob2q5g2U+rmKtqqrlPLdfq6o2U3YNmI3J+5Tsu4Cp\n",
       "Ze/dW8uux0PwmbaFn493X/pdb9Luvkvdfbu8X9kV/iENAAAAAAAAQBcG0gAAAAAAAAB0YSANAAAA\n",
       "AAAAQBcG0gAAAAAAAAB0YSANAAAAAAAAQBcG0gAAAAAAAAB0YSANAAAAAAAAQBcG0gAAAAAAAAB0\n",
       "YSANAAAAAAAAQBcG0gAAAAAAAAB0YSANAAAAAAAAQBcG0gAAAAAAAAB0YSANAAAAAAAAQBcG0gAA\n",
       "AAAAAAB0Mb/uDYDXw2a47i349TVv170Fv0yrdXS/DrXY2c9aVVXDLJZqbRNrVVUNwW2rqhoq3Bty\n",
       "l9v8d5e9FRjDvWm6irVms0WsVVW1mt3M9obDaO/l8CLW2m83Yq2qqgez/WjvaJE9Z4/X0Vx96yC3\n",
       "vJ+Gbymmlu1dbbP7Ym+WW/MuLlexVlXV7Xu5c6yqau/WSbR38N7jaC9p/L1b0V67eTvaG/7qJ7HW\n",
       "9OCtWKsq/4vy2Y9/mA3eCl4bx+yn3d7L7ovpn2TXgNX3cmtA+9fZtf2rjx9Ge5fne9He8fFRrPXo\n",
       "NNeqqtqGr7PrKXtePL3M3btPsdLXxvBblMWQ/e7e2b4X7Q2V+8AvZ89irar8M97emL0PuKiXsdbl\n",
       "9jjWqqpab7P3d7Mxu35uwp83qu34K7Ix+Ew7XeRaVVW1jH55Lb7CJ9/1euf+zaXfudsX/M38QxoA\n",
       "AAAAAACALgykAQAAAAAAAOjCQBoAAAAAAACALgykAQAAAAAAAOjCQBoAAAAAAACALgykAQAAAAAA\n",
       "AOjCQBoAAAAAAACALgykAQAAAAAAAOjCQBoAAAAAAACALgykAQAAAAAAAOjCQBoAAAAAAACALgyk\n",
       "AQAAAAAAAOjCQBoAAAAAAACALubXvQG8zubturfgl9sM170Ff3vS+2HXv7vk9mW/u1bZXTFUelfk\n",
       "tm/Y+d9DbaO1adrEWsO4irWqqlrLftbtdBHtHSzeiLXW03msVVU1DrNob1F70d6sFrFWen36YjqJ\n",
       "9vbbzWgvvX4+vsj1fusofM627Gfdn6+jvbv7Z7HWzaPscff8y7vR3nadfTQb57ljZfXgRaxVVVWf\n",
       "fRnNDR/m1ruqqvbeu7HW+PRxrFVV1VbLaG9o4UeBV8e51jx7Tiz++T+L9tr72e9u83nuHq9ts/co\n",
       "+7ey6+eL59n188XpYaz13s2vYq2qqk9f3Y72slfZqqsp1zrPPfL8dS97jl1NwQ9bVTfDz2Wf1pNY\n",
       "66Cy98abuor2XrXstXGo3Jo3G7LX2cvw83HabMytn2nb8PN7+j1Pa5fJWrDVQ/pdb/J96i7PF3bd\n",
       "rr/D5zfRrk8EAAAAAAAAAPg1ZSANAAAAAAAAQBcG0gAAAAAAAAB0YSANAAAAAAAAQBcG0gAAAAAA\n",
       "AAB0YSANAAAAAAAAQBcG0gAAAAAAAAB0YSANAAAAAAAAQBcG0gAAAAAAAAB0YSANAAAAAAAAQBcG\n",
       "0gAAAAAAAAB0YSANAAAAAAAAQBcG0gAAAAAAAAB0YSANAAAAAAAAQBfz694AXmeb4bq34NfXvOVa\n",
       "u74f0tu3y99dctuqWkVzVW0bSw3DLNaqqqo2ZXsV3rVD7vdfQ2W/u/S+2E7n0d7p+kmstRhvxFpV\n",
       "VWN4X5y059HeajiMtW62d2KtqqpbtR/tPbtaR3uHs+wt8uEitwbMhuzavp2y693j84No7+5+bk05\n",
       "P9+Ltaqq7t7LnrN3Pvx5tDfuXcVas9sXsVZVVbvIHnfDx19kezdya0B780GsVVXVDnJre1XV5v3s\n",
       "9s3/138aaw2HuXvPqvzt4rCfvQ+Y1WWsdfnobqxVVfXoZ9+K9m7dehntnV+sYq3Hr27HWj1cbLPH\n",
       "3XsHuXuoF5eLWKuq6miRvVacbrO9y+DzcVXVNOYWqSH9PBs2H3LnbFXVyfpxrDUEn92rqvaXb0V7\n",
       "U9tEe+tNbj2eprNYq6qq0u+Nws/vFdwXrdY7/X5xqMVuv6+M2vX35Lv8Xhv+Zv4hDQAAAAAAAEAX\n",
       "BtIAAAAAAAAAdGEgDQAAAAAAAEAXBtIAAAAAAAAAdGEgDQAAAAAAAEAXBtIAAAAAAAAAdGEgDQAA\n",
       "AAAAAEAXBtIAAAAAAAAAdGEgDQAAAAAAAEAXBtIAAAAAAAAAdGEgDQAAAAAAAEAXBtIAAAAAAAAA\n",
       "dGEgDQAAAAAAAEAX8+veAOCb2AzXvQVUVc3bdW/Br62241/dkL08jsMi1praVaxVVTXUbKd7ye9u\n",
       "Pq5iraqqTbuIB5H0YwAAGchJREFU9m6Ob0d7F+041jofzmOtqqqxZX8T+e78KNrbm2W373Kba318\n",
       "ml2f7q+maO87R2fR3qvLvVjr9ib73T1/djfaO36VPY4ffvfjWGv5/mmsVVU1vJf97jb/8iTau/rP\n",
       "/4tYq82y157loz+L9hZ/9a+ivasnh7HWYpndr+2jD6K9+vHPornNk4NYaxiza/t6nbsfq8qvd0+P\n",
       "b8Vamyl7D5B+6jneZO+1f3Kc691cxlJVVfXpafY4nsLPoKftMtqbt9x9ysvhaaxVVdXCR/I6/Bw1\n",
       "H3P3i5sp+9yznrKftbXgg0VVTW2diwWf3b+W/azVNtle8L3RED7JWl1F3xu38PvPoXKbl16f8rw7\n",
       "hn+Tf0gDAAAAAAAA0IWBNAAAAAAAAABdGEgDAAAAAAAA0IWBNAAAAAAAAABdGEgDAAAAAAAA0IWB\n",
       "NAAAAAAAAABdGEgDAAAAAAAA0IWBNAAAAAAAAABdGEgDAAAAAAAA0IWBNAAAAAAAAABdGEgDAAAA\n",
       "AAAA0IWBNAAAAAAAAABdGEgDAAAAAAAA0MX8ujcAuG7zdt1b8OtqqOG6N+FXarWObuBQy909VoZZ\n",
       "Nhfet1Nbx1rDkP0tWWvbaG8YF9Fe0uXmVbR3c/VOtPdq+0W0d2uW277Luoi1qqpuTTejva82uXOs\n",
       "qur+sIz2PriRa51ssuvT0XyK9rZTdo26d3ASa7WWXtuzvcObuc9aVXV1nDvwts+y+3U4eR7tzd/N\n",
       "3gfM/vX/FGu1ZXY9qfR9wOFRtDf+Z2/GWu1V9jgZnz2N9qaL7Bqw+OAq1nr10+x19sPf/4to78//\n",
       "+R9Ee2/e/CrWOrnYj7Wqqlr4uWJ7chDtPdzPPeL9RfZWu+ZD9rubhXt3huyxctVya8BR3Yu1qqpe\n",
       "DV9Ge+nn7W30eTt7T9Gmy2ivwt/dbMwdx+nvbrMNLyqVfe6p4HHXKv26Lfuudwj/p7HVVexAHmoR\n",
       "/axt59+TJ18IpD9r+GUFv5H8QxoAAAAAAACALgykAQAAAAAAAOjCQBoAAAAAAACALgykAQAAAAAA\n",
       "AOjCQBoAAAAAAACALgykAQAAAAAAAOjCQBoAAAAAAACALgykAQAAAAAAAOjCQBoAAAAAAACALgyk\n",
       "AQAAAAAAAOjCQBoAAAAAAACALgykAQAAAAAAAOjCQBoAAAAAAACALgykAQAAAAAAAOhift0bAHwT\n",
       "85ZrbYZcq4fkZ81qtbOb9tey312rKdYahlmsVVXV2ibaq2GXf6+VPWVn40G0NwzhW4uWO4zns/1Y\n",
       "q6pqarlzoqrqYHYv2kueswftRqxVVXU3vC/Op+wacLTInmdT8HqxDV96VrPscXx7dRHtvbzIHSv3\n",
       "b76MtaqqDo9Oor2jN55He7PlOtaaTrPn7OKj7H1AnZ9nez/6NJYaH96Jtaoq/1nn2ev21ff+Uax1\n",
       "8Kf/daxVVVXz7P3dsJddkLePcq3b3/s4F6uqz/+3P4j2WsteZ9fb3HG83mbXp/NN9hy7t8qt7VVV\n",
       "PztdBWvZc2IMv6nYhO/dr8K9izF3D3U+ZO9RptpGe6vxMNo7aY9jrdayn3UIv1vYTmfR3hAcDWyn\n",
       "01irKv9uIb1vo++N2mV4xdvd94FprdY7/d3t9nv39La9Tt8d39Quv3EHAAAAAAAA4NeYgTQAAAAA\n",
       "AAAAXRhIAwAAAAAAANCFgTQAAAAAAAAAXRhIAwAAAAAAANCFgTQAAAAAAAAAXRhIAwAAAAAAANCF\n",
       "gTQAAAAAAAAAXRhIAwAAAAAAANCFgTQAAAAAAAAAXRhIAwAAAAAAANCFgTQAAAAAAAAAXRhIAwAA\n",
       "AAAAANDF/Lo3APgmNsN1b8EvN2/ZXvqzprdvdw3h3xy1moKxYKuqhiF7OWvtKtobx71YaxgWsVZV\n",
       "VWubaG8Yssfdcn471mrh467VNtobw+dscg1Y1zrWqqp6tj2P9t5f3Yj2LrK7ttZT7lL20WF2X7xa\n",
       "z6K9Tcsex28fvoy1zi5ya3EPR/dfRHuzZe5YmS6z156zP15Gewf/XvZadvUf/cNYa/Vn/yzWqqra\n",
       "fPQ70d6wyd7zHPzJfx9rTR++H2v1ML54Hu2tf5I7zxZ3jmOtqqo7D59Eeycnh9HeZspdy07X2fXp\n",
       "aJE9xz4/PYj2VmPu8fi9G9lH909Oso/uB7PsM+PF5jLaO2pHsdZmyN4vbir7Wc+n3P1dVdXB4l6s\n",
       "dXL1RaxVlX9XMR9zx0lV1WY6Dday52z6+b3C71Iq+i4l+65yp98HVlXy8w6Vvfa0Wu/wO/ddt+vv\n",
       "8Hd5nvL68A9pAAAAAAAAALowkAYAAAAAAACgCwNpAAAAAAAAALowkAYAAAAAAACgCwNpAAAAAAAA\n",
       "ALowkAYAAAAAAACgCwNpAAAAAAAAALowkAYAAAAAAACgCwNpAAAAAAAAALowkAYAAAAAAACgCwNp\n",
       "AAAAAAAAALowkAYAAAAAAACgCwNpAAAAAAAAALowkAYAAAAAAACgi/l1bwC8HuYt29sM2V5Sett2\n",
       "+bvb5W2rqlqEt2+XZT/qMGQvj61tgrXsb8nGYbHTvSn43W2ny1irqmpvdiva21byOKl6Z/thrDVU\n",
       "dnlahW9BTzdTtHd/NYv2Pj/LrVGrMfvdvXNwFe2tp+wa9eXJUax1uLqItaqqbuyfR3tPPn0Y7d28\n",
       "8zLWuvvdT2OtqqrTx3ejvYOzp9He6l/8cay1/rv/bqxVVTV79ijaqyG7vl/99t+LtRaPfhZrdTHP\n",
       "rserD5/FWk//6e/GWlVVq8OzaO/2na+ivavLZax14/Qw1qqq+sHTB9Hejfk22nu1zt3zjOGn2b1Z\n",
       "Nnh8lb3X3huy94vPhtNY66KOY62qqqGyn3VvvBntvVr/ItaajXuxVlVVa9lzdlvraG8Ivl9o4WfG\n",
       "qux3l94XyfdG6eft9GfdZa3WO/yOvIf0u+ik9HvtXZ5/8E35hzQAAAAAAAAAXRhIAwAAAAAAANCF\n",
       "gTQAAAAAAAAAXRhIAwAAAAAAANCFgTQAAAAAAAAAXRhIAwAAAAAAANCFgTQAAAAAAAAAXRhIAwAA\n",
       "AAAAANCFgTQAAAAAAAAAXRhIAwAAAAAAANCFgTQAAAAAAAAAXRhIAwAAAAAAANCFgTQAAAAAAAAA\n",
       "XcyvewPg9bAZrnsLfrl5y/Z2+bO+Xlpld+1QyV0bPkzalO0Ns2wvKnzKDtnfpk1tHe2NbRlrrea3\n",
       "Yq2qqk27ivaO6o1o7+X4MtZaVm4/VFW9qk20987iYbSXdm+VW/MWY3a9u7nInrMXm+zjxWrcxlr7\n",
       "U3a9W62ya8Bmk732rA7PYq3Z4XmsVVV1+PBptNfefTfamw4OY635k89jraqqi4/+nWhv/upRtLf8\n",
       "ix/EWmd/+J/GWlVV+//dfxPt1ds3o7nts/1Y6+7f+WmsVVX11Q/fj/Zayz4LTMH1fQzfa7+9n10/\n",
       "/8Xzo2hvDO6Ky9wlu6qqzrbZe56jWfYe5eUmez87Bv8ztFfZ4+RlexzttZY9WBbjQaw1bbPbNo7Z\n",
       "466Fz4tt5Z4FhiH7zNjaZbQ3xN/zBK8XLfyeJy79rjf5Lvp1e6+969sHv5p/SAMAAAAAAADQhYE0\n",
       "AAAAAAAAAF0YSAMAAAAAAADQhYE0AAAAAAAAAF0YSAMAAAAAAADQhYE0AAAAAAAAAF0YSAMAAAAA\n",
       "AADQhYE0AAAAAAAAAF0YSAMAAAAAAADQhYE0AAAAAAAAAF0YSAMAAAAAAADQhYE0AAAAAAAAAF0Y\n",
       "SAMAAAAAAADQxfy6NwDgb9e8XfcW/Poagq3wbhjSv69K97ax0hDettZy21ZVNY570d5ith9rbaer\n",
       "WKuqan9+N9pbV3b7hmEWa001xVpVVQ+3D6K9F1ebaO+qZT/vf/hG7pZ7HLLr52qWXQMO5uto7+++\n",
       "97NY64tn92Otqqqf/uJhtPeH//7/Ge2Ns9xxvH5+FGtVVa2+8zLaaz98Fe3N7ueuPWl7P/rH0d7w\n",
       "5s1or928FWsd/C//baxVVbV5mb1HmX03e1607Vex1sUX92Ktqqrz4xvR3qOnb0R7N/bPY63lPHtP\n",
       "kb4uvrHKXrePN7lni5dXyefFqtWYfe4532bv71r4mfZ8OIu1huize753vs1et6eWO2+HIftZ19vc\n",
       "fq2q2oS/u3FYxlptyq3FXcTfGwWPlexhV9U24eLuvktNr087+0HhN4R/SAMAAAAAAADQhYE0AAAA\n",
       "AAAAAF0YSAMAAAAAAADQhYE0AAAAAAAAAF0YSAMAAAAAAADQhYE0AAAAAAAAAF0YSAMAAAAAAADQ\n",
       "hYE0AAAAAAAAAF0YSAMAAAAAAADQhYE0AAAAAAAAAF0YSAMAAAAAAADQhYE0AAAAAAAAAF0YSAMA\n",
       "AAAAAADQhYE0AAAAAAAAAF3Mr3sDeJ3NW661GXKt182uf3fp7csdd0NlNy14Qvy17HfXdvi7qzZl\n",
       "c3UZ3cBhWAV3b/a7G8K/TRuHRbSXNLVNtNfaNtqrIXsczyu3L67qPNaqqtpU9rOeTuto74P9/Whv\n",
       "G1yjFuGfk/7g+c1o73dunkV7f/75+7HWh/cfx1pVVQ/f+3m017azaG+zzj3qLR98FWtVVU3Pw9ee\n",
       "h9nH2vbGg1xsfZVrVdXmd/9etFdD9r5i9vLLWKu9/2GsVVU1O/5RtLf5319Ge4uPLmOt88fh/brI\n",
       "3vM8uPcs2nv6/F6stQ6vxcfrZbQ3H7NPjd86yB13Ly73Yq2qqvvZXD27zF57Hm+y6/ss+Io2fu/e\n",
       "csdJVdXNxdvR3vHmUaw1VHYNuJyeR3vp5+1WuWfkcXYUa1VVTduTaC/9LqVF3y9k398NtYxeLFpd\n",
       "7ey72VbrHX+vDfyb/EMaAAAAAAAAgC4MpAEAAAAAAADowkAaAAAAAAAAgC4MpAEAAAAAAADowkAa\n",
       "AAAAAAAAgC4MpAEAAAAAAADowkAaAAAAAAAAgC4MpAEAAAAAAADowkAaAAAAAAAAgC4MpAEAAAAA\n",
       "AADowkAaAAAAAAAAgC4MpAEAAAAAAADowkAaAAAAAAAAgC7m170BvM42w3VvAfz/0apd9yb8DebR\n",
       "DRyGWazV2jbWqqoahuzlbKgxu3NbLteGKdaqqmrtMtrbbLNf3Rg87pazG7FWVdVi3I/2trWJ9ja1\n",
       "jrUebN+OtaqqTofzaO9eHUV7J5vseXa2zf0GdH+WXT/f3Msed6vw9r1986tY62q9iLWqqh599jDa\n",
       "e+93fhLtJX96fPn4Ti5WVeMie9ztfzu33lVV1cVZLDWc5lpVVfP5z6O9zd23or3x55/FWtPDd2Kt\n",
       "qqrKLk9V4fXu7Ad3Y62Dd5/EWlVVs/A5+/zT7HH31dlBrDW17P82lmP2nuLpRfa559Us93mH8Bue\n",
       "4/DS/uwqGzwL38++M70Za302/iLWqqpqLX1v/CzaS9pM2f2aflfRWvjECEpv2zBk791b+Hl7qNyi\n",
       "18Lv71plz9m812kmkN23Wen9kP6su7x9r9MxnOUf0gAAAAAAAAB0YSANAAAAAAAAQBcG0gAAAAAA\n",
       "AAB0YSANAAAAAAAAQBcG0gAAAAAAAAB0YSANAAAAAAAAQBcG0gAAAAAAAAB0YSANAAAAAAAAQBcG\n",
       "0gAAAAAAAAB0YSANAAAAAAAAQBcG0gAAAAAAAAB0YSANAAAAAAAAQBcG0gAAAAAAAAB0YSANAAAA\n",
       "AAAAQBfz694AeD3MW7a3GbI9dkP6OMlqbRtrDcMs1qqqGirba7WJ9oZhEWxlL93jsIz2Wst+d1eb\n",
       "V7FWm2VPsRuz+9HeGL4tO6+Xsda83oq1qqoqvNrdW+XOsaqqxZi9zK6nXOvlOvt70uCmVVXVvf3T\n",
       "aO/56WGsdf8wt55UVR0cnEd76ZuA5z9/M9Z66/f+Ktaqqlq+l1ufqqraL6K5GvZza8DmD/7tWKuq\n",
       "anPnYbQ3rLPH8fT4ItYanmaPu/pu9rubvp/97jbnq1hrNWRX96vT/WzvKnv/ebjKHXefvLwba1VV\n",
       "7c+y98ZHi+y+3QQvPneW2SvZZ6fZz7oas8+MD7a3o73Phyex1hS+w7s7ey/aO23Po72X689jrSn8\n",
       "PDsM6f+CZZ972hT8vOHP2tJ3xy385JP8vMH3bT0MtYjujOy+3fV35Lu+fUm7/ll3ffteD/4hDQAA\n",
       "AAAAAEAXBtIAAAAAAAAAdGEgDQAAAAAAAEAXBtIAAAAAAAAAdGEgDQAAAAAAAEAXBtIAAAAAAAAA\n",
       "dGEgDQAAAAAAAEAXBtIAAAAAAAAAdGEgDQAAAAAAAEAXBtIAAAAAAAAAdGEgDQAAAAAAAEAXBtIA\n",
       "AAAAAAAAdGEgDQAAAAAAAEAX8+veAAD6GIZZtNfaNhibcq2qarWO9uKGXKq1q1ysqrJ7Ir99y/m9\n",
       "aC/pdPvldW/Cr/Rg9lux1vPxRaxVVXVnuh3tfXx5HO19tLoZ7Z1vcq3NFFxQquqNVXYV+MGXb0R7\n",
       "HxyexFpvjtnPenjrVbS3vVxGe/fe+0WstT3bi7Wqqtaft2hvWGbvAxb3c63tzew5sfeD70d7bT+7\n",
       "bzf/6I9ircVPfxhrVVVt/u9n0d60OYr2Dt59Emu1Kfvfg5dP7kZ72232OWU5z11o7+2dxVpVVV+c\n",
       "Zo+Tquz6+dVVbl882As+L1bVuzeyx8mj8/B314I3eFW1HXPf37wWsVZV1UXl7seqqhbDfrS3y7bT\n",
       "ebgYvocacqOBVtk1YBiy17JW2TUluS+G5Eujqmrh4yTdS37eVvPsxsVtsjs3+nnT2wZ/M/+QBgAA\n",
       "AAAAAKALA2kAAAAAAAAAujCQBgAAAAAAAKALA2kAAAAAAAAAujCQBgAAAAAAAKALA2kAAAAAAAAA\n",
       "ujCQBgAAAPh/2reb5MaqM47D79GVbMt2xw2kTRK6SEhmUGyBbbBZNkBllFQmMCBUSEgDTdp2uy1/\n",
       "SPewg4z+p6ykn2cBv7rS/dDReSUAAACGMJAGAAAAAAAAYAgDaQAAAAAAAACGMJAGAAAAAAAAYAgD\n",
       "aQAAAAAAAACGMJAGAAAAAAAAYAgDaQAAAAAAAACGWD72AcDbYdse+wj+dy17tpc7F61W0WPrlX2p\n",
       "ve+ivZb8DVNL/x4q22uVvWUXi6NoL2mKH9txtLabN7HWtFjHWlX5e/bJdB7tHfXcud1V9nmyCN+z\n",
       "T8PX8dU2+3rfX0+x1tlqjrWqqg6mbO/Z6iHae352EWsdHtzHWlVVb16fRnvvvfN9tNeCH2VHH/6Y\n",
       "i1XV4sMn0V5/kfusqKqqxUksdfjlF7FWVVWtw59l69xrrapa/ePrWKu/zN3/VVVtmd3+WJ6Gr7ue\n",
       "u2kfLrLPp3ef/xDt/fzdb6K9q9vc+nM1ZdcAvz15He39dHsY7U3Bz4oXm9x6p6rqMrukqM0ue243\n",
       "LbuuSHpTr6K9u/k62kt/j5pa7r7oPbs2ju8F9Ox7t5tvYq30Pkr6OklL77kl5c/FQzTYo3u96T33\n",
       "9D502j7PGPZ3D5/94R/SAAAAAAAAAAxhIA0AAAAAAADAEAbSAAAAAAAAAAxhIA0AAAAAAADAEAbS\n",
       "AAAAAAAAAAxhIA0AAAAAAADAEAbSAAAAAAAAAAxhIA0AAAAAAADAEAbSAAAAAAAAAAxhIA0AAAAA\n",
       "AADAEAbSAAAAAAAAAAxhIA0AAAAAAADAEAbSAAAAAAAAAAxhIA0AAAAAAADAEMvHPgDg/82yZ3vb\n",
       "lu3l9Aq/1L2XfL3p924XrfU+R3u7OXd8rR3EWlVVfc6ei6kdZnuLdax1MJ3EWlVVrbKPp22/j/Yu\n",
       "2stY6/35g1irqmoV/k3kZt5Ge8/XR9HeZfDUHk3Z626zm6K93x3fRHsXm+NYa56z7913Pz+L9p69\n",
       "ehrtffzZn2Oty799FGtVVZ2+fhHtLc+judr9/k+x1vTPb2Otqqp+ehrttbvbaK8ecs/jdpxd8yw+\n",
       "eCfa63+5yPbuc9sz0/ou1qqq+uGrP0R7h0fZ4zta5j5ob+6za9m/X2Wf7Te77BrqZJn73nMbPrb0\n",
       "P2gWLbsOmObsGiq5v3Bc2etu1x6ivTn8/X3RclfLoq1iraqqXtm9he18He0tp1/FWtvdVaxVVdWC\n",
       "57WqqvfsddeST6nw8yn9Wvd7rzd7bNHzWlX9LXrv9nkPn/3hH9IAAAAAAAAADGEgDQAAAAAAAMAQ\n",
       "BtIAAAAAAAAADGEgDQAAAAAAAMAQBtIAAAAAAAAADGEgDQAAAAAAAMAQBtIAAAAAAAAADGEgDQAA\n",
       "AAAAAMAQBtIAAAAAAAAADGEgDQAAAAAAAMAQBtIAAAAAAAAADGEgDQAAAAAAAMAQBtIAAAAAAAAA\n",
       "DLF87AMAHtuyP/YR/Hfp49u2/WyNEH7vWvA3TD18Wlv2VLTFOtqrvoulFu0g1hph7g/hYC51Gz62\n",
       "k9V5tNeTL7aqFjXFWjftJtaqqjrph9He02X2vthmT0WdH+dau5593r1+yP4+9cdN9vn56bPLWGt9\n",
       "eB9rVVU9Oc7eFx99+lW0V4vchXz2ybexVlVVO8neZG2VvS8WP30fa/XT01irqqq9ehXtpddQN599\n",
       "HmtNV/+KtaqqDr75a7TXlttob3eV+7A4eJ69Ts7O/xPtbS6z98X13VGs9e83T2Ktqqo/nl1Eey/v\n",
       "suvP5CrgKrx+upvDX2ejtarrxXW0d1u53tP+61irquqiss+7h/lNtHe/y/Xmnl0vprXwf8t6+vt7\n",
       "UP7Ywk+BZC68R9bCr7XXPm8dZ/dm+17vQ6ft87GNkDy3b9t7l+Mf0gAAAAAAAAAMYSANAAAAAAAA\n",
       "wBAG0gAAAAAAAAAMYSANAAAAAAAAwBAG0gAAAAAAAAAMYSANAAAAAAAAwBAG0gAAAAAAAAAMYSAN\n",
       "AAAAAAAAwBAG0gAAAAAAAAAMYSANAAAAAAAAwBAG0gAAAAAAAAAMYSANAAAAAAAAwBAG0gAAAAAA\n",
       "AAAM8QsYMhCf7AucoQAAAABJRU5ErkJggg==\n",
       "\" transform=\"translate(157, 47)\"/>\n",
       "</g>\n",
       "<defs>\n",
       "  <clipPath id=\"clip593\">\n",
       "    <rect x=\"2160\" y=\"47\" width=\"73\" height=\"1440\"/>\n",
       "  </clipPath>\n",
       "</defs>\n",
       "<g clip-path=\"url(#clip593)\">\n",
       "<image width=\"72\" height=\"1439\" xlink:href=\"data:image/png;base64,\n",
       "iVBORw0KGgoAAAANSUhEUgAAAEgAAAWfCAYAAAAI7rB3AAAMWUlEQVR4nO3dwY0rRxAFwaZQ/lsh\n",
       "L6XfLQtUeSQPERYsEg8c9MyQ+/n3/v0O/+uvb/8Bv06gIFAQKAgU5r5/v/03/DQLCgIFgYJAQaAw\n",
       "7/359t/w0ywoCBQECgIFR41gQUGgIFAQKAgU5rmKrSwoCBQECgIFgcK86yq2saAgUBAoCBQcNYIF\n",
       "BYGCQEGgIFBwFQsWFAQKAgWBgvtBwYKCQEGgIFAQKMxx1FhZUBAoCBQECgIFN8yCBQWBgkBBoDDH\n",
       "DbOVBQWBgkBBoCBQmHP/+fbf8NMsKAgUBAoCBYGCxz7BgoJAQaAgUHDDLFhQECgIFAQKAgVXsWBB\n",
       "QaAgUBAouB8ULCgIFAQKAgWBwnwcNVYWFAQKAgWBgkBhzvWfWTYWFAQKAgWBgqNGsKAgUBAoCBQE\n",
       "Co4awYKCQEGgIFAQKHjDLFhQECgIFAQK83HUWFlQECgIFAQKAgXvSQcLCgIFgYJAwVEjWFAQKAgU\n",
       "BAoCBc/mgwUFgYJAQaAgUHAWCxYUBAoCBYGCo0awoCBQECgIFAQKjhrBgoJAQaAgUBAozLn323/D\n",
       "T7OgIFAQKAgUHDWCBQWBgkBBoCBQ8NgnWFAQKAgUBAo+pIMFBYGCQEGgIFCYj6caKwsKAgWBgkBB\n",
       "oOAsFiwoCBQECgIFL1AFCwoCBYGCQEGg4IZZsKAgUBAoCBTcDwoWFAQKAgWBgkDBDbNgQUGgIFAQ\n",
       "KAgUXMWCBQWBgkBBoOB788GCgkBBoCBQECg4agQLCgIFgYJAQaDgKhYsKAgUBAoCBR/SwYKCQEGg\n",
       "IFAQKLiKBQsKAgWBgkBhzvMhvbGgIFAQKAgUBAqOGsGCgkBBoCBQECi4igULCgIFgYJAwYd0sKAg\n",
       "UBAoCBQECnPu+/bf8NMsKAgUBAoCBYGCs1iwoCBQECgIFBw1ggUFgYJAQaAgUHDUCBYUBAoCBYGC\n",
       "o0awoCBQECgIFAQKc5w0VhYUBAoCBYGCQGHOcxbbWFAQKAgUBAqOGsGCgkBBoCBQECi4igULCgIF\n",
       "gYJAQaAwfohzZ0FBoCBQECg4agQLCgIFgYJAQaDgKhYsKAgUBAoChTn38+2/4adZUBAoCBQECgKF\n",
       "ec9VbGNBQaAgUBAoCBTcMAsWFAQKAgWBghtmwYKCQEGgIFAQKMy7Gm3UCQIFgYJAwVEjWFAQKAgU\n",
       "BAoChTmeza8sKAgUBAoCBYHCPGexlQUFgYJAQaAwx1ONlTpBoCBQECgIFBw1ggUFgYJAQaAgUPDY\n",
       "J1hQECgIFAQKXgMO6gSBgkBBoCBQ8J50sKAgUBAoCBQ81QgWFAQKAgWBgkBh3tNoo04QKAgUBAoC\n",
       "BTfMggUFgYJAQaDghlmwoCBQECgIFAQKc9wwW6kTBAoCBYGCQMFZLFhQECgIFAQKPqSDBQWBgkBB\n",
       "oCBQ8L35YEFBoCBQECj43nxQJwgUBAoCBYHCPEeNlQUFgYJAQaAgUPDYJ1hQECgIFAQK/jNLUCcI\n",
       "FAQKAgWBghtmwYKCQEGgIFAQKLhhFiwoCBQECgIFR41gQUGgIFAQKAgUvCcd1AkCBYGCQMFRI1hQ\n",
       "ECgIFAQKAgVPNYIFBYGCQEGgIFBwFgsWFAQKAgWBgn+fFSwoCBQECgIFgYJ/ZRzUCQIFgYJAQaDg\n",
       "hlmwoCBQECgIFDybDxYUBAoCBYGCQMFRI1hQECgIFAQKc31IrywoCBQECgIFgYLvzQd1gkBBoCBQ\n",
       "ECi4YRYsKAgUBAoCBR/SwYKCQEGgIFAQKHjDLFhQECgIFAQKjhrBgoJAQaAgUBAouIoFCwoCBYGC\n",
       "QEGg4NdfgjpBoCBQECjM9VRjZUFBoCBQECgIFNwwCxYUBAoCBYGCQMFVLFhQECgIFAQKPqSDBQWB\n",
       "gkBBoCBQ8BtmwYKCQEGgIFBw1AgWFAQKAgWBgkDBVSxYUBAoCBQECgIFX2YJ6gSBgkBBoODLLMGC\n",
       "gkBBoCBQECi4YRYsKAgUBAoCBYGCq1iwoCBQECgIFLwGHCwoCBQECgIFgYKjRrCgIFAQKAgU5h0f\n",
       "0hsLCgIFgYJAQaDghlmwoCBQECgIFAQKbpgFCwoCBYGCQMFRI1hQECgIFAQKAgVHjWBBQaAgUBAo\n",
       "CBScxYIFBYGCQEGg4KgRLCgIFAQKAgWBgqtYsKAgUBAoCBTm+jLLyoKCQEGgIFAQKDhqBAsKAgWB\n",
       "gkBBoODZfLCgIFAQKAgU5r1v/wm/zYKCQEGgIFAQKDhqBAsKAgWBgkDBD00GCwoCBYGCQEGg4KgR\n",
       "LCgIFAQKAgWBgjfMggUFgYJAQaDgyyzBgoJAQaAgUBAoeMMsWFAQKAgUBAoCBY99ggUFgYJAQaDg\n",
       "qUawoCBQECgIFAQKHvsECwoCBYGCQMH9oGBBQaAgUBAoCBQ8mw8WFAQKAgWBgkDBDbNgQUGgIFAQ\n",
       "KHg2HywoCBQECgIFgcLcb/8FP86CgkBBoCBQECg4iwULCgIFgYJAwRtmwYKCQEGgIFAQKLhhFiwo\n",
       "CBQECgIF94OCBQWBgkBBoCBQcNQIFhQECgIFgYJAwVksWFAQKAgUBAqezQcLCgIFgYJAQaAwfvxl\n",
       "Z0FBoCBQECgIFJzFggUFgYJAQaDg2XywoCBQECgIFAQKns0HCwoCBYGCQMFRI1hQECgIFAQKAgVH\n",
       "jWBBQaAgUBAoCBTmesVsZUFBoCBQECi4YRYsKAgUBAoCBYGCG2bBgoJAQaAgUHDUCBYUBAoCBYGC\n",
       "QGGepxorCwoCBYGCQEGgMPe4YbaxoCBQECgIFLxAFSwoCBQECgIFgYIfmgwWFAQKAgWBgkDBD00G\n",
       "CwoCBYGCQMGz+WBBQaAgUBAoCBS8Jx0sKAgUBAoCBd84DBYUBAoCBYGCQMFRI1hQECgIFAQKAgXv\n",
       "SQcLCgIFgYJAwWvAwYKCQEGgIFAQKDhqBAsKAgWBgkBBoOA96WBBQaAgUBAo+ImuYEFBoCBQECgI\n",
       "FNwwCxYUBAoCBYGCZ/PBgoJAQaAgUBAoOGoECwoCBYGCQEGg4CwWLCgIFAQKAgVHjWBBQaAgUBAo\n",
       "CBRcxYIFBYGCQEGgIFBwwyxYUBAoCBQECo4awYKCQEGgIFAQKDhqBAsKAgWBgkDBUSNYUBAoCBQE\n",
       "CgIFP9EVLCgIFAQKAgWBgv8vFiwoCBQECgIFN8yCBQWBgkBBoCBQmHdcxjYWFAQKAgWBgkDBWSxY\n",
       "UBAoCBQECp7NBwsKAgWBgkBBoODZfLCgIFAQKAgU3A8KFhQECgIFgYJAwbP5YEFBoCBQECgIFJzF\n",
       "ggUFgYJAQaDgJ7qCBQWBgkBBoCBQmOsVs5UFBYGCQEGg4AWqYEFBoCBQECgIFOY5aqwsKAgUBAoC\n",
       "BYGCs1iwoCBQECgIFDzVCBYUBAoCBYGCQMEbZsGCgkBBoCBQECjM9ZXMlQUFgYJAQaDghlmwoCBQ\n",
       "ECgIFAQKfv0lWFAQKAgUBApeoAoWFAQKAgWBgkDBU41gQUGgIFAQKAgU3DALFhQECgIFgcLc45bZ\n",
       "xoKCQEGgIFAQKLhhFiwoCBQECgIFgYKrWLCgIFAQKAgUPNUIFhQECgIFgYJAwWOfYEFBoCBQECjM\n",
       "/ThqbCwoCBQECgIFgYKjRrCgIFAQKAgUBArzXMVWFhQECgIFgYKjRrCgIFAQKAgUBApzP65iGwsK\n",
       "AgWBgkBBoOAsFiwoCBQECgIFTzWCBQWBgkBBoCBQcNQIFhQECgIFgYIP6WBBQaAgUBAoCBQ8mw8W\n",
       "FAQKAgWBgkBh3vnz7b/hp1lQECgIFAQKbpgFCwoCBYGCQEGg4A2zYEFBoCBQECjMfe4HbSwoCBQE\n",
       "CgIFgYKjRrCgIFAQKAgUBApzPZtfWVAQKAgUBAqOGsGCgkBBoCBQECg4agQLCgIFgYJAQaAw7zmL\n",
       "bSwoCBQECgIFN8yCBQWBgkBBoCBQ8J50sKAgUBAoCBQcNYIFBYGCQEGgIFCY56ixsqAgUBAoCBQE\n",
       "Cs5iwYKCQEGgIFCY6wWqlQUFgYJAQaAgUPCb9sGCgkBBoCBQECj4MkuwoCBQECgIFDzVCBYUBAoC\n",
       "BYGCQMFRI1hQECgIFAQKPqSDBQWBgkBBoCBQ8Gw+WFAQKAgUBAoCBWexYEFBoCBQECjM8Wx+ZUFB\n",
       "oCBQECgIFBw1ggUFgYJAQaAgUPCedLCgIFAQKAgU5jhqrCwoCBQECgIFgYI3zIIFBYGCQEGg4Nl8\n",
       "sKAgUBAoCBQECm6YBQsKAgWBgkBBoDDvvG//DT/NgoJAQaAgUHDDLFhQECgIFAQKAoU5jhorCwoC\n",
       "BYGCQOE/LrLuTX/wFc8AAAAASUVORK5CYII=\n",
       "\" transform=\"translate(2161, 47)\"/>\n",
       "</g>\n",
       "<path clip-path=\"url(#clip590)\" d=\"M2270.21 1314.21 L2288.57 1314.21 L2288.57 1318.14 L2274.5 1318.14 L2274.5 1326.61 Q2275.52 1326.27 2276.53 1326.1 Q2277.55 1325.92 2278.57 1325.92 Q2284.36 1325.92 2287.74 1329.09 Q2291.12 1332.26 2291.12 1337.68 Q2291.12 1343.26 2287.64 1346.36 Q2284.17 1349.44 2277.85 1349.44 Q2275.68 1349.44 2273.41 1349.07 Q2271.16 1348.7 2268.76 1347.96 L2268.76 1343.26 Q2270.84 1344.39 2273.06 1344.95 Q2275.28 1345.5 2277.76 1345.5 Q2281.77 1345.5 2284.1 1343.4 Q2286.44 1341.29 2286.44 1337.68 Q2286.44 1334.07 2284.1 1331.96 Q2281.77 1329.85 2277.76 1329.85 Q2275.89 1329.85 2274.01 1330.27 Q2272.16 1330.69 2270.21 1331.57 L2270.21 1314.21 Z\" fill=\"#000000\" fill-rule=\"evenodd\" fill-opacity=\"1\" /><path clip-path=\"url(#clip590)\" d=\"M2310.33 1317.29 Q2306.72 1317.29 2304.89 1320.85 Q2303.08 1324.39 2303.08 1331.52 Q2303.08 1338.63 2304.89 1342.19 Q2306.72 1345.73 2310.33 1345.73 Q2313.96 1345.73 2315.77 1342.19 Q2317.6 1338.63 2317.6 1331.52 Q2317.6 1324.39 2315.77 1320.85 Q2313.96 1317.29 2310.33 1317.29 M2310.33 1313.58 Q2316.14 1313.58 2319.2 1318.19 Q2322.27 1322.77 2322.27 1331.52 Q2322.27 1340.25 2319.2 1344.85 Q2316.14 1349.44 2310.33 1349.44 Q2304.52 1349.44 2301.44 1344.85 Q2298.39 1340.25 2298.39 1331.52 Q2298.39 1322.77 2301.44 1318.19 Q2304.52 1313.58 2310.33 1313.58 Z\" fill=\"#000000\" fill-rule=\"evenodd\" fill-opacity=\"1\" /><path clip-path=\"url(#clip590)\" d=\"M2269.43 1190.41 L2277.07 1190.41 L2277.07 1164.04 L2268.76 1165.71 L2268.76 1161.45 L2277.02 1159.79 L2281.7 1159.79 L2281.7 1190.41 L2289.33 1190.41 L2289.33 1194.35 L2269.43 1194.35 L2269.43 1190.41 Z\" fill=\"#000000\" fill-rule=\"evenodd\" fill-opacity=\"1\" /><path clip-path=\"url(#clip590)\" d=\"M2308.78 1162.86 Q2305.17 1162.86 2303.34 1166.43 Q2301.53 1169.97 2301.53 1177.1 Q2301.53 1184.21 2303.34 1187.77 Q2305.17 1191.31 2308.78 1191.31 Q2312.41 1191.31 2314.22 1187.77 Q2316.05 1184.21 2316.05 1177.1 Q2316.05 1169.97 2314.22 1166.43 Q2312.41 1162.86 2308.78 1162.86 M2308.78 1159.16 Q2314.59 1159.16 2317.64 1163.77 Q2320.72 1168.35 2320.72 1177.1 Q2320.72 1185.83 2317.64 1190.43 Q2314.59 1195.02 2308.78 1195.02 Q2302.97 1195.02 2299.89 1190.43 Q2296.83 1185.83 2296.83 1177.1 Q2296.83 1168.35 2299.89 1163.77 Q2302.97 1159.16 2308.78 1159.16 Z\" fill=\"#000000\" fill-rule=\"evenodd\" fill-opacity=\"1\" /><path clip-path=\"url(#clip590)\" d=\"M2338.94 1162.86 Q2335.33 1162.86 2333.5 1166.43 Q2331.7 1169.97 2331.7 1177.1 Q2331.7 1184.21 2333.5 1187.77 Q2335.33 1191.31 2338.94 1191.31 Q2342.57 1191.31 2344.38 1187.77 Q2346.21 1184.21 2346.21 1177.1 Q2346.21 1169.97 2344.38 1166.43 Q2342.57 1162.86 2338.94 1162.86 M2338.94 1159.16 Q2344.75 1159.16 2347.81 1163.77 Q2350.89 1168.35 2350.89 1177.1 Q2350.89 1185.83 2347.81 1190.43 Q2344.75 1195.02 2338.94 1195.02 Q2333.13 1195.02 2330.05 1190.43 Q2327 1185.83 2327 1177.1 Q2327 1168.35 2330.05 1163.77 Q2333.13 1159.16 2338.94 1159.16 Z\" fill=\"#000000\" fill-rule=\"evenodd\" fill-opacity=\"1\" /><path clip-path=\"url(#clip590)\" d=\"M2269.43 1035.99 L2277.07 1035.99 L2277.07 1009.62 L2268.76 1011.29 L2268.76 1007.03 L2277.02 1005.36 L2281.7 1005.36 L2281.7 1035.99 L2289.33 1035.99 L2289.33 1039.92 L2269.43 1039.92 L2269.43 1035.99 Z\" fill=\"#000000\" fill-rule=\"evenodd\" fill-opacity=\"1\" /><path clip-path=\"url(#clip590)\" d=\"M2298.83 1005.36 L2317.18 1005.36 L2317.18 1009.3 L2303.11 1009.3 L2303.11 1017.77 Q2304.13 1017.42 2305.14 1017.26 Q2306.16 1017.08 2307.18 1017.08 Q2312.97 1017.08 2316.35 1020.25 Q2319.73 1023.42 2319.73 1028.84 Q2319.73 1034.42 2316.26 1037.52 Q2312.78 1040.6 2306.46 1040.6 Q2304.29 1040.6 2302.02 1040.23 Q2299.77 1039.86 2297.37 1039.11 L2297.37 1034.42 Q2299.45 1035.55 2301.67 1036.11 Q2303.89 1036.66 2306.37 1036.66 Q2310.38 1036.66 2312.71 1034.55 Q2315.05 1032.45 2315.05 1028.84 Q2315.05 1025.23 2312.71 1023.12 Q2310.38 1021.01 2306.37 1021.01 Q2304.5 1021.01 2302.62 1021.43 Q2300.77 1021.85 2298.83 1022.73 L2298.83 1005.36 Z\" fill=\"#000000\" fill-rule=\"evenodd\" fill-opacity=\"1\" /><path clip-path=\"url(#clip590)\" d=\"M2338.94 1008.44 Q2335.33 1008.44 2333.5 1012.01 Q2331.7 1015.55 2331.7 1022.68 Q2331.7 1029.79 2333.5 1033.35 Q2335.33 1036.89 2338.94 1036.89 Q2342.57 1036.89 2344.38 1033.35 Q2346.21 1029.79 2346.21 1022.68 Q2346.21 1015.55 2344.38 1012.01 Q2342.57 1008.44 2338.94 1008.44 M2338.94 1004.74 Q2344.75 1004.74 2347.81 1009.35 Q2350.89 1013.93 2350.89 1022.68 Q2350.89 1031.41 2347.81 1036.01 Q2344.75 1040.6 2338.94 1040.6 Q2333.13 1040.6 2330.05 1036.01 Q2327 1031.41 2327 1022.68 Q2327 1013.93 2330.05 1009.35 Q2333.13 1004.74 2338.94 1004.74 Z\" fill=\"#000000\" fill-rule=\"evenodd\" fill-opacity=\"1\" /><path clip-path=\"url(#clip590)\" d=\"M2274.38 881.568 L2290.7 881.568 L2290.7 885.503 L2268.76 885.503 L2268.76 881.568 Q2271.42 878.814 2276 874.184 Q2280.61 869.531 2281.79 868.189 Q2284.03 865.666 2284.91 863.93 Q2285.82 862.17 2285.82 860.48 Q2285.82 857.726 2283.87 855.99 Q2281.95 854.254 2278.85 854.254 Q2276.65 854.254 2274.2 855.018 Q2271.77 855.781 2268.99 857.332 L2268.99 852.61 Q2271.81 851.476 2274.27 850.897 Q2276.72 850.318 2278.76 850.318 Q2284.13 850.318 2287.32 853.004 Q2290.52 855.689 2290.52 860.18 Q2290.52 862.309 2289.7 864.23 Q2288.92 866.129 2286.81 868.721 Q2286.23 869.392 2283.13 872.61 Q2280.03 875.804 2274.38 881.568 Z\" fill=\"#000000\" fill-rule=\"evenodd\" fill-opacity=\"1\" /><path clip-path=\"url(#clip590)\" d=\"M2310.51 854.022 Q2306.9 854.022 2305.08 857.587 Q2303.27 861.129 2303.27 868.258 Q2303.27 875.365 2305.08 878.929 Q2306.9 882.471 2310.51 882.471 Q2314.15 882.471 2315.95 878.929 Q2317.78 875.365 2317.78 868.258 Q2317.78 861.129 2315.95 857.587 Q2314.15 854.022 2310.51 854.022 M2310.51 850.318 Q2316.33 850.318 2319.38 854.925 Q2322.46 859.508 2322.46 868.258 Q2322.46 876.985 2319.38 881.591 Q2316.33 886.175 2310.51 886.175 Q2304.7 886.175 2301.63 881.591 Q2298.57 876.985 2298.57 868.258 Q2298.57 859.508 2301.63 854.925 Q2304.7 850.318 2310.51 850.318 Z\" fill=\"#000000\" fill-rule=\"evenodd\" fill-opacity=\"1\" /><path clip-path=\"url(#clip590)\" d=\"M2340.68 854.022 Q2337.07 854.022 2335.24 857.587 Q2333.43 861.129 2333.43 868.258 Q2333.43 875.365 2335.24 878.929 Q2337.07 882.471 2340.68 882.471 Q2344.31 882.471 2346.12 878.929 Q2347.95 875.365 2347.95 868.258 Q2347.95 861.129 2346.12 857.587 Q2344.31 854.022 2340.68 854.022 M2340.68 850.318 Q2346.49 850.318 2349.54 854.925 Q2352.62 859.508 2352.62 868.258 Q2352.62 876.985 2349.54 881.591 Q2346.49 886.175 2340.68 886.175 Q2334.87 886.175 2331.79 881.591 Q2328.73 876.985 2328.73 868.258 Q2328.73 859.508 2331.79 854.925 Q2334.87 850.318 2340.68 850.318 Z\" fill=\"#000000\" fill-rule=\"evenodd\" fill-opacity=\"1\" /><path clip-path=\"url(#clip590)\" d=\"M2274.38 727.147 L2290.7 727.147 L2290.7 731.082 L2268.76 731.082 L2268.76 727.147 Q2271.42 724.393 2276 719.763 Q2280.61 715.11 2281.79 713.768 Q2284.03 711.245 2284.91 709.509 Q2285.82 707.749 2285.82 706.059 Q2285.82 703.305 2283.87 701.569 Q2281.95 699.833 2278.85 699.833 Q2276.65 699.833 2274.2 700.597 Q2271.77 701.36 2268.99 702.911 L2268.99 698.189 Q2271.81 697.055 2274.27 696.476 Q2276.72 695.897 2278.76 695.897 Q2284.13 695.897 2287.32 698.583 Q2290.52 701.268 2290.52 705.759 Q2290.52 707.888 2289.7 709.809 Q2288.92 711.708 2286.81 714.3 Q2286.23 714.971 2283.13 718.189 Q2280.03 721.383 2274.38 727.147 Z\" fill=\"#000000\" fill-rule=\"evenodd\" fill-opacity=\"1\" /><path clip-path=\"url(#clip590)\" d=\"M2300.56 696.522 L2318.92 696.522 L2318.92 700.458 L2304.84 700.458 L2304.84 708.93 Q2305.86 708.583 2306.88 708.421 Q2307.9 708.235 2308.92 708.235 Q2314.7 708.235 2318.08 711.407 Q2321.46 714.578 2321.46 719.995 Q2321.46 725.573 2317.99 728.675 Q2314.52 731.754 2308.2 731.754 Q2306.02 731.754 2303.76 731.383 Q2301.51 731.013 2299.1 730.272 L2299.1 725.573 Q2301.19 726.707 2303.41 727.263 Q2305.63 727.819 2308.11 727.819 Q2312.11 727.819 2314.45 725.712 Q2316.79 723.606 2316.79 719.995 Q2316.79 716.383 2314.45 714.277 Q2312.11 712.171 2308.11 712.171 Q2306.23 712.171 2304.36 712.587 Q2302.51 713.004 2300.56 713.883 L2300.56 696.522 Z\" fill=\"#000000\" fill-rule=\"evenodd\" fill-opacity=\"1\" /><path clip-path=\"url(#clip590)\" d=\"M2340.68 699.601 Q2337.07 699.601 2335.24 703.166 Q2333.43 706.708 2333.43 713.837 Q2333.43 720.944 2335.24 724.508 Q2337.07 728.05 2340.68 728.05 Q2344.31 728.05 2346.12 724.508 Q2347.95 720.944 2347.95 713.837 Q2347.95 706.708 2346.12 703.166 Q2344.31 699.601 2340.68 699.601 M2340.68 695.897 Q2346.49 695.897 2349.54 700.504 Q2352.62 705.087 2352.62 713.837 Q2352.62 722.564 2349.54 727.17 Q2346.49 731.754 2340.68 731.754 Q2334.87 731.754 2331.79 727.17 Q2328.73 722.564 2328.73 713.837 Q2328.73 705.087 2331.79 700.504 Q2334.87 695.897 2340.68 695.897 Z\" fill=\"#000000\" fill-rule=\"evenodd\" fill-opacity=\"1\" /><path clip-path=\"url(#clip590)\" d=\"M2284.38 558.027 Q2287.74 558.745 2289.61 561.013 Q2291.51 563.282 2291.51 566.615 Q2291.51 571.731 2287.99 574.532 Q2284.47 577.333 2277.99 577.333 Q2275.82 577.333 2273.5 576.893 Q2271.21 576.476 2268.76 575.62 L2268.76 571.106 Q2270.7 572.24 2273.02 572.819 Q2275.33 573.398 2277.85 573.398 Q2282.25 573.398 2284.54 571.661 Q2286.86 569.925 2286.86 566.615 Q2286.86 563.56 2284.7 561.847 Q2282.58 560.111 2278.76 560.111 L2274.73 560.111 L2274.73 556.268 L2278.94 556.268 Q2282.39 556.268 2284.22 554.902 Q2286.05 553.513 2286.05 550.921 Q2286.05 548.259 2284.15 546.847 Q2282.27 545.412 2278.76 545.412 Q2276.83 545.412 2274.64 545.828 Q2272.44 546.245 2269.8 547.125 L2269.8 542.958 Q2272.46 542.217 2274.77 541.847 Q2277.11 541.476 2279.17 541.476 Q2284.5 541.476 2287.6 543.907 Q2290.7 546.314 2290.7 550.435 Q2290.7 553.305 2289.06 555.296 Q2287.41 557.263 2284.38 558.027 Z\" fill=\"#000000\" fill-rule=\"evenodd\" fill-opacity=\"1\" /><path clip-path=\"url(#clip590)\" d=\"M2310.38 545.18 Q2306.76 545.18 2304.94 548.745 Q2303.13 552.287 2303.13 559.416 Q2303.13 566.523 2304.94 570.087 Q2306.76 573.629 2310.38 573.629 Q2314.01 573.629 2315.82 570.087 Q2317.64 566.523 2317.64 559.416 Q2317.64 552.287 2315.82 548.745 Q2314.01 545.18 2310.38 545.18 M2310.38 541.476 Q2316.19 541.476 2319.24 546.083 Q2322.32 550.666 2322.32 559.416 Q2322.32 568.143 2319.24 572.749 Q2316.19 577.333 2310.38 577.333 Q2304.57 577.333 2301.49 572.749 Q2298.43 568.143 2298.43 559.416 Q2298.43 550.666 2301.49 546.083 Q2304.57 541.476 2310.38 541.476 Z\" fill=\"#000000\" fill-rule=\"evenodd\" fill-opacity=\"1\" /><path clip-path=\"url(#clip590)\" d=\"M2340.54 545.18 Q2336.93 545.18 2335.1 548.745 Q2333.29 552.287 2333.29 559.416 Q2333.29 566.523 2335.1 570.087 Q2336.93 573.629 2340.54 573.629 Q2344.17 573.629 2345.98 570.087 Q2347.81 566.523 2347.81 559.416 Q2347.81 552.287 2345.98 548.745 Q2344.17 545.18 2340.54 545.18 M2340.54 541.476 Q2346.35 541.476 2349.4 546.083 Q2352.48 550.666 2352.48 559.416 Q2352.48 568.143 2349.4 572.749 Q2346.35 577.333 2340.54 577.333 Q2334.73 577.333 2331.65 572.749 Q2328.59 568.143 2328.59 559.416 Q2328.59 550.666 2331.65 546.083 Q2334.73 541.476 2340.54 541.476 Z\" fill=\"#000000\" fill-rule=\"evenodd\" fill-opacity=\"1\" /><path clip-path=\"url(#clip590)\" d=\"M2284.38 403.606 Q2287.74 404.324 2289.61 406.592 Q2291.51 408.861 2291.51 412.194 Q2291.51 417.31 2287.99 420.111 Q2284.47 422.912 2277.99 422.912 Q2275.82 422.912 2273.5 422.472 Q2271.21 422.055 2268.76 421.199 L2268.76 416.685 Q2270.7 417.819 2273.02 418.398 Q2275.33 418.977 2277.85 418.977 Q2282.25 418.977 2284.54 417.24 Q2286.86 415.504 2286.86 412.194 Q2286.86 409.139 2284.7 407.426 Q2282.58 405.69 2278.76 405.69 L2274.73 405.69 L2274.73 401.847 L2278.94 401.847 Q2282.39 401.847 2284.22 400.481 Q2286.05 399.092 2286.05 396.5 Q2286.05 393.838 2284.15 392.426 Q2282.27 390.991 2278.76 390.991 Q2276.83 390.991 2274.64 391.407 Q2272.44 391.824 2269.8 392.704 L2269.8 388.537 Q2272.46 387.796 2274.77 387.426 Q2277.11 387.055 2279.17 387.055 Q2284.5 387.055 2287.6 389.486 Q2290.7 391.893 2290.7 396.014 Q2290.7 398.884 2289.06 400.875 Q2287.41 402.842 2284.38 403.606 Z\" fill=\"#000000\" fill-rule=\"evenodd\" fill-opacity=\"1\" /><path clip-path=\"url(#clip590)\" d=\"M2300.42 387.68 L2318.78 387.68 L2318.78 391.616 L2304.7 391.616 L2304.7 400.088 Q2305.72 399.741 2306.74 399.579 Q2307.76 399.393 2308.78 399.393 Q2314.57 399.393 2317.95 402.565 Q2321.33 405.736 2321.33 411.153 Q2321.33 416.731 2317.85 419.833 Q2314.38 422.912 2308.06 422.912 Q2305.89 422.912 2303.62 422.541 Q2301.37 422.171 2298.96 421.43 L2298.96 416.731 Q2301.05 417.865 2303.27 418.421 Q2305.49 418.977 2307.97 418.977 Q2311.97 418.977 2314.31 416.87 Q2316.65 414.764 2316.65 411.153 Q2316.65 407.541 2314.31 405.435 Q2311.97 403.329 2307.97 403.329 Q2306.09 403.329 2304.22 403.745 Q2302.37 404.162 2300.42 405.041 L2300.42 387.68 Z\" fill=\"#000000\" fill-rule=\"evenodd\" fill-opacity=\"1\" /><path clip-path=\"url(#clip590)\" d=\"M2340.54 390.759 Q2336.93 390.759 2335.1 394.324 Q2333.29 397.866 2333.29 404.995 Q2333.29 412.102 2335.1 415.666 Q2336.93 419.208 2340.54 419.208 Q2344.17 419.208 2345.98 415.666 Q2347.81 412.102 2347.81 404.995 Q2347.81 397.866 2345.98 394.324 Q2344.17 390.759 2340.54 390.759 M2340.54 387.055 Q2346.35 387.055 2349.4 391.662 Q2352.48 396.245 2352.48 404.995 Q2352.48 413.722 2349.4 418.328 Q2346.35 422.912 2340.54 422.912 Q2334.73 422.912 2331.65 418.328 Q2328.59 413.722 2328.59 404.995 Q2328.59 396.245 2331.65 391.662 Q2334.73 387.055 2340.54 387.055 Z\" fill=\"#000000\" fill-rule=\"evenodd\" fill-opacity=\"1\" /><path clip-path=\"url(#clip590)\" d=\"M2284.36 237.333 L2272.55 255.782 L2284.36 255.782 L2284.36 237.333 M2283.13 233.259 L2289.01 233.259 L2289.01 255.782 L2293.94 255.782 L2293.94 259.671 L2289.01 259.671 L2289.01 267.819 L2284.36 267.819 L2284.36 259.671 L2268.76 259.671 L2268.76 255.157 L2283.13 233.259 Z\" fill=\"#000000\" fill-rule=\"evenodd\" fill-opacity=\"1\" /><path clip-path=\"url(#clip590)\" d=\"M2311.67 236.338 Q2308.06 236.338 2306.23 239.903 Q2304.43 243.445 2304.43 250.574 Q2304.43 257.681 2306.23 261.245 Q2308.06 264.787 2311.67 264.787 Q2315.31 264.787 2317.11 261.245 Q2318.94 257.681 2318.94 250.574 Q2318.94 243.445 2317.11 239.903 Q2315.31 236.338 2311.67 236.338 M2311.67 232.634 Q2317.48 232.634 2320.54 237.241 Q2323.62 241.824 2323.62 250.574 Q2323.62 259.301 2320.54 263.907 Q2317.48 268.491 2311.67 268.491 Q2305.86 268.491 2302.78 263.907 Q2299.73 259.301 2299.73 250.574 Q2299.73 241.824 2302.78 237.241 Q2305.86 232.634 2311.67 232.634 Z\" fill=\"#000000\" fill-rule=\"evenodd\" fill-opacity=\"1\" /><path clip-path=\"url(#clip590)\" d=\"M2341.83 236.338 Q2338.22 236.338 2336.39 239.903 Q2334.59 243.445 2334.59 250.574 Q2334.59 257.681 2336.39 261.245 Q2338.22 264.787 2341.83 264.787 Q2345.47 264.787 2347.27 261.245 Q2349.1 257.681 2349.1 250.574 Q2349.1 243.445 2347.27 239.903 Q2345.47 236.338 2341.83 236.338 M2341.83 232.634 Q2347.64 232.634 2350.7 237.241 Q2353.78 241.824 2353.78 250.574 Q2353.78 259.301 2350.7 263.907 Q2347.64 268.491 2341.83 268.491 Q2336.02 268.491 2332.95 263.907 Q2329.89 259.301 2329.89 250.574 Q2329.89 241.824 2332.95 237.241 Q2336.02 232.634 2341.83 232.634 Z\" fill=\"#000000\" fill-rule=\"evenodd\" fill-opacity=\"1\" /><path clip-path=\"url(#clip590)\" d=\"M2284.36 82.9125 L2272.55 101.361 L2284.36 101.361 L2284.36 82.9125 M2283.13 78.8384 L2289.01 78.8384 L2289.01 101.361 L2293.94 101.361 L2293.94 105.25 L2289.01 105.25 L2289.01 113.398 L2284.36 113.398 L2284.36 105.25 L2268.76 105.25 L2268.76 100.736 L2283.13 78.8384 Z\" fill=\"#000000\" fill-rule=\"evenodd\" fill-opacity=\"1\" /><path clip-path=\"url(#clip590)\" d=\"M2301.72 78.8384 L2320.08 78.8384 L2320.08 82.7736 L2306 82.7736 L2306 91.2458 Q2307.02 90.8986 2308.04 90.7365 Q2309.06 90.5513 2310.08 90.5513 Q2315.86 90.5513 2319.24 93.7226 Q2322.62 96.8939 2322.62 102.311 Q2322.62 107.889 2319.15 110.991 Q2315.68 114.07 2309.36 114.07 Q2307.18 114.07 2304.91 113.699 Q2302.67 113.329 2300.26 112.588 L2300.26 107.889 Q2302.34 109.023 2304.57 109.579 Q2306.79 110.135 2309.26 110.135 Q2313.27 110.135 2315.61 108.028 Q2317.95 105.922 2317.95 102.311 Q2317.95 98.6994 2315.61 96.593 Q2313.27 94.4865 2309.26 94.4865 Q2307.39 94.4865 2305.51 94.9032 Q2303.66 95.3198 2301.72 96.1995 L2301.72 78.8384 Z\" fill=\"#000000\" fill-rule=\"evenodd\" fill-opacity=\"1\" /><path clip-path=\"url(#clip590)\" d=\"M2341.83 81.9171 Q2338.22 81.9171 2336.39 85.4819 Q2334.59 89.0236 2334.59 96.1532 Q2334.59 103.26 2336.39 106.824 Q2338.22 110.366 2341.83 110.366 Q2345.47 110.366 2347.27 106.824 Q2349.1 103.26 2349.1 96.1532 Q2349.1 89.0236 2347.27 85.4819 Q2345.47 81.9171 2341.83 81.9171 M2341.83 78.2134 Q2347.64 78.2134 2350.7 82.8199 Q2353.78 87.4032 2353.78 96.1532 Q2353.78 104.88 2350.7 109.486 Q2347.64 114.07 2341.83 114.07 Q2336.02 114.07 2332.95 109.486 Q2329.89 104.88 2329.89 96.1532 Q2329.89 87.4032 2332.95 82.8199 Q2336.02 78.2134 2341.83 78.2134 Z\" fill=\"#000000\" fill-rule=\"evenodd\" fill-opacity=\"1\" /><polyline clip-path=\"url(#clip590)\" style=\"stroke:#000000; stroke-linecap:butt; stroke-linejoin:round; stroke-width:4; stroke-opacity:1; fill:none\" points=\"\n",
       "  2232.76,1486.45 2232.76,1335.12 2256.76,1335.12 2232.76,1335.12 2232.76,1180.69 2256.76,1180.69 2232.76,1180.69 2232.76,1026.27 2256.76,1026.27 2232.76,1026.27 \n",
       "  2232.76,871.852 2256.76,871.852 2232.76,871.852 2232.76,717.431 2256.76,717.431 2232.76,717.431 2232.76,563.01 2256.76,563.01 2232.76,563.01 2232.76,408.589 \n",
       "  2256.76,408.589 2232.76,408.589 2232.76,254.168 2256.76,254.168 2232.76,254.168 2232.76,99.7472 2256.76,99.7472 2232.76,99.7472 2232.76,47.2441 \n",
       "  \"/>\n",
       "</svg>\n"
      ]
     },
     "execution_count": 54,
     "metadata": {},
     "output_type": "execute_result"
    }
   ],
   "source": [
    "histogram2d(randn(1_000_000), rand(1_000_000), bins=100)"
   ]
  },
  {
   "cell_type": "markdown",
   "id": "4900efec-b26f-4eb0-af2e-13d59ca32a67",
   "metadata": {},
   "source": [
    "### Apropos Python"
   ]
  },
  {
   "cell_type": "code",
   "execution_count": 55,
   "id": "d93b565b-d67f-4321-8468-3d48d86fc30b",
   "metadata": {},
   "outputs": [],
   "source": [
    "using PyCall"
   ]
  },
  {
   "cell_type": "code",
   "execution_count": 56,
   "id": "676ac025-27e6-4b23-9674-cf1d7cfdf30c",
   "metadata": {},
   "outputs": [
    {
     "data": {
      "text/plain": [
       "PyObject <module 'numpy' from '/Users/tamasgal/.julia/conda/3/lib/python3.8/site-packages/numpy/__init__.py'>"
      ]
     },
     "execution_count": 56,
     "metadata": {},
     "output_type": "execute_result"
    }
   ],
   "source": [
    "np = pyimport(\"numpy\")"
   ]
  },
  {
   "cell_type": "code",
   "execution_count": 57,
   "id": "6abdf4e9-bf42-4928-8282-eb01801b174d",
   "metadata": {},
   "outputs": [
    {
     "data": {
      "text/plain": [
       "5×5 Matrix{Float64}:\n",
       " 1.0  0.0  0.0  0.0  0.0\n",
       " 0.0  1.0  0.0  0.0  0.0\n",
       " 0.0  0.0  1.0  0.0  0.0\n",
       " 0.0  0.0  0.0  1.0  0.0\n",
       " 0.0  0.0  0.0  0.0  1.0"
      ]
     },
     "execution_count": 57,
     "metadata": {},
     "output_type": "execute_result"
    }
   ],
   "source": [
    "np.eye(5)"
   ]
  },
  {
   "cell_type": "code",
   "execution_count": 58,
   "id": "56626c1c-c0dc-465b-bd0a-5466ca7579a8",
   "metadata": {},
   "outputs": [
    {
     "data": {
      "text/plain": [
       "5×5 Matrix{Float64}:\n",
       " 0.452819  0.338439  0.279623  0.590659   0.0399787\n",
       " 0.943147  0.688968  0.445881  0.132281   0.750715\n",
       " 0.338322  0.369422  0.157111  0.0352246  0.653881\n",
       " 0.125735  0.518431  0.096495  0.372935   0.943208\n",
       " 0.564555  0.897389  0.298043  0.103134   0.739031"
      ]
     },
     "execution_count": 58,
     "metadata": {},
     "output_type": "execute_result"
    }
   ],
   "source": [
    "np.eye(5) * rand(5, 5)"
   ]
  },
  {
   "cell_type": "code",
   "execution_count": 59,
   "id": "bf468801-1195-40da-8ee8-4e80fa95b5c0",
   "metadata": {},
   "outputs": [
    {
     "data": {
      "text/plain": [
       "100-element Vector{Float64}:\n",
       "  0.0\n",
       "  0.10101010101010101\n",
       "  0.20202020202020202\n",
       "  0.30303030303030304\n",
       "  0.40404040404040403\n",
       "  0.5050505050505051\n",
       "  0.6060606060606061\n",
       "  0.7070707070707071\n",
       "  0.8080808080808081\n",
       "  0.9090909090909091\n",
       "  1.0101010101010102\n",
       "  1.1111111111111112\n",
       "  1.2121212121212122\n",
       "  ⋮\n",
       "  8.88888888888889\n",
       "  8.98989898989899\n",
       "  9.09090909090909\n",
       "  9.191919191919192\n",
       "  9.292929292929292\n",
       "  9.393939393939394\n",
       "  9.494949494949495\n",
       "  9.595959595959595\n",
       "  9.696969696969697\n",
       "  9.797979797979798\n",
       "  9.8989898989899\n",
       " 10.0"
      ]
     },
     "execution_count": 59,
     "metadata": {},
     "output_type": "execute_result"
    }
   ],
   "source": [
    "np.linspace(0, 10, 100)"
   ]
  },
  {
   "cell_type": "code",
   "execution_count": 1,
   "id": "d8ffbce1-a636-43db-a3f5-b150c26de08a",
   "metadata": {},
   "outputs": [],
   "source": [
    "using PyPlot"
   ]
  },
  {
   "cell_type": "code",
   "execution_count": 4,
   "id": "4903a50c-28d0-4c5a-a77c-cce852f10b06",
   "metadata": {},
   "outputs": [
    {
     "data": {
      "image/png": "[encoded data removed]",
      "text/plain": [
       "Figure(PyObject <Figure size 640x480 with 1 Axes>)"
      ]
     },
     "metadata": {},
     "output_type": "display_data"
    },
    {
     "data": {
      "text/plain": [
       "1-element Vector{PyCall.PyObject}:\n",
       " PyObject <matplotlib.lines.Line2D object at 0x7ff251c458e0>"
      ]
     },
     "execution_count": 4,
     "metadata": {},
     "output_type": "execute_result"
    }
   ],
   "source": [
    "xs = 1:100\n",
    "plot(xs, cos.(xs))"
   ]
  },
  {
   "cell_type": "code",
   "execution_count": null,
   "id": "f762420c-79af-493a-ac8e-5d85637b5b9c",
   "metadata": {},
   "outputs": [],
   "source": []
  }
 ],
 "metadata": {
  "kernelspec": {
   "display_name": "Julia 1.6.1",
   "language": "julia",
   "name": "julia-1.6"
  },
  "language_info": {
   "file_extension": ".jl",
   "mimetype": "application/julia",
   "name": "julia",
   "version": "1.6.1"
  }
 },
 "nbformat": 4,
 "nbformat_minor": 5
}
