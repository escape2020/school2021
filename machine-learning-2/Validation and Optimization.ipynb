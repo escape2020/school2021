{
 "cells": [
  {
   "cell_type": "markdown",
   "metadata": {},
   "source": [
    "# ESCAPE Summer School Validation Lecture Excercises"
   ]
  },
  {
   "cell_type": "markdown",
   "metadata": {},
   "source": [
    "## Figures of Merit\n",
    "\n",
    "COVID-19 self test says \n",
    "\n",
    "\n",
    "| PCR reference | self test positive | self test negative |\n",
    "|---------------|--------------------|--------------------|\n",
    "| positive      |                103 |                  5 |\n",
    "| negative      |                  1 |                114 |\n"
   ]
  },
  {
   "cell_type": "markdown",
   "metadata": {},
   "source": []
  },
  {
   "cell_type": "code",
   "execution_count": 1,
   "metadata": {},
   "outputs": [
    {
     "name": "stdout",
     "output_type": "stream",
     "text": [
      "[[103   5]\n",
      " [  1 114]]\n"
     ]
    }
   ],
   "source": [
    "import numpy as np\n",
    "confusionmatrix = np.array ([[103, 5],[1,114]])\n",
    "print(confusionmatrix)"
   ]
  },
  {
   "cell_type": "markdown",
   "metadata": {},
   "source": [
    "sensitivity & specificity: "
   ]
  },
  {
   "cell_type": "code",
   "execution_count": 2,
   "metadata": {},
   "outputs": [
    {
     "name": "stdout",
     "output_type": "stream",
     "text": [
      "0.9537037037037037\n",
      "0.991304347826087\n"
     ]
    }
   ],
   "source": [
    "sens, spec = np.diag(confusionmatrix) / np.sum(confusionmatrix, axis=1)\n",
    "print(sens)\n",
    "print(spec)"
   ]
  },
  {
   "cell_type": "code",
   "execution_count": 3,
   "metadata": {},
   "outputs": [
    {
     "name": "stdout",
     "output_type": "stream",
     "text": [
      "0.9903846153846154\n",
      "0.957983193277311\n"
     ]
    }
   ],
   "source": [
    "PPV, NPV = np.diag(confusionmatrix) / np.sum(confusionmatrix, axis=0)\n",
    "print(PPV)\n",
    "print(NPV)"
   ]
  },
  {
   "cell_type": "markdown",
   "metadata": {},
   "source": [
    "but: current incidence is 11.6 cases / (100k inhabitants * week) \n",
    "assume 3 days until detected "
   ]
  },
  {
   "cell_type": "code",
   "execution_count": 4,
   "metadata": {
    "scrolled": true
   },
   "outputs": [
    {
     "name": "stdout",
     "output_type": "stream",
     "text": [
      "0.00018228571428571428\n",
      "5485.8934169279\n"
     ]
    }
   ],
   "source": [
    "incidence = 11.6 / 100000 / 7 # per inhabitant and day\n",
    "prob_true_pos = incidence * 3 + incidence * 1.0 * 8  \n",
    "print(prob_true_pos)\n",
    "print(1/prob_true_pos)"
   ]
  },
  {
   "cell_type": "code",
   "execution_count": 5,
   "metadata": {},
   "outputs": [
    {
     "name": "stdout",
     "output_type": "stream",
     "text": [
      "[[0.9537037  0.0462963 ]\n",
      " [0.00869565 0.99130435]]\n",
      "[[1.73846561e-04 8.43915344e-06]\n",
      " [8.69406708e-03 9.91123647e-01]]\n"
     ]
    }
   ],
   "source": [
    "confusionmatrix_incidence_corr = confusionmatrix / np.sum(confusionmatrix, axis=1, keepdims=True)\n",
    "print(confusionmatrix_incidence_corr)\n",
    "\n",
    "confusionmatrix_incidence_corr [0, :] *= prob_true_pos\n",
    "confusionmatrix_incidence_corr [1, :] *= (1 - prob_true_pos)\n",
    "print(confusionmatrix_incidence_corr)"
   ]
  },
  {
   "cell_type": "code",
   "execution_count": 6,
   "metadata": {},
   "outputs": [
    {
     "data": {
      "text/plain": [
       "array([0.9537037 , 0.99130435])"
      ]
     },
     "execution_count": 6,
     "metadata": {},
     "output_type": "execute_result"
    }
   ],
   "source": [
    "np.diag(confusionmatrix_incidence_corr) / np.sum(confusionmatrix_incidence_corr, axis=1)"
   ]
  },
  {
   "cell_type": "code",
   "execution_count": 7,
   "metadata": {},
   "outputs": [
    {
     "name": "stdout",
     "output_type": "stream",
     "text": [
      "0.01960399794955076\n",
      "0.999991485339285\n"
     ]
    }
   ],
   "source": [
    "PPV, NPV = np.diag(confusionmatrix_incidence_corr) / np.sum(confusionmatrix_incidence_corr, axis=0)\n",
    "print(PPV)\n",
    "print(NPV)"
   ]
  },
  {
   "cell_type": "markdown",
   "metadata": {},
   "source": [
    "probability positive test is correct 1 / 51\n",
    "odds positive test is correct 1 : 50\n",
    "odds person is infected 1 : 5500"
   ]
  },
  {
   "cell_type": "code",
   "execution_count": 8,
   "metadata": {},
   "outputs": [
    {
     "name": "stdout",
     "output_type": "stream",
     "text": [
      "109.67592592592656\n",
      "21.412173913043485\n"
     ]
    }
   ],
   "source": [
    "LR_pos = sens / (1 - spec)\n",
    "print(LR_pos)\n",
    "LR_neg = spec / (1 - sens)\n",
    "print(LR_neg)"
   ]
  },
  {
   "cell_type": "code",
   "execution_count": 9,
   "metadata": {},
   "outputs": [
    {
     "name": "stdout",
     "output_type": "stream",
     "text": [
      "[[103   5]\n",
      " [  1 114]]\n",
      "0.9537037037037037\n"
     ]
    },
    {
     "data": {
      "text/plain": [
       "array([0.92428858, 0.96657356])"
      ]
     },
     "execution_count": 9,
     "metadata": {},
     "output_type": "execute_result"
    }
   ],
   "source": [
    "print(confusionmatrix)\n",
    "print(sens)\n",
    "import astropy.stats as ap\n",
    "ap.binom_conf_interval(confusionmatrix[0,0], sum(confusionmatrix[0,:]), interval='flat')"
   ]
  },
  {
   "cell_type": "code",
   "execution_count": 10,
   "metadata": {},
   "outputs": [
    {
     "name": "stdout",
     "output_type": "stream",
     "text": [
      ".. _digits_dataset:\n",
      "\n",
      "Optical recognition of handwritten digits dataset\n",
      "--------------------------------------------------\n",
      "\n",
      "**Data Set Characteristics:**\n",
      "\n",
      "    :Number of Instances: 1797\n",
      "    :Number of Attributes: 64\n",
      "    :Attribute Information: 8x8 image of integer pixels in the range 0..16.\n",
      "    :Missing Attribute Values: None\n",
      "    :Creator: E. Alpaydin (alpaydin '@' boun.edu.tr)\n",
      "    :Date: July; 1998\n",
      "\n",
      "This is a copy of the test set of the UCI ML hand-written digits datasets\n",
      "https://archive.ics.uci.edu/ml/datasets/Optical+Recognition+of+Handwritten+Digits\n",
      "\n",
      "The data set contains images of hand-written digits: 10 classes where\n",
      "each class refers to a digit.\n",
      "\n",
      "Preprocessing programs made available by NIST were used to extract\n",
      "normalized bitmaps of handwritten digits from a preprinted form. From a\n",
      "total of 43 people, 30 contributed to the training set and different 13\n",
      "to the test set. 32x32 bitmaps are divided into nonoverlapping blocks of\n",
      "4x4 and the number of on pixels are counted in each block. This generates\n",
      "an input matrix of 8x8 where each element is an integer in the range\n",
      "0..16. This reduces dimensionality and gives invariance to small\n",
      "distortions.\n",
      "\n",
      "For info on NIST preprocessing routines, see M. D. Garris, J. L. Blue, G.\n",
      "T. Candela, D. L. Dimmick, J. Geist, P. J. Grother, S. A. Janet, and C.\n",
      "L. Wilson, NIST Form-Based Handprint Recognition System, NISTIR 5469,\n",
      "1994.\n",
      "\n",
      ".. topic:: References\n",
      "\n",
      "  - C. Kaynak (1995) Methods of Combining Multiple Classifiers and Their\n",
      "    Applications to Handwritten Digit Recognition, MSc Thesis, Institute of\n",
      "    Graduate Studies in Science and Engineering, Bogazici University.\n",
      "  - E. Alpaydin, C. Kaynak (1998) Cascading Classifiers, Kybernetika.\n",
      "  - Ken Tang and Ponnuthurai N. Suganthan and Xi Yao and A. Kai Qin.\n",
      "    Linear dimensionalityreduction using relevance weighted LDA. School of\n",
      "    Electrical and Electronic Engineering Nanyang Technological University.\n",
      "    2005.\n",
      "  - Claudio Gentile. A New Approximate Maximal Margin Classification\n",
      "    Algorithm. NIPS. 2000.\n",
      "\n"
     ]
    }
   ],
   "source": [
    "from sklearn.datasets import load_digits\n",
    "\n",
    "digits = load_digits()\n",
    "\n",
    "print(digits[\"DESCR\"])"
   ]
  },
  {
   "cell_type": "code",
   "execution_count": null,
   "metadata": {},
   "outputs": [],
   "source": []
  },
  {
   "cell_type": "markdown",
   "metadata": {},
   "source": [
    "# Hyperparameter Optimization"
   ]
  },
  {
   "cell_type": "code",
   "execution_count": 11,
   "metadata": {},
   "outputs": [],
   "source": [
    "from sklearn.datasets import load_digits\n",
    "\n",
    "digits = load_digits()"
   ]
  },
  {
   "cell_type": "code",
   "execution_count": 12,
   "metadata": {},
   "outputs": [],
   "source": [
    "from sklearn.model_selection import train_test_split\n",
    "\n",
    "data_train, data_test, labels_train, labels_test = train_test_split(digits [\"data\"], \n",
    "                                                                    digits[\"target\"], \n",
    "                                                                    test_size=0.3)\n",
    "\n"
   ]
  },
  {
   "cell_type": "code",
   "execution_count": 13,
   "metadata": {},
   "outputs": [],
   "source": [
    "from sklearn.svm import SVC\n",
    "svc = SVC(gamma=0.001)\n",
    "\n",
    "# training\n",
    "svc.fit(data_train, labels_train)\n",
    "\n",
    "# looking at prediction on training set\n",
    "predicted_train = svc.predict(data_train)\n",
    "\n",
    "# looking at prediction on test set\n",
    "predicted_test = svc.predict(data_test)"
   ]
  },
  {
   "cell_type": "code",
   "execution_count": 14,
   "metadata": {},
   "outputs": [
    {
     "data": {
      "text/plain": [
       "GridSearchCV(cv=5, estimator=SVC(gamma=0.001),\n",
       "             param_grid=[{'C': [0.01, 0.1, 1, 10, 100, 1000],\n",
       "                          'gamma': [0.1, 0.01, 0.001, 0.0001],\n",
       "                          'kernel': ['rbf']}])"
      ]
     },
     "execution_count": 14,
     "metadata": {},
     "output_type": "execute_result"
    }
   ],
   "source": [
    "from sklearn.model_selection import GridSearchCV\n",
    "\n",
    "C = [0.01, 0.1, 1, 10, 100, 1000]\n",
    "gamma = [0.1, 0.01, 0.001, 0.0001]\n",
    "\n",
    "param_grid = [{'C': C, 'gamma': gamma, 'kernel': ['rbf']}]\n",
    "gridsearch = GridSearchCV (cv = 5, estimator = svc, param_grid = param_grid)\n",
    "gridsearch.fit(data_train, labels_train)\n"
   ]
  },
  {
   "cell_type": "code",
   "execution_count": 15,
   "metadata": {},
   "outputs": [
    {
     "data": {
      "text/plain": [
       "{'mean_fit_time': array([0.12310386, 0.1077363 , 0.10245843, 0.10379744, 0.13533335,\n",
       "        0.10925674, 0.06872773, 0.09288316, 0.14649372, 0.12242613,\n",
       "        0.04027753, 0.03505459, 0.16060395, 0.12452927, 0.04514484,\n",
       "        0.0271956 , 0.17098575, 0.12925768, 0.04306154, 0.02146044,\n",
       "        0.16490765, 0.12777715, 0.04137449, 0.02141948]),\n",
       " 'std_fit_time': array([0.00163019, 0.00297628, 0.0005479 , 0.00350861, 0.00348465,\n",
       "        0.00252165, 0.00153069, 0.00398996, 0.00133984, 0.00074048,\n",
       "        0.00037135, 0.0004866 , 0.00221847, 0.00445194, 0.00173201,\n",
       "        0.00415541, 0.00650508, 0.00351062, 0.00146481, 0.00062304,\n",
       "        0.00943852, 0.00431044, 0.0007049 , 0.00077202]),\n",
       " 'mean_score_time': array([0.01964121, 0.02005811, 0.02000289, 0.02009354, 0.0200861 ,\n",
       "        0.02142658, 0.01647477, 0.02041249, 0.01985106, 0.01999826,\n",
       "        0.0115459 , 0.01435156, 0.02072716, 0.02070045, 0.01247578,\n",
       "        0.01131225, 0.0219645 , 0.0232161 , 0.01294379, 0.00840816,\n",
       "        0.02234268, 0.02200022, 0.01170306, 0.00840545]),\n",
       " 'std_score_time': array([0.00035789, 0.00041505, 0.00057093, 0.00050173, 0.00068187,\n",
       "        0.00223945, 0.00044232, 0.00058033, 0.00071459, 0.00039488,\n",
       "        0.00042168, 0.00031598, 0.00075505, 0.00071858, 0.00090208,\n",
       "        0.00211814, 0.00194809, 0.00294378, 0.00078591, 0.00097386,\n",
       "        0.00158069, 0.00038069, 0.0006006 , 0.00048111]),\n",
       " 'param_C': masked_array(data=[0.01, 0.01, 0.01, 0.01, 0.1, 0.1, 0.1, 0.1, 1, 1, 1, 1,\n",
       "                    10, 10, 10, 10, 100, 100, 100, 100, 1000, 1000, 1000,\n",
       "                    1000],\n",
       "              mask=[False, False, False, False, False, False, False, False,\n",
       "                    False, False, False, False, False, False, False, False,\n",
       "                    False, False, False, False, False, False, False, False],\n",
       "        fill_value='?',\n",
       "             dtype=object),\n",
       " 'param_gamma': masked_array(data=[0.1, 0.01, 0.001, 0.0001, 0.1, 0.01, 0.001, 0.0001,\n",
       "                    0.1, 0.01, 0.001, 0.0001, 0.1, 0.01, 0.001, 0.0001,\n",
       "                    0.1, 0.01, 0.001, 0.0001, 0.1, 0.01, 0.001, 0.0001],\n",
       "              mask=[False, False, False, False, False, False, False, False,\n",
       "                    False, False, False, False, False, False, False, False,\n",
       "                    False, False, False, False, False, False, False, False],\n",
       "        fill_value='?',\n",
       "             dtype=object),\n",
       " 'param_kernel': masked_array(data=['rbf', 'rbf', 'rbf', 'rbf', 'rbf', 'rbf', 'rbf', 'rbf',\n",
       "                    'rbf', 'rbf', 'rbf', 'rbf', 'rbf', 'rbf', 'rbf', 'rbf',\n",
       "                    'rbf', 'rbf', 'rbf', 'rbf', 'rbf', 'rbf', 'rbf', 'rbf'],\n",
       "              mask=[False, False, False, False, False, False, False, False,\n",
       "                    False, False, False, False, False, False, False, False,\n",
       "                    False, False, False, False, False, False, False, False],\n",
       "        fill_value='?',\n",
       "             dtype=object),\n",
       " 'params': [{'C': 0.01, 'gamma': 0.1, 'kernel': 'rbf'},\n",
       "  {'C': 0.01, 'gamma': 0.01, 'kernel': 'rbf'},\n",
       "  {'C': 0.01, 'gamma': 0.001, 'kernel': 'rbf'},\n",
       "  {'C': 0.01, 'gamma': 0.0001, 'kernel': 'rbf'},\n",
       "  {'C': 0.1, 'gamma': 0.1, 'kernel': 'rbf'},\n",
       "  {'C': 0.1, 'gamma': 0.01, 'kernel': 'rbf'},\n",
       "  {'C': 0.1, 'gamma': 0.001, 'kernel': 'rbf'},\n",
       "  {'C': 0.1, 'gamma': 0.0001, 'kernel': 'rbf'},\n",
       "  {'C': 1, 'gamma': 0.1, 'kernel': 'rbf'},\n",
       "  {'C': 1, 'gamma': 0.01, 'kernel': 'rbf'},\n",
       "  {'C': 1, 'gamma': 0.001, 'kernel': 'rbf'},\n",
       "  {'C': 1, 'gamma': 0.0001, 'kernel': 'rbf'},\n",
       "  {'C': 10, 'gamma': 0.1, 'kernel': 'rbf'},\n",
       "  {'C': 10, 'gamma': 0.01, 'kernel': 'rbf'},\n",
       "  {'C': 10, 'gamma': 0.001, 'kernel': 'rbf'},\n",
       "  {'C': 10, 'gamma': 0.0001, 'kernel': 'rbf'},\n",
       "  {'C': 100, 'gamma': 0.1, 'kernel': 'rbf'},\n",
       "  {'C': 100, 'gamma': 0.01, 'kernel': 'rbf'},\n",
       "  {'C': 100, 'gamma': 0.001, 'kernel': 'rbf'},\n",
       "  {'C': 100, 'gamma': 0.0001, 'kernel': 'rbf'},\n",
       "  {'C': 1000, 'gamma': 0.1, 'kernel': 'rbf'},\n",
       "  {'C': 1000, 'gamma': 0.01, 'kernel': 'rbf'},\n",
       "  {'C': 1000, 'gamma': 0.001, 'kernel': 'rbf'},\n",
       "  {'C': 1000, 'gamma': 0.0001, 'kernel': 'rbf'}],\n",
       " 'split0_test_score': array([0.11507937, 0.11507937, 0.11507937, 0.11507937, 0.11507937,\n",
       "        0.11507937, 0.94047619, 0.77380952, 0.11507937, 0.6984127 ,\n",
       "        0.97619048, 0.93650794, 0.11507937, 0.71825397, 0.98015873,\n",
       "        0.96428571, 0.11507937, 0.71825397, 0.98015873, 0.97222222,\n",
       "        0.11507937, 0.71825397, 0.98015873, 0.97222222]),\n",
       " 'split1_test_score': array([0.11507937, 0.11507937, 0.11507937, 0.11507937, 0.11507937,\n",
       "        0.11507937, 0.98015873, 0.75396825, 0.11507937, 0.61507937,\n",
       "        0.99603175, 0.98809524, 0.11507937, 0.6547619 , 0.98809524,\n",
       "        0.99603175, 0.11507937, 0.6547619 , 0.98809524, 0.99603175,\n",
       "        0.11507937, 0.6547619 , 0.98809524, 0.99603175]),\n",
       " 'split2_test_score': array([0.11952191, 0.11952191, 0.11952191, 0.11952191, 0.11952191,\n",
       "        0.11952191, 0.94023904, 0.7689243 , 0.11952191, 0.61354582,\n",
       "        0.98007968, 0.95219124, 0.11952191, 0.66135458, 0.98406375,\n",
       "        0.96015936, 0.11952191, 0.66135458, 0.98406375, 0.96812749,\n",
       "        0.11952191, 0.66135458, 0.98406375, 0.96812749]),\n",
       " 'split3_test_score': array([0.11553785, 0.11553785, 0.11553785, 0.11553785, 0.11553785,\n",
       "        0.11553785, 0.97609562, 0.79681275, 0.11553785, 0.64143426,\n",
       "        0.99203187, 0.98007968, 0.11553785, 0.6812749 , 0.99601594,\n",
       "        0.99203187, 0.11553785, 0.6812749 , 0.99601594, 0.99203187,\n",
       "        0.11553785, 0.6812749 , 0.99601594, 0.99203187]),\n",
       " 'split4_test_score': array([0.11553785, 0.11553785, 0.11553785, 0.11553785, 0.11553785,\n",
       "        0.11553785, 0.97211155, 0.76095618, 0.11553785, 0.62151394,\n",
       "        0.98804781, 0.97609562, 0.11553785, 0.65338645, 0.99203187,\n",
       "        0.99203187, 0.11553785, 0.65338645, 0.99203187, 0.98804781,\n",
       "        0.11553785, 0.65338645, 0.99203187, 0.98804781]),\n",
       " 'mean_test_score': array([0.11615127, 0.11615127, 0.11615127, 0.11615127, 0.11615127,\n",
       "        0.11615127, 0.96181623, 0.7708942 , 0.11615127, 0.63799722,\n",
       "        0.98647632, 0.96659394, 0.11615127, 0.67380636, 0.9880731 ,\n",
       "        0.98090811, 0.11615127, 0.67380636, 0.9880731 , 0.98329223,\n",
       "        0.11615127, 0.67380636, 0.9880731 , 0.98329223]),\n",
       " 'std_test_score': array([0.00169775, 0.00169775, 0.00169775, 0.00169775, 0.00169775,\n",
       "        0.00169775, 0.01770488, 0.01462466, 0.00169775, 0.03180139,\n",
       "        0.00736689, 0.01922009, 0.00169775, 0.02435602, 0.00561201,\n",
       "        0.01538191, 0.00169775, 0.02435602, 0.00561201, 0.01107977,\n",
       "        0.00169775, 0.02435602, 0.00561201, 0.01107977]),\n",
       " 'rank_test_score': array([15, 15, 15, 15, 15, 15,  9, 10, 15, 14,  4,  8, 15, 11,  1,  7, 15,\n",
       "        11,  1,  5, 15, 11,  1,  5], dtype=int32)}"
      ]
     },
     "execution_count": 15,
     "metadata": {},
     "output_type": "execute_result"
    }
   ],
   "source": [
    "gridsearch.cv_results_"
   ]
  },
  {
   "cell_type": "code",
   "execution_count": 16,
   "metadata": {},
   "outputs": [
    {
     "name": "stdout",
     "output_type": "stream",
     "text": [
      "[[0.11615127 0.11615127 0.11615127 0.11615127]\n",
      " [0.11615127 0.11615127 0.96181623 0.7708942 ]\n",
      " [0.11615127 0.63799722 0.98647632 0.96659394]\n",
      " [0.11615127 0.67380636 0.9880731  0.98090811]\n",
      " [0.11615127 0.67380636 0.9880731  0.98329223]\n",
      " [0.11615127 0.67380636 0.9880731  0.98329223]]\n",
      "[[0.00169775 0.00169775 0.00169775 0.00169775]\n",
      " [0.00169775 0.00169775 0.01770488 0.01462466]\n",
      " [0.00169775 0.03180139 0.00736689 0.01922009]\n",
      " [0.00169775 0.02435602 0.00561201 0.01538191]\n",
      " [0.00169775 0.02435602 0.00561201 0.01107977]\n",
      " [0.00169775 0.02435602 0.00561201 0.01107977]]\n"
     ]
    }
   ],
   "source": [
    "mean_score = gridsearch.cv_results_ [\"mean_test_score\"].reshape (len(C),len(gamma))\n",
    "print(mean_score)\n",
    "std_score = gridsearch.cv_results_ [\"std_test_score\"].reshape (len(C),len(gamma))\n",
    "print(std_score)\n",
    "C_mat = gridsearch.cv_results_[\"param_C\"].reshape(len(C),len(gamma))\n",
    "gamma_mat  = gridsearch.cv_results_[\"param_gamma\"].reshape(len(C),len(gamma))"
   ]
  },
  {
   "cell_type": "code",
   "execution_count": 24,
   "metadata": {},
   "outputs": [
    {
     "name": "stdout",
     "output_type": "stream",
     "text": [
      "Figure(432x288)\n"
     ]
    },
    {
     "data": {
      "image/png": "[encoded data removed]",
      "text/plain": [
       "<Figure size 432x288 with 2 Axes>"
      ]
     },
     "metadata": {
      "needs_background": "light"
     },
     "output_type": "display_data"
    }
   ],
   "source": [
    "import matplotlib.pyplot as plt\n",
    "\n",
    "import numpy as np\n",
    "\n",
    "fig, (ax1, ax2) = plt.subplots(1, 2)\n",
    "ax1.matshow(mean_score)\n",
    "ax1.set_xticks(np.arange(len(gamma)))\n",
    "ax1.set_xticklabels(gamma)\n",
    "ax1.set_xlabel(\"gamma\")\n",
    "ax1.set_yticks(np.arange(len(C)))\n",
    "ax1.set_yticklabels(C)\n",
    "ax1.set_ylabel(\"C\")\n",
    "ax1.set_title(\"mean accuracy\")\n",
    "\n",
    "ax2.matshow(std_score)\n",
    "ax2.set_xticks(np.arange(len(gamma)))\n",
    "ax2.set_xticklabels(gamma)\n",
    "ax2.set_xlabel(\"gamma\")\n",
    "ax2.set_yticks(np.arange(len(C)))\n",
    "ax2.set_yticklabels(C)\n",
    "ax2.set_ylabel(\"C\")\n",
    "ax2.set_title(\"std accuracy\")\n",
    "print(fig)"
   ]
  }
 ],
 "metadata": {
  "kernelspec": {
   "display_name": "Python 3",
   "language": "python",
   "name": "python3"
  },
  "language_info": {
   "codemirror_mode": {
    "name": "ipython",
    "version": 3
   },
   "file_extension": ".py",
   "mimetype": "text/x-python",
   "name": "python",
   "nbconvert_exporter": "python",
   "pygments_lexer": "ipython3",
   "version": "3.9.5"
  }
 },
 "nbformat": 4,
 "nbformat_minor": 4
}
