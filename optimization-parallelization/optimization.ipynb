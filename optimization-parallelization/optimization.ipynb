{
 "cells": [
  {
   "cell_type": "markdown",
   "id": "80b9eb66-5ad8-4268-b4e7-900f34e11cab",
   "metadata": {},
   "source": [
    "setup:"
   ]
  },
  {
   "cell_type": "code",
   "execution_count": null,
   "id": "c96bdd93-4cc1-4a88-b25b-4c2d26112ad2",
   "metadata": {},
   "outputs": [],
   "source": [
    "import numpy as np\n",
    "import matplotlib.pyplot as plt\n",
    "from numba import njit, prange\n",
    "import matplotlib.pyplot as plt\n",
    "import math\n",
    "\n",
    "plt.style.use(\"seaborn-talk\")"
   ]
  },
  {
   "cell_type": "code",
   "execution_count": null,
   "id": "ec2c238b-43c2-46fa-a386-189abfe5ed1b",
   "metadata": {},
   "outputs": [],
   "source": [
    "def plot_performance(time_dict):\n",
    "    mean = [t.average for t in time_dict.values()]\n",
    "    std = [t.stdev for t in time_dict.values()]\n",
    "    x = range(len(time_dict))\n",
    "    plt.errorbar(x, mean, yerr=std, lw=3, fmt=\"o\") \n",
    "    plt.xticks( np.arange(len(time_dict)), time_dict.keys())\n",
    "    plt.ylabel(\"average execution time (s)\")\n",
    "    plt.grid()"
   ]
  },
  {
   "cell_type": "markdown",
   "id": "26298583-7a1b-4c16-939c-cab7d1262c77",
   "metadata": {},
   "source": [
    "# Optimization"
   ]
  },
  {
   "cell_type": "markdown",
   "id": "1c982808-bd12-4021-a9b9-9ce9dcffb0e0",
   "metadata": {},
   "source": [
    "## Memoization\n",
    "\n",
    "Remember the fibonnaci problem we had in the debugging lecture?"
   ]
  },
  {
   "cell_type": "code",
   "execution_count": null,
   "id": "b7444d95-40d9-47cc-8e49-21fd4b1fc4cb",
   "metadata": {},
   "outputs": [],
   "source": [
    "GOLDEN = (1 + 5 ** 0.5) / 2\n",
    "\n",
    "def fibonacci(k):\n",
    "\n",
    "    if k == 0:\n",
    "        return 0\n",
    "    if k == 1:\n",
    "        return 1\n",
    "\n",
    "    return fibonacci(k - 2) + fibonacci(k - 1)\n",
    "\n",
    "def compute_golden_ratio(accuracy_level=10):\n",
    "    return fibonacci(accuracy_level) / fibonacci(accuracy_level - 1)\n",
    "\n",
    "\n",
    "def plot_golden_ratio_approx(max_k=20):\n",
    "\n",
    "    ratios = []\n",
    "\n",
    "    for ii in range(2, max_k):\n",
    "        ratio = compute_golden_ratio(ii)\n",
    "        ratios.append(ratio - GOLDEN)\n",
    "\n",
    "    plt.axhline(0, alpha=0.5, lw=3, color=\"red\")\n",
    "    plt.scatter(range(2, max_k), ratios)\n",
    "    plt.ylabel(\"difference from Golden Ratio\")"
   ]
  },
  {
   "cell_type": "code",
   "execution_count": null,
   "id": "9d0c6d66-157e-4055-b645-9e4158abfb7a",
   "metadata": {},
   "outputs": [],
   "source": []
  },
  {
   "cell_type": "markdown",
   "id": "30eb9a0f-6c58-41b4-9169-2631c1c6ec2e",
   "metadata": {},
   "source": [
    "We got it to work, but there is still one problem: it's super slow"
   ]
  },
  {
   "cell_type": "code",
   "execution_count": null,
   "id": "c0ec16fc-c9f0-476c-a7fa-c7b78e39dacb",
   "metadata": {},
   "outputs": [],
   "source": [
    "t = {}\n",
    "for ii in range(30):\n",
    "    t[ii] = %timeit -o -n1 -r1 fibonacci(ii)\n",
    "plot_performance(t)"
   ]
  },
  {
   "cell_type": "markdown",
   "id": "571716ca-ae5b-4332-aa4d-e1213a7a14cb",
   "metadata": {},
   "source": [
    "*uh oh!*  We seem to have an algorithm that is $O(k^N)$!\n",
    "\n",
    "Can we fix it?"
   ]
  },
  {
   "cell_type": "code",
   "execution_count": null,
   "id": "8829fddc-6533-4029-a5ad-50851631493d",
   "metadata": {},
   "outputs": [],
   "source": []
  },
  {
   "cell_type": "code",
   "execution_count": null,
   "id": "20ff013c-2347-4a9c-8356-019451ff2439",
   "metadata": {},
   "outputs": [],
   "source": []
  },
  {
   "cell_type": "markdown",
   "id": "placed-papua",
   "metadata": {},
   "source": [
    "## Speed up a real-world problem!\n",
    "\n",
    "Here your task is to speed up an algorithm for finding the solution to the *Heat Equation* in 2D using a finite-difference method, given an initial temperature distribution.  \n",
    "\n",
    "the heat equation is defined as:\n",
    "\n",
    "$$ \\frac{du}{dt}  = \\alpha \\nabla^2 u$$\n",
    "\n",
    "Where $u$ is the temperature. This can be approximated simply by iterating in time and approximating the spatial gradient using neighboring array elements. For time-step $k$ of width $\\Delta t$ and spatial width $\\Delta x$:\n",
    "\n",
    "\\begin{equation}\n",
    "\\frac{u^{k+1}_{ij}-u^k_{ij}}{\\Delta t}  = \\frac{\\alpha}{(\\Delta x)^2} \\left( u^k_{i,j-1} + u^k_{i-1,j} - 4 u^k_{i,j} + u^k_{i+1,j} + u^k_{i,j+1}\\right)\n",
    "\\end{equation}\n",
    "\n",
    "Below we give a naïeve way to solve this, using for-loops (which are not ideal in python). See if you can speed this up by either:\n",
    "\n",
    "1. re-writing the code to use numpy to get rid of the spatial loops \n",
    "2. using cython or numba to compile the function (may need to experiment also with some of their compile options)\n",
    "\n",
    "You should also try to see what the memory usage is! (hint: use the memory_profiler module). Is there a memory leak?"
   ]
  },
  {
   "cell_type": "markdown",
   "id": "bibliographic-bones",
   "metadata": {},
   "source": [
    "#### the setup:\n",
    "set up the initial condtions (defining the temperature at the boundary, as well as some hot-spots that are initially at a particular temperature)"
   ]
  },
  {
   "cell_type": "code",
   "execution_count": null,
   "id": "native-restoration",
   "metadata": {},
   "outputs": [],
   "source": [
    "N=100; M=100  # define the spatial grid\n",
    "grid = np.zeros(shape=(N,M))\n",
    "grid[10:40,:] = 100 # a hot-spot on the border\n",
    "grid[1:-1,1:-1] = 50 # some initial temperature in the middle\n",
    "grid[60:80, 40:60] = 150 # a hot-spot initially heated at the start, that will cool down\n",
    "\n",
    "plt.pcolormesh(grid)\n",
    "plt.colorbar()\n",
    "plt.title(\"initial conditions\")"
   ]
  },
  {
   "cell_type": "code",
   "execution_count": null,
   "id": "fallen-conducting",
   "metadata": {},
   "outputs": [],
   "source": [
    "def solve_heat_equation_loops(init_cond, iterations=100, delta_x=1.0, alpha=1.0):\n",
    "\n",
    "    delta_t = delta_x**2/(4*alpha)\n",
    "    prev = np.copy(init_cond)\n",
    "    cur = np.copy(init_cond)\n",
    "    N,M = init_cond.shape\n",
    "\n",
    "    for k in range(iterations):\n",
    "        for i in range(1,N-1):\n",
    "            for j in range(1,M-1):\n",
    "                cur[i,j] = prev[i,j] + alpha*delta_t/delta_x**2 * (\n",
    "                    prev[i,j-1] + prev[i-1,j] - 4*prev[i,j] + prev[i,j+1] + prev[i+1,j]\n",
    "                )\n",
    "        \n",
    "        prev,cur = cur,prev  #swap pointers\n",
    "\n",
    "    return prev"
   ]
  },
  {
   "cell_type": "markdown",
   "id": "vocal-warren",
   "metadata": {},
   "source": [
    "We'll also define a convenience function to test the results (you can use this same plotter with your own solver)"
   ]
  },
  {
   "cell_type": "code",
   "execution_count": null,
   "id": "rotary-automation",
   "metadata": {},
   "outputs": [],
   "source": [
    "def plot_heat_equation(solver, iters=(2,10,100,1000)):\n",
    "    \n",
    "    fig, axes = plt.subplots(1,len(iters), figsize=(15,3))\n",
    "    fig.suptitle(solver.__name__)\n",
    "\n",
    "    for ii, iterations in enumerate(iters):\n",
    "        result = solver(init_cond=grid, iterations=iterations)\n",
    "        axes[ii].pcolormesh(result, vmin=0, vmax=100)\n",
    "        axes[ii].set_title(\"{} iterations\".format(iterations))\n",
    "\n"
   ]
  },
  {
   "cell_type": "code",
   "execution_count": null,
   "id": "fossil-consultation",
   "metadata": {},
   "outputs": [],
   "source": [
    "plot_heat_equation(solver=solve_heat_equation_loops)"
   ]
  },
  {
   "cell_type": "markdown",
   "id": "needed-republic",
   "metadata": {},
   "source": [
    "Note that our code is quite slow... \n",
    "\n",
    "### Your turn!\n",
    "\n",
    "***Write an improved verson***\n",
    "\n",
    "* how much faster is your version on average?\n",
    "* how much memory does it use on average? Is it more than the loop version?\n",
    "* which line is the slowest line? \n",
    "\n",
    "(hint: if done right, you should get a factor of about 100 speed increase)"
   ]
  },
  {
   "cell_type": "code",
   "execution_count": null,
   "id": "faced-parliament",
   "metadata": {},
   "outputs": [],
   "source": [
    "def my_heat_equation_solver(init_cond, iterations=100, delta_x=1.0, alpha=1.0):\n",
    "    ## your code here\n",
    "    return init_cond # replace with real return value"
   ]
  },
  {
   "cell_type": "code",
   "execution_count": null,
   "id": "coral-stretch",
   "metadata": {},
   "outputs": [],
   "source": [
    "#plot_heat_equation(solver=my_heat_equation_solver)"
   ]
  },
  {
   "cell_type": "markdown",
   "id": "authorized-choice",
   "metadata": {},
   "source": [
    "### SOLUTION\n",
    "\n",
    "there are many ways to achieve this..."
   ]
  },
  {
   "cell_type": "code",
   "execution_count": null,
   "id": "distinguished-shoot",
   "metadata": {},
   "outputs": [],
   "source": [
    "ITERATIONS=50\n",
    "\n",
    "results = {}\n",
    "r = %timeit -o solve_heat_equation_loops(grid, iterations=50)\n",
    "results['loop'] = r"
   ]
  },
  {
   "cell_type": "markdown",
   "id": "challenging-enterprise",
   "metadata": {},
   "source": [
    "#### using Numba:"
   ]
  },
  {
   "cell_type": "code",
   "execution_count": null,
   "id": "laden-procurement",
   "metadata": {},
   "outputs": [],
   "source": [
    "from numba import jit\n",
    "solve_heat_equation_numba = njit(solve_heat_equation_loops)"
   ]
  },
  {
   "cell_type": "code",
   "execution_count": null,
   "id": "centered-coupon",
   "metadata": {},
   "outputs": [],
   "source": [
    "r = %timeit -o solve_heat_equation_numba(grid, iterations=50)\n",
    "results['numba'] = r"
   ]
  },
  {
   "cell_type": "code",
   "execution_count": null,
   "id": "af542220-527c-4608-80bd-d16b0c5f7dec",
   "metadata": {},
   "outputs": [],
   "source": [
    "# (Note: open some views so we can see this always)\n",
    "plt.figure(figsize=(5,5))\n",
    "plot_performance(results)\n",
    "plt.semilogy()"
   ]
  },
  {
   "cell_type": "markdown",
   "id": "norwegian-vatican",
   "metadata": {},
   "source": [
    "#### using numpy\n",
    "\n",
    "using range-slicing `array[start:end,start:end]` we can get rid of the inner for-loops and turn that part into vector operations"
   ]
  },
  {
   "cell_type": "code",
   "execution_count": null,
   "id": "amazing-senator",
   "metadata": {},
   "outputs": [],
   "source": [
    "def solve_heat_equation_numpy(init_cond,  iterations=100,  delta_x=1.0, alpha=1.0):\n",
    "\n",
    "    delta_t = delta_x**2/(4*alpha)\n",
    "    prev = np.copy(init_cond)\n",
    "    cur = np.copy(init_cond)\n",
    "\n",
    "    # define some slices to make it easier to type \n",
    "    # just avoids too many things like prev[1:-1,1:-1])\n",
    "    Z = slice(1,-1) # zero\n",
    "    P = slice(2,None) # plus 1\n",
    "    M = slice(0,-2) # minus 1\n",
    "    \n",
    "    for k in range(iterations):\n",
    "        cur[Z,Z] = (\n",
    "            prev[Z,Z] + alpha*delta_t/delta_x**2 * (\n",
    "                prev[Z,M] + prev[M,Z] - 4.0*prev[Z,Z] + prev[Z,P] + prev[P,Z]\n",
    "            )\n",
    "        )\n",
    "        prev,cur = cur,prev # swap the pointers\n",
    "\n",
    "    return prev # since we swapped, prev is the most recent"
   ]
  },
  {
   "cell_type": "code",
   "execution_count": null,
   "id": "a2e1c08f-b023-4094-91ce-29e9106f57b4",
   "metadata": {},
   "outputs": [],
   "source": [
    "plot_heat_equation(solver=solve_heat_equation_numpy)"
   ]
  },
  {
   "cell_type": "code",
   "execution_count": null,
   "id": "be133833-23c4-40fa-9b45-17df5241aa4d",
   "metadata": {},
   "outputs": [],
   "source": [
    "r = %timeit -o solve_heat_equation_numpy(grid, iterations=ITERATIONS)\n",
    "results['numpy'] = r"
   ]
  },
  {
   "cell_type": "markdown",
   "id": "a5fd23b7-850f-4c43-afb0-ba228ae7d294",
   "metadata": {},
   "source": [
    "#### With numpy and numba"
   ]
  },
  {
   "cell_type": "code",
   "execution_count": null,
   "id": "collaborative-enhancement",
   "metadata": {},
   "outputs": [],
   "source": [
    "solve_heat_equation_numpy_numba = njit(solve_heat_equation_numpy)\n",
    "\n",
    "# \"prime\" it (compile)\n",
    "plot_heat_equation(solver=solve_heat_equation_numpy_numba)"
   ]
  },
  {
   "cell_type": "code",
   "execution_count": null,
   "id": "missing-graph",
   "metadata": {},
   "outputs": [],
   "source": [
    "r = %timeit -o solve_heat_equation_numpy_numba(grid, iterations=ITERATIONS)\n",
    "results['numpy\\nnumba'] = r"
   ]
  },
  {
   "cell_type": "markdown",
   "id": "4a8183fe-7cab-40c7-8948-978dd74c97b0",
   "metadata": {},
   "source": [
    "#### using cython:\n",
    "\n",
    "Cython is a special python-like language that is translated into C-code (or C++ if you request it), and then compiled with your C compiler with a python binding produced automatically.\n",
    "\n",
    "It has to be explicity compiled (unlike Numba which is \"just in time\" (JIT) compiled)"
   ]
  },
  {
   "cell_type": "code",
   "execution_count": null,
   "id": "9282c018-97b1-4f2b-b0bc-50ac70abef9b",
   "metadata": {},
   "outputs": [],
   "source": [
    "%load_ext cython"
   ]
  },
  {
   "cell_type": "code",
   "execution_count": null,
   "id": "d8845149-3566-4635-818a-e000f48156fb",
   "metadata": {},
   "outputs": [],
   "source": [
    "%%cython  \n",
    "\n",
    "cimport numpy as cnp\n",
    "import numpy as np\n",
    "\n",
    "def solve_heat_equation_cython(init_cond, int iterations=100, double delta_x=1.0, double alpha=1.0):\n",
    "\n",
    "    cdef int i,j,k, N, M\n",
    "    cdef float delta_t\n",
    "    cdef cnp.ndarray[double, mode=\"c\", ndim=2] prev, cur  # this seems to give the biggest improvement\n",
    "\n",
    "    delta_t = delta_x**2/(4*alpha)\n",
    "    prev = np.copy(init_cond)\n",
    "    cur = np.copy(init_cond)\n",
    "    N,M = init_cond.shape\n",
    "\n",
    "    for k in range(iterations):\n",
    "        for i in range(1,N-1):\n",
    "            for j in range(1,M-1):\n",
    "                cur[i,j] = prev[i,j] + alpha*delta_t/delta_x**2 * (\n",
    "                    prev[i,j-1] + prev[i-1,j] - 4*prev[i,j] + prev[i,j+1] + prev[i+1,j]\n",
    "                )\n",
    "        \n",
    "        prev,cur = cur,prev\n",
    "\n",
    "    return prev\n",
    "                                                                \n",
    "\n"
   ]
  },
  {
   "cell_type": "markdown",
   "id": "8ba56e11-2360-4473-a37c-fa865de3ecda",
   "metadata": {},
   "source": [
    "Try running the previous cell with `%%cython -a`  to get an annotated version to see what it did!"
   ]
  },
  {
   "cell_type": "code",
   "execution_count": null,
   "id": "ea5333b1-4662-4147-b731-f535279ab3fb",
   "metadata": {},
   "outputs": [],
   "source": [
    "r = %timeit -o solve_heat_equation_cython(grid, iterations=ITERATIONS)\n",
    "results['cython'] = r"
   ]
  },
  {
   "cell_type": "markdown",
   "id": "907b9379-5f9c-40ff-abde-80a51b60c322",
   "metadata": {},
   "source": [
    "#### results"
   ]
  },
  {
   "cell_type": "code",
   "execution_count": null,
   "id": "8c87b509-1653-4914-9270-86abfe5b3602",
   "metadata": {},
   "outputs": [],
   "source": [
    "plot_performance(results)\n",
    "plt.semilogy()"
   ]
  },
  {
   "cell_type": "markdown",
   "id": "f06d8cbe-afd6-43d2-bd70-5dbacbaf1a80",
   "metadata": {},
   "source": [
    "### We will come back to this in the next lecture"
   ]
  },
  {
   "cell_type": "markdown",
   "id": "26af23e3-5f4f-45c9-baea-3641e135806e",
   "metadata": {},
   "source": [
    "#### with some parallelization"
   ]
  },
  {
   "cell_type": "code",
   "execution_count": null,
   "id": "cf756e7f-7936-4904-9ed5-16952aca5494",
   "metadata": {},
   "outputs": [],
   "source": [
    "solve_heat_equation_numpy_numba_parallel = njit(solve_heat_equation_numpy, parallel=True)"
   ]
  },
  {
   "cell_type": "code",
   "execution_count": null,
   "id": "770bca43-9534-4219-a7c4-44c3123f6436",
   "metadata": {},
   "outputs": [],
   "source": [
    "plot_heat_equation(solver=solve_heat_equation_numpy_numba_parallel)"
   ]
  },
  {
   "cell_type": "code",
   "execution_count": null,
   "id": "a026e579-71df-42e2-bd53-73071725d336",
   "metadata": {},
   "outputs": [],
   "source": [
    "r = %timeit -o solve_heat_equation_numpy_numba_parallel(grid, iterations=50)\n",
    "results['numpy\\nnumba\\nparallel'] = r"
   ]
  },
  {
   "cell_type": "markdown",
   "id": "601de9e0-a56e-40b6-9359-56f1a72aaa9d",
   "metadata": {},
   "source": [
    "Nice!\n",
    "\n",
    "*But did it do anything?*"
   ]
  },
  {
   "cell_type": "code",
   "execution_count": null,
   "id": "83726a31-920b-4b79-8911-1b173be0026b",
   "metadata": {},
   "outputs": [],
   "source": [
    "solve_heat_equation_numpy_numba_parallel.parallel_diagnostics()"
   ]
  },
  {
   "cell_type": "markdown",
   "id": "82b4d541-7855-49f6-9033-5fd39bd9cbd2",
   "metadata": {},
   "source": [
    "#### with explicit parallelization\n"
   ]
  },
  {
   "cell_type": "code",
   "execution_count": null,
   "id": "6cea1c33-2779-47fb-94d0-82886cfbd85f",
   "metadata": {},
   "outputs": [],
   "source": [
    "@njit(parallel=True)\n",
    "def solve_heat_equation_numpy_numba_parallel_explicit(init_cond,  iterations=100,  delta_x=1.0, alpha=1.0):\n",
    "\n",
    "    delta_t = delta_x**2/(4*alpha)\n",
    "    prev = np.copy(init_cond)\n",
    "    cur = np.copy(init_cond)\n",
    "\n",
    "    # define some slices to make it easier to type \n",
    "    # just avoids too many things like prev[1:-1,1:-1])\n",
    "    Z = slice(1,-1) # zero\n",
    "    P = slice(2,None) # plus 1\n",
    "    M = slice(0,-2) # minus 1\n",
    "    \n",
    "    for k in prange(iterations):\n",
    "        cur[Z,Z] = (\n",
    "            prev[Z,Z] + alpha*delta_t/delta_x**2 * (\n",
    "                prev[Z,M] + prev[M,Z] - 4.0*prev[Z,Z] + prev[Z,P] + prev[P,Z]\n",
    "            )\n",
    "        )\n",
    "        prev,cur = cur,prev # swap the pointers\n",
    "\n",
    "    return prev # since we swapped, prev is the most recent\n",
    "\n",
    "answer = solve_heat_equation_numpy_numba_parallel_explicit(grid, iterations=50)\n"
   ]
  },
  {
   "cell_type": "markdown",
   "id": "a62591f3-52b6-4283-9366-5c112d06f737",
   "metadata": {},
   "source": [
    "<div class=\"alert alert-block alert-warning\">\n",
    "    WARNING WARNING\n",
    "</div>"
   ]
  },
  {
   "cell_type": "code",
   "execution_count": null,
   "id": "a94140ae-c874-4411-a1c9-4d5f306d85d6",
   "metadata": {},
   "outputs": [],
   "source": [
    "plot_heat_equation(solver=solve_heat_equation_numpy_numba_parallel_explicit)"
   ]
  },
  {
   "cell_type": "code",
   "execution_count": null,
   "id": "3f99cf47-072d-4eae-aa11-acbc4dbd579f",
   "metadata": {},
   "outputs": [],
   "source": [
    "r = %timeit -o solve_heat_equation_numpy_numba_parallel_explicit(grid, iterations=50)\n",
    "results['numpy\\nnumba\\nparallel\\nexplicit'] = r"
   ]
  },
  {
   "cell_type": "code",
   "execution_count": null,
   "id": "appreciated-smith",
   "metadata": {},
   "outputs": [],
   "source": [
    "plot_performance(results)\n",
    "plt.semilogy()"
   ]
  },
  {
   "cell_type": "code",
   "execution_count": null,
   "id": "ce1a748f-a85a-4b20-b7f1-7843d8765928",
   "metadata": {},
   "outputs": [],
   "source": [
    "plot_heat_equation(solver=solve_heat_equation_numpy_numba_parallel)\n",
    "plot_heat_equation(solver=solve_heat_equation_numpy_numba_parallel_explicit)"
   ]
  },
  {
   "cell_type": "code",
   "execution_count": null,
   "id": "e3268fbe-1fdf-433f-99d4-90ce841cc69d",
   "metadata": {},
   "outputs": [],
   "source": []
  },
  {
   "cell_type": "code",
   "execution_count": null,
   "id": "b440e6e1-a217-45a6-94b2-e669dc163976",
   "metadata": {},
   "outputs": [],
   "source": [
    "Let's look at some code that can be parallelized by numnba"
   ]
  }
 ],
 "metadata": {
  "kernelspec": {
   "display_name": "school2021",
   "language": "python",
   "name": "school2021"
  },
  "language_info": {
   "codemirror_mode": {
    "name": "ipython",
    "version": 3
   },
   "file_extension": ".py",
   "mimetype": "text/x-python",
   "name": "python",
   "nbconvert_exporter": "python",
   "pygments_lexer": "ipython3",
   "version": "3.9.4"
  }
 },
 "nbformat": 4,
 "nbformat_minor": 5
}
