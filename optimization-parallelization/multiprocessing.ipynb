{
 "cells": [
  {
   "cell_type": "markdown",
   "id": "operational-maximum",
   "metadata": {},
   "source": [
    "## Principle of Monte-Carlo integration:\n",
    "\n",
    "* Define a function that tests is a point is inside a region\n",
    "* Generate $N_{total}$ random points over a know area $A_{total}$ that is larger than the region\n",
    "* count the number of points $N_{in}$ that pass the test\n",
    "* Compute the area of the region as:\n",
    "\n",
    "\\begin{equation}\n",
    "A_{in} \\approx \\frac{N_{in}}{N_{total}} * A_{total}\n",
    "\\end{equation}\n"
   ]
  },
  {
   "cell_type": "markdown",
   "id": "excess-density",
   "metadata": {},
   "source": [
    "We will define a python module to compute pi by summing the results of N_jobs monte-carlo realizations that we will run in parallel.  Since multiprocessing only works for *modules* we can't really run this in a notebook, so we will write out a file first, and then run it"
   ]
  },
  {
   "cell_type": "code",
   "execution_count": null,
   "id": "6b55b5a0-9284-4a73-b6de-64f43f1de01d",
   "metadata": {},
   "outputs": [],
   "source": [
    "print(\"hello\")"
   ]
  },
  {
   "cell_type": "code",
   "execution_count": null,
   "id": "basic-kenya",
   "metadata": {},
   "outputs": [],
   "source": [
    "%%writefile multiproc.py\n",
    "\n",
    "from multiprocessing import Pool\n",
    "from concurrent.futures import ProcessPoolExecutor\n",
    "from itertools import repeat\n",
    "import time\n",
    "import random\n",
    "import math\n",
    "\n",
    "A_TOTAL = 4.0\n",
    "\n",
    "def monte_carlo_integrate(is_inside, n_total, range_x, range_y):\n",
    "    \"\"\" \n",
    "    a slow (non numpy) way of computing an integral with\n",
    "    Monte-Carlo sampling  \n",
    "    \"\"\"\n",
    "\n",
    "    n_inside = 0\n",
    "    for i in range(n_total):\n",
    "        x = random.uniform(*range_x)\n",
    "        y = random.uniform(*range_y)\n",
    "        if is_inside(x, y):\n",
    "            n_inside += 1\n",
    "\n",
    "    return n_inside\n",
    "\n",
    "\n",
    "def monte_carlo_pi(n_total):\n",
    "    return monte_carlo_integrate(\n",
    "        is_inside=lambda x, y: math.sqrt(x ** 2 + y ** 2) < 1,\n",
    "        n_total=n_total,\n",
    "        range_x=[-1, 1],  # chosen to match A_total\n",
    "        range_y=[-1, 1],\n",
    "    )\n",
    "\n",
    "\n",
    "def parallel_monte_carlo_pi(n_jobs, n_total_per_job=100_000, verbose=False):\n",
    "\n",
    "    pool = Pool()   # note you cannot define this globally!\n",
    "    results = pool.map(monte_carlo_pi, repeat(n_total_per_job, n_jobs))\n",
    "    pi = sum(results)/(n_total_per_job*n_jobs)*A_TOTAL\n",
    "    if verbose:\n",
    "        print(f\"Pool: {pool}\")\n",
    "        print(f\"Results: {results}\")\n",
    "        print(f\"Pi is {pi:.10f}\")\n",
    "    return pi\n",
    "\n",
    "def parallel_monte_carlo_pi_2(n_jobs, n_total_per_job=100_000, verbose=False):\n",
    "    with ProcessPoolExecutor() as pool:   # note you cannot define this globally!\n",
    "        results = pool.map(monte_carlo_pi, repeat(n_total_per_job, n_jobs))\n",
    "        pi = sum(results)/(n_total_per_job*n_jobs)*A_TOTAL\n",
    "        if verbose:\n",
    "            print(f\"Pool: {pool}\")\n",
    "            print(f\"Results: {results}\")\n",
    "            print(f\"Pi is {pi:.10f}\")\n",
    "        return pi\n",
    "\n",
    "\n",
    "if __name__ == \"__main__\":\n",
    "    parallel_monte_carlo_pi(10)"
   ]
  },
  {
   "cell_type": "markdown",
   "id": "connected-sunset",
   "metadata": {},
   "source": [
    "Now we can import the module and run it locally:"
   ]
  },
  {
   "cell_type": "code",
   "execution_count": null,
   "id": "established-piano",
   "metadata": {},
   "outputs": [],
   "source": [
    "from multiproc import parallel_monte_carlo_pi, monte_carlo_pi\n",
    "import matplotlib.pyplot as plt\n",
    "plt.style.use(\"ggplot\")"
   ]
  },
  {
   "cell_type": "code",
   "execution_count": null,
   "id": "psychological-quilt",
   "metadata": {},
   "outputs": [],
   "source": [
    "parallel_monte_carlo_pi(n_jobs=10, n_total_per_job=100_000, verbose=True)"
   ]
  },
  {
   "cell_type": "code",
   "execution_count": null,
   "id": "pleasant-transportation",
   "metadata": {},
   "outputs": [],
   "source": [
    "t = {}"
   ]
  },
  {
   "cell_type": "code",
   "execution_count": null,
   "id": "moderate-revolution",
   "metadata": {},
   "outputs": [],
   "source": [
    "t[1] = %timeit -o monte_carlo_pi(5_000_000)/5_000_000 * 4"
   ]
  },
  {
   "cell_type": "code",
   "execution_count": null,
   "id": "informative-leonard",
   "metadata": {},
   "outputs": [],
   "source": [
    "t[2] = %timeit -o parallel_monte_carlo_pi(n_jobs=2, n_total_per_job=5_000_000//2)"
   ]
  },
  {
   "cell_type": "code",
   "execution_count": null,
   "id": "naval-collectible",
   "metadata": {},
   "outputs": [],
   "source": [
    "t[5] = %timeit -o parallel_monte_carlo_pi(n_jobs=5, n_total_per_job=5_000_000//5)"
   ]
  },
  {
   "cell_type": "code",
   "execution_count": null,
   "id": "special-modem",
   "metadata": {},
   "outputs": [],
   "source": [
    "t[10] = %timeit -o parallel_monte_carlo_pi(n_jobs=10, n_total_per_job=5_000_000//10)"
   ]
  },
  {
   "cell_type": "code",
   "execution_count": null,
   "id": "persistent-transcription",
   "metadata": {},
   "outputs": [],
   "source": [
    "t[20] = %timeit -o parallel_monte_carlo_pi(n_jobs=20, n_total_per_job=5_000_000//20)"
   ]
  },
  {
   "cell_type": "code",
   "execution_count": null,
   "id": "female-tension",
   "metadata": {},
   "outputs": [],
   "source": [
    "t[50] = %timeit -o parallel_monte_carlo_pi(n_jobs=50, n_total_per_job=5_000_000//50)"
   ]
  },
  {
   "cell_type": "code",
   "execution_count": null,
   "id": "cooperative-census",
   "metadata": {},
   "outputs": [],
   "source": [
    "t[100] = %timeit -o parallel_monte_carlo_pi(n_jobs=100, n_total_per_job=5_000_000//100)"
   ]
  },
  {
   "cell_type": "code",
   "execution_count": null,
   "id": "special-consolidation",
   "metadata": {},
   "outputs": [],
   "source": [
    "t[500] = %timeit -o parallel_monte_carlo_pi(n_jobs=500, n_total_per_job=5_000_000//500)"
   ]
  },
  {
   "cell_type": "code",
   "execution_count": null,
   "id": "terminal-terry",
   "metadata": {},
   "outputs": [],
   "source": [
    "t[1000] = %timeit -o parallel_monte_carlo_pi(n_jobs=1000, n_total_per_job=5_000_000//1000)"
   ]
  },
  {
   "cell_type": "code",
   "execution_count": null,
   "id": "numerous-wagon",
   "metadata": {},
   "outputs": [],
   "source": [
    "fig, ax = plt.subplots(1,1)\n",
    "plt.errorbar(\n",
    "    x=t.keys(),\n",
    "    y=[x.average for x in t.values()],\n",
    "    yerr=[x.stdev for x in t.values()],\n",
    "    lw=3,\n",
    "    linestyle=\"dotted\"\n",
    ")\n",
    "plt.xlabel(\"Number of Jobs\")\n",
    "plt.ylabel(\"Time to compute PI (5M samples)\")\n",
    "ax.set_yscale(\"log\")\n",
    "ax.set_xscale(\"log\")"
   ]
  },
  {
   "cell_type": "code",
   "execution_count": null,
   "id": "mobile-advantage",
   "metadata": {},
   "outputs": [],
   "source": []
  }
 ],
 "metadata": {
  "kernelspec": {
   "display_name": "school2021",
   "language": "python",
   "name": "school2021"
  },
  "language_info": {
   "codemirror_mode": {
    "name": "ipython",
    "version": 3
   },
   "file_extension": ".py",
   "mimetype": "text/x-python",
   "name": "python",
   "nbconvert_exporter": "python",
   "pygments_lexer": "ipython3",
   "version": "3.9.4"
  }
 },
 "nbformat": 4,
 "nbformat_minor": 5
}
